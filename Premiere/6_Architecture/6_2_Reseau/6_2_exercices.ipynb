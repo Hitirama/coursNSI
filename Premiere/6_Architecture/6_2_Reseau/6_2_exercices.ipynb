{
 "cells": [
  {
   "cell_type": "markdown",
   "metadata": {},
   "source": [
    "[Accueil](../../../index.ipynb) > [Sommaire Premiere](../../index.ipynb) > [Réseau](index.ipynb)"
   ]
  },
  {
   "cell_type": "markdown",
   "metadata": {},
   "source": [
    "<div class=\"alert alert-info\">utiliser Thonny pour ce TP/Exercice puis coller dans un google doc ou tout autre type de support pour avoir une sauvegarde de votre travail</div>"
   ]
  },
  {
   "cell_type": "markdown",
   "metadata": {},
   "source": [
    "Le but de ce TP est de faire une fonction qui permet d'afficher ce type de résultat:\n",
    "```\n",
    ">>> get_summary('192.168.1.20/21')\n",
    "\n",
    "Adresse IP : 192.168.1.20/21\n",
    "Masque de sous-réseau : 255.255.248.0\n",
    "Adresse réseau : 192.168.0.0\n",
    "Adresse de broadcast : 192.168.8.0\n",
    "Nombre d'hôtes possibles : 2046\n",
    "Première machine : 192.168.0.1\n",
    "Dernière machine : 192.168.7.255\n",
    "\n",
    "```\n",
    "Vous avez à votre disposition la fonction *get_pointed_ip(int_ip)* qui à partir du nombre ip retourne sa notation pointée."
   ]
  },
  {
   "cell_type": "code",
   "execution_count": null,
   "metadata": {},
   "outputs": [],
   "source": [
    "def get_pointed_ip(int_ip):\n",
    "    \"\"\"\n",
    "    Prend en paramètre ip_int, une ip sous forme de nombre et retourne l'ip sous forme décimale pointée\n",
    "    \"\"\"\n",
    "    quotient1 = int_ip//2**8\n",
    "    reste1 = int_ip%2**8\n",
    "    quotient2 = quotient1//2**8\n",
    "    reste2 = quotient1%2**8\n",
    "    quotient3 = quotient2//2**8\n",
    "    reste3 = quotient2%2**8\n",
    "    reste4 = quotient3%2**8\n",
    "    return '.'.join([str(reste4), str(reste3), str(reste2), str(reste1)])\n",
    "\n",
    "assert get_pointed_ip(3232235816) == '192.168.1.40'\n",
    "get_pointed_ip(3232235816)"
   ]
  },
  {
   "cell_type": "markdown",
   "metadata": {},
   "source": [
    "Ainsi que la fonction inverse *get_int_ip(pointed_ip)* qui prend en paramètre une ip décimale pointée et retourne le nombre correspond à cette ip."
   ]
  },
  {
   "cell_type": "code",
   "execution_count": null,
   "metadata": {},
   "outputs": [],
   "source": [
    "def get_int_ip(pointed_ip):\n",
    "    \"\"\"\n",
    "    Prend en paramètre ip_pointed, une ip sous forme déciame pointée et retourne l'ip sous forme de nombre\n",
    "    \"\"\"\n",
    "    numbers = [int(elt) for elt in pointed_ip.split('.')]\n",
    "    number = 0\n",
    "    number += numbers[0] << 24\n",
    "    number += numbers[1] << 16\n",
    "    number += numbers[2] << 8\n",
    "    number += numbers[3]\n",
    "    return number\n",
    "\n",
    "assert get_int_ip('192.168.1.40') == 3232235816\n",
    "get_int_ip('192.168.1.40')"
   ]
  },
  {
   "cell_type": "markdown",
   "metadata": {},
   "source": [
    "# Exercice 1\n",
    "\n",
    "Ecrire une fonction *get_pointed_mask(cidr)* qui retourne le masque sous forme d'une ip décimale pointée.\n",
    "Si le CIDR n'est pas conforme, retourne une string vide."
   ]
  },
  {
   "cell_type": "code",
   "execution_count": null,
   "metadata": {},
   "outputs": [],
   "source": [
    "# exemple CIDR de 13 correspond à l'IPV4 11111111 11111000 00000000 00000000\n",
    "# ce qui correspond à l'IP '255.248.0.0'\n",
    "\n",
    "# aides possibles\n",
    "# >>> int('11111000', 2)\n",
    "# 248\n",
    "# >>> '.'.join(['255','248','0','0'])\n",
    "# '255.248.0.0'\n",
    "\n",
    "def get_pointed_mask(cidr):\n",
    "    \"\"\"\n",
    "    retourne le masque sous forme d'une ip décimale pointée. Si le CIDR n'est pas conforme, retourne une string vide.\n",
    "    \"\"\"\n",
    "    pass\n",
    "\n",
    "assert get_pointed_mask(13) == '255.248.0.0'\n",
    "get_pointed_mask(13)"
   ]
  },
  {
   "cell_type": "markdown",
   "metadata": {
    "tags": []
   },
   "source": [
    "# Exercice 2\n",
    "\n",
    "Ecrire une fonction *get_int_cidr(mask)* qui prend en paramètre un masque sous forme décimale pointée et retourne le cidr correspondant.\n",
    "On considère que le masque entré est conforme."
   ]
  },
  {
   "cell_type": "code",
   "execution_count": null,
   "metadata": {},
   "outputs": [],
   "source": [
    "# aide\n",
    "# on peut utiliser la fonction get_int_ip fournie\n",
    "# après il suffit de compter le nombre de 1 dans le nombre binaire\n",
    "\n",
    "def get_int_cidr(mask):\n",
    "    \"\"\"\n",
    "    retourne le cidr correspondant au masque sous forme déciamle pointée\n",
    "    \"\"\"\n",
    "    pass\n",
    "\n",
    "assert get_int_cidr('255.248.0.0') == 13\n",
    "get_int_cidr('255.248.0.0')"
   ]
  },
  {
   "cell_type": "markdown",
   "metadata": {},
   "source": [
    "# Exercice 3\n",
    "\n",
    "Ecrire une fonction *get_network_address(ip_cidr)* qui retourne l'adresse IP du réseau connaissant une adresse IP et son CIDR.\n",
    "Exemple get_network_address('192.168.1.40/13')  => '192.168.0.0'"
   ]
  },
  {
   "cell_type": "code",
   "execution_count": null,
   "metadata": {},
   "outputs": [],
   "source": [
    "# aide\n",
    "# >>> '192.168.1.40/13'.split('/')\n",
    "# ['192.168.1.40', '13']\n",
    "# ensuite on utilise les fonctions existantes afin de faire un & entre les deux nombres\n",
    "\n",
    "def get_network_address(ip_cidr):\n",
    "    \"\"\"\n",
    "    paramètre : ip_cidr une addresse ip décimale pointée avec son cidr exemple 192.168.1.40/24\n",
    "    Retourne, sous forme d'adresse IP pointée, l'adresse du réseau\n",
    "    \"\"\"\n",
    "    pass\n",
    "\n",
    "assert get_network_address('192.168.1.40/13') == '192.168.0.0'\n",
    "get_network_address('192.168.1.40/13')    \n",
    "    "
   ]
  },
  {
   "cell_type": "markdown",
   "metadata": {},
   "source": [
    "# Exercice 4\n",
    "Ecrire une fonction *get_nb_ip(pointed_mask)* qui retourne le nombre d'adresses IP possibles"
   ]
  },
  {
   "cell_type": "code",
   "execution_count": null,
   "metadata": {},
   "outputs": [],
   "source": [
    "# voir le cours pour le nombre d'adresses IP possibles\n",
    "\n",
    "def get_nb_ip(pointed_mask):\n",
    "    \"\"\"\n",
    "    pointed_mask : le masque sous forme d'une adresse ip décimale pointée\n",
    "    retourne le nombre d'adresses ip possibles\n",
    "    \"\"\"\n",
    "    pass\n",
    "\n",
    "assert   get_nb_ip('255.255.0.0') == 65536  \n",
    "get_nb_ip('255.255.0.0')    "
   ]
  },
  {
   "cell_type": "markdown",
   "metadata": {},
   "source": [
    "Ecrire une fonction *get_nb_hosts(pointed_mask)* qui retourne le nombre d'hôtes possibles"
   ]
  },
  {
   "cell_type": "code",
   "execution_count": null,
   "metadata": {},
   "outputs": [],
   "source": [
    "def get_nb_hosts(pointed_mask):\n",
    "    \"\"\"\n",
    "    pointed_mask : le masque sous forme d'une adresse ip décimale pointée\n",
    "    retourne le nombre d'hôtes possibles\n",
    "    \"\"\"\n",
    "    pass\n",
    "    \n",
    "get_nb_hosts('255.255.255.0')    "
   ]
  },
  {
   "cell_type": "markdown",
   "metadata": {},
   "source": [
    "# Exercice 5\n",
    "\n",
    "Vous avez dorénavant toutes les fonctions permettant d'afficher le résumé de l'addresse/CIDR"
   ]
  },
  {
   "cell_type": "code",
   "execution_count": null,
   "metadata": {},
   "outputs": [],
   "source": [
    "def get_summary(ip_cidr):\n",
    "    \"\"\"\n",
    "    Retourne un résumé\n",
    "    >>> get_summary('192.168.1.20/21')\n",
    "\n",
    "    Adresse IP : 192.168.1.20/21\n",
    "    Masque de sous-réseau : 255.255.248.0\n",
    "    Adresse réseau : 192.168.0.0\n",
    "    Adresse de broadcast : 192.168.8.0\n",
    "    Nombre d'hôtes possibles : 2046\n",
    "    Première machine : 192.168.0.1\n",
    "    Dernière machine : 192.168.7.255\n",
    "    \"\"\"\n",
    "    pass\n",
    "    \n",
    "get_summary('192.168.1.20/21')"
   ]
  }
 ],
 "metadata": {
  "kernelspec": {
   "display_name": "Python 3 (ipykernel)",
   "language": "python",
   "name": "python3"
  },
  "language_info": {
   "codemirror_mode": {
    "name": "ipython",
    "version": 3
   },
   "file_extension": ".py",
   "mimetype": "text/x-python",
   "name": "python",
   "nbconvert_exporter": "python",
   "pygments_lexer": "ipython3",
   "version": "3.10.6"
  }
 },
 "nbformat": 4,
 "nbformat_minor": 4
}
