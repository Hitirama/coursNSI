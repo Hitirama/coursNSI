{
 "cells": [
  {
   "cell_type": "markdown",
   "metadata": {},
   "source": [
    "[Accueil](../../index.ipynb) > [Sommaire Première](../index.ipynb)"
   ]
  },
  {
   "cell_type": "markdown",
   "metadata": {},
   "source": [
    "# 7.1 Langages - Constructions élémentaires"
   ]
  },
  {
   "cell_type": "markdown",
   "metadata": {},
   "source": [
    "La fonction d'un langage de programmation est de traduire un algorithme en utilisant une suite d'instructions.\n",
    "Pour traduire un algorithme (qui est indépendant du langage utilisé) tout langage de programmation doit contenir des constructions élémentaires que nous allons énumérer ici.\n",
    "\n",
    "Tout langage de programmation :\n",
    "\n",
    " - doit savoir **affecter** une valeur dans une variable;\n",
    " - doit pouvoir effectuer des instructions selon des **conditions**;\n",
    " - doit pouvoir **boucler** afin de répéter des instructions autant de fois que nécessaire.\n",
    " - peut regrouper un ensemble d'instruction dans une **fonction** afin de créer des \"composants\" réutilisables.\n",
    "\n",
    "## Variables et affectation\n",
    "\n",
    "En informatique une **variable** est un **etiquette** qui **associe un nom à une valeur**.\n",
    "\n",
    "Pour réaliser cette association on dit qu'on **affecte** une valeur dans variable.\n",
    "\n",
    "Cette affectation, en Python, se réalise grace au symbole '='.\n",
    "\n",
    "En Python :\n",
    "\n",
    " - il est d'usage de nommer les variables en commençant par une lettre minuscule.\n",
    " - les caractères spéciaux (@$\\%.....) sont interdits à l'exception du '_'.\n",
    " - il est possible d'utiliser des chiffres, sauf au début du nom de la variable.\n",
    "\n",
    "Dans tout langage, les noms de variables doivent être judicieusement choisis afin de faciliter la lecture du code."
   ]
  },
  {
   "cell_type": "code",
   "execution_count": null,
   "metadata": {},
   "outputs": [],
   "source": [
    "a = 300 #signifie qu'on stocke la valeur 300 dans une 'boite' (une adresse en mémoire) qui porte l'étiquette 'a'.\n",
    "a # Je demande à l'interpreteur python le contenu de cette boîte"
   ]
  },
  {
   "cell_type": "markdown",
   "metadata": {},
   "source": [
    "- En **langage naturel** on écrit *a prend la valeur 300.*\n",
    "- En pseudo-code on écrit *a←300* ou *300→a*"
   ]
  },
  {
   "cell_type": "code",
   "execution_count": null,
   "metadata": {},
   "outputs": [],
   "source": [
    "var1 = 7 # on associe la valeur 7 à la variable var1\n",
    "var2 = 7 # on associe la valeur 7 à la variable var2\n",
    "print(f\"L'adresse en mémoire de var1 est : {id(var1)}\")\n",
    "print(f\"L'adresse en mémoire de var2 est : {id(var2)}\")"
   ]
  },
  {
   "cell_type": "markdown",
   "metadata": {},
   "source": [
    "On se rend compte que var1 et var2 \"pointent\" à la même adresse en mémoire."
   ]
  },
  {
   "cell_type": "code",
   "execution_count": null,
   "metadata": {},
   "outputs": [],
   "source": [
    "var1 = var1 + 1 #La nouvelle valeur de var1 est égale à l'actuelle +1 on dit qu'on \"incrémente var1 de 1\".\n",
    "print(f\"var1 vaut maintenant : {var1}\")\n",
    "print(f\"var1 se trouve désormais en : {id(var1)}\") "
   ]
  },
  {
   "cell_type": "markdown",
   "metadata": {},
   "source": [
    "<div class=\"alert alert-block alert-danger\">\n",
    "Le signe = n'a pas le même sens en mathématiques et en informatique.\n",
    "</div>\n",
    "\n",
    "- en Informatique 300 = x n'a aucun sens\n",
    "- x = x + 1 est correct en informatique, mais en mathématiques cela équivant à 0 = 1 !.\n",
    "- En informatique x = y n'a pas le même sens que y = x...    "
   ]
  },
  {
   "cell_type": "code",
   "execution_count": null,
   "metadata": {},
   "outputs": [],
   "source": [
    "x = 10\n",
    "y = 20\n",
    "x = y # J'affecte la valeur de y dans x donc x = ...\n",
    "x"
   ]
  },
  {
   "cell_type": "code",
   "execution_count": null,
   "metadata": {},
   "outputs": [],
   "source": [
    "x = 10\n",
    "y = 20\n",
    "y = x # J'affecte la valeur de x dans y. x n'a pas changé x = ...\n",
    "x"
   ]
  },
  {
   "cell_type": "markdown",
   "metadata": {},
   "source": [
    "Voici la manière d'affecter dans le langage **C**:\n",
    "<pre>\n",
    "int a;\n",
    "a = 5; \n",
    "int b = a + 1;\n",
    "</pre>\n",
    "\n",
    "Le symbole d'affectation est le signe '=' également mais vous remarquez qu'il faut déclarer le type de la variable avant d'y affecter une valeur.\n",
    "On dit que le typage est **statique**.\n",
    "\n",
    "En Python le typage est **dynamique**, le type est reconnu 'à la volée' et peut évoluer au cours de la vie de la variable."
   ]
  },
  {
   "cell_type": "code",
   "execution_count": null,
   "metadata": {},
   "outputs": [],
   "source": [
    "var = 5\n",
    "print(f\"Le type de la variable est {type(var)}\")\n",
    "var = 'bonjour'\n",
    "print(f\"Le type de var est {type(var)}\")"
   ]
  },
  {
   "cell_type": "markdown",
   "metadata": {},
   "source": [
    "<div class=\"alert alert-block alert-info\">\n",
    "Il est possible de faire plusieurs affectations en une seule ligne.\n",
    "</div>"
   ]
  },
  {
   "cell_type": "code",
   "execution_count": null,
   "metadata": {},
   "outputs": [],
   "source": [
    "a, b, c = 1, 2, \"trois\"\n",
    "print(f\"a = {a}\")\n",
    "print(f\"b = {b}\")\n",
    "print(f\"c = {c}\")"
   ]
  },
  {
   "cell_type": "markdown",
   "metadata": {},
   "source": [
    "### Exercices sur l'affectation\n",
    "\n",
    "En utilisant la console de l'IDE Thonny, traduire en Python les algorithmes suivants et donner la valeur finale de *r*\n",
    "#### Exercice 1\n",
    "\n",
    "- Affecter à *m* la valeur 2\n",
    "- Affecter à *n* la valeur m - 1\n",
    "- Affecter à *p* la valeur n + a\n",
    "- Affecter à *q* la valeur 3p\n",
    "- Affecter à *r* la valeur p - m"
   ]
  },
  {
   "cell_type": "markdown",
   "metadata": {},
   "source": [
    "#### Exercice 2\n",
    "\n",
    "- p ← 1\n",
    "- r ← p + 3\n",
    "- p ← p -1\n",
    "- r ← p + 1"
   ]
  },
  {
   "cell_type": "markdown",
   "metadata": {},
   "source": [
    "#### Exercice 3\n",
    "\n",
    "En utilisant l'éditeur de programme de Thonny, traduire les affactation suivantes et afficher la valeur de *delta*\n",
    "\n",
    "- Affecter à *a* la valeur 1\n",
    "- Affecter à *b* la valeur 3\n",
    "- Affecter à *c* la valeur a - b\n",
    "- Affecter à *delta* la valeur $b^2 - 4ac$"
   ]
  },
  {
   "cell_type": "markdown",
   "metadata": {},
   "source": [
    "#### Exercice 4\n",
    "\n",
    "- x ← 5\n",
    "- x ← 3x\n",
    "- x ← x - 7\n",
    "- x  ← $x^2$\n",
    "\n",
    "L'algorithme ci-dessus équivaut à quel calcul pour une valeur de x donnée ?\n",
    "\n",
    "- $5x - 7$\n",
    "- $3x - 7^2$\n",
    "- $(3x - 7)^2$\n",
    "- $(x^2 - 7) \\times 3$"
   ]
  },
  {
   "cell_type": "markdown",
   "metadata": {
    "tags": [],
    "toc-hr-collapsed": true
   },
   "source": [
    "## Les types\n",
    "\n",
    "Il existe de nombreux types de valeurs, nous allons énumérer ici les plus courants:\n",
    "\n",
    "### Les nombres entiers \n",
    "\n",
    "Positifs ou négatifs, ils sont appelés, en anglais, des **integers**, ('int' en abrégé)"
   ]
  },
  {
   "cell_type": "code",
   "execution_count": null,
   "metadata": {},
   "outputs": [],
   "source": [
    "mon_entier = -10\n",
    "type(mon_entier)"
   ]
  },
  {
   "cell_type": "markdown",
   "metadata": {},
   "source": [
    "### Les nombres réels\n",
    "\n",
    "Appelés **nombres flottants** ou, en anglais, 'floating number' ('float' en abrégé)."
   ]
  },
  {
   "cell_type": "code",
   "execution_count": null,
   "metadata": {},
   "outputs": [],
   "source": [
    "mon_flottant = 3.5\n",
    "type(mon_flottant)"
   ]
  },
  {
   "cell_type": "code",
   "execution_count": null,
   "metadata": {},
   "outputs": [],
   "source": [
    "mon_flottant2 = 4.0\n",
    "type(mon_flottant2)"
   ]
  },
  {
   "cell_type": "markdown",
   "metadata": {},
   "source": [
    "### Les chaines de caractère\n",
    "\n",
    "En anglais, 'string' ('str' en abrégé).\n",
    "\n",
    "En python, pour déclarer une chaine de caractère on l'entoure par des ' ou des \"."
   ]
  },
  {
   "cell_type": "code",
   "execution_count": null,
   "metadata": {},
   "outputs": [],
   "source": [
    "ma_chaine = \"Bonjour\"\n",
    "type(ma_chaine)"
   ]
  },
  {
   "cell_type": "code",
   "execution_count": null,
   "metadata": {},
   "outputs": [],
   "source": [
    "ma_chaine2 = '5'\n",
    "type(ma_chaine2)"
   ]
  },
  {
   "cell_type": "markdown",
   "metadata": {},
   "source": [
    "Une erreur courante est d'oublier les quotes ou guillemets. Dans ce cas notre chaine est évaluée comme une variable."
   ]
  },
  {
   "cell_type": "code",
   "execution_count": null,
   "metadata": {},
   "outputs": [],
   "source": [
    "ma_chaine3 = Bonjour\n",
    "type(ma_chaine3)"
   ]
  },
  {
   "cell_type": "markdown",
   "metadata": {},
   "source": [
    "### Les booléens\n",
    "\n",
    "Deux valeurs possibles **True** ou **False** (Vrai ou Faux)"
   ]
  },
  {
   "cell_type": "code",
   "execution_count": null,
   "metadata": {},
   "outputs": [],
   "source": [
    "v = True\n",
    "f = False\n",
    "type(f)"
   ]
  },
  {
   "cell_type": "markdown",
   "metadata": {},
   "source": [
    "<div class=\"alert alert-block alert-danger\">\n",
    "Ne pas confondre l'affectation (a = 7) avec un test d'égalité ( a == 7 )  \n",
    "</div>"
   ]
  },
  {
   "cell_type": "code",
   "execution_count": null,
   "metadata": {},
   "outputs": [],
   "source": [
    "var = 5==6 # J'affecte le test d'égalité de 5 et de 6 dans la variable var\n",
    "var"
   ]
  },
  {
   "cell_type": "code",
   "execution_count": null,
   "metadata": {},
   "outputs": [],
   "source": [
    "var2 = 3*2==6\n",
    "var2"
   ]
  },
  {
   "cell_type": "markdown",
   "metadata": {},
   "source": [
    "Il est parfois utile de passer d'un type à l'autre on appelle cela du **trans-typage** ou du **casting**. Executer le code puis commenter les lignes 3 et 4 qui font le trans-typage"
   ]
  },
  {
   "cell_type": "code",
   "execution_count": null,
   "metadata": {},
   "outputs": [],
   "source": [
    "a = input(\"Entrer un premier nombre\")\n",
    "b = input(\"Entrer un deuxième nombre\")\n",
    "a = float(a) # Je caste en flottant car input retourne toujours une chaîne de caractère\n",
    "b = float(b) # Je caste en flottant car input retourne toujours une chaîne de caractère\n",
    "print(f\"{a} x {b} = {a*b}\")"
   ]
  },
  {
   "cell_type": "code",
   "execution_count": null,
   "metadata": {},
   "outputs": [],
   "source": [
    "a = \"6\"\n",
    "print(type(a))\n",
    "a = int(a)\n",
    "print(type(a))\n",
    "a*2"
   ]
  },
  {
   "cell_type": "markdown",
   "metadata": {},
   "source": [
    "Evidemment on ne pas tout trans-typer :"
   ]
  },
  {
   "cell_type": "code",
   "execution_count": null,
   "metadata": {},
   "outputs": [],
   "source": [
    "a = \"deux\"\n",
    "int(a)"
   ]
  },
  {
   "cell_type": "markdown",
   "metadata": {},
   "source": [
    "### Quelques opérations sur les nombres\n",
    "\n",
    "| Opérations     | Symboles | Exemples        |\n",
    "| -------------- | -------- | --------------- |\n",
    "| addition       | +        | 2 + 5 donne 7   |\n",
    "| soustraction   | -        | 8 - 2 donne 6   |\n",
    "| multiplication | *        | 6 * 7 donne 42  |\n",
    "| puissance      | **       | 5 ** 3 donne 125|\n",
    "| division       | /        | 7 / 2 donne 3.5 |\n",
    "| reste          | %        | 7 % 3 donne 1   |\n",
    "| quotient       | //       | 7 // 3 donne 2  |\n"
   ]
  },
  {
   "cell_type": "markdown",
   "metadata": {},
   "source": [
    "### Quelques opérateurs de comparaisons\n",
    "\n",
    "| Opérations     | Symboles | Exemples          |\n",
    "| -------------- | -------- | ----------------- |\n",
    "| égalité        | ==       | 6==3*2 donne True |\n",
    "| différence     | !=       | 6!=3*2 donne False|\n",
    "| supérieur      | >        | 6>7 donne False   |\n",
    "| supérieur ou = | >=       | 7>=7 donne True   |\n",
    "| inférieur      | <        | 6<2 donne False   |\n",
    "| inférieur ou = | <=       | 6<=2 donne False  |\n"
   ]
  },
  {
   "cell_type": "markdown",
   "metadata": {
    "toc-hr-collapsed": true
   },
   "source": [
    "## Les conditions\n",
    "\n",
    "Une condition dans un langage informatique est de la forme **si \\<test1> alors \\<instruction1> sinon \\<instructions2>**\n"
   ]
  },
  {
   "cell_type": "markdown",
   "metadata": {},
   "source": [
    "<div class=\"alert alert-block alert-danger\">\n",
    "En Python l'indentation fait partie de la syntaxe du langage\n",
    "</div>\n",
    "Le code ci-dessous est correct:"
   ]
  },
  {
   "cell_type": "code",
   "execution_count": null,
   "metadata": {},
   "outputs": [],
   "source": [
    "a = float(input(\"rentrez un nombre\"))\n",
    "if a < 0 :\n",
    "    print(\"Le nombre est négatif\")\n",
    "elif a > 0 :\n",
    "    print(\"Le nombre est positif\")\n",
    "else:\n",
    "    print(\"Le nombre est nul\")"
   ]
  },
  {
   "cell_type": "markdown",
   "metadata": {},
   "source": [
    "Ce code ci ne l'est pas."
   ]
  },
  {
   "cell_type": "code",
   "execution_count": null,
   "metadata": {},
   "outputs": [],
   "source": [
    "a = float(input(\"rentrez un nombre\"))\n",
    "if a < 0 :\n",
    "print(\"Le nombre est négatif\")\n",
    "elif a > 0 :\n",
    "print(\"Le nombre est positif\")\n",
    "else:\n",
    "print(\"La nombres est nul\")"
   ]
  },
  {
   "cell_type": "markdown",
   "metadata": {},
   "source": [
    "### Exercices sur les conditions\n",
    "\n",
    "#### Exercice 1\n",
    "Ecrire un programme qui demande à l'utilisateur deux nombres entiers *a* et *b* et retourne *True* si b divise a, *False* sinon.\n",
    "\n",
    "#### Exercice 2\n",
    "Ecrire un programme qui demande à l'utilisateur son age. Si l'utilisateur rentre un nombre entier le prgramme affiche son année de naissance, sinon le programme affiche \"Vous devez entrer un nombre entier\".\n"
   ]
  },
  {
   "cell_type": "markdown",
   "metadata": {
    "toc-hr-collapsed": true
   },
   "source": [
    "## Les boucles\n",
    "\n",
    "Les boucles sont très souvent utilisées en langage informatique.\n",
    "On distingue deux types de boucles:\n",
    "\n",
    " * Les boucles bornées\n",
    " * Les boucles non bornées\n",
    " \n",
    "### Les bouclés bornées\n",
    "\n",
    "Les boucles bornées sont utilisées si le nombre de répétitions est connu.\n",
    "\n",
    "En Python une boucle **bornée** est de la forme : \n",
    "\n",
    "\n",
    "for \\<variable> in \\<iterable>:\n",
    "    \n",
    "    <instruction>\n",
    "\n",
    "\n",
    "**Exemple**"
   ]
  },
  {
   "cell_type": "code",
   "execution_count": null,
   "metadata": {},
   "outputs": [],
   "source": [
    "for l in \"Bonjour\":\n",
    "    print(l)"
   ]
  },
  {
   "cell_type": "markdown",
   "metadata": {},
   "source": [
    "#### Exercice1\n",
    "Écrire un script qui compte le nombre de 'e' d'une chaine de caractère entrée par l'utilisateur."
   ]
  },
  {
   "cell_type": "markdown",
   "metadata": {},
   "source": [
    "#### l'instruction **range**\n",
    "\n",
    "L'instruction *range* retourne une séquence de nombres, commençant à 0 par défaut, en s'incrémentant de 1 par défaut, et s'arrête **avant** le nombre spécifié.\n"
   ]
  },
  {
   "cell_type": "code",
   "execution_count": null,
   "metadata": {},
   "outputs": [],
   "source": [
    "for i in range(5):#la fonction range va énumérer, ici, les nombres 0,1,2,3,4 (le 5 est exclu)\n",
    "    print(i)"
   ]
  },
  {
   "cell_type": "markdown",
   "metadata": {},
   "source": [
    "On peut spécifier un **nombre de départ** (0 par défaut)"
   ]
  },
  {
   "cell_type": "code",
   "execution_count": null,
   "metadata": {},
   "outputs": [],
   "source": [
    "for nombre in range(2,7):\n",
    "    print(nombre)"
   ]
  },
  {
   "cell_type": "markdown",
   "metadata": {},
   "source": [
    "On peut spécifier un **pas** (1 par défaut)"
   ]
  },
  {
   "cell_type": "code",
   "execution_count": null,
   "metadata": {},
   "outputs": [],
   "source": [
    "for nombre in range(0,11,2):\n",
    "    print(nombre)"
   ]
  },
  {
   "cell_type": "markdown",
   "metadata": {},
   "source": [
    "<div class=\"alert alert-info\">\n",
    "    Cette instruction est souvent utilisée en Python pour boucler un certain nombre de fois. Quand le nombre n'est pas utilisé dans la boucle, par convention, on utilise comme variable le '_'.\n",
    "</div>"
   ]
  },
  {
   "cell_type": "code",
   "execution_count": null,
   "metadata": {},
   "outputs": [],
   "source": [
    "for _ in range(4):\n",
    "    print(\"Bonjour\")"
   ]
  },
  {
   "cell_type": "markdown",
   "metadata": {},
   "source": [
    "#### Exercice2 : des boucles **imbriquées**\n",
    "\n",
    "Ecrire un script qui va afficher les 10 tables de multiplications sous la forme suivante:\n",
    "```\n",
    "------------ La table de 1 --------\n",
    "1x1=1\n",
    "1x2=2\n",
    "1x3=3\n",
    "1x4=4\n",
    "1x5=5\n",
    "1x6=6\n",
    "1x7=7\n",
    "1x8=8\n",
    "1x9=9\n",
    "1x10=10\n",
    "------------ La table de 2 --------\n",
    "2x1=2\n",
    "2x2=4\n",
    "2x3=6\n",
    "2x4=8\n",
    "2x5=10\n",
    "2x6=12\n",
    "2x7=14\n",
    "2x8=16\n",
    "2x9=18\n",
    "2x10=20\n",
    "------------ La table de 3 --------\n",
    "3x1=3\n",
    "3x2=6\n",
    "...\n",
    "```\n"
   ]
  },
  {
   "cell_type": "markdown",
   "metadata": {},
   "source": [
    "### Les boucles non bornées\n",
    "\n",
    "L'usage des boucles non bornées est dans le cas ou le nombre d'itérations ne peut être déterminé à l'avance.\n",
    "\n",
    "En Python une boucle **non bornée** est de la forme : \n",
    "\n",
    "while \\<condition> :\n",
    "\n",
    "    <instructionA>\n",
    "\n",
    "\n",
    "![diagramme du while](img/schema_while.png)\n",
    "\n",
    "**Exemple**"
   ]
  },
  {
   "cell_type": "code",
   "execution_count": null,
   "metadata": {},
   "outputs": [],
   "source": [
    "nombre_a_deviner = 42\n",
    "nombre = int(input(\"Entrez un nombre entier\"))\n",
    "while nombre != nombre_a_deviner: # tant que les nombres sont différents\n",
    "    if nombre < nombre_a_deviner:\n",
    "        print(\"Trop petit\")\n",
    "    elif nombre > nombre_a_deviner:\n",
    "        print(\"Trop grand\")\n",
    "    nombre = int(input(\"Nouvelle chance\")) #Je repose la question\n",
    "    \n",
    "print(\"Gagné!!!!\")  # Si j'ai quitté la boucle, c'est que j'ai gagné."
   ]
  },
  {
   "cell_type": "markdown",
   "metadata": {},
   "source": [
    "**Remarque**\n",
    "\n",
    "Lorsque les conditions d'arrêt se complexifient, il est parfois plus aisé de réfléchir à la **condition d'arrêt**.\n",
    "\n",
    "\"tant que la condition d'arrêt n'est **pas** atteinte alors ....\"\n",
    "\n",
    "En python cela s'ecrit :\n",
    "    \n",
    "*while not \\<condition arrêt> :*\n",
    "    *\\<instruction>*\n",
    "    \n",
    "Notre programme précédent devient:"
   ]
  },
  {
   "cell_type": "code",
   "execution_count": null,
   "metadata": {},
   "outputs": [],
   "source": [
    "nombre_a_deviner = 42\n",
    "nombre = int(input(\"Entrez un nombre entier\"))\n",
    "while not nombre == nombre_a_deviner: # tant que les deux nombres ne sont pas égaux\n",
    "    if nombre < nombre_a_deviner:\n",
    "        print(\"Trop petit\")\n",
    "    elif nombre > nombre_a_deviner:\n",
    "        print(\"Trop grand\")\n",
    "    nombre = int(input(\"Nouvelle chance\"))\n",
    "print(\"Gagné!!!!\")"
   ]
  },
  {
   "cell_type": "markdown",
   "metadata": {},
   "source": [
    "#### Exercice 1\n",
    "\n",
    "Ecrire un programme qui demande à l'utilisateur de trouver le résultat d'une multiplication de 2 nombres (jusqu'à la table de 16) tant que celui-ci ne fait pas d'erreur.\n",
    "A la fin il affiche le nombre de bonnes réponses successives"
   ]
  },
  {
   "cell_type": "code",
   "execution_count": null,
   "metadata": {},
   "outputs": [],
   "source": [
    "from random import randrange\n",
    "\n",
    "a = randrange(1,17)\n",
    "b = randrange(1,17)"
   ]
  },
  {
   "cell_type": "markdown",
   "metadata": {},
   "source": [
    "## Les fonctions\n",
    "\n",
    "Les fonctions sont des blocs d'instructions qui peuvent être appelés depuis plusieurs endroits du programme.\n",
    "\n",
    "L'intêret des fonctions est de définir à un endroit un code qui est utilisé souvent (plus d'une fois...)\n",
    "\n",
    "Les fonctions peuvent recevoir des paramètres en entrée et peuvent retourner (ou pas) des résultats.\n",
    "\n",
    "En python une fonction s'écrit de la façon suivante:\n",
    "<pre>\n",
    "def ma_fonction(param1, param2....):\n",
    "    bloc d'instructions\n",
    "    return result\n",
    "</pre>\n",
    "**Exemple**"
   ]
  },
  {
   "cell_type": "code",
   "execution_count": null,
   "metadata": {},
   "outputs": [],
   "source": [
    "def presentation(prenom, nom): # définition de ma fonction (signature)\n",
    "    \"\"\"\n",
    "    nom : le nom de la personne\n",
    "    prenom : le prenom de la personne\n",
    "    retourne une présentation de la personne\n",
    "    \"\"\"\n",
    "    return f\"Bonjour {prenom} {nom}, alors on apprend le Python?\" #On retourne la chaîne de caractère formatée.\n",
    "\n",
    "    \n",
    "firstname = input(\"Entrer votre prénom :\")\n",
    "lastname = input(\"Entrer votre nom :\")\n",
    "    \n",
    "\n",
    "result = presentation(firstname, lastname) # appel de la fonction avec les paramètres + affectation dans result\n",
    "print(result) # On affiche ce que la fonction retourne"
   ]
  },
  {
   "cell_type": "markdown",
   "metadata": {},
   "source": [
    "## TPs en relation:\n",
    "\n",
    "- Un [TP sur le module *turtle*](./TPs/turtle.ipynb) (fonctions + for/range)\n",
    "- Un [TP chifoumi](./TPs/chifoumi.ipynb) (fonctions + while)"
   ]
  },
  {
   "cell_type": "markdown",
   "metadata": {},
   "source": [
    "[Accueil](../../index.ipynb) > [Sommaire Première](../index.ipynb)"
   ]
  }
 ],
 "metadata": {
  "kernelspec": {
   "display_name": "Python 3 (ipykernel)",
   "language": "python",
   "name": "python3"
  },
  "language_info": {
   "codemirror_mode": {
    "name": "ipython",
    "version": 3
   },
   "file_extension": ".py",
   "mimetype": "text/x-python",
   "name": "python",
   "nbconvert_exporter": "python",
   "pygments_lexer": "ipython3",
   "version": "3.10.12"
  },
  "toc-autonumbering": true
 },
 "nbformat": 4,
 "nbformat_minor": 4
}
