{
 "cells": [
  {
   "cell_type": "markdown",
   "metadata": {},
   "source": [
    "[Accueil](../../index.ipynb) > [Sommaire Première](../index.ipynb)"
   ]
  },
  {
   "cell_type": "markdown",
   "metadata": {},
   "source": [
    "# 7.2 Langages - Diversité et unité des langages de programmation\n",
    "\n",
    "Il existe des centaines de langages de programmation et on ne peut dire que l’un est meilleur que l'autre, tout dépend de ce que l’on veut faire avec.\n",
    "\n",
    "Python, par exemple, est un langage qui permet d’implémenter rapidement un programme. par contre, le temps d’exécution par la machine est beaucoup plus lent qu’un langage compilé comme C.\n",
    "\n",
    "Vous connaissez maintenant Python et avez certainement entendu parler de:\n",
    "- C\n",
    "- C++\n",
    "- C# (C sharp)\n",
    "- php\n",
    "- java\n",
    "- javascript\n",
    "\n",
    "Mais il en existe d’autres:\n",
    "\n",
    "- Prolog\n",
    "- Fortran\n",
    "- Ada\n",
    "- Smalltalk\n",
    "- Pascal\n",
    "- ...\n",
    "\n",
    "Pour comprendre l’évolution des langages informatiques il est nécessaire de se pencher sur leur histoire."
   ]
  },
  {
   "cell_type": "markdown",
   "metadata": {},
   "source": [
    "## Histoire des langages\n",
    "\n",
    "### Les années 40 : les prémices\n",
    "\n",
    "Les premiers ordinateurs électriques sont apparus à la fin des années 40. Les langages pour les programmer sont alors **très proches du matériel**. Les programmes sont codés en **langage machine** ou à l’aide d’un **assembleur primitif**. Ceci est source de nombreuses erreurs dues à la difficulté pour les écrire ou les modifier."
   ]
  },
  {
   "cell_type": "markdown",
   "metadata": {},
   "source": [
    "### Les années 50-60 : les bases\n",
    "\n",
    "En **1954**, le [FORTRAN](https://fr.wikipedia.org/wiki/Fortran) (Mathematical **FOR**mula **TRAN**slating system), le premier langage de programmation haut niveau, est initié par [John Backus](https://fr.wikipedia.org/wiki/John_Backus).\n",
    "En 1957, le compilateur FORTRAN est déployé sur tous les [IBM 704](https://fr.wikipedia.org/wiki/IBM_704).\n",
    "\n",
    "Le FORTRAN a connu de nombreuses évolutions, sa dernière version est le FORTRAN 2018.\n",
    "\n",
    "En **1958**, le [Lisp](https://fr.wikipedia.org/wiki/Lisp) (**Lis**t **P**rocessing) est inventé par [John McCarthy](https://fr.wikipedia.org/wiki/John_McCarthy) et est spécialisé dans le traitement de listes. \n",
    "\n",
    "Bien qu'interprété, il est aussi rapide que des langages compilés. Ceci provient de sa syntaxe particulièrement logique.\n",
    "\n",
    "Lisp a été décrit par Gregory Chaitin comme un <cite>« Joyau de splendeur mathématique et de beauté intellectuelle austère. »</cite>\n",
    "\n",
    "Lisp est toujours utilisé aujourd’hui.\n",
    "\n",
    "En **1959** , le [COBOL](https://fr.wikipedia.org/wiki/Cobol) (**CO**mmon **B**usiness **O**riented **L**anguage) est créé à l’initiative du pentagone pour les applications de gestion de l’administration américaine.\n",
    "\n",
    "Comme son nom l’indique il est spécialisé pour la programmation d’applications de gestion.\n",
    "Ce langage est encore très utilisé dans les institutions financières (banques, assurances...)\n",
    "\n",
    "En **1964**, le [BASIC](https://fr.wikipedia.org/wiki/Basic_(langage)) est créé dans le but d’apprendre à utiliser les ordinateurs par des non scientifiques. Le BASIC a connu un fort déclin dans les années 80.\n",
    "\n",
    "```\n",
    " 10 INPUT \"Quel est votre nom ? \"; NOM$ \n",
    " 20 PRINT \"Bonjour \"; NOM$\n",
    " 30 INPUT \"Combien d'étoiles voulez-vous ? \"; NOMBRE\n",
    " 40 LET ETOILE$ = \"\"\n",
    " 50 FOR I = 1 TO NOMBRE\n",
    " 60 LET ETOILE$ = ETOILE$ + \"*\"\n",
    " 70 NEXT I\n",
    " 80 PRINT ETOILE$\n",
    " 90 INPUT \"Voulez-vous plus d'étoiles ? \"; ETOILE$\n",
    "100 IF LEN(ETOILE$) = 0 THEN GOTO 90\n",
    "110 LET ETOILE$ = LEFT$(ETOILE$, 1)\n",
    "120 IF (ETOILE$ = \"O\") OR (ETOILE$ = \"o\") THEN GOTO 30\n",
    "130 PRINT \"Au revoir \";\n",
    "140 FOR I = 1 TO 200\n",
    "150 PRINT NOM$; \" \";\n",
    "160 NEXT I\n",
    "170 LPRINT\n",
    "```"
   ]
  },
  {
   "cell_type": "markdown",
   "metadata": {},
   "source": [
    "### Les années 67-78 : de nouveaux paradigmes\n",
    "\n",
    "- Simula 67 : premier langage à programmation objet\n",
    "- C : inventé par [Dennis Ritchie](https://fr.wikipedia.org/wiki/Dennis_Ritchie) et [Ken Thompson](https://fr.wikipedia.org/wiki/Ken_Thompson) pour le développement d’Unix. Le C est un langage de programmation bas niveau qui a inspiré de nombreux langages modernes comme le C++, C#, Java…\n",
    "- Smalltalk : premier langage à disposer d’un IDE entièrement graphique. Smalltalk est toujours activement développé.\n",
    "- [Prolog](https://fr.wikipedia.org/wiki/Prolog) (**Pro**grammation **log**ique) est le premier langage de programmation logique. La caractéristique de ce langage est que l’on définit les règles logiques attendues d’une solution et on laisse le compilateur les transformer en séquences d’instructions. Ce langage est utilisé en intelligence artificielle et dans le traitement linguistique."
   ]
  },
  {
   "cell_type": "markdown",
   "metadata": {},
   "source": [
    "### Depuis les années 80\n",
    "\n",
    "Ces années n’ont pas vu de nouveaux paradigmes de programmation apparaître.\n",
    "Les langages combinent plusieurs paradigmes et étendent leurs domaines d’application grâce à l’utilisation de modules.\n",
    "\n",
    "On peut citer les langages:\n",
    "\n",
    "- C++ (1983)\n",
    "- [Perl](https://fr.wikipedia.org/wiki/Perl_(langage)) (1987)\n",
    "- [Python](https://fr.wikipedia.org/wiki/Python_(langage)) (1991)\n",
    "- [Ruby](https://fr.wikipedia.org/wiki/Ruby) (1993)\n",
    "- [Brainfuck](https://fr.wikipedia.org/wiki/Brainfuck) (1993)\n",
    "- Javascript (1995)\n",
    "- Java (1995)\n",
    "- PHP (1995)\n",
    "- ...\n",
    "\n",
    "Voici un [arbre généalogique des langages de programmation](https://camo.githubusercontent.com/12085df272db0468fcdc183de32d10d47db06ca0ace8029276cb3b05eb29ab43/68747470733a2f2f7261776769746875622e636f6d2f73746572656f626f6f737465722f70726f6772616d6d696e672d6c616e6775616765732d67656e65616c6f676963616c2d747265652f67682d70616765732f696d672f6469616772616d2e737667)."
   ]
  },
  {
   "cell_type": "markdown",
   "metadata": {},
   "source": [
    "## Critères de différenciation des langages\n",
    "\n",
    "Il existe de nombreux critères pour différencier les langages:\n",
    "\n",
    "### Les paradigmes de programmation\n",
    "\n",
    "Ceci constitue un chapitre en programme de terminale.\n",
    "Un paradigme de programmation détermine la vue qu’a le développeur de son projet.\n",
    "\n",
    "En voici quelques unes:\n",
    "\n",
    "- La programmation impérative (le paradigme originel)\n",
    "- La programmation orientée objet\n",
    "- La programmation déclarative\n",
    "- La programmation événementielle\n",
    "- …\n",
    "\n",
    "### Langage compilé/interprété\n",
    "\n",
    "Certains langages doivent être compilés avant de pouvoir être exécuté (C, Java).\n",
    "\n",
    "D’autres utilisent un interpréteur (PHP, Javascript, Python). Chaque ligne du programme est lue (et interprétée) par l’interpréteur.\n",
    "\n",
    "### Bas niveau / Haut niveau\n",
    "\n",
    "Certains langages requiert une compréhension fine du matériel (assembleur, langage machine). On dit qu’ils sont “bas niveau”. Ils offrent peu d’abstraction par rapport au jeu d’instructions du processeur.\n",
    "\n",
    "Ces langages sont surtout utilisés pour l’informatique embarquée, industrielle.\n",
    "\n",
    "Les langages de programmation haut niveau permettent de développer sans ce soucier des aspects matériels (processeur, gestion de la mémoire, système d’exploitation utilisé)\n",
    "\n",
    "La distinction entre ces deux niveaux n’est pas binaire :  un langage comme le C permet d’accéder à ces deux niveaux.\n",
    "\n",
    "### Popularité\n",
    "\n",
    "La popularité d’un langage n’est pas une caractéristique technique, cependant si vous devez choisir entre plusieurs langages de mêmes caractéristiques, la popularité est à prendre en compte car ceci influe sur de nombreux paramètres:\n",
    "- L’aide obtenue par la communauté\n",
    "- La quantité/qualité de la documentation\n",
    "- des bibliothèques nombreuses\n",
    "...\n",
    "\n",
    "Voici une [animation montrant l’évolution des 12 langages les plus utilisés entre 2004 et 2021](https://observablehq.com/@mbostock/most-popular-programming-languages-2004-2021).\n",
    "\n",
    "\n",
    "To be continued [voir ce lien](https://www.programming-idioms.org/about#about-block-all-idioms)"
   ]
  },
  {
   "cell_type": "markdown",
   "metadata": {},
   "source": [
    "[Accueil](../../index.ipynb) > [Sommaire Première](../index.ipynb)"
   ]
  }
 ],
 "metadata": {
  "kernelspec": {
   "display_name": "Python 3 (ipykernel)",
   "language": "python",
   "name": "python3"
  },
  "language_info": {
   "codemirror_mode": {
    "name": "ipython",
    "version": 3
   },
   "file_extension": ".py",
   "mimetype": "text/x-python",
   "name": "python",
   "nbconvert_exporter": "python",
   "pygments_lexer": "ipython3",
   "version": "3.10.6"
  }
 },
 "nbformat": 4,
 "nbformat_minor": 4
}
