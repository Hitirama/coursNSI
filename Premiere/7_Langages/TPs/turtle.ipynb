{
 "cells": [
  {
   "cell_type": "markdown",
   "metadata": {},
   "source": [
    "[Revenir au cours](../1_constructions_elementaires.ipynb)"
   ]
  },
  {
   "cell_type": "markdown",
   "metadata": {},
   "source": [
    "# Introduction à l'instruction **range**\n",
    "\n",
    "L'instruction *range* retourne une séquence de nombres, commençant à 0 par défaut, en s'incrémentant de 1 par défaut, et s'arrête avant le nombre spécifié.\n",
    "\n",
    "**Exemples**:"
   ]
  },
  {
   "cell_type": "code",
   "execution_count": null,
   "metadata": {},
   "outputs": [],
   "source": [
    "for i in range(5):\n",
    "    print(i)"
   ]
  },
  {
   "cell_type": "markdown",
   "metadata": {},
   "source": [
    "On peut spécifier un **nombre de départ** (0 par défaut)"
   ]
  },
  {
   "cell_type": "code",
   "execution_count": null,
   "metadata": {},
   "outputs": [],
   "source": [
    "for nombre in range(2,7):\n",
    "    print(nombre)"
   ]
  },
  {
   "cell_type": "markdown",
   "metadata": {},
   "source": [
    "On peut spécifier un **pas** (1 par défaut)"
   ]
  },
  {
   "cell_type": "code",
   "execution_count": null,
   "metadata": {},
   "outputs": [],
   "source": [
    "for nombre in range(0,11,2):\n",
    "    print(nombre)"
   ]
  },
  {
   "cell_type": "markdown",
   "metadata": {},
   "source": [
    "<div class=\"alert alert-info\">\n",
    "    Cette instruction est souvent utilisée en Python pour boucler un certain nombre de fois. Quand le nombre n'est pas utilisé dans la boucle, par convention, on utilise comme variable le '_'.\n",
    "</div>"
   ]
  },
  {
   "cell_type": "code",
   "execution_count": null,
   "metadata": {},
   "outputs": [],
   "source": [
    "for _ in range(4):\n",
    "    print(\"Bonjour\")"
   ]
  },
  {
   "cell_type": "markdown",
   "metadata": {},
   "source": [
    "# TP Tortue\n",
    "\n",
    "Le [module turtle](https://realpython.com/beginners-guide-python-turtle/) de Python permet de dessiner simplement des formes. Nous allons nous en servir comme prétexte pour utiliser l'instruction range.\n",
    "\n",
    "Créer un fichier tortue.py et coller ce code:"
   ]
  },
  {
   "cell_type": "code",
   "execution_count": null,
   "metadata": {},
   "outputs": [],
   "source": [
    "import turtle\n",
    "s = turtle.getscreen()\n",
    "t = turtle.Turtle()\n",
    "t.speed(0) # maximum speed\n",
    "\n",
    "t.forward(100)\n",
    "t.left(90)\n",
    "t.forward(50)\n",
    "t.right(90)\n",
    "t.forward(100)\n",
    "\n",
    "turtle.exitonclick()"
   ]
  },
  {
   "cell_type": "markdown",
   "metadata": {},
   "source": [
    "## Exercice 1\n",
    "\n",
    "Créer une fonction *equilateral(longueur)* qui dessine un triangle équilatéral de cotés de longueurs *longueur*."
   ]
  },
  {
   "cell_type": "markdown",
   "metadata": {},
   "source": [
    "## Exercice 2\n",
    "\n",
    "Créer une fonction *carre(longueur)* qui dessine un carré de cotés de longueurs *longueur*."
   ]
  },
  {
   "cell_type": "markdown",
   "metadata": {
    "tags": []
   },
   "source": [
    "## Exercice 3\n",
    "\n",
    "- Créer une fonction *polygone(longueur, nb_cotes)* qui dessine un polygone régulier  de *nb_cotes* cotés de longueurs *longueur*.\n",
    "- Réutiliser la fonction polygone dans les fonctions *equilateral* et *carre*. : equilateral(longueur) c'est pareil que polygone(longueur, 3)"
   ]
  },
  {
   "cell_type": "markdown",
   "metadata": {
    "tags": []
   },
   "source": [
    "## Exercice 4\n",
    "\n",
    "- Ajouter un paramètre nommé *soustrait = 0* à la fonction *polygone* afin de dessiner ce genre de résultat:\n",
    "\n",
    "   \\>\\>\\> polygone(6, 100, soustrait=10)\n",
    "\n",
    "![](polygone_soustrait.png)"
   ]
  },
  {
   "cell_type": "markdown",
   "metadata": {
    "tags": []
   },
   "source": [
    "## Exercice 5\n",
    "\n",
    "A l'aide des des fonctions précédentes, créer ce genre de figures:\n",
    "\n",
    "![](figure1_turtle.png)\n",
    "\n",
    "![](figure2_turtle.png)"
   ]
  }
 ],
 "metadata": {
  "kernelspec": {
   "display_name": "Python 3",
   "language": "python",
   "name": "python3"
  },
  "language_info": {
   "codemirror_mode": {
    "name": "ipython",
    "version": 3
   },
   "file_extension": ".py",
   "mimetype": "text/x-python",
   "name": "python",
   "nbconvert_exporter": "python",
   "pygments_lexer": "ipython3",
   "version": "3.8.10"
  }
 },
 "nbformat": 4,
 "nbformat_minor": 4
}
