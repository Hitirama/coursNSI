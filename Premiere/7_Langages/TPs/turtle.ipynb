{
 "cells": [
  {
   "cell_type": "markdown",
   "metadata": {},
   "source": [
    "[Revenir au cours](../1_constructions_elementaires.ipynb)"
   ]
  },
  {
   "cell_type": "markdown",
   "metadata": {},
   "source": [
    "# TP Tortue\n",
    "\n",
    "Le [module turtle](https://realpython.com/beginners-guide-python-turtle/) de Python permet de dessiner simplement des formes. Nous allons nous en servir comme prétexte pour utiliser l'instruction *range*.\n",
    "\n",
    "Aller dans Github et créer un dépôt *TP_tortue*.\n",
    "\n",
    "Depuis votre terminal, se rendre dans le dossier adéquat et lancer la commande *git clone git@github.com:XXXXXX*\n",
    "\n",
    "Dans Thonny, créer un fichier tortue.py dans le dossier que vous venez de cloner.\n",
    "\n",
    "Copier-coller le code ci-dessous:\n"
   ]
  },
  {
   "cell_type": "code",
   "execution_count": null,
   "metadata": {},
   "outputs": [],
   "source": [
    "import turtle\n",
    "s = turtle.getscreen()\n",
    "t = turtle.Turtle()\n",
    "t.speed(0) # maximum speed\n",
    "\n",
    "t.forward(100)\n",
    "t.left(90)\n",
    "t.forward(50)\n",
    "t.right(90)\n",
    "t.forward(100)\n",
    "\n",
    "turtle.exitonclick()"
   ]
  },
  {
   "cell_type": "markdown",
   "metadata": {},
   "source": [
    "- Ajouter ce fichier au dépot *git add tortue.py*.\n",
    "- Commiter vos changements : *git commit -m \"Copier-coller depuis le cours, début du TP\"*.\n",
    "- Envoyer ces changements sur le dépôt : *git push*"
   ]
  },
  {
   "cell_type": "markdown",
   "metadata": {},
   "source": [
    "## Exercice 1\n",
    "\n",
    "Créer une fonction *equilateral(longueur)* qui dessine un triangle équilatéral de cotés de longueurs *longueur*."
   ]
  },
  {
   "cell_type": "markdown",
   "metadata": {},
   "source": [
    "## Exercice 2\n",
    "\n",
    "Créer une fonction *carre(longueur)* qui dessine un carré de cotés de longueurs *longueur*.\n",
    "\n",
    "\n",
    "Une fois arrivé ici et que tout fonctionne, faisons un peu de git.\n",
    "\n",
    "- Observer quels *fichiers* on été modifiés : *git status*\n",
    "- Observer les changements : *git diff*\n",
    "- Ajouter un fichier pour le futur commit : *git add nom_du_fichier*\n",
    "- Valider les changements : *git commit -m \"version 1\"*\n",
    "- Si vous voulez envoyer le commit sur le serveur : *git push*\n",
    "\n",
    "Donc, observer les modifications, ajouter le fichier modifié, committer avec comme commentaire \"version 1\""
   ]
  },
  {
   "cell_type": "markdown",
   "metadata": {
    "tags": []
   },
   "source": [
    "## Exercice 3\n",
    "\n",
    "La version de votre programme s'arrache comme des petits pains et vous voici millionnaire. De nombreux programmeurs utilisent votre programme pour réaliser des graphismes époustouflants.\n",
    "\n",
    "<div class=\"alert alert-info\">\n",
    "    \n",
    "Une fois que votre programme est utilisé par des développeurs, il est indispensable que les futures versions soient compatibles avec les versions précédentes.\n",
    "\n",
    "Donc *equilateral(100)* devra, même à la version 25, toujours dessiner un triangle équilateral de coté 100.\n",
    "\n",
    "</div>\n",
    "    \n",
    "\n",
    "Pour la future version2, voici la nouvelle fonctionnalité demandée:\n",
    "\n",
    "- Créer une fonction *polygone(longueur, nb_cotes)* qui dessine un polygone régulier  de *nb_cotes* cotés de longueurs *longueur*.\n",
    "- Réutiliser la fonction polygone dans les fonctions *equilateral* et *carre*. : equilateral(longueur) c'est pareil que polygone(longueur, 3)\n",
    "\n",
    "L'appel suivant \n",
    "\n",
    "```python\n",
    "polygone(100,5)\n",
    "polygone(200,5)\n",
    "```\n",
    "\n",
    "doit afficher le résultat suivant:\n",
    "<img src=\"../img/polygones.jpg\">\n",
    "\n",
    "Commiter vos changement avec comme commentaire \"version2\""
   ]
  },
  {
   "cell_type": "markdown",
   "metadata": {
    "tags": []
   },
   "source": [
    "## Exercice 4\n",
    "\n",
    "- Ajouter un paramètre nommé *ajout = 0* à la fonction *polygone* afin de dessiner ce genre de résultat:\n",
    "\n",
    "   \\>\\>\\> polygone(100, 6, ajout=10)\n",
    "\n",
    "![](polygone_soustrait.png)\n",
    "\n",
    "<div class=\"alert alert-info\">\n",
    "    \n",
    "L'appel de *polygone(100, 6)* doit toujours fonctionner. Quand *ajout* n'est pas précisé, il prend sa valeur par défaut (ici 0), et dessine donc un polygone régulier\n",
    "    \n",
    "</div>\n",
    "\n",
    "```python\n",
    "polygone(100,6)\n",
    "```\n",
    "\n",
    "![](hexagone.jpg)\n"
   ]
  },
  {
   "cell_type": "markdown",
   "metadata": {},
   "source": [
    "## Exercice 5\n",
    "\n",
    "- Ajouter un paramètre nommé *deviation = 0* à la fonction *polygone* afin de dessiner ce genre de résultat:\n",
    "\n",
    "   \\>\\>\\> polygone(4, 100, deviation=10)\n",
    "   \n",
    "(au lieu de tourner de 90°, l'angle est de 90+10.\n",
    "\n",
    "<img src=\"../img/polygone_deviation.jpg\">\n",
    "\n",
    "\n",
    "   \\>\\>\\> polygone(100, 4, ajout=20, deviation=5)\n",
    "   \n",
    "(combine l'ajout et la deviation)\n",
    "\n",
    "<img src=\"../img/polygone_soustrait_deviation.jpg\">\n"
   ]
  },
  {
   "cell_type": "markdown",
   "metadata": {
    "tags": []
   },
   "source": [
    "## Exercice 6\n",
    "\n",
    "A l'aide de la fonction *polygone*, générer ce genre de figures:\n",
    "\n",
    "\n",
    "```python\n",
    "\n",
    "def figure1():\n",
    "    #TODO \n",
    "```    \n",
    "\n",
    "![](figure1_turtle.png)\n",
    "\n",
    "```python\n",
    "\n",
    "def figure2():\n",
    "    #TODO \n",
    "```    \n",
    "\n",
    "\n",
    "![](figure2_turtle.png)\n",
    "\n",
    "<div class=\"alert alert-info\">\n",
    "    \n",
    "Une fois que tout fonctionne, n'oubliez pas de commiter vos changements et de pousser votre code sur Github afin de **revoir** votre code pour le futur devoir.\n",
    "    \n",
    "</div>"
   ]
  },
  {
   "cell_type": "markdown",
   "metadata": {},
   "source": [
    "## Bilan\n",
    "\n",
    "A l'issue de ce TP, je dois savoir:\n",
    "\n",
    "- Utiliser la fonction *range* pour **boucler** un certain nombre de fois;\n",
    "- Savoir **définir une fonction**;\n",
    "- Savoir utiliser les **paramètres** de la fonction à l'intérieur de la fonction;\n",
    "- Savoir **appeler une fonction**;\n",
    "- Savoir utiliser une fonction avec des **paramètres par défaut**."
   ]
  },
  {
   "cell_type": "markdown",
   "metadata": {},
   "source": [
    "[Revenir au cours](../1_constructions_elementaires.ipynb)"
   ]
  }
 ],
 "metadata": {
  "kernelspec": {
   "display_name": "Python 3 (ipykernel)",
   "language": "python",
   "name": "python3"
  },
  "language_info": {
   "codemirror_mode": {
    "name": "ipython",
    "version": 3
   },
   "file_extension": ".py",
   "mimetype": "text/x-python",
   "name": "python",
   "nbconvert_exporter": "python",
   "pygments_lexer": "ipython3",
   "version": "3.10.12"
  }
 },
 "nbformat": 4,
 "nbformat_minor": 4
}
