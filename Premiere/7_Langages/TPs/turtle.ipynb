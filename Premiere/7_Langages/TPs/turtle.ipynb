{
 "cells": [
  {
   "cell_type": "markdown",
   "metadata": {},
   "source": [
    "[Revenir au cours](../1_constructions_elementaires.ipynb)"
   ]
  },
  {
   "cell_type": "markdown",
   "metadata": {},
   "source": [
    "# TP Tortue\n",
    "\n",
    "Le [module turtle](https://realpython.com/beginners-guide-python-turtle/) de Python permet de dessiner simplement des formes. Nous allons nous en servir comme prétexte pour utiliser l'instruction *range*.\n",
    "\n",
    "Aller dans Github et créer un dépôt TP_tortue.\n",
    "\n",
    "Depuis votre terminal, se rendre dans le dossier adéquat et lancer la commande *git clone git@github.com:XXXXXX*\n",
    "\n",
    "Dans Thonny, créer un fichier tortue.py dans le dossier que vous venez de cloner.\n",
    "\n",
    "Copier-coller le code ci-dessous:\n"
   ]
  },
  {
   "cell_type": "code",
   "execution_count": null,
   "metadata": {},
   "outputs": [],
   "source": [
    "import turtle\n",
    "s = turtle.getscreen()\n",
    "t = turtle.Turtle()\n",
    "t.speed(0) # maximum speed\n",
    "\n",
    "t.forward(100)\n",
    "t.left(90)\n",
    "t.forward(50)\n",
    "t.right(90)\n",
    "t.forward(100)\n",
    "\n",
    "turtle.exitonclick()"
   ]
  },
  {
   "cell_type": "markdown",
   "metadata": {},
   "source": [
    "- Ajouter ce fichier au dépot *git add tortue.py*.\n",
    "- Commiter vos changements : *git commit -m \"Copier-coller depuis le cours, début du TP\"*.\n",
    "- Envoyer ces changements sur le dépôt : *git push*"
   ]
  },
  {
   "cell_type": "markdown",
   "metadata": {},
   "source": [
    "## Exercice 1\n",
    "\n",
    "Créer une fonction *equilateral(longueur)* qui dessine un triangle équilatéral de cotés de longueurs *longueur*."
   ]
  },
  {
   "cell_type": "markdown",
   "metadata": {},
   "source": [
    "## Exercice 2\n",
    "\n",
    "Créer une fonction *carre(longueur)* qui dessine un carré de cotés de longueurs *longueur*."
   ]
  },
  {
   "cell_type": "markdown",
   "metadata": {
    "tags": []
   },
   "source": [
    "## Exercice 3\n",
    "\n",
    "- Créer une fonction *polygone(longueur, nb_cotes)* qui dessine un polygone régulier  de *nb_cotes* cotés de longueurs *longueur*.\n",
    "- Réutiliser la fonction polygone dans les fonctions *equilateral* et *carre*. : equilateral(longueur) c'est pareil que polygone(longueur, 3)"
   ]
  },
  {
   "cell_type": "markdown",
   "metadata": {
    "tags": []
   },
   "source": [
    "## Exercice 4\n",
    "\n",
    "- Ajouter un paramètre nommé *soustrait = 0* à la fonction *polygone* afin de dessiner ce genre de résultat:\n",
    "\n",
    "   \\>\\>\\> polygone(6, 100, soustrait=10)\n",
    "\n",
    "![](polygone_soustrait.png)"
   ]
  },
  {
   "cell_type": "markdown",
   "metadata": {
    "tags": []
   },
   "source": [
    "## Exercice 5\n",
    "\n",
    "A l'aide des des fonctions précédentes, créer ce genre de figures:\n",
    "\n",
    "![](figure1_turtle.png)\n",
    "\n",
    "![](figure2_turtle.png)"
   ]
  },
  {
   "cell_type": "markdown",
   "metadata": {},
   "source": [
    "[Revenir au cours](../1_constructions_elementaires.ipynb)"
   ]
  }
 ],
 "metadata": {
  "kernelspec": {
   "display_name": "Python 3 (ipykernel)",
   "language": "python",
   "name": "python3"
  },
  "language_info": {
   "codemirror_mode": {
    "name": "ipython",
    "version": 3
   },
   "file_extension": ".py",
   "mimetype": "text/x-python",
   "name": "python",
   "nbconvert_exporter": "python",
   "pygments_lexer": "ipython3",
   "version": "3.10.6"
  }
 },
 "nbformat": 4,
 "nbformat_minor": 4
}
