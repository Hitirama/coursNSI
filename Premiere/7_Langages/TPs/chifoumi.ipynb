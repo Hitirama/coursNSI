{
 "cells": [
  {
   "cell_type": "markdown",
   "id": "48e8b724-7b09-4b3f-91e5-954cb5272942",
   "metadata": {},
   "source": [
    "[Revenir au cours](../1_constructions_elementaires.ipynb)"
   ]
  },
  {
   "cell_type": "markdown",
   "id": "dbd0dd17-eed4-4a50-a218-42639f199b0c",
   "metadata": {},
   "source": [
    "# TP Chifoumi\n",
    "\n",
    "![](chifoumi.jpg)"
   ]
  },
  {
   "cell_type": "markdown",
   "id": "1e12b280-d75e-4ef4-8bef-c388221a9b87",
   "metadata": {},
   "source": [
    "\n",
    "## Règles\n",
    "\n",
    "L’ordinateur et vous allez choisir entre *pierre*, *feuille* et *ciseaux*.\n",
    "\n",
    "Le gagnant est désigné selon ces règles:\n",
    "\n",
    "- La pierre brise les ciseaux;\n",
    "- Le papier couvre la pierre;\n",
    "- Les ciseaux coupent le papier;\n"
   ]
  },
  {
   "cell_type": "markdown",
   "id": "e14a154d-f35b-4583-b90f-e51dd179a799",
   "metadata": {},
   "source": [
    "## Consignes\n",
    "\n",
    "Nous allons utiliser des **fonctions** afin de mieux structurer notre programme.\n",
    "\n",
    "- Ecrire une **fonction choix_ordi** qui retourne le choix de l'ordinateur sous forme d'une string 'p', 'f' ou 'c'. Nous utiliserons la fonction [choice](https://www.w3schools.com/python/ref_random_choice.asp) de Python.\n",
    "  - **Entrées** : aucune\n",
    "  - **Retourne** une string:\n",
    "      - 'p' si l'ordinateur a choisi *pierre*.\n",
    "      - 'f' si l'ordinateur a choisi *feuille*.\n",
    "      - 'c' si l'ordinateur a choisi *ciseaux*.\n",
    "\n",
    "- Ecrire une **fonction verdict** :\n",
    "  - **Entrées** :\n",
    "    - le choix de l'utilisateur : string :'p', 'f' ou 'c'\n",
    "    - le choix de l'ordinateur : string :'p', 'f' ou 'c'\n",
    "  - **Retourne** un nombre entier:\n",
    "      - -1 si le joueur à perdu\n",
    "      - 0 si il y a égalité\n",
    "      - 1 si le joueur à gagné\n",
    "      \n",
    "- Ecrire une **fonction partie** qui simule une partie de pfc. Cette fonction :\n",
    "  - demande à l'utilisateur le choix entre p, f et c\n",
    "  - génère le choix de l'ordinateur et l'affiche sur la console\n",
    "  - affiche le résultat\n",
    "  - **Entrées** : aucune\n",
    "  - **Retourne** un nombre entier:\n",
    "      - -1 si le joueur à perdu\n",
    "      - 0 si il y a égalité\n",
    "      - 1 si le joueur à gagné\n",
    "      - 2 sinon (par exemple, si l'utilisateur a entré 'q')\n",
    "      \n",
    "- Ecrire une **fonction jeu_pfc** qui lance le jeu de pfc et affiche les scores du joueur et de l'ordinateur à chaque partie jouée.\n",
    "\n",
    "  - **Entrées** : aucune\n",
    "  - **Retourne** : rien\n",
    "  \n",
    "<div class=\"alert alert-info\"> L'idée est la suivante : on utilise un boucle non bornée (while) qui boucle tant que le résultat du verdict est différent de -2.</div>\n",
    "  \n",
    "- Appeler la fonction **jeu_pfc** en fin de fichier pour tester votre jeu.\n",
    "      \n",
    "**Tester la fonction verdict avec des [doctests](https://docs.python.org/3/library/doctest.html).**\n",
    "\n",
    "**Améliorations possibles**:\n",
    "\n",
    "- Permettre à l'utilisateur de rentrer également les lettres 'P', 'F' ou 'C'. (voir la fonction **[lower](https://www.programiz.com/python-programming/methods/string/lower)** qui s'applique sur les strings)\n",
    "- Modifier le programme afin que l'utilisateur puisse le quitter en entrant autre chose que 'p/P', 'f/F' ou 'c/C'.\n"
   ]
  },
  {
   "cell_type": "markdown",
   "id": "97771ff9-2f83-4886-a127-10b80826986b",
   "metadata": {},
   "source": [
    "[Revenir au cours](../1_constructions_elementaires.ipynb)"
   ]
  }
 ],
 "metadata": {
  "kernelspec": {
   "display_name": "Python 3 (ipykernel)",
   "language": "python",
   "name": "python3"
  },
  "language_info": {
   "codemirror_mode": {
    "name": "ipython",
    "version": 3
   },
   "file_extension": ".py",
   "mimetype": "text/x-python",
   "name": "python",
   "nbconvert_exporter": "python",
   "pygments_lexer": "ipython3",
   "version": "3.10.12"
  }
 },
 "nbformat": 4,
 "nbformat_minor": 5
}
