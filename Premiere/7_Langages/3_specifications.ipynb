{
 "cells": [
  {
   "cell_type": "markdown",
   "metadata": {},
   "source": [
    "[Accueil](../../index.ipynb) > [Sommaire Première](../index.ipynb)"
   ]
  },
  {
   "cell_type": "markdown",
   "metadata": {},
   "source": [
    "# 7.3 Spécifications\n",
    "\n",
    "**[Définition du Larousse](https://www.larousse.fr/dictionnaires/francais/sp%C3%A9cification/74085)**\n",
    "\n",
    "<cite>Définition des caractéristiques essentielles (qualité, dimensions, etc.) que doit avoir une marchandise, une construction, un matériel, etc.</cite>\n",
    "\n",
    "En génie logiciel, **spécifier** un programme correspond à décrire de manière explicite le **comportement de ce programme**, c'est à dire les variables qu'il accepte en entrée et ce qu'il retourne comme résultat.\n",
    "\n",
    "<div class=\"alert alert-success\">\n",
    "    <b>A savoir</b>\n",
    "    <div>La spécification d'un programme ne concerne pas l'<b>implémentation</b> de ce programme, c'est à dire la manière dont il est codé.</div>\n",
    "</div>"
   ]
  },
  {
   "cell_type": "markdown",
   "metadata": {},
   "source": [
    "## Quelques conseils pour débuter\n",
    "\n",
    "### Idées générales\n",
    "\n",
    "Voici un extrait de quelques conseils propres à Python qui sont listées dans la [PEP 20](https://peps.python.org/pep-0020/).\n",
    "\n",
    "- Beautiful is better than ugly.\n",
    "- Explicit is better than implicit.\n",
    "- Simple is better than complex.\n",
    "- Readability counts.\n",
    "- Now is better than never.\n",
    "- ...\n",
    "\n",
    "### Conseils pratiques\n",
    "\n",
    "Ils sont listés dans la [PEP 8](https://peps.python.org/pep-0008/). \n",
    "\n",
    "Je ne vais pas les lister ici car nous apprendrons au fur et à mesure de l'année à respecter ces conventions.\n"
   ]
  },
  {
   "cell_type": "markdown",
   "metadata": {},
   "source": [
    "## Fonctions ##\n",
    "\n",
    "Un programme n'est pas un fichier monolithique contenant une succession de lignes. Un programme complet est structuré en dossiers et sous-dossiers (**packages** en Python) contenant des fichiers (**modules** en Python) et chaque module contient des **fonctions**.\n",
    "\n",
    "Une fonction contient un bloc d'instructions qui permet de **factoriser** et de **clarifier** le code. Les fonctions facilitent la **maintenance du code** et son **partage** vers des programmes externes.\n",
    "\n",
    "Une fonction est définie par :\n",
    "\n",
    "- une **en-tête** (ou signature) qui contient:\n",
    "  - un nom\n",
    "  - des paramètres d'entrée\n",
    "- un **corps** qui contient des blocs d'instructions\n",
    "\n",
    "Voici un exemple de fonction très simple en Python"
   ]
  },
  {
   "cell_type": "code",
   "execution_count": null,
   "metadata": {},
   "outputs": [],
   "source": [
    "def square(value): # signature de la fonction\n",
    "    return value**2 # corps de la fonction"
   ]
  },
  {
   "cell_type": "code",
   "execution_count": null,
   "metadata": {},
   "outputs": [],
   "source": [
    "square(4)"
   ]
  },
  {
   "cell_type": "markdown",
   "metadata": {},
   "source": [
    "<div class=\"alert alert-success\">\n",
    "    <b>A savoir</b>\n",
    "    <div>Une fonction ne retourne pas forcément de résultat, on parle parfois de <b>procédure</b>.</div>\n",
    "</div>\n",
    "\n",
    "Voici l'exemple d'une procédure qui, pour chaque nombre entier de la liste, va le multiplier par 2 si le nombre est pair et le multiplier par 3 et ajouter 1 sinon. La fonction ne retourne pas de liste résultat, mais la modifie directement ( *in place* )\n"
   ]
  },
  {
   "cell_type": "code",
   "execution_count": null,
   "metadata": {},
   "outputs": [],
   "source": [
    "def my_strange_function(list_of_values):\n",
    "    for i in range(len(list_of_values)):\n",
    "        value = list_of_values[i]\n",
    "        if value%2 == 0:\n",
    "            list_of_values[i] = value*2\n",
    "        else:\n",
    "            list_of_values[i] = value*3+1"
   ]
  },
  {
   "cell_type": "code",
   "execution_count": null,
   "metadata": {},
   "outputs": [],
   "source": [
    "elements = [0, 1, 5, 6, 4, 0, 2, 0]\n",
    "result = my_strange_function(elements) # J'affecte dans la variable result ce que retourne la fonction quand je l'appelle.\n",
    "print(result)\n",
    "print(f\"La liste vaut maintenant : {elements}\") # la liste a été modifiée in place"
   ]
  },
  {
   "cell_type": "markdown",
   "metadata": {},
   "source": [
    "**Exercice**\n",
    "\n",
    "Ecrire une fonction **cartesian_distance** qui prend en paramètre deux points, chaque point étant représenté par un tuple de coordonnées, et retourne la distance cartésienne entre ces deux points."
   ]
  },
  {
   "cell_type": "code",
   "execution_count": null,
   "metadata": {},
   "outputs": [],
   "source": [
    "# A vous de coder ici.\n"
   ]
  },
  {
   "cell_type": "markdown",
   "metadata": {},
   "source": [
    "<div class=\"alert alert-danger\">\n",
    "    <b>Attention</b>\n",
    "    <div>Ne pas confondre <b>return</b> et <b>print</b></div>\n",
    "</div>\n",
    "\n",
    "Un **return** dans une fonction permet de renvoyer une valeur lors de l'appel de la fonction.\n",
    "\n",
    "Un **print** permet d'afficher sur la sortie standard (l'écran en général) une valeur, mais cette valeur est uniquement affichée et ne peut être récupérée pour être utilisée ultérieurement."
   ]
  },
  {
   "cell_type": "code",
   "execution_count": null,
   "metadata": {},
   "outputs": [],
   "source": [
    "def absolute_value(value):\n",
    "    if value > 0:\n",
    "        return value\n",
    "    else:\n",
    "        return -value\n",
    "    \n",
    "def cubic(value):\n",
    "    print(value**3) # J'affiche le résultat mais je ne retourne rien"
   ]
  },
  {
   "cell_type": "code",
   "execution_count": null,
   "metadata": {},
   "outputs": [],
   "source": [
    "result = absolute_value(-6)\n",
    "result"
   ]
  },
  {
   "cell_type": "code",
   "execution_count": null,
   "metadata": {},
   "outputs": [],
   "source": [
    "result = cubic(-2)\n",
    "print(result)\n",
    "absolute_value(result) # Ici ça va planter\n"
   ]
  },
  {
   "cell_type": "markdown",
   "metadata": {},
   "source": [
    "## Spécifications\n",
    "\n",
    "Lors de l'écriture d'une fonction, Python permet de décrire son comportement à l'aide d'une documentation. En Python cela s'appelle une *docstring*.\n",
    "\n",
    "Dans cette docstring on spécifie:\n",
    "\n",
    "- Ce que renvoie la fonction (**postcondiftion**)\n",
    "- Les paramètres de la fonction en précisant leurs types\n",
    "- Des conditions sur les paramètres (**préconditions**)\n",
    "- Le type de la valeur retournée.\n",
    "\n",
    "Cette documentation est alors disponible grace à la fonction *help*. Des outils spécifiques de génération de documentation permettent également d'avoir une documentation au format html, on peut citer [Sphinx](https://www.sphinx-doc.org/en/master/) par exemple."
   ]
  },
  {
   "cell_type": "code",
   "execution_count": null,
   "metadata": {},
   "outputs": [],
   "source": [
    "mot = 'Bonjour'\n",
    "dir(mot) # Affiche l'ensemble des fonctions disponibles sur une chaine de caractere"
   ]
  },
  {
   "cell_type": "code",
   "execution_count": null,
   "metadata": {},
   "outputs": [],
   "source": [
    "help(mot.istitle) # J'affiche l'aide de la fonction istitle"
   ]
  },
  {
   "cell_type": "markdown",
   "metadata": {},
   "source": [
    "Reprenons notre fonction *absolute_value* et ajoutons lui une docstring"
   ]
  },
  {
   "cell_type": "code",
   "execution_count": null,
   "metadata": {},
   "outputs": [],
   "source": [
    "def absolute_value(value):\n",
    "    \"\"\"Return the absolute value of a number.\n",
    "\n",
    "    Parameters:\n",
    "    value (float): a number\n",
    "\n",
    "    Returns:\n",
    "    float:The absolute value of the number.\n",
    "    \"\"\"\n",
    "    if value > 0:\n",
    "        return value\n",
    "    else:\n",
    "        return -value\n",
    "\n",
    "help(absolute_value)"
   ]
  },
  {
   "cell_type": "markdown",
   "metadata": {},
   "source": [
    "Le langage Python décrit succintement le format à utiliser pour les doctrings dans la [PEP 257](https://peps.python.org/pep-0257/) cependant il est possible d'utiliser plusieurs **standards** en fonction du logiciel de génération de documentation.\n",
    "\n",
    "Voici diverses recommandations:\n",
    "\n",
    "- [google](https://google.github.io/styleguide/pyguide.html#38-comments-and-docstrings)\n",
    "- [Sphinx](https://pythonhosted.org/an_example_pypi_project/sphinx.html#full-code-example)\n"
   ]
  },
  {
   "cell_type": "markdown",
   "metadata": {},
   "source": [
    "[Accueil](../../index.ipynb) > [Sommaire Première](../index.ipynb)"
   ]
  }
 ],
 "metadata": {
  "kernelspec": {
   "display_name": "Python 3",
   "language": "python",
   "name": "python3"
  },
  "language_info": {
   "codemirror_mode": {
    "name": "ipython",
    "version": 3
   },
   "file_extension": ".py",
   "mimetype": "text/x-python",
   "name": "python",
   "nbconvert_exporter": "python",
   "pygments_lexer": "ipython3",
   "version": "3.8.10"
  }
 },
 "nbformat": 4,
 "nbformat_minor": 4
}
