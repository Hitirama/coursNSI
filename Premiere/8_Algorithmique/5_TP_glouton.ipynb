{
 "cells": [
  {
   "cell_type": "markdown",
   "id": "cfaddce0-8f83-4c4d-a0ec-b3d070a7fd52",
   "metadata": {},
   "source": [
    "# TP sac à dos\n",
    "\n",
    "voici une liste représentant les objets à emporter pour une randonnée (la valeur est l'**utilité** de l'objet). La masse totale à emporter ne doit pas dépasser n kilogrammes."
   ]
  },
  {
   "cell_type": "code",
   "execution_count": null,
   "id": "8569f91a-25df-4417-bab4-58145aec8ef5",
   "metadata": {},
   "outputs": [],
   "source": [
    "les_objets = (\n",
    "    {\"nom\":\"couteau\", \"poids\":1, \"valeur\":40},\n",
    "    {\"nom\":\"tire-bouchon\", \"poids\":2, \"valeur\":3000},\n",
    "    {\"nom\":\"décapsuleur\", \"poids\":3, \"valeur\":3000},\n",
    "    {\"nom\":\"corde\", \"poids\":5, \"valeur\":5},\n",
    "    {\"nom\":\"tente\", \"poids\":5, \"valeur\":123},\n",
    "    {\"nom\":\"réchaud\", \"poids\":2, \"valeur\":80},\n",
    "    {\"nom\":\"briquet\", \"poids\":1, \"valeur\":17},\n",
    "    {\"nom\":\"boules-quies\", \"poids\":1, \"valeur\":56},\n",
    "    {\"nom\":\"gourde\", \"poids\":2, \"valeur\":18},\n",
    "    {\"nom\":\"enclume\", \"poids\":18, \"valeur\":6},\n",
    "    {\"nom\":\"coton-tige\", \"poids\":1, \"valeur\":1},\n",
    "    {\"nom\":\"poncho\", \"poids\":2, \"valeur\":54},\n",
    "    {\"nom\":\"hamac\", \"poids\":2, \"valeur\":100},\n",
    "    {\"nom\":\"bouillotte\", \"poids\":2, \"valeur\":3},\n",
    "             )"
   ]
  },
  {
   "cell_type": "markdown",
   "id": "7cb04c0a-e13e-4646-a04f-cd904bacf048",
   "metadata": {},
   "source": [
    "Un petite fonction pour afficher proprement nos objets :"
   ]
  },
  {
   "cell_type": "code",
   "execution_count": null,
   "id": "e0de22a0-7e16-48fe-8c2b-a747d4600213",
   "metadata": {},
   "outputs": [],
   "source": [
    "try:\n",
    "    from prettytable import PrettyTable\n",
    "except ImportError:\n",
    "    !pip install PTable\n",
    "from prettytable import PrettyTable\n",
    "\n",
    "def afficher_objets(objets):\n",
    "    x = PrettyTable()\n",
    "    x.field_names = objets[0].keys()\n",
    "    x.align = \"r\"\n",
    "    #x.align[\"valeur\"] = \"r\"\n",
    "    for obj in objets:\n",
    "        x.add_row(obj.values())\n",
    "    print(x)\n",
    "    \n",
    "afficher_objets(les_objets)   "
   ]
  },
  {
   "cell_type": "markdown",
   "id": "82d67b06-2542-49e5-9c9f-c398aba2b830",
   "metadata": {},
   "source": [
    "## Méthode de la force brute\n",
    "\n",
    "Explorons **toutes les possibilités** et trouvons la meilleure.\n",
    "\n",
    "### Génération de toutes les combinaisons possibles\n",
    "\n",
    "Pour cela nous allons générer toutes les possibilités de l'arbre binaire (je prends / je prends pas) grâce à la libraire *[itertools](https://docs.python.org/3/library/itertools.html)* (hors programme)\n",
    "\n",
    "![arbre binaire d'exploration](img/Arbre_binaire_exploration.svg.png)\n"
   ]
  },
  {
   "cell_type": "code",
   "execution_count": null,
   "id": "38d4f472-b7ee-4f4a-90fa-f9c43fd16531",
   "metadata": {},
   "outputs": [],
   "source": [
    "import itertools\n",
    "\n",
    "def chemins_arbre(objets):\n",
    "    l = [False, True]\n",
    "    return list(itertools.product(l, repeat=len(objets)))\n",
    "\n",
    "combinaisons = chemins_arbre(les_objets)\n",
    "# Affichons le nombre de possibilités\n",
    "# Commenter les 2 lignes ci-dessous une fois que c'est compris \n",
    "for c in combinaisons:\n",
    "    print(c)"
   ]
  },
  {
   "cell_type": "markdown",
   "id": "f967caf4-1020-4c00-a593-7c912cf19878",
   "metadata": {},
   "source": [
    "### Recherche de la solution optimale par *brut force*\n",
    "\n",
    "Ecrire une fonction *trouver_solution_optimale* qui prend en paramètre:\n",
    "- la liste des objets\n",
    "- le maximum à ne pas dépasser\n",
    "\n",
    "Elle retourne sous forme de dictionnaire la solution optimale.\n",
    "On utilisera la fonction *chemins_arbre* dans la fonction *trouver_solution_optimale*\n",
    "\n",
    "**Exemple**:\n",
    "```\n",
    ">>> trouver_solution_optimale(les_objets, 15)\n",
    "{'objets': \n",
    "['tire-bouchon',\n",
    "  'décapsuleur',\n",
    "  'tente',\n",
    "  'réchaud',\n",
    "  'boules-quies',\n",
    "  'hamac'],\n",
    " 'valeur': 6359,\n",
    " 'poids': 15}\n",
    "```\n",
    "\n",
    "**Remarque** : On peut *optimiser* en rejetant le parcours d'un chemin dès que la masse maximale est dépassée."
   ]
  },
  {
   "cell_type": "code",
   "execution_count": null,
   "id": "17547c8a-fbc5-45e5-ace8-23077321d71c",
   "metadata": {},
   "outputs": [],
   "source": [
    "def trouver_solution_optimale(objets, maxi):\n",
    "    result = {\"objets\":[], \"valeur\":0, \"poids\":0}\n",
    "    combinaisons = chemins_arbre(objets)\n",
    "    valeur_max = 0\n",
    "    # à vous de coder\n",
    "    return result\n",
    "                \n",
    "                \n",
    "trouver_solution_optimale(les_objets, 15)        "
   ]
  },
  {
   "cell_type": "markdown",
   "id": "a90eb50f-4314-4b8b-9523-e010f2d50311",
   "metadata": {},
   "source": [
    "### Génération aléatoire d'objets\n",
    "\n",
    "Générons n objets aléatoirement afin de faire des tests."
   ]
  },
  {
   "cell_type": "code",
   "execution_count": null,
   "id": "0e9688d3-421d-4d5f-a552-043981962d01",
   "metadata": {},
   "outputs": [],
   "source": [
    "try:\n",
    "    from random_word import RandomWords\n",
    "except ImportError:\n",
    "    !pip install random-word pyyaml\n",
    "\n",
    "    from random_word import RandomWords\n",
    "from random import randint\n",
    "\n",
    "def generer_objets(n, poids_max):\n",
    "    \"\"\"\n",
    "    Retourne une liste de n objets. Le poids maximum d'un objet ne peut dépasser le poids_max du sac.\n",
    "    \"\"\"\n",
    "    random_words = RandomWords()\n",
    "    return [{\"nom\":random_words.get_random_word(), \"poids\":randint(1, poids_max+1), \"valeur\":randint(1, 100)} for i in range(n)]"
   ]
  },
  {
   "cell_type": "code",
   "execution_count": null,
   "id": "34af8bc2-c33f-43a0-8000-a626204d6467",
   "metadata": {},
   "outputs": [],
   "source": [
    "n = 16\n",
    "poids_max = 20\n",
    "objets = generer_objets(n, poids_max)\n",
    "afficher_objets(objets)\n",
    "print(trouver_solution_optimale(objets, poids_max))"
   ]
  },
  {
   "cell_type": "markdown",
   "id": "19435afb-3ea6-4356-8f76-50681f1549c3",
   "metadata": {},
   "source": [
    "Nous venons de voir que la solution optimale devient longue (voire impossible) à déterminer quand le nombre d'objets augmente.\n",
    "\n",
    "<div class=\"alert alert-info\">\n",
    "\n",
    "La compléxité temporelle de la méthode par force brute est $T(n)=\\Theta(2^n)$ ce qui correspond à une complexité temporelle **exponentielle**.\n",
    "\n",
    "</div>"
   ]
  },
  {
   "cell_type": "markdown",
   "id": "367b712c-26e0-4dd0-b026-9943a560de01",
   "metadata": {},
   "source": [
    "## Algorithme glouton\n",
    "\n",
    "L'idée de l'algorithme glouton est de classer les objets par **efficacité** décroissante, puis d'ajouter les objets un par jusqu'à saturation du sac.\n",
    "\n",
    "On entend par **efficacité** le rapport $\\frac{valeur}{poids} $.\n",
    "\n",
    "Il va donc falloir trier les objets selon ce critère -> [petit rappel sur le tri](../4_Traitement_Donnees_Tables/3_tri.ipynb).\n",
    "\n",
    "A vous de jouer..."
   ]
  },
  {
   "cell_type": "code",
   "execution_count": null,
   "id": "9b7a84d1-b5c2-4859-a62a-f4e1fbb05e1a",
   "metadata": {},
   "outputs": [],
   "source": [
    "def solution_glouton(objets, poids_max):\n",
    "    pass"
   ]
  },
  {
   "cell_type": "markdown",
   "id": "0ff36daf-7b42-47d3-ac54-ad590a51e705",
   "metadata": {},
   "source": [
    "Faire des essais avec un grand nombre d'objets."
   ]
  },
  {
   "cell_type": "markdown",
   "id": "ebd38eeb-7fb5-46f7-a372-a17cee38c8af",
   "metadata": {},
   "source": [
    "La correction de la brute force :-)"
   ]
  },
  {
   "cell_type": "code",
   "execution_count": null,
   "id": "ba79e7bb-a29c-4d42-b227-75edca931e66",
   "metadata": {},
   "outputs": [],
   "source": [
    "def trouver_solution_optimale(objets, maxi):\n",
    "    result = {\"objets\":[], \"valeur\":0, \"poids\":0}\n",
    "    combinaisons = chemins_arbre(objets)\n",
    "    valeur_max = 0\n",
    "    for combinaison in combinaisons:\n",
    "        les_objets = []\n",
    "        la_valeur = 0\n",
    "        le_poids_total = 0\n",
    "        for i in range(len(combinaison)):\n",
    "            if combinaison[i]:\n",
    "                les_objets.append(objets[i]['nom'])\n",
    "                la_valeur += objets[i][\"valeur\"]\n",
    "                le_poids_total += objets[i][\"poids\"]\n",
    "                if le_poids_total>maxi:\n",
    "                    break\n",
    "        if le_poids_total <= maxi and la_valeur >= valeur_max:\n",
    "            valeur_max = la_valeur\n",
    "            result[\"objets\"] = les_objets\n",
    "            result[\"valeur\"] = la_valeur\n",
    "            result[\"poids\"] = le_poids_total\n",
    "    return result\n",
    "                \n",
    "                \n",
    "trouver_solution_optimale(les_objets, 15)        "
   ]
  }
 ],
 "metadata": {
  "kernelspec": {
   "display_name": "Python 3 (ipykernel)",
   "language": "python",
   "name": "python3"
  },
  "language_info": {
   "codemirror_mode": {
    "name": "ipython",
    "version": 3
   },
   "file_extension": ".py",
   "mimetype": "text/x-python",
   "name": "python",
   "nbconvert_exporter": "python",
   "pygments_lexer": "ipython3",
   "version": "3.10.6"
  }
 },
 "nbformat": 4,
 "nbformat_minor": 5
}
