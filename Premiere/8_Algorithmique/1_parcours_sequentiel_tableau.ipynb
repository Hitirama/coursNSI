{
 "cells": [
  {
   "cell_type": "markdown",
   "metadata": {},
   "source": [
    "[Retour au sommaire](../index.ipynb)"
   ]
  },
  {
   "cell_type": "markdown",
   "metadata": {},
   "source": [
    "# 8.1 Algorithmique : Parcours séquentiel d'un tableau\n",
    "\n",
    "## Méthode de parcours\n",
    "\n",
    "Pour parcourir un tuple ou une liste on peut utiliser:\n",
    "- les *indices* (on accède à un élément de la collection en utilisant sa position dans la collection)\n",
    "- les *éléments* de la collection (on parcourt chaque élément de la collection et non la position de l'élément)\n",
    "\n",
    "Nous allons utiliser dans ce cours la liste de tuples suivante:"
   ]
  },
  {
   "cell_type": "code",
   "execution_count": null,
   "metadata": {},
   "outputs": [],
   "source": [
    "personnes = [('Zoé',17), ('Léa',19), ('Tony',12), ('Margo',2), ('Gérard', 78), ('Julie', 3)]"
   ]
  },
  {
   "cell_type": "markdown",
   "metadata": {},
   "source": [
    "Le but est d'afficher la liste des personnes de cette façon: *Prénom* est agé de *X* ans.\n",
    "\n",
    "1) Voici tout d'abord comment le faire avec des **indices**."
   ]
  },
  {
   "cell_type": "code",
   "execution_count": null,
   "metadata": {},
   "outputs": [],
   "source": [
    "for i in range(len(personnes)): # les indices commencent à 0\n",
    "    print(f\"{personnes[i][0]} est agé de {personnes[i][1]} ans.\") # je récupère le tuple gràce à son indice i dans la liste"
   ]
  },
  {
   "cell_type": "markdown",
   "metadata": {},
   "source": [
    "2) Une solution plus lisible est d'utiliser le mot clé *in* directement sur la liste et non pas sur le range(len(personnes))."
   ]
  },
  {
   "cell_type": "code",
   "execution_count": null,
   "metadata": {},
   "outputs": [],
   "source": [
    "for personne in personnes:\n",
    "    print(f\"{personne[0]} est agé de {personne[1]} ans.\")    "
   ]
  },
  {
   "cell_type": "markdown",
   "metadata": {},
   "source": [
    "3) Dans cette solution, *personne* est un tuple de deux éléments (*prenom*, *age*).\n",
    "Une solution encore plus lisible est la suivante:"
   ]
  },
  {
   "cell_type": "code",
   "execution_count": null,
   "metadata": {},
   "outputs": [],
   "source": [
    "for prenom, age in personnes:\n",
    "    print(f\"{prenom} est agé de {age} ans.\") "
   ]
  },
  {
   "cell_type": "markdown",
   "metadata": {},
   "source": [
    "<div class=\"alert alert-info\">En règle générale, on utilise les indices uniquement si la position de l'élément dans la liste est utile dans le résultat. Dans l'exemple précédent, la position dans la liste des personnes n'est pas demandée, on privilégie donc les solutions 2 ou 3</div>"
   ]
  },
  {
   "cell_type": "markdown",
   "metadata": {},
   "source": [
    "## Calcul d'un age moyen\n",
    "\n",
    "On désire écrire une fonction *age_moyen* qui prend en paramètre une liste non vide de personnes et retourne sous forme d'un flottant l'âge moyen.\n",
    "\n",
    "Voici le pseudo-code\n",
    "```\n",
    "fonction age_moyen(liste_personnes):\n",
    "    initialiser somme à 0\n",
    "    debut bloucle sur liste_personnes\n",
    "        somme <- somme + age\n",
    "    fin boucle\n",
    "    retourner somme/nombre de personnes\n",
    "```\n",
    "\n",
    "implémenter la fonction en python."
   ]
  },
  {
   "cell_type": "code",
   "execution_count": null,
   "metadata": {},
   "outputs": [],
   "source": [
    "def age_moyen(des_personnes):\n",
    "    pass\n",
    "\n",
    "age_moyen = age_moyen(personnes)"
   ]
  },
  {
   "cell_type": "markdown",
   "metadata": {},
   "source": [
    "## Recherche d'un minimum\n",
    "\n",
    "On désire écrire une fonction *age_mini* qui prend en paramètre une liste non vide de personnes et retourne l'âge minimum.\n",
    "\n",
    "Voici le pseudo-code\n",
    "```\n",
    "fonction age_mini(liste_personnes):\n",
    "    initialiser age_mini au premier age de la liste\n",
    "    debut bloucle sur liste_personnes\n",
    "        si age  < age_mini\n",
    "        alors age_mini <- age\n",
    "        fin de si\n",
    "    fin boucle\n",
    "    retourner age_mini\n",
    "```\n",
    "\n",
    "implémenter la fonction en python."
   ]
  },
  {
   "cell_type": "code",
   "execution_count": null,
   "metadata": {},
   "outputs": [],
   "source": [
    "def age_mini(des_personnes):\n",
    "    pass\n",
    "\n",
    "age_mini = age_mini(personnes)"
   ]
  },
  {
   "cell_type": "markdown",
   "metadata": {},
   "source": [
    "## Recherche d'un maximum\n",
    "\n",
    "implémenter la fonction en python."
   ]
  },
  {
   "cell_type": "code",
   "execution_count": null,
   "metadata": {},
   "outputs": [],
   "source": []
  },
  {
   "cell_type": "markdown",
   "metadata": {},
   "source": [
    "## Exemple d'utilisation de compteur\n",
    "\n",
    "créer une fonction *compte_bebes* qui retourne le nombre de personnes qui ont 3 ans ou moins.\n"
   ]
  },
  {
   "cell_type": "code",
   "execution_count": null,
   "metadata": {},
   "outputs": [],
   "source": []
  },
  {
   "cell_type": "markdown",
   "metadata": {},
   "source": [
    "## Recherche d'un élement dans une liste\n",
    "\n",
    "Nous allons étudier comment trouver l'appartenance d'un élément à une liste.\n",
    "Commençons par créer une liste aléatoire de mots:"
   ]
  },
  {
   "cell_type": "code",
   "execution_count": null,
   "metadata": {},
   "outputs": [],
   "source": [
    "import random\n",
    "import string\n",
    "lettres = string.ascii_lowercase\n",
    "\n",
    "def create_mots(N, l=3):\n",
    "    \"\"\"Renvoie une liste de N mots ayant l lettres\"\"\"\n",
    "    L = []\n",
    "    # on rend le générateur prédictible en imposant une graine fixe\n",
    "    random.seed(1664)\n",
    "    for i in range(N):\n",
    "        mot = ''.join(random.choice(lettres) for i in range(l))\n",
    "        L.append(mot)\n",
    "    return L\n",
    "mots = create_mots(20, 5)\n",
    "print(mots)"
   ]
  },
  {
   "cell_type": "markdown",
   "metadata": {},
   "source": [
    "Ecrire une fonction *recherche* dont voici la spécification:"
   ]
  },
  {
   "cell_type": "code",
   "execution_count": null,
   "metadata": {},
   "outputs": [],
   "source": [
    "def recherche(liste, cherche):\n",
    "    \"\"\"Fonction de recherche de l'élément dans la liste\n",
    "\n",
    "    Arguments\n",
    "    ---------\n",
    "    l: liste\n",
    "        la liste dans laquelle on cherche\n",
    "    e: str\n",
    "        l'élément cherché\n",
    "    Retourne\n",
    "    --------\n",
    "    int \n",
    "       l'indice de l'élément si trouvé -1  sinon\n",
    "    \"\"\"\n",
    "    pass\n",
    "\n",
    "print(recherche(mots, \"jwayrd\"))\n",
    "print(recherche(mots, \"jwayr\"))"
   ]
  },
  {
   "cell_type": "markdown",
   "metadata": {},
   "source": [
    "### notion de complexité\n",
    "\n",
    "Cette méthode a l'avantage d'être simple, et fonctionne. Cependant si le tableau est long l'algorithme devient très long. Il faut dans le pire des cas(si l'élément cherché est à la fin ou n'est pas trouvé) parcourir toute la liste.\n",
    "\n",
    "Comment calculer le coût d'un algorithme ?\n",
    "\n",
    "Dans cet exemple plusieurs cas de figure peuvent se produire:\n",
    "- le mot recherché est au début\n",
    "- le mot recherché est absent\n",
    "- le mot recherché est tout à la fin\n",
    "\n",
    "En fonction des conditions, le coût sera différent.\n",
    "\n",
    "**La règle est de se placer dans le pire des cas.** Ici un mot absent ou tout à la fin.\n",
    "\n",
    "Si le mot est absent ou tout à la fin, dans une liste de n élément il faudra donc effectuer n comparaisons.\n",
    "\n",
    "On dit dans ce cas que le **coût de l'algorithme est linéaire** ou que c'est un **algorithme de complexité n**.\n",
    "\n",
    "### vérification\n",
    "\n",
    "Nous allons créer une mesure de benchmark en utiliser la librairie [timeit](https://docs.python.org/3/library/timeit.html)"
   ]
  },
  {
   "cell_type": "code",
   "execution_count": null,
   "metadata": {},
   "outputs": [],
   "source": [
    "import timeit\n",
    "mots = create_mots(10000, 5)\n",
    "print(timeit.timeit(\"recherche(mots, mots[-1])\", globals=globals(), number=100))\n",
    "mots = create_mots(20000, 5)\n",
    "print(timeit.timeit(\"recherche(mots, mots[-1])\", globals=globals(), number=100))\n",
    "mots = create_mots(30000, 5)\n",
    "print(timeit.timeit(\"recherche(mots, mots[-1])\", globals=globals(), number=100))\n"
   ]
  },
  {
   "cell_type": "markdown",
   "metadata": {},
   "source": [
    "### Mise sous forme graphique\n",
    "\n",
    "Afin de vérifier graphiquement que la complexite est linéaire, créer une fonction construit_graphique() qui va tester le temps effectué pour une recherche de mot en dernière position pour  des listes de 10000, 20000, 30000, ....100000 mots.\n",
    "\n",
    "Voici un exemple simple de génération d'un graphique."
   ]
  },
  {
   "cell_type": "code",
   "execution_count": null,
   "metadata": {},
   "outputs": [],
   "source": [
    "import matplotlib.pyplot as plt\n",
    "\n",
    "datas = [(1,1),(2,4),(3,9),(4,16), (5,25), (6,36)]\n",
    "abscisses = [d[0] for d in datas]\n",
    "ordonnees = [d[1] for d in datas]\n",
    "plt.scatter(abscisses,ordonnees)\n",
    "\n",
    "plt.title('Nuage de points avec Matplotlib')\n",
    "plt.xlabel('x')\n",
    "plt.ylabel('y')\n",
    "\n",
    "plt.savefig('ScatterPlot_01.png')\n",
    "plt.show()"
   ]
  },
  {
   "cell_type": "markdown",
   "metadata": {},
   "source": [
    "[Retour au sommaire](../index.ipynb)"
   ]
  }
 ],
 "metadata": {
  "kernelspec": {
   "display_name": "Python 3 (ipykernel)",
   "language": "python",
   "name": "python3"
  },
  "language_info": {
   "codemirror_mode": {
    "name": "ipython",
    "version": 3
   },
   "file_extension": ".py",
   "mimetype": "text/x-python",
   "name": "python",
   "nbconvert_exporter": "python",
   "pygments_lexer": "ipython3",
   "version": "3.10.12"
  }
 },
 "nbformat": 4,
 "nbformat_minor": 4
}
