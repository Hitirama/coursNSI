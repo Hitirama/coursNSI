{
 "cells": [
  {
   "cell_type": "markdown",
   "id": "bf55b77c-c2e7-46ae-a3f1-8c7c0fb288e9",
   "metadata": {},
   "source": [
    "[Accueil](../../index.ipynb) > [Sommaire Première](../index.ipynb)"
   ]
  },
  {
   "cell_type": "markdown",
   "id": "04d87f04-bc89-431a-a7ab-f036e10ffd78",
   "metadata": {},
   "source": [
    "# 5.5 TP système solaire\n",
    "\n",
    "Le but de ce TP est de construire un petit site web qui va présenter l'ensemble des planètes de notre système solaire.\n",
    "\n",
    "Afin de le réaliser nous allons utiliser un framework web écrit en Python qui se nomme [Flask](https://flask.palletsprojects.com/en/2.3.x/)."
   ]
  },
  {
   "cell_type": "markdown",
   "id": "209c6d2f-9f4a-441e-931c-0f24d8a43b7c",
   "metadata": {},
   "source": [
    "## Mise en place\n",
    "\n",
    "- Créez un python virtuel que vous nommerez *flask*.\n",
    "- Allez sur https://github.com/saintlouis29/simple_web et faites un fork de ce projet.\n",
    "- Depuis le terminal, clonez votre dépôt \"forké\" sur votre ordinateur (dans *projets* par exemple)\n",
    "- Depuis le terminal, allez dans le dossier cloné et lancez la commande *python3 setup.py develop*\n",
    "- Allez sur votre IDE (Codium par exemple) et selectionnez le python virtuel précedemment créé.\n",
    "- Ouvrir le fichier app.py\n",
    "- Executez le fichier\n",
    "- Allez sur http://localhost:5000\n",
    "\n",
    "Si tout c'est passé vous devriez voir *Hello World !*."
   ]
  },
  {
   "cell_type": "markdown",
   "id": "9a78bea3-c9b7-4b40-b2d5-a60cf210e142",
   "metadata": {},
   "source": [
    "## Observations des paquets http sur Wireshark\n",
    "\n",
    "- Lancez le programme Wireshark\n",
    "\n",
    "Le but est d'écouter sur l'interface  loopback (c'est à dire uniquement le réseau interne de votre machine) et de se limiter au protocole http sur le port 5000.\n",
    "\n",
    "- Allez dans Capture > Options et selectionnez uniquement l'interface loopback\n",
    "- Dans la partie filtre, ajoutez *tcp.port == 5000 and http* et appliquez ce filtre\n",
    "\n",
    "Si tout s'est bien passé, si vous faite une requête sur http://localhost:5000, wireshark devrait capture la requête du navigateur et la réponse du serveur web.\n",
    "\n",
    "**Observer le contenu des paquets html**"
   ]
  },
  {
   "cell_type": "markdown",
   "id": "eccca196-8f04-4136-86c9-36631250a2ec",
   "metadata": {},
   "source": [
    "## utilisation des templates de Flask\n",
    "\n",
    "Il serait très fastidieux et peu pratique de coder le html de notre page directement dans le fichier app.py.\n",
    "\n",
    "Flask possède un système de *templates* qui permet de coder le html dans des fichiers séparés.\n",
    "\n",
    "- Créez un dossier *templates* (il doit se nommer ainsi)\n",
    "- Dans ce dossier, créez un fichier index.html\n",
    "- Copiez-collez le code suivant dans votre fichier app.py\n",
    "\n",
    "```python\n",
    "from flask import Flask, render_template\n",
    "app = Flask(__name__)\n",
    "\n",
    "@app.route(\"/\")\n",
    "def accueil():\n",
    "    return render_template(\"index.html\")\n",
    "\n",
    "# en mode debug, le serveur raffraichit automatiquement les modifications apportées au code\n",
    "app.run(debug=True)\n",
    "\n",
    "```\n",
    "\n",
    "- Copiez-collez le code html suivant dans le fichier index.html\n",
    "\n",
    "```html\n",
    "<!DOCTYPE html>\n",
    "<html lang=\"fr\">\n",
    "  <head>\n",
    "    <meta charset=\"utf-8\" />\n",
    "    <meta http-equiv=\"X-UA-Compatible\" content=\"IE=edge\" />\n",
    "    <title>Le TP web</title>\n",
    "    <meta name=\"viewport\" content=\"width=device-width, initial-scale=1\" />\n",
    "  </head>\n",
    "  <body>\n",
    "    <h1>Application sur le système solaire</h1>\n",
    "    <p>Voici une petite application sur le système solaire.</p>\n",
    "\n",
    "    <p>Les 3 planètes du système solaire sont :</p>\n",
    "    <ol>\n",
    "      <li>Mercure</li>\n",
    "      <li>Venus</li>\n",
    "      <li>Earth</li>\n",
    "    </ol>\n",
    "  </body>\n",
    "</html>\n",
    "\n",
    "```\n",
    "Vous deviez obtenir quelque chose comme cela:\n",
    "\n",
    "![Capture1](img/Screenshot_TP_web1.png)\n",
    "\n",
    "**Explications:**\n",
    "\n",
    "La fonction *render_template* permet de générer le fichier index.html lorsque la racine '/' du site est demandée."
   ]
  },
  {
   "cell_type": "code",
   "execution_count": null,
   "id": "f290bc32-2bf0-4d92-91a9-3b1071bbcdd9",
   "metadata": {},
   "outputs": [],
   "source": []
  }
 ],
 "metadata": {
  "kernelspec": {
   "display_name": "Python 3 (ipykernel)",
   "language": "python",
   "name": "python3"
  },
  "language_info": {
   "codemirror_mode": {
    "name": "ipython",
    "version": 3
   },
   "file_extension": ".py",
   "mimetype": "text/x-python",
   "name": "python",
   "nbconvert_exporter": "python",
   "pygments_lexer": "ipython3",
   "version": "3.10.6"
  }
 },
 "nbformat": 4,
 "nbformat_minor": 5
}
