{
 "cells": [
  {
   "cell_type": "markdown",
   "id": "2a2994e6-fd10-465f-a8da-e7e719f22fd4",
   "metadata": {},
   "source": [
    "[Accueil](../../index.ipynb) > [Sommaire Première](../index.ipynb)"
   ]
  },
  {
   "cell_type": "markdown",
   "id": "3ee2c531-7008-48c6-97d7-d97b4126a268",
   "metadata": {},
   "source": [
    "# 5.5 Le Web, côté serveur"
   ]
  },
  {
   "cell_type": "markdown",
   "id": "c34b3227-e47d-48a0-ba2e-2a0b96cd02f0",
   "metadata": {},
   "source": [
    "[TP système solaire](tp_systeme_solaire.ipynb)"
   ]
  },
  {
   "cell_type": "code",
   "execution_count": null,
   "id": "0523b63a-7d2b-4f1f-ac44-bb7abed335bf",
   "metadata": {},
   "outputs": [],
   "source": []
  }
 ],
 "metadata": {
  "kernelspec": {
   "display_name": "Python 3 (ipykernel)",
   "language": "python",
   "name": "python3"
  },
  "language_info": {
   "codemirror_mode": {
    "name": "ipython",
    "version": 3
   },
   "file_extension": ".py",
   "mimetype": "text/x-python",
   "name": "python",
   "nbconvert_exporter": "python",
   "pygments_lexer": "ipython3",
   "version": "3.10.12"
  }
 },
 "nbformat": 4,
 "nbformat_minor": 5
}
