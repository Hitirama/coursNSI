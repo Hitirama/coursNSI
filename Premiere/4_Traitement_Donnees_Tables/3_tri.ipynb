{
 "cells": [
  {
   "cell_type": "markdown",
   "metadata": {},
   "source": [
    "[Retour au sommaire](../index.ipynb)"
   ]
  },
  {
   "cell_type": "markdown",
   "metadata": {},
   "source": [
    "# Traitement de données en tables : tri"
   ]
  },
  {
   "cell_type": "markdown",
   "metadata": {},
   "source": [
    "Cette année nous avons implémenté en Python deux types d'algorithmes de tri:\n",
    "- Le [tri par selection](../8_Algorithmique/2_tri_insertion_selection.ipynb#tri_selection)\n",
    "- Le [tri par insertion](../8_Algorithmique/2_tri_insertion_selection.ipynb#tri_insertion)\n",
    "\n",
    "Python possède évidemment sa propre implémentation native du tri. (Il en existe d'ailleurs plusieurs) "
   ]
  },
  {
   "cell_type": "markdown",
   "metadata": {},
   "source": [
    "## La méthode *sort* pour les listes\n",
    "\n",
    "Les listes possèdent leur propre méthode *sort* qui modifie directement la liste, on appelle cela un tri en place (in place)."
   ]
  },
  {
   "cell_type": "code",
   "execution_count": null,
   "metadata": {},
   "outputs": [],
   "source": [
    "liste = [8,6,4,2,0,7,5,3,1]\n",
    "liste.sort()\n",
    "liste"
   ]
  },
  {
   "cell_type": "code",
   "execution_count": null,
   "metadata": {},
   "outputs": [],
   "source": [
    "liste.sort(reverse=True)\n",
    "liste"
   ]
  },
  {
   "cell_type": "code",
   "execution_count": null,
   "metadata": {},
   "outputs": [],
   "source": [
    "help(liste.sort)"
   ]
  },
  {
   "cell_type": "markdown",
   "metadata": {},
   "source": [
    "Il est également possible de définir sa propre fonction de tri."
   ]
  },
  {
   "cell_type": "code",
   "execution_count": null,
   "metadata": {},
   "outputs": [],
   "source": [
    "# take second element for sort\n",
    "def takeSecond(elem):\n",
    "    return elem[1]\n",
    "\n",
    "ma_liste = [(2, 2), (3, 4), (4, 1), (1, 3), (2, 3)]\n",
    "\n",
    "# sort list with key\n",
    "ma_liste.sort(key=takeSecond)\n",
    "\n",
    "# print list\n",
    "print('Sorted list:', ma_liste)"
   ]
  },
  {
   "cell_type": "markdown",
   "metadata": {},
   "source": [
    "## La fonction sorted\n",
    "\n",
    "Cette fonction, contrairement à la méthode *sort* qui s'applique uniquement aux listes, permet de tri tout type d'itérable:\n",
    "\n",
    "- liste\n",
    "- tuple\n",
    "- chaîne\n",
    "- dictionnaire\n",
    "- ...\n",
    "\n",
    "Contrairement à la méthode *sort*, cette fonction renvoie un nouvel itérable et **n'affecte pas l'itérable d'origine**.\n",
    "\n",
    "Voici sa syntaxe\n",
    "\n",
    "```\n",
    "Syntaxe: sorted (iterable, key, reverse = False)\n",
    "\n",
    "Paramètres:\n",
    "Iterable: séquence (liste, tuple, chaîne) ou collection (dictionnaire, ensemble, frozenset) ou tout autre itérateur à trier.\n",
    "Clé (facultatif): une fonction qui servirait de clé ou de base de comparaison de tri.\n",
    "Inverser (facultatif): Si défini sur True, l’itérable serait trié dans l’ordre inverse (décroissant), par défaut, il est défini sur False.\n",
    "\n",
    "Type de retour : renvoie une liste triée.\n",
    "```\n",
    "\n",
    "### Un tri simple\n",
    "\n",
    "Commençons simplement avec une **liste de mots**."
   ]
  },
  {
   "cell_type": "code",
   "execution_count": null,
   "metadata": {},
   "outputs": [],
   "source": [
    "phrase = \"Bonjour comment allez vous ?\"\n",
    "mots = phrase.split(' ')\n",
    "mots_tries = sorted(mots)\n",
    "mots_tries"
   ]
  },
  {
   "cell_type": "code",
   "execution_count": null,
   "metadata": {},
   "outputs": [],
   "source": [
    "mots # La liste d'origine est conservée."
   ]
  },
  {
   "cell_type": "markdown",
   "metadata": {},
   "source": [
    "Cette fonction s'applique également aux **clés de dictionnaires**."
   ]
  },
  {
   "cell_type": "code",
   "execution_count": null,
   "metadata": {},
   "outputs": [],
   "source": [
    "dico = {26:'Z',4:'D', 1:'A', 3:'C'}\n",
    "sorted(dico)"
   ]
  },
  {
   "cell_type": "markdown",
   "metadata": {},
   "source": [
    "### Un tri qui utilise une clef\n",
    "\n",
    "Le paramètre *key* permet de préciser une fonction qui peut être appelée sur chacun des éléments de l'itérable.\n"
   ]
  },
  {
   "cell_type": "code",
   "execution_count": null,
   "metadata": {},
   "outputs": [],
   "source": [
    "lettres = ('a','E', 'i', 'o', 'U', 'y') # ici on utilise un tuple\n",
    "lettres_triees1 = sorted(lettres) # Les lettres majuscules précèdent les lettres minuscules\n",
    "lettres_triees1"
   ]
  },
  {
   "cell_type": "code",
   "execution_count": null,
   "metadata": {},
   "outputs": [],
   "source": [
    "lettres_triees2 = sorted(lettres, key = str.lower) # Ici on précise que la fonction lower (minuscule) est prise en compte\n",
    "lettres_triees2"
   ]
  },
  {
   "cell_type": "markdown",
   "metadata": {},
   "source": [
    "Il est également possible de trier selon **nos propres fonctions**.\n",
    "\n",
    "Voici une liste de personnes décrites par :\n",
    "- prénom\n",
    "- taille (en mètre)\n",
    "- masse (en kilo)\n",
    "\n",
    "Le but est de les trier par ordre croissant de leur IMC.\n",
    "\n",
    "$IMC=\\frac{masse}{taille^2}$"
   ]
  },
  {
   "cell_type": "code",
   "execution_count": null,
   "metadata": {},
   "outputs": [],
   "source": [
    "personnes = (\n",
    "    ('Régis', 1.82, 82),\n",
    "    ('Mathilde', 1.70, 64),\n",
    "    ('Robert', 1.65, 92),\n",
    "    ('Gaston', 1.90, 58),\n",
    "    ('Maurice', 1.75, 75)\n",
    ")"
   ]
  },
  {
   "cell_type": "code",
   "execution_count": null,
   "metadata": {},
   "outputs": [],
   "source": [
    "def imc(personne):\n",
    "    return personne[2]/personne[1]**2\n",
    "\n",
    "sorted(personnes, key=imc)"
   ]
  },
  {
   "cell_type": "markdown",
   "metadata": {},
   "source": [
    "De même pour une liste de dictionnaires"
   ]
  },
  {
   "cell_type": "code",
   "execution_count": null,
   "metadata": {},
   "outputs": [],
   "source": [
    "personnes2 = [\n",
    "    {'nom':'Kevin', 'taille':1.85, 'masse':82},\n",
    "    {'nom':'Rolland','taille':1.70, 'masse':64},\n",
    "    {'nom':'Marcel', 'taille':1.70, 'masse':92},\n",
    "    {'nom':'Gertrude', 'taille':1.50, 'masse':122},\n",
    "    {'nom':'Barnabé', 'taille':1.70, 'masse':75}\n",
    "]\n",
    "def imc2(personne):\n",
    "    return personne['masse']/personne['taille']**2\n",
    "\n",
    "sorted(personnes2, key=imc2)"
   ]
  },
  {
   "cell_type": "markdown",
   "metadata": {},
   "source": [
    "Puis dans l'ordre inverse avec le paramètre *reverse* qui vaut True."
   ]
  },
  {
   "cell_type": "code",
   "execution_count": null,
   "metadata": {},
   "outputs": [],
   "source": [
    "# Nous allons trier par classe puis par age, le tout dans l'ordre inverse\n",
    "sorted(personnes2, key=imc2, reverse = True)"
   ]
  },
  {
   "cell_type": "markdown",
   "metadata": {},
   "source": [
    "Il y a possibilité de trier par taille puis par poids."
   ]
  },
  {
   "cell_type": "code",
   "execution_count": null,
   "metadata": {},
   "outputs": [],
   "source": [
    "def taille_puis_poids(personne):\n",
    "    return (personne['taille'], personne['masse'])\n",
    "\n",
    "sorted(personnes2, key=taille_puis_poids)"
   ]
  },
  {
   "cell_type": "markdown",
   "metadata": {},
   "source": [
    "[la documentation](https://docs.python.org/fr/3/howto/sorting.html) est là."
   ]
  },
  {
   "cell_type": "markdown",
   "metadata": {},
   "source": [
    "## Application aux données issues d'un fichier csv\n",
    "\n",
    "Dans le chapitre précédent nous avons vu comment **chercher et filtrer** nos données.\n",
    "Il est également important de savoir **trier nos données**.\n",
    "\n",
    "### En utilisant la fonction *sorted* de Python\n",
    "\n",
    " - Trier les collèges par nom de commune puis par nom d'établissement.\n",
    " - Trier les collèges par nom de commune puis par statut."
   ]
  },
  {
   "cell_type": "markdown",
   "metadata": {},
   "source": [
    "### En utilisant la librairie *[pandas](https://pandas.pydata.org/)*\n",
    "\n",
    "La librairie pandas possède ses [propres méthodes de tri](https://pandas.pydata.org/docs/reference/api/pandas.DataFrame.sort_values.html)."
   ]
  },
  {
   "cell_type": "code",
   "execution_count": null,
   "metadata": {},
   "outputs": [],
   "source": [
    "import pandas as pd\n",
    "colleges = pd.read_csv(\"https://www.data.gouv.fr/fr/datasets/r/a1075259-09ca-4c22-9e35-b2cd6bbf5c36\", delimiter=';')\n",
    "colleges.sort_values(by='nom_et')"
   ]
  },
  {
   "cell_type": "markdown",
   "metadata": {},
   "source": [
    "<div class=\"alert alert-info\">Faire les tris demandés en csv avec la librairie pandas.</div>"
   ]
  },
  {
   "cell_type": "markdown",
   "metadata": {},
   "source": [
    "Vous pouvez continuer le [TP](TP1_bib_csv.ipynb), partie *Tri*."
   ]
  },
  {
   "cell_type": "markdown",
   "metadata": {
    "tags": []
   },
   "source": [
    "<table style=\"width:100%\">\n",
    "    <tr>\n",
    "        <td style=\"text-align:left;\"><a href=\"2_recherche.ipynb\"><< 2. Rechercher des données</a></td>\n",
    "        <td style=\"text-align:right;\"><a href=\"4_fusion.ipynb\">4. Fusionner des tables >></a></td>\n",
    "    </tr>\n",
    "</table>"
   ]
  },
  {
   "cell_type": "markdown",
   "metadata": {},
   "source": [
    "[Retour au sommaire](../index.ipynb)"
   ]
  }
 ],
 "metadata": {
  "kernelspec": {
   "display_name": "Python 3 (ipykernel)",
   "language": "python",
   "name": "python3"
  },
  "language_info": {
   "codemirror_mode": {
    "name": "ipython",
    "version": 3
   },
   "file_extension": ".py",
   "mimetype": "text/x-python",
   "name": "python",
   "nbconvert_exporter": "python",
   "pygments_lexer": "ipython3",
   "version": "3.10.6"
  },
  "toc-autonumbering": true,
  "toc-showcode": false,
  "toc-showmarkdowntxt": false
 },
 "nbformat": 4,
 "nbformat_minor": 4
}
