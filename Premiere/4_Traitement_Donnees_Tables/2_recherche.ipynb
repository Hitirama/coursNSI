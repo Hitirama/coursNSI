{
 "cells": [
  {
   "cell_type": "markdown",
   "metadata": {},
   "source": [
    "[Retour au sommaire](../index.ipynb)"
   ]
  },
  {
   "cell_type": "markdown",
   "metadata": {},
   "source": [
    "# Traitement de données en tables : recherche\n",
    "\n",
    "Les données issues d'un fichier csv ne sont pas forcément exploitables immédiatement.\n",
    "\n",
    "Plusieurs étapes sont parfois nécessaires avant de pouvoir les utiliser.\n",
    "\n"
   ]
  },
  {
   "cell_type": "markdown",
   "metadata": {},
   "source": [
    "## Type des données\n",
    "\n",
    "Les données issues de la lecture d'un fichier CSV sont converties en chaînes de caractère (string), or certaines données peuvent avoir des types particuliers :\n",
    "- entier\n",
    "- flottant\n",
    "- ...\n",
    "\n",
    "Il est donc utile de convertir ces données dans le bon type (transtypage)\n",
    "\n",
    "**Exemple en Python:**"
   ]
  },
  {
   "cell_type": "code",
   "execution_count": null,
   "metadata": {},
   "outputs": [],
   "source": [
    "data = '123'\n",
    "print(f\"Le type de {data} est {type(data)}\")\n",
    "data = int(data) # on change le type\n",
    "print(f\"Le type de {data} est dorénavant {type(data)}\")"
   ]
  },
  {
   "cell_type": "markdown",
   "metadata": {},
   "source": [
    "## Présence de doublons\n",
    "\n",
    "Les données sont parfois mal saisies, une recherche de doublons est possible et doit s'appuyer sur la définition exacte d'un doublon dans les données:\n",
    "- est considéré comme doublon 2 lignes totalement identiques?\n",
    "- est considéré comme doublon 2 lignes qui ont plusieurs champs identiques?\n",
    "\n",
    "Les mesures à appliquer en cas de découverte de doublons doivent également être clairement définies."
   ]
  },
  {
   "cell_type": "markdown",
   "metadata": {},
   "source": [
    "## Cohérence des données\n",
    "\n",
    "- Les données d'une colonne doivent toutes être du même type (string, integer, float...)\n",
    "- Des tests complémentaires peuvent égalmement être effectués (validité d'un mail par exemple)\n",
    "- Que faire en cas d'absence de données ?"
   ]
  },
  {
   "cell_type": "markdown",
   "metadata": {},
   "source": [
    "## Recherche de données\n",
    "\n",
    "L'utilité principale d'un traitement de données et de **rechercher** (filtrer) uniquement certaines valeurs parmis la multitude de données présentes.\n",
    "\n",
    "De nombreux types de filtres existent:\n",
    "\n",
    "### Filtre par lignes\n",
    "\n",
    "- On peut filtrer les lignes par valeur : Afficher tous les collèges dont la ville est CHATEAULIN.\n",
    "- On peut filtrer par intervales :  Afficher tous les collèges dont le code postal est compris entre 29200 et 29299 (d'où l'intérêt d'avoir bien typer les données)\n",
    "- On peut combiner plusieurs filtres avec des OU ou des ET...\n",
    "\n",
    "### Filtre par colonnes\n",
    "\n",
    "Certaines colonnes ne sont pas forcément utiles, il est donc possible d'afficher uniquement une partie des colonnes.\n",
    "\n",
    "## TP\n",
    "Vous pouvez commencer le [TP](TP1_bib_csv.ipynb)."
   ]
  },
  {
   "cell_type": "markdown",
   "metadata": {},
   "source": [
    "<table style=\"width:100%\">\n",
    "    <tr>\n",
    "        <td style=\"text-align:left;\"><a href=\"1_indexation_tables.ipynb\">1. Indexer des données</a></td>\n",
    "        <td style=\"text-align:right;\"><a href=\"3_tri.ipynb\">3. Trier des données ></a></td>\n",
    "    </tr>\n",
    "</table>"
   ]
  },
  {
   "cell_type": "markdown",
   "metadata": {},
   "source": [
    "[Retour au sommaire](../index.ipynb)"
   ]
  }
 ],
 "metadata": {
  "kernelspec": {
   "display_name": "Python 3 (ipykernel)",
   "language": "python",
   "name": "python3"
  },
  "language_info": {
   "codemirror_mode": {
    "name": "ipython",
    "version": 3
   },
   "file_extension": ".py",
   "mimetype": "text/x-python",
   "name": "python",
   "nbconvert_exporter": "python",
   "pygments_lexer": "ipython3",
   "version": "3.10.6"
  },
  "toc": {
   "base_numbering": 1,
   "nav_menu": {},
   "number_sections": true,
   "sideBar": true,
   "skip_h1_title": false,
   "title_cell": "Table of Contents",
   "title_sidebar": "Contents",
   "toc_cell": false,
   "toc_position": {},
   "toc_section_display": true,
   "toc_window_display": true
  }
 },
 "nbformat": 4,
 "nbformat_minor": 4
}
