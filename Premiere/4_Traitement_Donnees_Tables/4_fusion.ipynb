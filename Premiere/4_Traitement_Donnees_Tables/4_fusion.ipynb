{
 "cells": [
  {
   "cell_type": "markdown",
   "metadata": {},
   "source": [
    "[Retour au sommaire](../index.ipynb)"
   ]
  },
  {
   "cell_type": "markdown",
   "metadata": {},
   "source": [
    "# Traitement de données en tables : fusion\n",
    "\n",
    "Nous avons étudié comment filtrer selon les colonnes ou les lignes, mais parfois il est essentiel de **fusionner** plusieurs données.\n",
    "\n",
    "Quand données se trouvent dans deux tables différentes, il parfois nécessaire de fusionner ces tables."
   ]
  },
  {
   "cell_type": "markdown",
   "metadata": {},
   "source": [
    "**Exemple**:\n",
    "    \n",
    "- La société *face de bouc* possède des données sur ses abonnés (email, age)\n",
    "- La société *tic et toc* possède des données sur ses abonnés (email, poids, taille)\n",
    "- La société *face de bouc* a racheté la société *tic et toc* et aimerait donc fusionner les données de ses abonnés.\n",
    "\n",
    "Nous allons utiliser la librairie pandas pour illustrer ce qu'est une fusion ( *merge* )."
   ]
  },
  {
   "cell_type": "markdown",
   "metadata": {},
   "source": [
    "## Fusion avec pandas\n",
    "\n",
    "Nous allons fusionner deux tables : celle des **abonnés de face de bouc** (left) avec celle des **abonnés de tic et toc** (right) .\n",
    "\n",
    "Il existe 4 types de fusion possibles.\n",
    "\n",
    "- inner\n",
    "- outer\n",
    "- left\n",
    "- right\n",
    "\n",
    "![](img/merge.png)"
   ]
  },
  {
   "cell_type": "code",
   "execution_count": null,
   "metadata": {},
   "outputs": [],
   "source": [
    "import pandas as pd\n",
    "\n",
    "face_de_bouc = pd.DataFrame(\n",
    "    {\n",
    "        \"email\": [\"tata@gmail.com\", \"tete@mail.com\", \"titi@mail.org\"],\n",
    "        \"age\": [25, 16, 42],\n",
    "    }\n",
    ")\n",
    "face_de_bouc"
   ]
  },
  {
   "cell_type": "code",
   "execution_count": null,
   "metadata": {},
   "outputs": [],
   "source": [
    "tic_et_toc = pd.DataFrame(\n",
    "    {\n",
    "        \"email\": [\"tata@gmail.com\", \"tete@mail.com\", \"toto@mail.org\"],\n",
    "        \"poids\": [65, 72, 84],\n",
    "        \"taille\": [156, 172, 182],\n",
    "    }\n",
    ")\n",
    "tic_et_toc"
   ]
  },
  {
   "cell_type": "code",
   "execution_count": null,
   "metadata": {},
   "outputs": [],
   "source": [
    "fusion = face_de_bouc.merge(tic_et_toc, on=['email'], how='left')\n",
    "fusion"
   ]
  },
  {
   "cell_type": "markdown",
   "metadata": {},
   "source": [
    "**A faire**:\n",
    "\n",
    "Essayer les 4 types de fusion possibles et comprendre leur fonctionnement.\n",
    "\n",
    "<div class=\"alert alert-info\"><i>NaN</i> signifie <b>N</b>ot <b>a</b> <b>N</b>umber et est utilisé pour indiquer que les données sont manquantes.</div>\n",
    "    "
   ]
  },
  {
   "cell_type": "markdown",
   "metadata": {},
   "source": [
    "Vous pouvez continuer le [TP](TP1_bib_csv.ipynb#fusion), partie *Fusion*."
   ]
  },
  {
   "cell_type": "markdown",
   "metadata": {},
   "source": [
    "<table style=\"width:100%\">\n",
    "    <tr>\n",
    "        <td style=\"text-align:left;\"><a href=\"3_tri.ipynb\"><< 3. Tri des données</a></td>\n",
    "        <td style=\"text-align:right;\"></td>\n",
    "    </tr>\n",
    "</table>"
   ]
  },
  {
   "cell_type": "markdown",
   "metadata": {},
   "source": [
    "[Retour au sommaire](../index.ipynb)"
   ]
  }
 ],
 "metadata": {
  "kernelspec": {
   "display_name": "Python 3 (ipykernel)",
   "language": "python",
   "name": "python3"
  },
  "language_info": {
   "codemirror_mode": {
    "name": "ipython",
    "version": 3
   },
   "file_extension": ".py",
   "mimetype": "text/x-python",
   "name": "python",
   "nbconvert_exporter": "python",
   "pygments_lexer": "ipython3",
   "version": "3.10.12"
  },
  "toc-autonumbering": true,
  "toc-showcode": false,
  "toc-showmarkdowntxt": false,
  "toc-showtags": true
 },
 "nbformat": 4,
 "nbformat_minor": 4
}
