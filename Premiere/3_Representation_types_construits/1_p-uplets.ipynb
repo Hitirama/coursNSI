{
 "cells": [
  {
   "cell_type": "markdown",
   "metadata": {},
   "source": [
    "[Retour au sommaire](../index.ipynb)"
   ]
  },
  {
   "cell_type": "markdown",
   "metadata": {},
   "source": [
    "# 3.1 Types constuits : les p-uplets et les p-uplets nommés\n",
    "\n",
    "Ce cours porte sur 2 types de **séquences non mutables** que sont :\n",
    "\n",
    "- [Les p-uplets (tuples)](#p-uplets)\n",
    "- [Les p-uplets nommés (tuples nommés)](#p-uplets_nommes)"
   ]
  },
  {
   "cell_type": "markdown",
   "metadata": {},
   "source": [
    "## TPs en relation:\n",
    "\n",
    "- [TP élèves NSI](TPs/tp_eleves_nsi.ipynb)"
   ]
  },
  {
   "cell_type": "markdown",
   "metadata": {},
   "source": [
    "<a id='p-uplets'></a>\n",
    "## 3.1.1 Les p-uplets\n",
    "Un **p-uplet** est un terme que l'on trouve en mathématiques mais également en informatique.\n",
    "\n",
    "- En Mathématiques, un p-uplet est un arrangement ordonné de p éléments parmi un ensemble de n éléments. Exemple (a, j, l, r) est un quadruplet de l'ensemble des lettres de l'alphabet.\n",
    "- En Informatique, un p-uplet est une séquence ordonnée d'éléments qui peuvent être chacun de types différents.\n",
    "\n",
    "Dans la suite du cours nous préférerons la dénomination **tuple** car c'est celle utilisée en Python.\n",
    "\n",
    "<div class = \"alert alert-info\">\n",
    "    Une fois le tuple créé, ses valeurs ne peuvent plus être changées : on dit que le tuple est <b>non mutable</b>.\n",
    "</div>\n",
    "\n",
    "### Création d'un tuple\n",
    "Voici la façon de créer un **tuple vide** : on utilise un couple de parenthèses ouvrante puis fermante."
   ]
  },
  {
   "cell_type": "code",
   "execution_count": null,
   "metadata": {},
   "outputs": [],
   "source": [
    "mon_tuple = ()\n",
    "type(mon_tuple)"
   ]
  },
  {
   "cell_type": "code",
   "execution_count": null,
   "metadata": {},
   "outputs": [],
   "source": [
    "len(mon_tuple)"
   ]
  },
  {
   "cell_type": "markdown",
   "metadata": {},
   "source": [
    "Pour créer **un tuple non vide**, il existe plusieurs façons de faire.\n",
    "\n",
    "Voici la plus explicite :"
   ]
  },
  {
   "cell_type": "code",
   "execution_count": null,
   "metadata": {},
   "outputs": [],
   "source": [
    "mon_tuple2 = (10, 20, 1, 'allo ?')\n",
    "type(mon_tuple2)"
   ]
  },
  {
   "cell_type": "code",
   "execution_count": null,
   "metadata": {},
   "outputs": [],
   "source": [
    "len(mon_tuple2)"
   ]
  },
  {
   "cell_type": "markdown",
   "metadata": {},
   "source": [
    "On peut également créer un tuple non vide sans les parenthèses (on préférera tout de même la méthode précédente)"
   ]
  },
  {
   "cell_type": "code",
   "execution_count": null,
   "metadata": {},
   "outputs": [],
   "source": [
    "mon_tuple3 = 1, 2, 5, 3\n",
    "type(mon_tuple3)"
   ]
  },
  {
   "cell_type": "markdown",
   "metadata": {},
   "source": [
    "mais pour construire un tuple, il faut au moins une virgule:"
   ]
  },
  {
   "cell_type": "code",
   "execution_count": null,
   "metadata": {},
   "outputs": [],
   "source": [
    "mon_tuple5 = 2\n",
    "\n",
    "print(\"t1 est de type \",type(mon_tuple5))\n",
    "\n",
    "mon_tuple6 = 2,\n",
    "\n",
    "print(\"t2 est de type \",type(mon_tuple5))"
   ]
  },
  {
   "cell_type": "markdown",
   "metadata": {},
   "source": [
    "Par souci de **clareté** on préfèrera la notation suivante :"
   ]
  },
  {
   "cell_type": "code",
   "execution_count": null,
   "metadata": {},
   "outputs": [],
   "source": [
    "mon_tuple6 = (2,)"
   ]
  },
  {
   "cell_type": "markdown",
   "metadata": {},
   "source": [
    "Nous avons vu plus haut ( voir mon_tuple2 ) qu'un tuple peut contenir des types de données différents, ainsi **un tuple peut contenir des tuples**."
   ]
  },
  {
   "cell_type": "code",
   "execution_count": null,
   "metadata": {},
   "outputs": [],
   "source": [
    "mon_tuple7 = ((3, 4, -2), (9, 8, 7))\n",
    "len(mon_tuple7)"
   ]
  },
  {
   "cell_type": "markdown",
   "metadata": {},
   "source": [
    "### Opérations sur les tuples\n",
    "\n",
    "Il existe deux opérateurs, qui s'utilisent également sur les chaînes de caractères.\n",
    "Il s'agit des opérateurs + et *."
   ]
  },
  {
   "cell_type": "code",
   "execution_count": null,
   "metadata": {},
   "outputs": [],
   "source": [
    "mon_tuple3 + mon_tuple2"
   ]
  },
  {
   "cell_type": "code",
   "execution_count": null,
   "metadata": {},
   "outputs": [],
   "source": [
    "3 * mon_tuple2"
   ]
  },
  {
   "cell_type": "markdown",
   "metadata": {},
   "source": [
    "### Appartenance\n",
    "\n",
    "Pour tester l'appartenance d'un élément dans un tuple on utilise l'opérateur **in**.\n",
    "\n",
    "Le test d'appartenance renvoie un **booléen** ( True ou False )"
   ]
  },
  {
   "cell_type": "code",
   "execution_count": null,
   "metadata": {},
   "outputs": [],
   "source": [
    "mon_tuple3 = (1, 2, 5, 3)\n",
    "2 in mon_tuple3"
   ]
  },
  {
   "cell_type": "code",
   "execution_count": null,
   "metadata": {},
   "outputs": [],
   "source": [
    "'2' in mon_tuple3"
   ]
  },
  {
   "cell_type": "markdown",
   "metadata": {},
   "source": [
    "### Egalité"
   ]
  },
  {
   "cell_type": "code",
   "execution_count": null,
   "metadata": {},
   "outputs": [],
   "source": [
    "mon_tuple3 == (1, 2, 5, 3)"
   ]
  },
  {
   "cell_type": "code",
   "execution_count": null,
   "metadata": {},
   "outputs": [],
   "source": [
    "mon_tuple3 == (2, 1, 5, 3)"
   ]
  },
  {
   "cell_type": "markdown",
   "metadata": {},
   "source": [
    "### Accès aux éléments d'un tuple\n",
    "\n",
    "Pour accéder à un élement d'un tuple, on utilise **l'index** de cet élément dans le tuple.\n",
    "\n",
    "<div class=\"alert alert-warning\">Pour un tuple de longueur 4, les indices sont 0, 1, 2, 3.</div>\n",
    "\n",
    "Pour accéder au **premier élément** du tuple on utilise l'indice **0**.\n",
    "\n",
    "Dans un tuple de n éléments on peut tiliser des indices **positifs** de 0 à n-1, mais également des indices **négatifs** de -1 à -n.\n",
    "\n",
    "<table>\n",
    "    <tr>\n",
    "        <th>Elements</th><td>E<sub>1</sub></td><td>E<sub>2</sub><td>...</td><td>E<sub>n-1</sub></td><td>E<sub>n</sub></td>\n",
    "    </tr>\n",
    "    <tr>\n",
    "        <th>Indices &GreaterEqual; 0 </th><td>0</td><td>1<td>...</td><td>n-2</td><td>n-1</td>\n",
    "    </tr>\n",
    "    <tr>\n",
    "        <th>Indices  &#60; 0 </th><td>-n</td><td>-n+1<td>...</td><td>-2</td><td>-1</td>\n",
    "    </tr>\n",
    "    \n",
    "</table>"
   ]
  },
  {
   "cell_type": "code",
   "execution_count": null,
   "metadata": {},
   "outputs": [],
   "source": [
    "mon_tuple3[0]"
   ]
  },
  {
   "cell_type": "markdown",
   "metadata": {},
   "source": [
    "Pour accéder au **dernier élément** d'un tuple on pourrait faire :"
   ]
  },
  {
   "cell_type": "code",
   "execution_count": null,
   "metadata": {},
   "outputs": [],
   "source": [
    "mon_tuple3[len(mon_tuple3) - 1]"
   ]
  },
  {
   "cell_type": "markdown",
   "metadata": {},
   "source": [
    "Mais on préfère la notation suivante:"
   ]
  },
  {
   "cell_type": "code",
   "execution_count": null,
   "metadata": {},
   "outputs": [],
   "source": [
    "mon_tuple3[-1]"
   ]
  },
  {
   "cell_type": "markdown",
   "metadata": {},
   "source": [
    "Enfin, on peut **déterminer l'index** d'une valeur dans un tuple:"
   ]
  },
  {
   "cell_type": "code",
   "execution_count": null,
   "metadata": {},
   "outputs": [],
   "source": [
    "mon_tuple3.index(5) # Retourne le premier index dont le contenu vaut 5"
   ]
  },
  {
   "cell_type": "markdown",
   "metadata": {},
   "source": [
    "**Exercice**\n",
    "\n",
    "Implémenter une fonction **milieu** qui prend en entrée deux tuples représentant les coordonnées d'un point sur un axe  (P<sub>X1</sub> ,) et (P<sub>X2</sub> ,) et retourne, sous forme de tuple, les coordonnées du milieu de ces deux points (P<sub>XM</sub> , )."
   ]
  },
  {
   "cell_type": "code",
   "execution_count": null,
   "metadata": {},
   "outputs": [],
   "source": [
    "def milieu(p1, p2):\n",
    "    pass\n",
    "\n",
    "milieu((1, ), (5, ))"
   ]
  },
  {
   "cell_type": "markdown",
   "metadata": {},
   "source": [
    "**Généraliser** la fonction milieu pour n'importe quelle dimension. (1 dimension, 2 dimensions...)"
   ]
  },
  {
   "cell_type": "code",
   "execution_count": null,
   "metadata": {},
   "outputs": [],
   "source": [
    "def milieu(p1, p2):\n",
    "    pass\n",
    "\n",
    "milieu((1,), (6,))"
   ]
  },
  {
   "cell_type": "code",
   "execution_count": null,
   "metadata": {},
   "outputs": [],
   "source": [
    "milieu((0, 2, 4), (2, 6, 10))"
   ]
  },
  {
   "cell_type": "markdown",
   "metadata": {},
   "source": [
    "### Slice\n",
    "\n",
    "Il est possible de retourner des tranches (slice) d'un tuple.\n",
    "\n",
    "La syntaxe est la suivante :\n",
    "\n",
    "mon_tuple\\[start:stop(exclu):increment\\]\n",
    "\n",
    "- Si start n'est pas précisé, il vaut 0 par défaut;\n",
    "- si stop n'est pas précisé, il vaut -1 par défaut (le dernier élément);\n",
    "- si incrément n'est pas précisé, il vaut 1.\n",
    "\n",
    "**Exemples**:"
   ]
  },
  {
   "cell_type": "code",
   "execution_count": null,
   "metadata": {},
   "outputs": [],
   "source": [
    "mon_tuple6 = ('zero', 'un', 'deux', 'trois', 'quatre', 'cinq', 'six', 'sept', 'huit', 'neuf', 'dix')\n",
    "\n",
    "print(mon_tuple6[1:3])\n",
    "print(mon_tuple6[:3]) # ceci équivaut à mon_tuple6[0:3]\n",
    "print(mon_tuple6[2:]) # ceci équivaut à mon_tuple6[2:-1] (de l'indice deux jusqu'au dernier)\n",
    "print(mon_tuple6[::2]) # ceci équivaut à mon_tuple6[0:-1:2] (tous les indices en sautant de deux en deux)\n",
    "print(mon_tuple6[::-1]) # avec un pas négatif : méthode très pratique pour inverser l'ordre"
   ]
  },
  {
   "cell_type": "markdown",
   "metadata": {},
   "source": [
    "**Exercice**\n",
    "\n",
    "- Donner les nombres impairs\n",
    "- Donner les multiples de trois"
   ]
  },
  {
   "cell_type": "code",
   "execution_count": null,
   "metadata": {},
   "outputs": [],
   "source": [
    "# A vous\n"
   ]
  },
  {
   "cell_type": "markdown",
   "metadata": {},
   "source": [
    "<div class=\"alert alert-warning\">Les tuples sont des <b>séquences non mutables</b>, une fois créé il est impossible de le modififier.</div>"
   ]
  },
  {
   "cell_type": "code",
   "execution_count": null,
   "metadata": {},
   "outputs": [],
   "source": [
    "mon_tuple6[0]='one'"
   ]
  },
  {
   "cell_type": "markdown",
   "metadata": {},
   "source": [
    "### Itération sur un tuple\n",
    "\n",
    "Les tuples **sont itérables**:"
   ]
  },
  {
   "cell_type": "code",
   "execution_count": null,
   "metadata": {},
   "outputs": [],
   "source": [
    "for number in mon_tuple6[:2]:\n",
    "    print(number, 'mouton')\n",
    "for number in mon_tuple6[2:]:\n",
    "    print(number, 'moutons')"
   ]
  },
  {
   "cell_type": "markdown",
   "metadata": {},
   "source": [
    "**Exercice**\n",
    "\n",
    "Implémenter la fonction **extremum** qui retourne le minimum et le maximum d'un tuple de nombres."
   ]
  },
  {
   "cell_type": "code",
   "execution_count": null,
   "metadata": {},
   "outputs": [],
   "source": [
    "def extremum(seq):\n",
    "    \"\"\"\n",
    "    Retourne le minimum et le maximum d'une séquence de nombres.\n",
    "    Si la séquence est vide, lève l'exeption ValueError\n",
    "    \"\"\"\n",
    "    pass\n",
    "\n",
    "extremum((0,5,9,8,4,-1,12,2.5,3,-8))\n"
   ]
  },
  {
   "cell_type": "markdown",
   "metadata": {},
   "source": [
    "### Autres fonctions (builtins) sur les tuples\n"
   ]
  },
  {
   "cell_type": "code",
   "execution_count": null,
   "metadata": {},
   "outputs": [],
   "source": [
    "mon_tupleA = (1, 6, 8, -5, 7, 5)\n",
    "min(mon_tuple7)"
   ]
  },
  {
   "cell_type": "code",
   "execution_count": null,
   "metadata": {},
   "outputs": [],
   "source": [
    "max(mon_tuple7)"
   ]
  },
  {
   "cell_type": "code",
   "execution_count": null,
   "metadata": {},
   "outputs": [],
   "source": [
    "sum(mon_tuple7)"
   ]
  },
  {
   "cell_type": "markdown",
   "metadata": {},
   "source": [
    "### Le packing / unpacking"
   ]
  },
  {
   "cell_type": "code",
   "execution_count": null,
   "metadata": {},
   "outputs": [],
   "source": [
    "moi = (\"Yves\", \"Cadour\", 1975) # on pack les 3 valeurs dans un tuple\n",
    "firstname, lastname, date = moi # on les unpack\n",
    "print(firstname)\n",
    "print(lastname)"
   ]
  },
  {
   "cell_type": "markdown",
   "metadata": {},
   "source": [
    "On peut s'en servir pour commuter les valeurs de 2 variables"
   ]
  },
  {
   "cell_type": "code",
   "execution_count": null,
   "metadata": {},
   "outputs": [],
   "source": [
    "a = 10\n",
    "b = 20\n",
    "a, b = b, a # je commute les deux valeurs\n",
    "print(f\"a = {a}\")\n",
    "print(f\"b = {b}\")"
   ]
  },
  {
   "cell_type": "markdown",
   "metadata": {},
   "source": [
    "## Travail à faire\n",
    "\n",
    "Ecrire une fonction *longueurs* qui prend en paramètres les coordonnées de 3 points du plan et retourne les 3 longueurs du triangle.\n"
   ]
  },
  {
   "cell_type": "code",
   "execution_count": null,
   "metadata": {},
   "outputs": [],
   "source": [
    "from math import sqrt #importation de la fonction racine carrée (square root)\n",
    "\n",
    "def longueurs(p1, p2, p3):\n",
    "    \"\"\"\n",
    "    p1, p2, p3 : 3 tuples représentant les coordonnées (x, y) d'un point du plan\n",
    "    retourne les distances des 3 longueurs.\n",
    "    \"\"\"\n",
    "    pass # a vous de jouer\n",
    "\n",
    "\n",
    "\n",
    "triangles = (((0, 1), (3, 2), (6, 9)),\n",
    "          ((1, 1), (2, 5), (5, 3)),\n",
    "          ((-1, 1), (2, -5), (-5, 3)),\n",
    "         )\n",
    "\n",
    "for p1, p2, p3 in triangles:\n",
    "    print(longueurs(p1, p2, p3))"
   ]
  },
  {
   "cell_type": "markdown",
   "metadata": {},
   "source": [
    "<a id='p-uplets_nommes'></a>\n",
    "## 3.1.2 Les p-uplets nommés\n",
    "\n",
    "Les tuples nommés sont des tuples dont les composants sont appelés par des descripteurs au lieu d'indices.\n",
    "Le principal intêret est d'améliorer la lisibilité du code et par conséquent limiter les risques d'erreurs.\n",
    "\n",
    "Ce type existe en Python (namedtuple) mais est rarement employé.\n",
    "\n",
    "Voir [la documentation](https://docs.python.org/3/library/collections.html#collections.namedtuple)."
   ]
  },
  {
   "cell_type": "code",
   "execution_count": null,
   "metadata": {},
   "outputs": [],
   "source": [
    "from collections import namedtuple # L'utilisation des tuples nommés nécessite d'importer le type\n",
    "\n",
    "Person = namedtuple('Personne', ['nom', 'prenom', 'date_naissance'])\n",
    "\n",
    "moi = Person('Yves', 'Cadour', 1975) # j'instancie \n",
    "\n",
    "print(moi.prenom) # on peut appeler les éléments par leurs descripteurs\n",
    "print(moi[2])     # ou par leurs indices"
   ]
  },
  {
   "cell_type": "code",
   "execution_count": null,
   "metadata": {},
   "outputs": [],
   "source": [
    "gerard = Person('Gérard', 'Depardieu', 1948)\n",
    "\n",
    "for element in gerard: # Les tuples nommés sont également itérables\n",
    "    print(element)"
   ]
  },
  {
   "cell_type": "markdown",
   "metadata": {},
   "source": [
    "[Retour au sommaire](../index.ipynb)"
   ]
  }
 ],
 "metadata": {
  "kernelspec": {
   "display_name": "Python 3",
   "language": "python",
   "name": "python3"
  },
  "language_info": {
   "codemirror_mode": {
    "name": "ipython",
    "version": 3
   },
   "file_extension": ".py",
   "mimetype": "text/x-python",
   "name": "python",
   "nbconvert_exporter": "python",
   "pygments_lexer": "ipython3",
   "version": "3.8.10"
  }
 },
 "nbformat": 4,
 "nbformat_minor": 4
}
