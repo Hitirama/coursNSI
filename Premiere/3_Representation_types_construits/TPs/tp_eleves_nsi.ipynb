{
 "cells": [
  {
   "cell_type": "markdown",
   "metadata": {},
   "source": [
    "[Revenir au cours](../1_p-uplets.ipynb)"
   ]
  },
  {
   "cell_type": "markdown",
   "metadata": {},
   "source": [
    "# TP liste des éleves de NSI\n",
    "\n",
    "Voici les **identifiants** des élèves de premieres NSI classés par ordre alphabétique sous forme d'un **tuple** de strings."
   ]
  },
  {
   "cell_type": "code",
   "execution_count": null,
   "metadata": {},
   "outputs": [],
   "source": [
    "# On affecte dans la variable 'eleves' un typle de strings\n",
    "eleves = ('a.berneuil', 'a.boucher', 'c.lecomte', 'g.eraste', 'g.monnier', 'm.imbert', 'm.tauziet')"
   ]
  },
  {
   "cell_type": "markdown",
   "metadata": {},
   "source": [
    "Quel est le **type** de *eleves*?"
   ]
  },
  {
   "cell_type": "code",
   "execution_count": null,
   "metadata": {},
   "outputs": [],
   "source": [
    "type(eleves)"
   ]
  },
  {
   "cell_type": "markdown",
   "metadata": {},
   "source": [
    "Que représente ce que retourne la commande python ci-dessous ?"
   ]
  },
  {
   "cell_type": "code",
   "execution_count": null,
   "metadata": {},
   "outputs": [],
   "source": [
    "len(eleves)"
   ]
  },
  {
   "cell_type": "markdown",
   "metadata": {},
   "source": [
    "Que font les lignes suivantes ?"
   ]
  },
  {
   "cell_type": "code",
   "execution_count": null,
   "metadata": {},
   "outputs": [],
   "source": [
    "'c.lecomte' in eleves"
   ]
  },
  {
   "cell_type": "code",
   "execution_count": null,
   "metadata": {},
   "outputs": [],
   "source": [
    "'y.cadour' in eleves"
   ]
  },
  {
   "cell_type": "markdown",
   "metadata": {},
   "source": [
    "Mettre votre conclusion ici"
   ]
  },
  {
   "cell_type": "markdown",
   "metadata": {},
   "source": [
    "## Accès aux éléments d'un tuple\n",
    "\n",
    "Voici quelques exemples:"
   ]
  },
  {
   "cell_type": "code",
   "execution_count": null,
   "metadata": {},
   "outputs": [],
   "source": [
    "eleves[0]"
   ]
  },
  {
   "cell_type": "code",
   "execution_count": null,
   "metadata": {},
   "outputs": [],
   "source": [
    "eleves[2]"
   ]
  },
  {
   "cell_type": "markdown",
   "metadata": {},
   "source": [
    "Regarder le cours et voir comment accéder au **dernier élément** d'un tuple. (2 solutions possibles)"
   ]
  },
  {
   "cell_type": "code",
   "execution_count": null,
   "metadata": {},
   "outputs": [],
   "source": []
  },
  {
   "cell_type": "markdown",
   "metadata": {},
   "source": [
    "Qui est l'élève classé en avant-avant-dernier ?"
   ]
  },
  {
   "cell_type": "code",
   "execution_count": null,
   "metadata": {},
   "outputs": [],
   "source": []
  },
  {
   "cell_type": "markdown",
   "metadata": {},
   "source": [
    "## Slices (tranches)\n",
    "\n",
    "Voici quelques commandes:"
   ]
  },
  {
   "cell_type": "code",
   "execution_count": null,
   "metadata": {},
   "outputs": [],
   "source": [
    "eleves[2:]"
   ]
  },
  {
   "cell_type": "code",
   "execution_count": null,
   "metadata": {},
   "outputs": [],
   "source": [
    "eleves[:3]"
   ]
  },
  {
   "cell_type": "code",
   "execution_count": null,
   "metadata": {},
   "outputs": [],
   "source": [
    "eleves[2:5]"
   ]
  },
  {
   "cell_type": "markdown",
   "metadata": {},
   "source": [
    "Ecrire la documentation sur *tuple[d, f]*"
   ]
  },
  {
   "cell_type": "markdown",
   "metadata": {},
   "source": [
    "Mettre votre documentation ici"
   ]
  },
  {
   "cell_type": "markdown",
   "metadata": {},
   "source": [
    "On complique un peu..."
   ]
  },
  {
   "cell_type": "code",
   "execution_count": null,
   "metadata": {},
   "outputs": [],
   "source": [
    "eleves[::2]"
   ]
  },
  {
   "cell_type": "code",
   "execution_count": null,
   "metadata": {},
   "outputs": [],
   "source": [
    "eleves[::3]"
   ]
  },
  {
   "cell_type": "code",
   "execution_count": null,
   "metadata": {},
   "outputs": [],
   "source": [
    "eleves[1:5:2]"
   ]
  },
  {
   "cell_type": "markdown",
   "metadata": {},
   "source": [
    "Compléter la documentation sur *tuple[d, f, p]*"
   ]
  },
  {
   "cell_type": "markdown",
   "metadata": {},
   "source": [
    "mettre votre documentation complétée ici."
   ]
  },
  {
   "cell_type": "markdown",
   "metadata": {},
   "source": [
    "<div class=\"alert alert-info\">\n",
    "    Pour finir sur les <i>slices</i>, voici une technique très <b>pythonienne</b>:\n",
    "</div>"
   ]
  },
  {
   "cell_type": "code",
   "execution_count": null,
   "metadata": {},
   "outputs": [],
   "source": [
    "eleves[::-1]"
   ]
  },
  {
   "cell_type": "markdown",
   "metadata": {},
   "source": [
    "## Index"
   ]
  },
  {
   "cell_type": "markdown",
   "metadata": {},
   "source": [
    "Comment connaitre le positionnement d'un élément dans un tuple ?"
   ]
  },
  {
   "cell_type": "code",
   "execution_count": null,
   "metadata": {},
   "outputs": [],
   "source": [
    "eleves.index('g.monnier')"
   ]
  },
  {
   "cell_type": "markdown",
   "metadata": {},
   "source": [
    "Si l'élément n'est pas présent, cela provoque une erreur."
   ]
  },
  {
   "cell_type": "code",
   "execution_count": null,
   "metadata": {},
   "outputs": [],
   "source": [
    "eleves.index('y.cadour')"
   ]
  },
  {
   "cell_type": "markdown",
   "metadata": {},
   "source": [
    "## boucle sur les éléments d'un tuple\n",
    "\n",
    "### Remarque\n",
    "\n",
    "<div class = \"alert alert-info\">\n",
    "    Un <b>tuple</b>, comme une <b>string</b>, est <b>itérable</b>. Cela signifie qu'on peut <b>boucler</b> sur ses éléments constitutifs.\n",
    "    Les strings et les tuples ont beaucoup en commun.\n",
    "</div>"
   ]
  },
  {
   "cell_type": "code",
   "execution_count": null,
   "metadata": {},
   "outputs": [],
   "source": [
    "mot = 'anticonstitutionnellement'\n",
    "for lettre in mot:\n",
    "    print(lettre)"
   ]
  },
  {
   "cell_type": "code",
   "execution_count": null,
   "metadata": {},
   "outputs": [],
   "source": [
    "len(mot)"
   ]
  },
  {
   "cell_type": "code",
   "execution_count": null,
   "metadata": {},
   "outputs": [],
   "source": [
    "'e' in mot"
   ]
  },
  {
   "cell_type": "code",
   "execution_count": null,
   "metadata": {},
   "outputs": [],
   "source": [
    "'y' in mot"
   ]
  },
  {
   "cell_type": "code",
   "execution_count": null,
   "metadata": {},
   "outputs": [],
   "source": [
    "mot[2:10]"
   ]
  },
  {
   "cell_type": "code",
   "execution_count": null,
   "metadata": {},
   "outputs": [],
   "source": [
    "mot[::-1]"
   ]
  },
  {
   "cell_type": "markdown",
   "metadata": {},
   "source": [
    "### Revenons sur les tuples\n",
    "\n",
    "Voici comment boucler sur les élements d'un tuple."
   ]
  },
  {
   "cell_type": "code",
   "execution_count": null,
   "metadata": {},
   "outputs": [],
   "source": [
    "for eleve in eleves:\n",
    "    print(f\"{eleve} est en premiere NSI.\")"
   ]
  },
  {
   "cell_type": "markdown",
   "metadata": {},
   "source": [
    "## Quelques petits exercices"
   ]
  },
  {
   "cell_type": "markdown",
   "metadata": {},
   "source": [
    "### Exercice 1.1\n",
    "\n",
    "Afficher la liste des élèves qui contiennent un 'u' dans leur identifiant."
   ]
  },
  {
   "cell_type": "code",
   "execution_count": null,
   "metadata": {},
   "outputs": [],
   "source": [
    "#a vous de coder"
   ]
  },
  {
   "cell_type": "markdown",
   "metadata": {},
   "source": [
    "### Exercice 1.2\n",
    "\n",
    "Afficher la liste des élèves qui contienent un 'u' **ou** un 'i' dans leur identifiant."
   ]
  },
  {
   "cell_type": "code",
   "execution_count": null,
   "metadata": {},
   "outputs": [],
   "source": [
    "#a vous de coder"
   ]
  },
  {
   "cell_type": "markdown",
   "metadata": {},
   "source": [
    "### Exercice 1.3\n",
    "\n",
    "Afficher la liste des élèves qui contienent un 'u' **et** un 'i' dans leur identifiant."
   ]
  },
  {
   "cell_type": "code",
   "execution_count": null,
   "metadata": {},
   "outputs": [],
   "source": [
    "#a vous de coder"
   ]
  },
  {
   "cell_type": "markdown",
   "metadata": {},
   "source": [
    "### Exercice 1.4\n",
    "\n",
    "Afficher, dans l'ordre inverse, la liste des identifiants inversés si celui-ci comporte un 'm'."
   ]
  },
  {
   "cell_type": "code",
   "execution_count": null,
   "metadata": {},
   "outputs": [],
   "source": [
    "#a vous de coder"
   ]
  },
  {
   "cell_type": "markdown",
   "metadata": {},
   "source": [
    "## Des tuples de tuples\n",
    "\n",
    "Un tuple peut contenir n'importe quel type de données :\n",
    "\n",
    "- des strings\n",
    "- des integers\n",
    "- des float\n",
    "- des tuples :-)\n",
    "\n",
    "Voici la liste des éléves complétée:\n"
   ]
  },
  {
   "cell_type": "code",
   "execution_count": null,
   "metadata": {},
   "outputs": [],
   "source": [
    "eleves_complets = (\n",
    "    ('a.berneuil', 'Agathe', 'Berneuil', 'F',),\n",
    "    ('a.boucher', 'Antoine', 'Boucher', 'M',),\n",
    "    ('c.lecomte', 'Clément', 'Lecomte', 'M'),\n",
    "    ('g.eraste', 'Georgia', 'Eraste', 'F',),\n",
    "    ('g.monnier', 'Gabriel', 'Monnier', 'M',),\n",
    "    ('m.imbert', 'Mattéo', 'Imbert', 'M',),\n",
    "    ('m.tauziet', 'Mathéo', 'Tauziet', 'M',),\n",
    ")"
   ]
  },
  {
   "cell_type": "markdown",
   "metadata": {},
   "source": [
    "### Exercices en exemple : \n",
    "\n",
    "1. Afficher tous les **prénoms** de la classe.\n",
    "2. Afficher le nom de famille du 2ème éleve."
   ]
  },
  {
   "cell_type": "code",
   "execution_count": null,
   "metadata": {},
   "outputs": [],
   "source": [
    "for eleve in eleves_complets:\n",
    "    print(eleve[1])"
   ]
  },
  {
   "cell_type": "code",
   "execution_count": null,
   "metadata": {},
   "outputs": [],
   "source": [
    "print(eleves_complets[1][2])"
   ]
  },
  {
   "cell_type": "markdown",
   "metadata": {},
   "source": [
    "### Exercice 2.1\n",
    "\n",
    "Afficher tous les **prénoms féminins** de la classe"
   ]
  },
  {
   "cell_type": "code",
   "execution_count": null,
   "metadata": {},
   "outputs": [],
   "source": [
    "# a vous de coder"
   ]
  },
  {
   "cell_type": "markdown",
   "metadata": {},
   "source": [
    "### Exercice 2.2\n",
    "\n",
    "Afficher tous les noms masculins comportant un 'm' (minuscule ou MAJUSCULE)."
   ]
  },
  {
   "cell_type": "code",
   "execution_count": 86,
   "metadata": {},
   "outputs": [
    {
     "data": {
      "text/plain": [
       "'bonjour'"
      ]
     },
     "execution_count": 86,
     "metadata": {},
     "output_type": "execute_result"
    }
   ],
   "source": [
    "# indice\n",
    "'BoNJouR'.lower()"
   ]
  },
  {
   "cell_type": "code",
   "execution_count": null,
   "metadata": {},
   "outputs": [],
   "source": [
    "# a vous de coder"
   ]
  },
  {
   "cell_type": "markdown",
   "metadata": {},
   "source": [
    "### Exercice 2.3\n",
    "\n",
    "Pour chaque éleve, \n",
    "\n",
    "- afficher *True* si son identifiant est composé de la premiere lettre de son prénom en minuscule + '.' + son nom en minuscule.\n",
    "- afficher *False* sinon\n",
    "\n",
    "**Exemples** :\n",
    "\n",
    "- '**A**gathe' et 'Berneuil' donne '**a**' + '.' + 'berneuil' soit 'a.berneuil' c'est bien l'identifiant donc True.\n",
    "- Si un identifiant est 'e2.macron', **E**mmanuel' et 'Macron' donne '**e**' + '.' + 'macron' soit 'e.macron' ce n'est pas l'identifiant donc False."
   ]
  },
  {
   "cell_type": "code",
   "execution_count": null,
   "metadata": {},
   "outputs": [],
   "source": [
    "# a vous de coder"
   ]
  }
 ],
 "metadata": {
  "kernelspec": {
   "display_name": "Python 3",
   "language": "python",
   "name": "python3"
  },
  "language_info": {
   "codemirror_mode": {
    "name": "ipython",
    "version": 3
   },
   "file_extension": ".py",
   "mimetype": "text/x-python",
   "name": "python",
   "nbconvert_exporter": "python",
   "pygments_lexer": "ipython3",
   "version": "3.8.10"
  }
 },
 "nbformat": 4,
 "nbformat_minor": 4
}
