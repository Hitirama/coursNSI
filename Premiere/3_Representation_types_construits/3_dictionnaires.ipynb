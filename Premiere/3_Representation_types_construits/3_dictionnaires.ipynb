{
 "cells": [
  {
   "cell_type": "markdown",
   "metadata": {},
   "source": [
    "[Accueil](../../index.ipynb) > [Sommaire Première](../index.ipynb)"
   ]
  },
  {
   "cell_type": "markdown",
   "metadata": {},
   "source": [
    "# 3.3 Types constuits : les dictionnaires\n",
    "\n",
    "## Définition générale\n",
    "\n",
    "<div class=\"alert alert-info\">\n",
    "    <b>Définition</b>\n",
    "    En informatique, ces structures de données sont appelées <i>tableau associatif</i> ou <i>table de hachage</i>. Il s'agit d'une <b>collection non ordonnée</b> d’éléments qui permet, à partir d’une <b>clé</b>(unique) d'accéder à une <b>valeur</b> associée.</div>\n",
    "</div>\n",
    "\n",
    "## Dans le langage Python\n",
    "\n",
    "Dans le language Python, la structure la plus ressemblante s'appelle *dictionnaire*.\n",
    "\n",
    "Comme les listes, les dictionnaires sont **mutables** : on peut modifier leur contenu.\n",
    "\n",
    "Si on regarde \"à l'intérieur\" du dictionnaire:\n",
    "- Les **clés** du dictionnaire doivent être **uniques** et choisies **non mutables** (chaîne de caractères, nombre, tuple).\n",
    "- Les **valeurs** associées peuvent être d’un type quelconque (liste, dictionnaire, entier, schtroumpf...)\n",
    "\n",
    "Les listes chaînées (liste ou tuple en python) ne permettent pas d'accéder directement à un élément précis. Il faut parcourir la liste en avançant d'élément en élément jusqu'à trouver celui qu'on recherche. Cela pose des problèmes de performance dès que la liste chaînée devient volumineuse.\n",
    "\n"
   ]
  },
  {
   "cell_type": "code",
   "execution_count": null,
   "metadata": {},
   "outputs": [],
   "source": [
    "%timeit  'x' in range(10)"
   ]
  },
  {
   "cell_type": "code",
   "execution_count": null,
   "metadata": {},
   "outputs": [],
   "source": [
    "%timeit 'x' in range(10_000)"
   ]
  },
  {
   "cell_type": "code",
   "execution_count": null,
   "metadata": {},
   "outputs": [],
   "source": [
    "%timeit 'x' in range(10_000_000)"
   ]
  },
  {
   "cell_type": "markdown",
   "metadata": {},
   "source": [
    "Mettons en évidence la linéarité entre le temps nécessaire à l'appartenance de l'élément 'x' à une liste d'entiers (pire des cas) et la longeur de la liste."
   ]
  },
  {
   "cell_type": "code",
   "execution_count": null,
   "metadata": {},
   "outputs": [],
   "source": [
    "import matplotlib.pyplot as plt\n",
    "\n",
    "quantites = [1000*n for n in range(0, 11)] # je crée la liste [0, 1000, 2000, ... 10000]\n",
    "results = []\n",
    "for q in quantites:\n",
    "    l = [e for e in range(q)] # Je créé la liste de q éléments (de 0 à q-1)\n",
    "    stats = %timeit -q -o -n 200 'x' in l # je mesure le temps pour trouver 'x' n'appartient dans la liste\n",
    "    results.append(stats.average)\n",
    "\n",
    "plt.figure(figsize=(10,6))\n",
    "plt.ylim(top=max(results))\n",
    "plt.scatter(quantites,results)\n",
    "plt.grid(which='both')\n",
    "plt.title(\"Temps d'execution moyen d'appartenance à 'x' à une liste de n entiers\")\n",
    "plt.xlabel('nombre d\\éléments dans la liste')\n",
    "plt.ylabel('temps en s')\n",
    "plt.show()"
   ]
  },
  {
   "cell_type": "markdown",
   "metadata": {},
   "source": [
    "## Implémentation en Python"
   ]
  },
  {
   "cell_type": "markdown",
   "metadata": {},
   "source": [
    "### Création d'un dictionnaire\n",
    "\n",
    "- Pour créer un dictionnaire on utilise un couple d'accolades {}\n",
    "- Les éléments du dictionnaire sont séparés par des virgules\n",
    "- le couple clé/valeur est séparé par ':'\n",
    "\n",
    "**Exemple :**"
   ]
  },
  {
   "cell_type": "code",
   "execution_count": null,
   "metadata": {},
   "outputs": [],
   "source": [
    "dico = {'nom':'Gérard', 'age':75, 'commentaire':'un lascar', 'enfants':['Maurice','Corinne']}\n",
    "# J'ai un dictionnaire dont les clés sont : 'nom', 'age', 'commentaire' et 'enfants'\n",
    "# La valeur de la clé 'age' est le nombre 75\n",
    "# la valeur de la clé 'enfants' est une liste\n",
    "dico"
   ]
  },
  {
   "cell_type": "markdown",
   "metadata": {},
   "source": [
    "**Exemple2 :**\n",
    "\n",
    "Un dictionnaire est **mutable**, on peut donc le modifier en le **peuplant** de clés/valeurs:"
   ]
  },
  {
   "cell_type": "code",
   "execution_count": null,
   "metadata": {},
   "outputs": [],
   "source": [
    "dico2 = {}  # Je crée un dictionnaire vide\n",
    "dico2['nom'] = 'Brandin' # J'ajoute la clé/valeur nom:Brandin\n",
    "dico2['age'] = 25\n",
    "dico2['commentaire'] = 'un sacré bout en train'\n",
    "dico2['enfants'] = ['Kevin', 'Sandy']\n",
    "dico2"
   ]
  },
  {
   "cell_type": "markdown",
   "metadata": {},
   "source": [
    "Et je peux **modifier** la valeur associée à une clef."
   ]
  },
  {
   "cell_type": "code",
   "execution_count": null,
   "metadata": {},
   "outputs": [],
   "source": [
    "dico2['nom'] = 'Brandon'\n",
    "dico2['nom']"
   ]
  },
  {
   "cell_type": "markdown",
   "metadata": {},
   "source": [
    "**Exemple 3 :**\n",
    "\n",
    "Il est également possible de créer un dictionnaire par **compréhension**."
   ]
  },
  {
   "cell_type": "code",
   "execution_count": null,
   "metadata": {},
   "outputs": [],
   "source": [
    "# voici une liste de tuples\n",
    "l = [('nom', 'Barnabé'), ('age', 27), ('enfants', ['Gaston', 'Louise'])]\n",
    "# créons un dictionnaire dont les clés sont les premiers éléments des tuples et les valeurs les deuxièmes.\n",
    "dico3 = {k:v for k,v in l}\n",
    "dico3"
   ]
  },
  {
   "cell_type": "markdown",
   "metadata": {},
   "source": [
    "### Accès à une donnée par clé\n",
    "\n",
    "l'accès à une valeur s'effectue en spécifiant la clé:"
   ]
  },
  {
   "cell_type": "code",
   "execution_count": null,
   "metadata": {},
   "outputs": [],
   "source": [
    "dico2['age']"
   ]
  },
  {
   "cell_type": "markdown",
   "metadata": {},
   "source": [
    "On peut également utiliser *get(key, [default])* qui retourne la valeur associée à *key* si celle ci est présente. Une valeur par défaut optionnelle est retournée si la clé est absente."
   ]
  },
  {
   "cell_type": "code",
   "execution_count": null,
   "metadata": {},
   "outputs": [],
   "source": [
    "dico2.get('commentaire')"
   ]
  },
  {
   "cell_type": "code",
   "execution_count": null,
   "metadata": {},
   "outputs": [],
   "source": [
    "dico2.get('commentaire', 'Le commentaire par défaut si absent')"
   ]
  },
  {
   "cell_type": "code",
   "execution_count": null,
   "metadata": {},
   "outputs": [],
   "source": [
    "dico2.get('pere', 'Non précisé')"
   ]
  },
  {
   "cell_type": "markdown",
   "metadata": {},
   "source": [
    "### Accès aux clefs/valeurs\n",
    "\n",
    "Il est possible d'obtenir toutes les clés d'un dictionnaire, ainsi que toutes ces valeurs."
   ]
  },
  {
   "cell_type": "code",
   "execution_count": null,
   "metadata": {},
   "outputs": [],
   "source": [
    "dico2.keys()"
   ]
  },
  {
   "cell_type": "code",
   "execution_count": null,
   "metadata": {},
   "outputs": [],
   "source": [
    "dico2.values()"
   ]
  },
  {
   "cell_type": "markdown",
   "metadata": {},
   "source": [
    "<div class=\"alert alert-warning\">\n",
    "\n",
    "Depuis la version 3.7 de Python les dictionnaires sont **ordonnés** (une table de hashage ne l'est pas). Ainsi l'appel de la fonction keys() retourne toujours les clés dans le même ordre.\n",
    "\n",
    "</div>"
   ]
  },
  {
   "cell_type": "markdown",
   "metadata": {},
   "source": [
    "### Itération sur un dictionnaire\n",
    "\n",
    "Un dictionnaire est **itérable**. Voici le comportement."
   ]
  },
  {
   "cell_type": "code",
   "execution_count": null,
   "metadata": {},
   "outputs": [],
   "source": [
    "for k in dico2:\n",
    "    print(k)\n",
    "    \n",
    "# ceci est equivalent à:\n",
    "\n",
    "# for k in dico2.keys():\n",
    "#     print(k)"
   ]
  },
  {
   "cell_type": "markdown",
   "metadata": {},
   "source": [
    "### Attention aux affectations\n",
    "\n",
    "<div class=\"alert alert-danger\">\n",
    "   Attention, ayez bien à l'esprit le comportement suivant lorsque vous écrivez du Python: \n",
    "    \n",
    "</div>"
   ]
  },
  {
   "cell_type": "code",
   "execution_count": null,
   "metadata": {},
   "outputs": [],
   "source": [
    "personne1 = {'nom' : 'Poutine', 'prenom' : 'Vladimir'}\n",
    "personne2 = personne1 # J'affecte la variable personne1 dans personne2\n",
    "\n",
    "personne1['prenom'] = 'Vladimort' # Je modifie la personne 1\n",
    "personne1"
   ]
  },
  {
   "cell_type": "code",
   "execution_count": null,
   "metadata": {},
   "outputs": [],
   "source": [
    "personne2"
   ]
  },
  {
   "cell_type": "markdown",
   "metadata": {},
   "source": [
    "En modifiant *personne1*, j'ai également modifié *personne2*. Ces deux variables **pointent** vers la même référence en mémoire.\n",
    "\n",
    "Et il en est de même pour les **listes**."
   ]
  },
  {
   "cell_type": "code",
   "execution_count": null,
   "metadata": {},
   "outputs": [],
   "source": [
    "l1 = [1, 2, 3]\n",
    "l2 = l1\n",
    "l1.append(4)\n",
    "print(f\"l1 pointe sur l'adresse mémoire {id(l1)}\")\n",
    "print(f\"l2 pointe sur l'adresse mémoire {id(l2)}\")\n",
    "print(f\"l1 = {l1} et l2 = {l2}\")"
   ]
  },
  {
   "cell_type": "markdown",
   "metadata": {},
   "source": [
    "Le comportement est **différent** pour les **chaines de caractères**."
   ]
  },
  {
   "cell_type": "code",
   "execution_count": null,
   "metadata": {},
   "outputs": [],
   "source": [
    "mot1 = 'Bonjour'\n",
    "mot2 = mot1\n",
    "print(f\"mot1 pointe sur l'adresse mémoire {id(mot1)}\")\n",
    "print(f\"mot2 pointe sur l'adresse mémoire {id(mot2)}\")\n",
    "\n",
    "mot1 += 'r'\n",
    "mot2\n",
    "print(f\"mot1 pointe sur l'adresse mémoire {id(mot1)}\")\n",
    "print(f\"mot2 pointe sur l'adresse mémoire {id(mot2)}\")\n",
    "\n",
    "print(f\"Maintenant mot1 vaut '{mot1}' alors que mot2 vaut '{mot2}'.\")"
   ]
  },
  {
   "cell_type": "markdown",
   "metadata": {},
   "source": [
    "Si vous voulez **copier** un dictionnaire, il faut utiliser la fonction **copy**."
   ]
  },
  {
   "cell_type": "code",
   "execution_count": null,
   "metadata": {},
   "outputs": [],
   "source": [
    "personne1 = {'nom' : 'Poutine', 'prenom' : 'Vladimir'}\n",
    "personne2 = personne1.copy() # J'affecte une copie de la variable personne1 dans personne2\n",
    "\n",
    "print(f\"id(personne1) : {id(personne1)}\")\n",
    "print(f\"id(personne2) : {id(personne2)}\")\n",
    "\n",
    "personne1['prenom'] = 'Vladimort'\n",
    "personne2 # personne2, n'aura pas été affecté par la modification de personne1"
   ]
  },
  {
   "cell_type": "markdown",
   "metadata": {},
   "source": [
    "### Suppression de clé/valeur\n",
    "\n",
    "si on désire supprimer une clé, on utilise la commande *del*."
   ]
  },
  {
   "cell_type": "code",
   "execution_count": null,
   "metadata": {},
   "outputs": [],
   "source": [
    "del(dico2['commentaire'])\n",
    "dico2"
   ]
  },
  {
   "cell_type": "markdown",
   "metadata": {},
   "source": [
    "## Dictionnaires imbriqués\n",
    "\n",
    "Un dictionnaire peut contenir d'autres dictionnaires (comme une liste peut contenir des listes)\n",
    "\n",
    "Voici un exemple:"
   ]
  },
  {
   "cell_type": "code",
   "execution_count": null,
   "metadata": {},
   "outputs": [],
   "source": [
    "gerard = {'prénom':'Gérard', 'âge':47}\n",
    "marceline = {'prénom':'Marceline', 'âge':45}\n",
    "kevin = {'prénom':'Kévin', 'âge':17}\n",
    "\n",
    "# Je crée un dictionnaire de dictionnaires\n",
    "\n",
    "famille = {'père':gerard, 'mère':marceline, 'fils':kevin}"
   ]
  },
  {
   "cell_type": "code",
   "execution_count": null,
   "metadata": {},
   "outputs": [],
   "source": [
    "# On peut accèder aux données avec une double itération:\n",
    "\n",
    "for membre in famille:\n",
    "    print(membre)\n",
    "    for attribut in famille[membre]:\n",
    "        print(f\"  {attribut} : {famille[membre][attribut]}\")"
   ]
  },
  {
   "cell_type": "markdown",
   "metadata": {},
   "source": [
    "## Temps d'accès en fonction de la taille du dictionnaire."
   ]
  },
  {
   "cell_type": "code",
   "execution_count": null,
   "metadata": {},
   "outputs": [],
   "source": [
    "import matplotlib.pyplot as plt\n",
    "\n",
    "quantites = [1000*n for n in range(0, 11)] # je crée la liste [0, 1000, 2000, ... 10000]\n",
    "results = []\n",
    "for q in quantites:\n",
    "    d = {q:0 for q in range(q)} # Je crée un dictionnaire de q clés, ayant toutes la valeur 0\n",
    "    stats = %timeit -q -o -n 100000 d.get(-1, 'rien') # le dictionnaire n'a pas la clé -1\n",
    "    results.append(stats.average)\n",
    "\n",
    "plt.figure(figsize=(10,6))\n",
    "plt.ylim(top=max(results))\n",
    "plt.scatter(quantites,results)\n",
    "plt.grid(which='both')\n",
    "plt.title(\"Temps d'execution moyen de la recherche d'une clé absente d'un dictionnaire de n clés\")\n",
    "plt.xlabel('nombre de clés dans le dictionnaire')\n",
    "plt.ylabel('temps en s')\n",
    "plt.show()"
   ]
  },
  {
   "cell_type": "markdown",
   "metadata": {},
   "source": [
    "Contrairement aux listes, on constate que le temps de recherche d'une clé non présente dans le dictionnaire est **indépendante** de la taille du dictionnaire."
   ]
  },
  {
   "cell_type": "markdown",
   "metadata": {},
   "source": [
    "[Accueil](../../index.ipynb) > [Sommaire Première](../index.ipynb)"
   ]
  }
 ],
 "metadata": {
  "kernelspec": {
   "display_name": "Python 3 (ipykernel)",
   "language": "python",
   "name": "python3"
  },
  "language_info": {
   "codemirror_mode": {
    "name": "ipython",
    "version": 3
   },
   "file_extension": ".py",
   "mimetype": "text/x-python",
   "name": "python",
   "nbconvert_exporter": "python",
   "pygments_lexer": "ipython3",
   "version": "3.10.6"
  }
 },
 "nbformat": 4,
 "nbformat_minor": 4
}
