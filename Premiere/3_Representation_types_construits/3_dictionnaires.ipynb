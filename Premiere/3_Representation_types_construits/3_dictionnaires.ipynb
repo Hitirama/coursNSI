{
 "cells": [
  {
   "cell_type": "markdown",
   "metadata": {},
   "source": [
    "[Accueil](../../index.ipynb) > [Sommaire Première](../index.ipynb)"
   ]
  },
  {
   "cell_type": "markdown",
   "metadata": {},
   "source": [
    "# 3.3 Types constuits : les dictionnaires\n",
    "\n",
    "## Définition\n",
    "\n",
    "<div class=\"alert alert-info\">\n",
    "    <b>Définition</b>\n",
    "    Un dictionnaire ( parfois appelé “<i>tableau associatif</i>\" ou “<i>table de hachage</i>”) est une <b>collection non ordonnée</b> d’éléments.</div>\n",
    "</div>\n",
    "\n",
    "A partir d’une **clé** (unique) on accède à la **valeur** qui lui est associée.\n",
    "\n",
    "Les dictionnaires, à l’instar des listes, sont **mutables** : on peut modifier leur contenu.\n",
    "Les clés du dictionnaire doivent être **uniques** et **non mutables** (chaîne de caractères, nombre, tuple).\n",
    "Les valeurs associées peuvent être d’un type quelconque.\n",
    "\n",
    "Les listes chaînées (liste ou tuple en python) ne permettent pas d'accéder directement à un élément précis. Il faut parcourir la liste en avançant d'élément en élément jusqu'à trouver celui qu'on recherche. Cela pose des problèmes de performance dès que la liste chaînée devient volumineuse.\n",
    "\n"
   ]
  },
  {
   "cell_type": "code",
   "execution_count": 8,
   "metadata": {},
   "outputs": [
    {
     "name": "stdout",
     "output_type": "stream",
     "text": [
      "282 ns ± 0.216 ns per loop (mean ± std. dev. of 7 runs, 1000000 loops each)\n"
     ]
    }
   ],
   "source": [
    "%timeit  'x' in range(10)"
   ]
  },
  {
   "cell_type": "code",
   "execution_count": 2,
   "metadata": {},
   "outputs": [
    {
     "name": "stdout",
     "output_type": "stream",
     "text": [
      "191 µs ± 1.01 µs per loop (mean ± std. dev. of 7 runs, 10000 loops each)\n"
     ]
    }
   ],
   "source": [
    "%timeit 'x' in range(10_000)"
   ]
  },
  {
   "cell_type": "code",
   "execution_count": 3,
   "metadata": {},
   "outputs": [
    {
     "name": "stdout",
     "output_type": "stream",
     "text": [
      "225 ms ± 2.46 ms per loop (mean ± std. dev. of 7 runs, 1 loop each)\n"
     ]
    }
   ],
   "source": [
    "%timeit 'x' in range(10_000_000)"
   ]
  },
  {
   "cell_type": "markdown",
   "metadata": {},
   "source": [
    "Mettons en évidence la linéarité entre le temps nécessaire à l'appartenance de l'élément 'x' à une liste d'entiers (pire des cas) et la longeur de la liste."
   ]
  },
  {
   "cell_type": "code",
   "execution_count": 55,
   "metadata": {},
   "outputs": [
    {
     "data": {
      "image/png": "[encoded data removed]",
      "text/plain": [
       "<Figure size 720x432 with 1 Axes>"
      ]
     },
     "metadata": {
      "needs_background": "light"
     },
     "output_type": "display_data"
    }
   ],
   "source": [
    "import matplotlib.pyplot as plt\n",
    "\n",
    "quantites = [1000*n for n in range(0, 11)] # je crée la liste [0, 1000, 2000, ... 10000]\n",
    "results = []\n",
    "for q in quantites:\n",
    "    l = [e for e in range(q)] # Je créé la liste\n",
    "    stats = %timeit -q -o -n 200 'x' in l # 'x' n'appartient pas à la liste\n",
    "    results.append(stats.average)\n",
    "\n",
    "plt.figure(figsize=(10,6))\n",
    "plt.ylim(top=max(results))\n",
    "plt.scatter(quantites,results)\n",
    "plt.grid(which='both')\n",
    "plt.title(\"Temps d'execution moyen d'appartenance à 'x' à la liste de range(n)\")\n",
    "plt.xlabel('nombre d\\éléménts dans la liste')\n",
    "plt.ylabel('temps en s')\n",
    "plt.show()"
   ]
  },
  {
   "cell_type": "markdown",
   "metadata": {},
   "source": [
    "## Implémentation en Python"
   ]
  },
  {
   "cell_type": "markdown",
   "metadata": {},
   "source": [
    "### Création d'un dictionnaire\n",
    "\n",
    "- Pour créer un dictionnaire on utilise un couple d'accolades {}\n",
    "- Les éléments du dictionnaire sont séparés par des virgules\n",
    "- le couple clé/valeur est séparé par ':'\n",
    "\n",
    "**Exemple :**"
   ]
  },
  {
   "cell_type": "code",
   "execution_count": 2,
   "metadata": {},
   "outputs": [
    {
     "data": {
      "text/plain": [
       "{'nom': 'Gérard',\n",
       " 'age': 75,\n",
       " 'commentaire': 'un lascar',\n",
       " 'enfants': ['Maurice', 'Corinne']}"
      ]
     },
     "execution_count": 2,
     "metadata": {},
     "output_type": "execute_result"
    }
   ],
   "source": [
    "dico = {'nom':'Gérard', 'age':75, 'commentaire':'un lascar', 'enfants':['Maurice','Corinne']}\n",
    "# J'ai un dictionnaire dont les clés sont : 'nom', 'age', 'commentaire' et 'enfants'\n",
    "# La valeur de la clé 'age' est le nombre 75\n",
    "# la valeur de la clé 'enfants' est une liste\n",
    "dico"
   ]
  },
  {
   "cell_type": "markdown",
   "metadata": {},
   "source": [
    "**Exemple2 :**\n",
    "\n",
    "Un dictionnaire est **mutable**, on peut donc le modifier en le **peuplant** de clés/valeurs:"
   ]
  },
  {
   "cell_type": "code",
   "execution_count": 6,
   "metadata": {},
   "outputs": [
    {
     "data": {
      "text/plain": [
       "{'nom': 'Brandon',\n",
       " 'age': 25,\n",
       " 'commentaire': 'un sacré bout en train',\n",
       " 'enfants': ['Kevin', 'Sandy']}"
      ]
     },
     "execution_count": 6,
     "metadata": {},
     "output_type": "execute_result"
    }
   ],
   "source": [
    "dico2 = {}  # Je crée un dictionnaire vide\n",
    "dico2['nom'] = 'Brandon' # J'ajoute la clé/valeur nom:Brandon\n",
    "dico2['age'] = 25\n",
    "dico2['commentaire'] = 'un sacré bout en train'\n",
    "dico2['enfants'] = ['Kevin', 'Sandy']\n",
    "dico2"
   ]
  },
  {
   "cell_type": "markdown",
   "metadata": {},
   "source": [
    "**Exemple 3 :**\n",
    "\n",
    "Il est également possible de créer un dictionnaire par **compréhension**."
   ]
  },
  {
   "cell_type": "code",
   "execution_count": 31,
   "metadata": {},
   "outputs": [
    {
     "data": {
      "text/plain": [
       "{'nom': 'Barnabé', 'age': 27, 'enfants': ['Gaston', 'Louise']}"
      ]
     },
     "execution_count": 31,
     "metadata": {},
     "output_type": "execute_result"
    }
   ],
   "source": [
    "# voici une liste de tuples\n",
    "l = [('nom', 'Barnabé'), ('age', 27), ('enfants', ['Gaston', 'Louise'])]\n",
    "# créons un dictionnaire dont les clés sont les premiers éléments des tuples et les valeurs les deuxièmes.\n",
    "dico3 = {k:v for k,v in l}\n",
    "dico3"
   ]
  },
  {
   "cell_type": "markdown",
   "metadata": {},
   "source": [
    "### Accès à une donnée par clé\n",
    "\n",
    "l'accès à une valeur s'effectue en spécifiant la clé:"
   ]
  },
  {
   "cell_type": "code",
   "execution_count": 7,
   "metadata": {},
   "outputs": [
    {
     "data": {
      "text/plain": [
       "25"
      ]
     },
     "execution_count": 7,
     "metadata": {},
     "output_type": "execute_result"
    }
   ],
   "source": [
    "dico2['age']"
   ]
  },
  {
   "cell_type": "markdown",
   "metadata": {},
   "source": [
    "On peut également utiliser *get(key, [default])* qui retourne la valeur associée à *key* si celle ci est présente. Une valeur par défaut optionnelle est retournée si la clé est absente."
   ]
  },
  {
   "cell_type": "code",
   "execution_count": 26,
   "metadata": {},
   "outputs": [
    {
     "data": {
      "text/plain": [
       "'un sacré bout en train'"
      ]
     },
     "execution_count": 26,
     "metadata": {},
     "output_type": "execute_result"
    }
   ],
   "source": [
    "dico2.get('commentaire')"
   ]
  },
  {
   "cell_type": "code",
   "execution_count": 27,
   "metadata": {},
   "outputs": [
    {
     "data": {
      "text/plain": [
       "'Non précisé'"
      ]
     },
     "execution_count": 27,
     "metadata": {},
     "output_type": "execute_result"
    }
   ],
   "source": [
    "dico2.get('pere', 'Non précisé')"
   ]
  },
  {
   "cell_type": "markdown",
   "metadata": {},
   "source": [
    "### Itération sur un dictionnaire\n",
    "\n",
    "Un dictionnaire est itérable. Voici le comportement."
   ]
  },
  {
   "cell_type": "code",
   "execution_count": 29,
   "metadata": {},
   "outputs": [
    {
     "name": "stdout",
     "output_type": "stream",
     "text": [
      "nom\n",
      "age\n",
      "commentaire\n",
      "enfants\n"
     ]
    }
   ],
   "source": [
    "for k in dico2:\n",
    "    print(k)"
   ]
  },
  {
   "cell_type": "markdown",
   "metadata": {},
   "source": [
    "On peut également avoir l'ensemble des valeurs en utilisant *values*."
   ]
  },
  {
   "cell_type": "code",
   "execution_count": 32,
   "metadata": {},
   "outputs": [
    {
     "name": "stdout",
     "output_type": "stream",
     "text": [
      "Brandon\n",
      "27\n",
      "un sacré bout en train\n",
      "['Kevin', 'Sandy']\n"
     ]
    }
   ],
   "source": [
    "for v in dico2.values():\n",
    "    print(v)"
   ]
  },
  {
   "cell_type": "markdown",
   "metadata": {},
   "source": [
    "### Modification des valeurs\n",
    "\n",
    "Un dictionnaire est **mutable**, on peut donc modifier la valeur associée à une clé."
   ]
  },
  {
   "cell_type": "code",
   "execution_count": 8,
   "metadata": {},
   "outputs": [
    {
     "data": {
      "text/plain": [
       "{'nom': 'Brandon',\n",
       " 'age': 27,\n",
       " 'commentaire': 'un sacré bout en train',\n",
       " 'enfants': ['Kevin', 'Sandy']}"
      ]
     },
     "execution_count": 8,
     "metadata": {},
     "output_type": "execute_result"
    }
   ],
   "source": [
    "dico2['age'] = 27\n",
    "dico2"
   ]
  },
  {
   "cell_type": "markdown",
   "metadata": {},
   "source": [
    "### Attention aux affectations\n",
    "\n",
    "<div class=\"alert alert-danger\">\n",
    "   Attention, ayez bien à l'esprit le comportement suivant lorsque vous écrivez du Python: \n",
    "    \n",
    "</div>"
   ]
  },
  {
   "cell_type": "code",
   "execution_count": 12,
   "metadata": {},
   "outputs": [
    {
     "data": {
      "text/plain": [
       "{'nom': 'Poutine', 'prenom': 'Vladimort'}"
      ]
     },
     "execution_count": 12,
     "metadata": {},
     "output_type": "execute_result"
    }
   ],
   "source": [
    "personne1 = {'nom' : 'Poutine', 'prenom' : 'Vladimir'}\n",
    "personne2 = personne1 # J'affecte la variable personne1 dans personne2\n",
    "\n",
    "personne1['prenom'] = 'Vladimort' # Je modifie la personne 1\n",
    "personne1"
   ]
  },
  {
   "cell_type": "code",
   "execution_count": 13,
   "metadata": {},
   "outputs": [
    {
     "data": {
      "text/plain": [
       "{'nom': 'Poutine', 'prenom': 'Vladimort'}"
      ]
     },
     "execution_count": 13,
     "metadata": {},
     "output_type": "execute_result"
    }
   ],
   "source": [
    "personne2"
   ]
  },
  {
   "cell_type": "markdown",
   "metadata": {},
   "source": [
    "En modifiant *personne1*, j'ai également modifié *personne2*. Ces deux variables **pointent** vers la même référence en mémoire.\n",
    "\n",
    "Et il en est de même pour les **listes**."
   ]
  },
  {
   "cell_type": "code",
   "execution_count": 19,
   "metadata": {},
   "outputs": [
    {
     "name": "stdout",
     "output_type": "stream",
     "text": [
      "l1 pointe sur l'adresse mémoire 140575455811840\n",
      "l2 pointe sur l'adresse mémoire 140575455811840\n"
     ]
    },
    {
     "data": {
      "text/plain": [
       "[1, 2, 3, 4]"
      ]
     },
     "execution_count": 19,
     "metadata": {},
     "output_type": "execute_result"
    }
   ],
   "source": [
    "l1 = [1, 2, 3]\n",
    "l2 = l1\n",
    "l1.append(4)\n",
    "print(f\"l1 pointe sur l'adresse mémoire {id(l1)}\")\n",
    "print(f\"l2 pointe sur l'adresse mémoire {id(l2)}\")\n",
    "l2"
   ]
  },
  {
   "cell_type": "markdown",
   "metadata": {},
   "source": [
    "Le comportement est **différent** pour les **chaines de caractères**."
   ]
  },
  {
   "cell_type": "code",
   "execution_count": 23,
   "metadata": {},
   "outputs": [
    {
     "name": "stdout",
     "output_type": "stream",
     "text": [
      "mot1 pointe sur l'adresse mémoire 140575455813744\n",
      "mot2 pointe sur l'adresse mémoire 140575455813744\n",
      "mot1 pointe sur l'adresse mémoire 140575455843568\n",
      "mot2 pointe sur l'adresse mémoire 140575455813744\n",
      "Maintenant mot1 vaut 'Bonjourr' alors que mot2 vaut 'Bonjour'.\n"
     ]
    }
   ],
   "source": [
    "mot1 = 'Bonjour'\n",
    "mot2 = mot1\n",
    "print(f\"mot1 pointe sur l'adresse mémoire {id(mot1)}\")\n",
    "print(f\"mot2 pointe sur l'adresse mémoire {id(mot2)}\")\n",
    "\n",
    "mot1 += 'r'\n",
    "mot2\n",
    "print(f\"mot1 pointe sur l'adresse mémoire {id(mot1)}\")\n",
    "print(f\"mot2 pointe sur l'adresse mémoire {id(mot2)}\")\n",
    "\n",
    "print(f\"Maintenant mot1 vaut '{mot1}' alors que mot2 vaut '{mot2}'.\")"
   ]
  },
  {
   "cell_type": "markdown",
   "metadata": {},
   "source": [
    "Si vous voulez **copier** un dictionnaire, ilfaut utiliser la fonction **copy**"
   ]
  },
  {
   "cell_type": "code",
   "execution_count": 24,
   "metadata": {},
   "outputs": [
    {
     "data": {
      "text/plain": [
       "{'nom': 'Poutine', 'prenom': 'Vladimir'}"
      ]
     },
     "execution_count": 24,
     "metadata": {},
     "output_type": "execute_result"
    }
   ],
   "source": [
    "personne1 = {'nom' : 'Poutine', 'prenom' : 'Vladimir'}\n",
    "personne2 = personne1.copy() # J'affecte une copie de la variable personne1 dans personne2\n",
    "\n",
    "personne1['prenom'] = 'Vladimort'\n",
    "personne2 # personne2, n'aura pas été affecté par la modification de personne1"
   ]
  },
  {
   "cell_type": "markdown",
   "metadata": {},
   "source": [
    "### Suppression de clé/valeur\n",
    "\n",
    "si on désire supprimer une clé, on utilise la commande *del*."
   ]
  },
  {
   "cell_type": "code",
   "execution_count": 34,
   "metadata": {},
   "outputs": [
    {
     "data": {
      "text/plain": [
       "{'nom': 'Brandon', 'age': 27, 'enfants': ['Kevin', 'Sandy']}"
      ]
     },
     "execution_count": 34,
     "metadata": {},
     "output_type": "execute_result"
    }
   ],
   "source": [
    "del(dico2['commentaire'])\n",
    "dico2"
   ]
  },
  {
   "cell_type": "markdown",
   "metadata": {},
   "source": [
    "### Temps d'accès en fonction de la taille du dictionnaire."
   ]
  },
  {
   "cell_type": "code",
   "execution_count": 51,
   "metadata": {},
   "outputs": [
    {
     "data": {
      "image/png": "[encoded data removed]",
      "text/plain": [
       "<Figure size 720x432 with 1 Axes>"
      ]
     },
     "metadata": {
      "needs_background": "light"
     },
     "output_type": "display_data"
    }
   ],
   "source": [
    "import matplotlib.pyplot as plt\n",
    "\n",
    "quantites = [1000*n for n in range(0, 11)] # je crée la liste [0, 1000, 2000, ... 10000]\n",
    "results = []\n",
    "for q in quantites:\n",
    "    d = {q:0 for q in range(q)} # Je crée un dictionnaire de q clés, ayant toutes la valeur 0\n",
    "    stats = %timeit -q -o -n 100000 d.get(-1, 'rien') # le dictionnaire n'a pas la clé -1\n",
    "    results.append(stats.average)\n",
    "\n",
    "plt.figure(figsize=(10,6))\n",
    "plt.ylim(top=max(results))\n",
    "plt.scatter(quantites,results)\n",
    "plt.grid(which='both')\n",
    "plt.title(\"Temps d'execution moyen de la recherche d'une clé absente d'un dictionnaire de n clés\")\n",
    "plt.xlabel('nombre de clés dans le dictionnaire')\n",
    "plt.ylabel('temps en s')\n",
    "plt.show()"
   ]
  },
  {
   "cell_type": "markdown",
   "metadata": {},
   "source": [
    "Contrairement aux listes, on constate que le temps de recherche d'une clé non présente dans le dictionnaire est **indépendante** de la taille du dictionnaire."
   ]
  },
  {
   "cell_type": "markdown",
   "metadata": {},
   "source": [
    "[Accueil](../../index.ipynb) > [Sommaire Première](../index.ipynb)"
   ]
  }
 ],
 "metadata": {
  "kernelspec": {
   "display_name": "Python 3 (ipykernel)",
   "language": "python",
   "name": "python3"
  },
  "language_info": {
   "codemirror_mode": {
    "name": "ipython",
    "version": 3
   },
   "file_extension": ".py",
   "mimetype": "text/x-python",
   "name": "python",
   "nbconvert_exporter": "python",
   "pygments_lexer": "ipython3",
   "version": "3.10.6"
  }
 },
 "nbformat": 4,
 "nbformat_minor": 4
}
