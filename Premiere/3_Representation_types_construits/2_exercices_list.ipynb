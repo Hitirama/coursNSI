{
 "cells": [
  {
   "cell_type": "markdown",
   "id": "8ed9cdac-6480-468f-93cf-b8b5a5334b64",
   "metadata": {},
   "source": [
    "[Accueil](../../index.ipynb) > [Sommaire Première](../index.ipynb) > [Les tableaux](2_tableaux_indexes.ipynb)"
   ]
  },
  {
   "cell_type": "markdown",
   "id": "c76924aa-6064-41aa-b7ca-09bfcfe7bb04",
   "metadata": {},
   "source": [
    "# Exercices sur les listes"
   ]
  },
  {
   "cell_type": "markdown",
   "id": "c27cb80b-1594-41d8-a59f-9504e1347d07",
   "metadata": {},
   "source": [
    "## Exercice 1"
   ]
  },
  {
   "cell_type": "markdown",
   "id": "fec2fd33-7b81-4c92-9352-26ec4de3b1da",
   "metadata": {},
   "source": [
    "Créer la liste des nombres entiers pairs de 0 à 30."
   ]
  },
  {
   "cell_type": "code",
   "execution_count": null,
   "id": "560e032a-6244-47c4-8dba-16e8b9c3f9fc",
   "metadata": {},
   "outputs": [],
   "source": [
    "# A vous de coder"
   ]
  },
  {
   "cell_type": "markdown",
   "id": "ac1a8226-8b6e-4361-829f-081e8c7a3345",
   "metadata": {},
   "source": [
    "## Exercice 2"
   ]
  },
  {
   "cell_type": "markdown",
   "id": "e179c0c7-f68e-47f1-bcb0-eaf1e113d437",
   "metadata": {},
   "source": [
    "Ci dessous un tuple de tuple.\n",
    "\n",
    "Retourner la liste des prénoms des personnes."
   ]
  },
  {
   "cell_type": "code",
   "execution_count": null,
   "id": "47a39bdd-82de-4bd1-8659-ae6f0b437c65",
   "metadata": {},
   "outputs": [],
   "source": [
    "personnes = (('Yvonne',1925), ('Zébulon',1934), ('Albert',1923), ('Raymond',1921), ('Maurice',1945))\n",
    "\n",
    "# à vous de coder"
   ]
  },
  {
   "cell_type": "markdown",
   "id": "39204d83-1203-44e3-a0f2-f574b1d4e4b9",
   "metadata": {},
   "source": [
    "## Exercice 3"
   ]
  },
  {
   "cell_type": "markdown",
   "id": "fcd238d5-8819-445d-800a-75a05b7ad0eb",
   "metadata": {},
   "source": [
    "Ecrire la fonction *get_word_ending_with(words, ending)*\n",
    "\n",
    "Voir la méthode *endswith*"
   ]
  },
  {
   "cell_type": "code",
   "execution_count": null,
   "id": "9d5fcf78-8019-46b0-9c56-f423a4956fca",
   "metadata": {},
   "outputs": [],
   "source": [
    "def get_word_ending_with(words, ending):\n",
    "    \"\"\"\n",
    "    words (liste) : une liste de chaînes de caractères.\n",
    "    ending (str) : la chaine de caractère\n",
    "    retourne la liste des mots qui se termine par ending\n",
    "    \"\"\"\n",
    "    pass\n",
    "\n",
    "# --------------- TESTS : A NE MODIFIER EN AUCUN CAS --------------\n",
    "prenoms = ['Yvonne', 'Zébulon', 'Albert', 'Raymond', 'Maurice', 'Yvon']\n",
    "\n",
    "result = get_word_ending_with(prenoms, 'e')\n",
    "expected = ['Yvonne', 'Maurice']\n",
    "assert result == expected, f\"Le résultat aurait dû être {expected} mais vaut {result}\"\n",
    "result = get_word_ending_with(prenoms, 'on')\n",
    "expected = ['Zébulon', 'Yvon']\n",
    "assert result == expected, f\"Le résultat aurait dû être {expected} mais vaut {result}\"\n"
   ]
  },
  {
   "cell_type": "markdown",
   "id": "f014f9f2-1ea0-4f2f-a465-dc9803a329f3",
   "metadata": {},
   "source": [
    "## Exercice 4"
   ]
  },
  {
   "cell_type": "markdown",
   "id": "83d25cc9-23f0-4c53-ada0-60d548d0fd7e",
   "metadata": {},
   "source": [
    "Ecrire une fonction *mots_classes(liste_mots)* "
   ]
  },
  {
   "cell_type": "code",
   "execution_count": null,
   "id": "462123d6-4ccf-48e9-8ca5-9c0156839fa5",
   "metadata": {},
   "outputs": [],
   "source": [
    "def mots_classes(liste_mots):\n",
    "    \"\"\"\n",
    "    liste_mots (liste) : une liste de chaînes de caractères.\n",
    "    retourne une liste de tuples:\n",
    "      premier élément du tuple : est le numéro de classement alphabétique du mot\n",
    "      deuxième élément du tuple : le mot lui même.\n",
    "    \"\"\"\n",
    "    pass # à vous de coder ici\n",
    "\n",
    "# --------------- TESTS : A NE MODIFIER EN AUCUN CAS --------------\n",
    "prenoms = ['Yvonne', 'Zébulon', 'Albert', 'Raymond', 'Maurice']\n",
    "result = mots_classes(prenoms)\n",
    "expected = [(1, 'Albert'), (2, 'Maurice'), (3, 'Raymond'), (4, 'Yvonne'), (5, 'Zébulon')]\n",
    "assert result == expected, f\"Le résultat aurait dû être {expected} mais vaut {result}\""
   ]
  },
  {
   "cell_type": "markdown",
   "id": "5cb3b169-645f-47af-85e8-2ed27f43f3a2",
   "metadata": {},
   "source": [
    "## Exercice 5"
   ]
  },
  {
   "cell_type": "markdown",
   "id": "f50b4bf1-413d-4141-9fcb-47a3dc88b619",
   "metadata": {},
   "source": [
    "Ecrire la fonction *table_multiplication(n)*"
   ]
  },
  {
   "cell_type": "code",
   "execution_count": null,
   "id": "806cca99-3665-4da0-a869-5ef0b0eec935",
   "metadata": {},
   "outputs": [],
   "source": [
    "def table_multiplication(n):\n",
    "    \"\"\"\n",
    "    n (int) : un nombre entier\n",
    "    retourne sous forme de liste de listes, les tables de multiplications de 1 à n\n",
    "    \"\"\"\n",
    "    pass\n",
    "\n",
    "# --------------- TESTS : A NE MODIFIER EN AUCUN CAS --------------\n",
    "\n",
    "result = table_multiplication(5)\n",
    "expected = [\n",
    "    [1, 2, 3, 4, 5],\n",
    "    [2, 4, 6, 8, 10],\n",
    "    [3, 6, 9, 12, 15],\n",
    "    [4, 8, 12, 16, 20],\n",
    "    [5, 10, 15, 20, 25]\n",
    "]\n",
    "\n",
    "assert result == expected, f\"Le résultat aurait dû être {expected} mais vaut {result}\"\n",
    "\n",
    "\n",
    "result = table_multiplication(10)\n",
    "expected = [\n",
    "    [1, 2, 3, 4, 5, 6, 7, 8, 9, 10],\n",
    "    [2, 4, 6, 8, 10, 12, 14, 16, 18, 20],\n",
    "    [3, 6, 9, 12, 15, 18, 21, 24, 27, 30],\n",
    "    [4, 8, 12, 16, 20, 24, 28, 32, 36, 40],\n",
    "    [5, 10, 15, 20, 25, 30, 35, 40, 45, 50],\n",
    "    [6, 12, 18, 24, 30, 36, 42, 48, 54, 60],\n",
    "    [7, 14, 21, 28, 35, 42, 49, 56, 63, 70], \n",
    "    [8, 16, 24, 32, 40, 48, 56, 64, 72, 80],\n",
    "    [9, 18, 27, 36, 45, 54, 63, 72, 81, 90], \n",
    "    [10, 20, 30, 40, 50, 60, 70, 80, 90, 100]\n",
    "]\n",
    "assert result == expected, f\"Le résultat aurait dû être {expected} mais vaut {result}\""
   ]
  },
  {
   "cell_type": "markdown",
   "id": "135f8d04-47c1-456e-86b8-027778d236e0",
   "metadata": {},
   "source": [
    "## Exercice 6"
   ]
  },
  {
   "cell_type": "code",
   "execution_count": null,
   "id": "90b5cb1d-0b0c-4752-9c3a-1ea86003e233",
   "metadata": {},
   "outputs": [],
   "source": [
    "\n",
    "def trace(matrix):\n",
    "    \"\"\"\n",
    "    Retourne la trace de la matrice carrée passée en argument (somme des nombres de la diagonale)\n",
    "    \"\"\"\n",
    "    pass\n",
    "\n",
    "# --------------- TESTS : A NE MODIFIER EN AUCUN CAS --------------\n",
    "matrice1 = [\n",
    "    [2, 4, 5],\n",
    "    [6, 8, -1],\n",
    "    [8, 5, 1],\n",
    "]\n",
    "\n",
    "result = trace(matrice1)\n",
    "expected = 2+8+1\n",
    "assert result == expected, f\"Le résultat aurait dû être {expected} mais vaut {result}\"\n",
    "\n",
    "\n",
    "matrice2 = [\n",
    "    [2, 40, 5, 80],\n",
    "    [6, -2, 1, 50],\n",
    "    [8, 30, 1, 10],\n",
    "    [8, 31, 1, -1],\n",
    "]\n",
    "\n",
    "result = trace(matrice2)\n",
    "expected = 2-2+1-1\n",
    "assert result == expected, f\"Le résultat aurait dû être {expected} mais vaut {result}\""
   ]
  },
  {
   "cell_type": "markdown",
   "id": "4f171ea6-0faa-486d-9aa3-76f53b890ec3",
   "metadata": {},
   "source": [
    "## Exercice 7\n",
    "\n",
    "```python\n",
    "tableau=\\[[1,2,3],\n",
    "          [4,5,6],\n",
    "          [7,8,9]]\n",
    "```\n",
    "Construire le tableau transposé c’est à dire:\n",
    "\n",
    "```python\n",
    "[[1, 4, 7],\n",
    " [2, 5, 8],\n",
    " [3, 6, 9]]\n",
    "```"
   ]
  },
  {
   "cell_type": "code",
   "execution_count": null,
   "id": "1cfd4aa3-4d50-45f0-8416-6f862f49c738",
   "metadata": {},
   "outputs": [],
   "source": [
    "def transpose(matrix):\n",
    "    \"\"\"\n",
    "    Retourne la transposé d'une matrice \n",
    "    \"\"\"\n",
    "    # J'initialise ma transpose à une liste vide\n",
    "    # Je calcule la hauteur et la largeur de la matrice\n",
    "    # Je boucle sur l'indice de la largeur\n",
    "        # Je crée une nouvelle ligne\n",
    "        # Je boucle sur l'indice de la hauteur\n",
    "            # j'ajoute matrice[j][i] dans ma nouvelle ligne\n",
    "        # J'ajoute ma nouvelle ligne dans ma transpose\n",
    "    # Je retourne la transpose\n",
    "    pass\n",
    "\n",
    "# --------------- TESTS : A NE MODIFIER EN AUCUN CAS --------------\n",
    "matrice1 = [\n",
    "    [2, 4, 5],\n",
    "    [6, 8, -1],\n",
    "    [8, 5, 1],\n",
    "]\n",
    "result = transpose(matrice1)\n",
    "expected = [\n",
    "    [2, 6, 8],\n",
    "    [4, 8, 5],\n",
    "    [5, -1, 1]\n",
    "]\n",
    "assert result == expected, f\"Le résultat aurait dû être {expected} mais vaut {result}\"\n",
    "\n",
    "matrice2 = [\n",
    "    [2, 40, 5, 80],\n",
    "    [6, -2, 1, 50],\n",
    "    [8, 30, 1, 10],\n",
    "    [8, 31, 1, -1],\n",
    "]\n",
    "result = transpose(matrice2)\n",
    "expected = [\n",
    "    [2, 6, 8, 8],\n",
    "    [40, -2, 30, 31],\n",
    "    [5, 1, 1, 1],\n",
    "    [80, 50, 10, -1]\n",
    "]\n",
    "assert result == expected, f\"Le résultat aurait dû être {expected} mais vaut {result}\""
   ]
  },
  {
   "cell_type": "markdown",
   "id": "32e63574-8094-4851-8f73-13c87b3f237d",
   "metadata": {},
   "source": [
    "[Accueil](../../index.ipynb) > [Sommaire Première](../index.ipynb) > [Les tableaux](2_tableaux_indexes.ipynb)"
   ]
  }
 ],
 "metadata": {
  "kernelspec": {
   "display_name": "Python 3 (ipykernel)",
   "language": "python",
   "name": "python3"
  },
  "language_info": {
   "codemirror_mode": {
    "name": "ipython",
    "version": 3
   },
   "file_extension": ".py",
   "mimetype": "text/x-python",
   "name": "python",
   "nbconvert_exporter": "python",
   "pygments_lexer": "ipython3",
   "version": "3.10.12"
  }
 },
 "nbformat": 4,
 "nbformat_minor": 5
}
