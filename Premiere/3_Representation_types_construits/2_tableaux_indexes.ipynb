{
 "cells": [
  {
   "cell_type": "markdown",
   "metadata": {},
   "source": [
    "[Retour au sommaire](../index.ipynb)"
   ]
  },
  {
   "cell_type": "markdown",
   "metadata": {},
   "source": [
    "# 3.2 Types constuits : les tableaux\n",
    "\n",
    "A l’instar des tuples, les tableaux sont des **collections ordonnées** d’éléments, la différence notable est qu’ils sont **mutables** : on peut **modifier** le contenu mais également **ajouter** ou **supprimer** des éléments du tableau.\n",
    "\n",
    "Dans le langage informatique :\n",
    "\n",
    "- un **tableau** (array en anglais) est une collection ordonnée d'éléments **de même type**.\n",
    "- une **liste** (list en anglais) est une collection ordonnée d'éléments **pouvant être de types différents**.\n",
    "\n",
    "<div class=\"alert alert-info\">En Python le type construit le plus couramment employé est la liste. Il existe également un type <a href=\"https://docs.python.org/3/library/array.html\">tableau</a> mais que nous n'utiliserons pas dans ce cours.</div>\n",
    "\n",
    "<div class=\"alert alert-info\">Dans la suite du cours, j'emploierai le terme de tableau bien que j'utilise les listes de Python.</div>"
   ]
  },
  {
   "cell_type": "markdown",
   "metadata": {},
   "source": [
    "## Points communs avec les tuples\n",
    "\n",
    "Les tableaux partagent beaucoup de points communs avec les tuples :\n",
    "\n",
    "- On accède aux éléments par index;\n",
    "- les slices fonctionnent de la même manière;\n",
    "- les fonctions min, max, len... peuvent être appliquées sur un tableau;\n",
    "- les opérateurs + et * fonctionnent également;\n",
    "- on peut boucler sur un tableau avec le 'for'."
   ]
  },
  {
   "cell_type": "markdown",
   "metadata": {},
   "source": [
    "## Création d'un tableau\n",
    "\n",
    "Les tableaux peuvent s'instancier comme les tuples à la différence qu'on utilises de \\[ \\] et non des ( )."
   ]
  },
  {
   "cell_type": "code",
   "execution_count": null,
   "metadata": {},
   "outputs": [],
   "source": [
    "mon_tableau_vide = []  # création d'un tableau vide\n",
    "type(mon_tableau_vide) # Python va afficher que le type est 'List'"
   ]
  },
  {
   "cell_type": "code",
   "execution_count": null,
   "metadata": {},
   "outputs": [],
   "source": [
    "mon_tableau1 = ['Fiml', 'La vie de Brian', 'Terry Jones'] # création d'un tableau 'à la main'\n",
    "mon_tableau1[0]"
   ]
  },
  {
   "cell_type": "code",
   "execution_count": null,
   "metadata": {},
   "outputs": [],
   "source": [
    "mon_tableau1[0] = 'Film' # je peux modifier le contenu\n",
    "mon_tableau1"
   ]
  },
  {
   "cell_type": "code",
   "execution_count": null,
   "metadata": {},
   "outputs": [],
   "source": [
    "t = ['Ni! ']*10\n",
    "t"
   ]
  },
  {
   "cell_type": "code",
   "execution_count": null,
   "metadata": {},
   "outputs": [],
   "source": [
    "t1 = ['a', 'b', 'c']\n",
    "t1 + ['d'] # addition de 2 tableaux"
   ]
  },
  {
   "cell_type": "markdown",
   "metadata": {},
   "source": [
    "## remplissage d'un tableau\n",
    "Contrairement aux tuples les tableaux sont mutables. On peut, par exemple, ajouter des éléments."
   ]
  },
  {
   "cell_type": "code",
   "execution_count": 20,
   "metadata": {},
   "outputs": [
    {
     "data": {
      "text/plain": [
       "['m', 'i', 'n', 's', 't', 'r', 'y', ' ', 'o', 'f', 'l', 'w', 'a', 'k']"
      ]
     },
     "execution_count": 20,
     "metadata": {},
     "output_type": "execute_result"
    }
   ],
   "source": [
    "lettres = []  # création d'un tableau vide\n",
    "ma_chaine = 'Ministry of silly walks' #voir vidéo sur https://www.dailymotion.com/video/xmbzbq\n",
    "for letter in ma_chaine.lower(): # je boucle sur chaque lettre de ma_chaine passée en minuscule\n",
    "    if letter not in lettres:    # si la lettre n'est pas présente dans mon tableau\n",
    "        lettres.append(letter)   # je l'ajoute\n",
    "\n",
    "lettres"
   ]
  },
  {
   "cell_type": "markdown",
   "metadata": {},
   "source": [
    "<div id=\"comprenhension_list\"></div>\n",
    "\n",
    "## Tableaux construits par compréhension\n",
    "\n",
    "Il existe une manière beaucoup plus compacte de créer des tableaux : par compréhension.\n",
    "\n",
    "La syntaxe ressemble à celle utilisée en mathématiques $ S = \\{x|x \\in  \\mathbb{N}, x^2<25\\}$\n",
    "\n",
    "Par exemple voici **la liste des carrés pairs pour les nombres de 0 à 10**"
   ]
  },
  {
   "cell_type": "code",
   "execution_count": null,
   "metadata": {},
   "outputs": [],
   "source": [
    "[i**2 for i in range(11) if i**2%2 == 0]"
   ]
  },
  {
   "cell_type": "markdown",
   "metadata": {},
   "source": [
    "La liste des consonnes contenues dans un phrase."
   ]
  },
  {
   "cell_type": "code",
   "execution_count": null,
   "metadata": {},
   "outputs": [],
   "source": [
    "[letter for letter in \"What do you do with witches\" if letter.lower() in \"bcdfghjklmnpqrstvwxz\"]"
   ]
  },
  {
   "cell_type": "markdown",
   "metadata": {},
   "source": [
    "## Modification d'une liste\n",
    "\n",
    "Contrairement aux tuples, les listes sont **mutables**, elles possèdent donc beaucoup plus de **méthodes** (fonctions)\n",
    "\n",
    "<div class=\"alert alert-info\">Pour connaitre les méthodes d'un objet, on utilise le builtin dir().</div>"
   ]
  },
  {
   "cell_type": "code",
   "execution_count": 22,
   "metadata": {},
   "outputs": [
    {
     "data": {
      "text/plain": [
       "['__add__',\n",
       " '__class__',\n",
       " '__contains__',\n",
       " '__delattr__',\n",
       " '__delitem__',\n",
       " '__dir__',\n",
       " '__doc__',\n",
       " '__eq__',\n",
       " '__format__',\n",
       " '__ge__',\n",
       " '__getattribute__',\n",
       " '__getitem__',\n",
       " '__gt__',\n",
       " '__hash__',\n",
       " '__iadd__',\n",
       " '__imul__',\n",
       " '__init__',\n",
       " '__init_subclass__',\n",
       " '__iter__',\n",
       " '__le__',\n",
       " '__len__',\n",
       " '__lt__',\n",
       " '__mul__',\n",
       " '__ne__',\n",
       " '__new__',\n",
       " '__reduce__',\n",
       " '__reduce_ex__',\n",
       " '__repr__',\n",
       " '__reversed__',\n",
       " '__rmul__',\n",
       " '__setattr__',\n",
       " '__setitem__',\n",
       " '__sizeof__',\n",
       " '__str__',\n",
       " '__subclasshook__',\n",
       " 'append',\n",
       " 'clear',\n",
       " 'copy',\n",
       " 'count',\n",
       " 'extend',\n",
       " 'index',\n",
       " 'insert',\n",
       " 'pop',\n",
       " 'remove',\n",
       " 'reverse',\n",
       " 'sort']"
      ]
     },
     "execution_count": 22,
     "metadata": {},
     "output_type": "execute_result"
    }
   ],
   "source": [
    "l = ['un','deux', 'trois']\n",
    "dir(l)"
   ]
  },
  {
   "cell_type": "markdown",
   "metadata": {},
   "source": [
    "Ne tenir compte que des méthodes qui ne commencent pas par '__'"
   ]
  },
  {
   "cell_type": "code",
   "execution_count": 23,
   "metadata": {},
   "outputs": [
    {
     "data": {
      "text/plain": [
       "['append',\n",
       " 'clear',\n",
       " 'copy',\n",
       " 'count',\n",
       " 'extend',\n",
       " 'index',\n",
       " 'insert',\n",
       " 'pop',\n",
       " 'remove',\n",
       " 'reverse',\n",
       " 'sort']"
      ]
     },
     "execution_count": 23,
     "metadata": {},
     "output_type": "execute_result"
    }
   ],
   "source": [
    "[m for m in dir(l) if not m.startswith('__')]"
   ]
  },
  {
   "cell_type": "markdown",
   "metadata": {},
   "source": [
    "<div class=\"alert alert-info\">Pour lire la documentation d’une méthode:</div>"
   ]
  },
  {
   "cell_type": "code",
   "execution_count": 24,
   "metadata": {},
   "outputs": [
    {
     "name": "stdout",
     "output_type": "stream",
     "text": [
      "Remove and return item at index (default last).\n",
      "\n",
      "Raises IndexError if list is empty or index is out of range.\n"
     ]
    }
   ],
   "source": [
    "print(l.pop.__doc__)"
   ]
  },
  {
   "cell_type": "markdown",
   "metadata": {},
   "source": [
    "**A faire**\n",
    "\n",
    "Entraînez vous à comprendre le fonctionnement des méthodes suivantes:\n",
    "\n",
    "- append\n",
    "- count\n",
    "- extend\n",
    "- insert\n",
    "- pop\n",
    "- remove\n",
    "- sort"
   ]
  },
  {
   "cell_type": "code",
   "execution_count": null,
   "metadata": {},
   "outputs": [],
   "source": []
  },
  {
   "cell_type": "markdown",
   "metadata": {},
   "source": [
    "## Exercices"
   ]
  },
  {
   "cell_type": "markdown",
   "metadata": {},
   "source": [
    "### Exercice1\n",
    "\n",
    "Voici une liste de personnes :\n",
    "['Yvonne', 'Zébulon', 'Albert', 'Raymond', 'Maurice']\n",
    "\n",
    "- Afficher les listes des personnes classées par ordre alphabétique avec leur position comme ceci : \n",
    "\n",
    "1 : Albert\n",
    "\n",
    "2 : Maurice\n",
    "\n",
    "3 : Raymond\n",
    "\n",
    "4 : Yvonne\n",
    "\n",
    "5 : Zébulon\n",
    "\n",
    "Voir comment [formater une chaîne de caractère](https://pyformat.info/#simple).\n",
    "\n",
    "- Construire la liste des personnes dont le prénom se termine par un ‘e’. (voir la méthode ‘endswith’)\n"
   ]
  },
  {
   "cell_type": "code",
   "execution_count": null,
   "metadata": {},
   "outputs": [],
   "source": [
    "prenoms = ['Yvonne', 'Zébulon', 'Albert', 'Raymond', 'Maurice']"
   ]
  },
  {
   "cell_type": "markdown",
   "metadata": {},
   "source": [
    "### Exercice 2\n",
    "\n",
    "Créer la liste des nombres pairs de 0 à 100"
   ]
  },
  {
   "cell_type": "code",
   "execution_count": null,
   "metadata": {},
   "outputs": [],
   "source": []
  },
  {
   "cell_type": "markdown",
   "metadata": {},
   "source": [
    "### Exercice 3\n",
    "\n",
    "Trouver ce que représentent chacune de ces listes (sans les executer bien sûr...) :\n",
    "```python\n",
    "liste1 = \\[i**2 for i in range(21) if i%2==1\\]\n",
    "liste2 = \\[l for l in \\['L', 'a', ' ', 'v', 'i', 'e', ' ', 'd', 'e', ' ', 'B', 'r', 'i', 'a', 'n'\\] if l.upper() == l\\]\n",
    "liste3 = \\[i*j for i in range(1,5) for j in 'Brian'\\]\n",
    "```"
   ]
  },
  {
   "cell_type": "markdown",
   "metadata": {},
   "source": [
    "## Des tableaux de tableaux\n",
    "\n",
    "Les tableaux peuvent contenir tous les types simples possibles (int, float, string, boolean) mais également des tableaux ou des tuples.\n",
    "\n",
    "Ceci permet de construire des matrices."
   ]
  },
  {
   "cell_type": "markdown",
   "metadata": {},
   "source": [
    "### Exercice 4\n",
    "\n",
    "La trace d'une matrice carrée est la somme de ces coefficients diagonaux. Dans l'exemple suivant la trace vaut donc 2+8+1=11\n",
    "\n",
    "Ecrire une fonction *trace* qui prend en entrée une matrice carrée et retourne la trace de la matrice.\n"
   ]
  },
  {
   "cell_type": "code",
   "execution_count": 30,
   "metadata": {},
   "outputs": [],
   "source": [
    "matrice = [[2, 4, 5],\n",
    "           [6, 8, -1],\n",
    "           [8, 5, 1],\n",
    "           ]\n",
    "\n",
    "def trace(matrix):\n",
    "    \"\"\"\n",
    "    Retourne la trace de la matrice carrée passé en argument\n",
    "    \"\"\"\n",
    "    pass\n",
    "\n",
    "trace(matrice)"
   ]
  },
  {
   "cell_type": "code",
   "execution_count": 31,
   "metadata": {},
   "outputs": [
    {
     "data": {
      "text/plain": [
       "11"
      ]
     },
     "execution_count": 31,
     "metadata": {},
     "output_type": "execute_result"
    }
   ],
   "source": [
    "def trace(matrix):\n",
    "    \"\"\"\n",
    "    Voici la fonction avec une list comprehension\n",
    "    \"\"\"\n",
    "    return sum([matrix[i][i] for i in range(len(matrix))])\n",
    "    \n",
    "trace(matrice)"
   ]
  },
  {
   "cell_type": "markdown",
   "metadata": {},
   "source": [
    "### Exercice 5\n",
    "\n",
    "Ci dessous un tuple de tuple.\n",
    "\n",
    "Retourner les prénoms des personnes.\n",
    "(une  liste par compréhension serait la bienvenue."
   ]
  },
  {
   "cell_type": "code",
   "execution_count": 39,
   "metadata": {},
   "outputs": [],
   "source": [
    "personnes = (('Yvonne',1925), ('Zébulon',1934), ('Albert',1923), ('Raymond',1921), ('Maurice',1945))"
   ]
  },
  {
   "cell_type": "markdown",
   "metadata": {},
   "source": [
    "### Exercice 6\n",
    "\n",
    "Construire, sous forme de tableau de tableaux, la table de multiplication de 0 à 10."
   ]
  },
  {
   "cell_type": "code",
   "execution_count": null,
   "metadata": {},
   "outputs": [],
   "source": []
  },
  {
   "cell_type": "markdown",
   "metadata": {},
   "source": [
    "### Exercice 7\n",
    "\n",
    "```python\n",
    "tableau=\\[[1,2,3],\n",
    "          [4,5,6],\n",
    "          [7,8,9]]\n",
    "```\n",
    "Construire le tableau transposé c’est à dire:\n",
    "\n",
    "```python\n",
    "[[1, 4, 7],\n",
    " [2, 5, 8],\n",
    " [3, 6, 9]]\n",
    "```"
   ]
  },
  {
   "cell_type": "code",
   "execution_count": null,
   "metadata": {},
   "outputs": [],
   "source": [
    "matrice =[[1,2,3],\n",
    "          [4,5,6],\n",
    "          [7,8,9],\n",
    "          [10, 11, 12]]\n",
    "\n",
    "def transpose(matrix):\n",
    "    \"\"\"\n",
    "    Retourne la transposé d'une matrice \n",
    "    \"\"\"\n",
    "    # J'initialise ma transpose à une liste vide\n",
    "    # Je calcule la hauteur et la largeur de la matrice\n",
    "    # Je boucle sur l'indice de la largeur\n",
    "        # Je crée une nouvelle ligne\n",
    "        # Je boucle sur l'indice de la hauteur\n",
    "            # j'ajoute matrice[j][i] dans ma nouvelle ligne\n",
    "        # J'ajoute ma nouvelle ligne dans ma transpose\n",
    "    # Je retourne la transpose\n",
    "    pass\n",
    "\n",
    "transpose(matrice)"
   ]
  },
  {
   "cell_type": "markdown",
   "metadata": {},
   "source": [
    "Voici ce que ça donne avec une liste comprehension"
   ]
  },
  {
   "cell_type": "code",
   "execution_count": null,
   "metadata": {},
   "outputs": [],
   "source": [
    "def transpose(matrix):\n",
    "    return [[ligne[i] for ligne in matrix] for i in range(len(matrix[0]))]\n",
    "    \n",
    "transpose(matrice)"
   ]
  },
  {
   "cell_type": "markdown",
   "metadata": {},
   "source": [
    "## TP Stéganographie\n",
    "\n",
    "Maintenant que nous savons utiliser les éléments essentiels de Python (condition, boucle, tableau....) il est temps de faire le [TP Stéganographie](../TPs/Steganographie.ipynb)"
   ]
  },
  {
   "cell_type": "markdown",
   "metadata": {},
   "source": [
    "[Retour au sommaire](../index.ipynb)"
   ]
  }
 ],
 "metadata": {
  "kernelspec": {
   "display_name": "Python 3 (ipykernel)",
   "language": "python",
   "name": "python3"
  },
  "language_info": {
   "codemirror_mode": {
    "name": "ipython",
    "version": 3
   },
   "file_extension": ".py",
   "mimetype": "text/x-python",
   "name": "python",
   "nbconvert_exporter": "python",
   "pygments_lexer": "ipython3",
   "version": "3.10.6"
  }
 },
 "nbformat": 4,
 "nbformat_minor": 4
}
