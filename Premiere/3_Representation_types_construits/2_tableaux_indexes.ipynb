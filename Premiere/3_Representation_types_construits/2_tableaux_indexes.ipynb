{
 "cells": [
  {
   "cell_type": "markdown",
   "metadata": {},
   "source": [
    "[Retour au sommaire](../index.ipynb)"
   ]
  },
  {
   "cell_type": "markdown",
   "metadata": {},
   "source": [
    "# 3.2 Types constuits : les tableaux\n",
    "\n",
    "A l’instar des tuples, les tableaux sont des **collections ordonnées** d’éléments, la différence notable est qu’ils sont **mutables** : on peut **modifier** le contenu mais également **ajouter** ou **supprimer** des éléments du tableau.\n",
    "\n",
    "Dans le langage informatique :\n",
    "\n",
    "- un **tableau** (array en anglais) est une collection ordonnée d'éléments **de même type**.\n",
    "- une **liste** (list en anglais) est une collection ordonnée d'éléments **pouvant être de types différents**.\n",
    "\n",
    "<div class=\"alert alert-info\">En Python le type construit le plus couramment employé est la liste. Il existe également un type <a href=\"https://docs.python.org/3/library/array.html\">tableau</a> mais que nous n'utiliserons pas dans ce cours.</div>\n",
    "\n",
    "<div class=\"alert alert-info\">Dans la suite du cours, j'emploierai le terme de tableau bien que j'utilise les listes de Python.</div>"
   ]
  },
  {
   "cell_type": "markdown",
   "metadata": {},
   "source": [
    "## Points communs avec les tuples\n",
    "\n",
    "Les tableaux partagent beaucoup de points communs avec les tuples :\n",
    "\n",
    "- On accède aux éléments par index;\n",
    "- les slices fonctionnent de la même manière;\n",
    "- les fonctions min, max, len, sum... peuvent être appliquées sur un tableau;\n",
    "- les opérateurs + et * fonctionnent également;\n",
    "- on peut boucler sur un tableau avec le 'for'."
   ]
  },
  {
   "cell_type": "markdown",
   "metadata": {},
   "source": [
    "## Création d'un tableau\n",
    "\n",
    "Les tableaux peuvent s'instancier comme les tuples à la différence qu'on utilises de \\[ \\] et non des ( )."
   ]
  },
  {
   "cell_type": "code",
   "execution_count": null,
   "metadata": {},
   "outputs": [],
   "source": [
    "mon_tableau_vide = []  # création d'un tableau vide\n",
    "type(mon_tableau_vide) # Python va afficher que le type est 'List'"
   ]
  },
  {
   "cell_type": "code",
   "execution_count": null,
   "metadata": {},
   "outputs": [],
   "source": [
    "mon_tableau1 = ['Fiml', 'La vie de Brian', 'Terry Jones'] # création d'un tableau 'à la main'\n",
    "mon_tableau1[0]"
   ]
  },
  {
   "cell_type": "code",
   "execution_count": null,
   "metadata": {},
   "outputs": [],
   "source": [
    "mon_tableau1[0] = 'Film' # je peux modifier le contenu\n",
    "mon_tableau1"
   ]
  },
  {
   "cell_type": "code",
   "execution_count": null,
   "metadata": {},
   "outputs": [],
   "source": [
    "t = ['Ni! ']*10\n",
    "t"
   ]
  },
  {
   "cell_type": "code",
   "execution_count": null,
   "metadata": {},
   "outputs": [],
   "source": [
    "t1 = ['a', 'b', 'c']\n",
    "t1 + ['d'] # addition de 2 tableaux"
   ]
  },
  {
   "cell_type": "markdown",
   "metadata": {},
   "source": [
    "## remplissage d'un tableau\n",
    "Contrairement aux tuples les tableaux sont mutables. On peut, par exemple, ajouter des éléments."
   ]
  },
  {
   "cell_type": "code",
   "execution_count": null,
   "metadata": {},
   "outputs": [],
   "source": [
    "lettres = []  # création d'un tableau vide\n",
    "ma_chaine = 'Ministry of silly walks' #voir vidéo sur https://www.dailymotion.com/video/xmbzbq\n",
    "for letter in ma_chaine.lower(): # je boucle sur chaque lettre de ma_chaine passée en minuscule\n",
    "    if letter not in lettres:    # si la lettre n'est pas présente dans mon tableau\n",
    "        lettres.append(letter)   # je l'ajoute\n",
    "\n",
    "lettres"
   ]
  },
  {
   "cell_type": "code",
   "execution_count": null,
   "metadata": {},
   "outputs": [],
   "source": [
    "[i**2 for i in range(11) if i**2%2 == 0]"
   ]
  },
  {
   "cell_type": "markdown",
   "metadata": {},
   "source": [
    "La liste des consonnes contenues dans un phrase."
   ]
  },
  {
   "cell_type": "code",
   "execution_count": null,
   "metadata": {},
   "outputs": [],
   "source": [
    "[letter for letter in \"What do you do with witches\" if letter.lower() in \"bcdfghjklmnpqrstvwxz\"]"
   ]
  },
  {
   "cell_type": "markdown",
   "metadata": {},
   "source": [
    "## Modification d'une liste\n",
    "\n",
    "Contrairement aux tuples, les listes sont **mutables**, elles possèdent donc beaucoup plus de **méthodes** (fonctions)\n",
    "\n",
    "<div class=\"alert alert-info\">Pour connaitre les méthodes d'un objet, on utilise le builtin dir().</div>"
   ]
  },
  {
   "cell_type": "code",
   "execution_count": null,
   "metadata": {},
   "outputs": [],
   "source": [
    "l = ['un','deux', 'trois']\n",
    "dir(l)"
   ]
  },
  {
   "cell_type": "markdown",
   "metadata": {},
   "source": [
    "Ne tenir compte que des méthodes qui ne commencent pas par '__'"
   ]
  },
  {
   "cell_type": "code",
   "execution_count": null,
   "metadata": {},
   "outputs": [],
   "source": [
    "[m for m in dir(l) if not m.startswith('__')] # voici une liste par comprehension, nous verrons cela un peu plus bas dans ce chapitre."
   ]
  },
  {
   "cell_type": "markdown",
   "metadata": {},
   "source": [
    "<div class=\"alert alert-info\">Pour lire la documentation d’une méthode:</div>"
   ]
  },
  {
   "cell_type": "code",
   "execution_count": null,
   "metadata": {},
   "outputs": [],
   "source": [
    "print(l.pop.__doc__)"
   ]
  },
  {
   "cell_type": "markdown",
   "metadata": {},
   "source": [
    "**A faire**\n",
    "\n",
    "Entraînez vous à comprendre le fonctionnement des méthodes suivantes:\n",
    "\n",
    "- append\n",
    "- count\n",
    "- extend\n",
    "- insert\n",
    "- pop\n",
    "- remove\n",
    "- sort"
   ]
  },
  {
   "cell_type": "markdown",
   "metadata": {},
   "source": [
    "## Exercices"
   ]
  },
  {
   "cell_type": "markdown",
   "metadata": {},
   "source": [
    "### Exercice1\n",
    "\n",
    "Voici une liste de personnes :\n",
    "['Yvonne', 'Zébulon', 'Albert', 'Raymond', 'Maurice']\n",
    "\n",
    "- Afficher les listes des personnes classées par ordre alphabétique avec leur position comme ceci : \n",
    "\n",
    "1 : Albert\n",
    "\n",
    "2 : Maurice\n",
    "\n",
    "3 : Raymond\n",
    "\n",
    "4 : Yvonne\n",
    "\n",
    "5 : Zébulon\n",
    "\n",
    "Voir comment [formater une chaîne de caractère](https://pyformat.info/#simple).\n",
    "\n",
    "- Construire la liste des personnes dont le prénom se termine par un ‘e’. (voir la méthode ‘endswith’)\n"
   ]
  },
  {
   "cell_type": "code",
   "execution_count": null,
   "metadata": {},
   "outputs": [],
   "source": [
    "prenoms = ['Yvonne', 'Zébulon', 'Albert', 'Raymond', 'Maurice']"
   ]
  },
  {
   "cell_type": "markdown",
   "metadata": {},
   "source": [
    "### Exercice 2\n",
    "\n",
    "Créer la liste des nombres pairs de 0 à 100"
   ]
  },
  {
   "cell_type": "code",
   "execution_count": null,
   "metadata": {},
   "outputs": [],
   "source": []
  },
  {
   "cell_type": "markdown",
   "metadata": {},
   "source": [
    "## Des tableaux de tableaux\n",
    "\n",
    "Les tableaux peuvent contenir tous les types simples possibles (int, float, string, boolean) mais également des tableaux ou des tuples.\n",
    "\n",
    "Ceci permet de construire des matrices."
   ]
  },
  {
   "cell_type": "markdown",
   "metadata": {},
   "source": [
    "### Exercice 4\n",
    "\n",
    "La trace d'une matrice carrée est la somme de ces coefficients diagonaux. Dans l'exemple suivant la trace vaut donc 2+8+1=11\n",
    "\n",
    "Ecrire une fonction *trace* qui prend en entrée une matrice carrée et retourne la trace de la matrice.\n"
   ]
  },
  {
   "cell_type": "code",
   "execution_count": null,
   "metadata": {},
   "outputs": [],
   "source": [
    "matrice = [[2, 4, 5],\n",
    "           [6, 8, -1],\n",
    "           [8, 5, 1],\n",
    "           ]\n",
    "\n",
    "def trace(matrix):\n",
    "    \"\"\"\n",
    "    Retourne la trace de la matrice carrée passé en argument\n",
    "    \"\"\"\n",
    "    pass\n",
    "\n",
    "trace(matrice)"
   ]
  },
  {
   "cell_type": "markdown",
   "metadata": {},
   "source": [
    "### Exercice 5\n",
    "\n",
    "Ci dessous un tuple de tuple.\n",
    "\n",
    "Retourner la liste des prénoms des personnes."
   ]
  },
  {
   "cell_type": "code",
   "execution_count": null,
   "metadata": {},
   "outputs": [],
   "source": [
    "personnes = (('Yvonne',1925), ('Zébulon',1934), ('Albert',1923), ('Raymond',1921), ('Maurice',1945))"
   ]
  },
  {
   "cell_type": "markdown",
   "metadata": {},
   "source": [
    "### Exercice 6\n",
    "\n",
    "Construire, sous forme de tableau de tableaux, la table de multiplication de 0 à 10."
   ]
  },
  {
   "cell_type": "code",
   "execution_count": null,
   "metadata": {},
   "outputs": [],
   "source": []
  },
  {
   "cell_type": "markdown",
   "metadata": {},
   "source": [
    "### Exercice 7\n",
    "\n",
    "```python\n",
    "tableau=\\[[1,2,3],\n",
    "          [4,5,6],\n",
    "          [7,8,9]]\n",
    "```\n",
    "Construire le tableau transposé c’est à dire:\n",
    "\n",
    "```python\n",
    "[[1, 4, 7],\n",
    " [2, 5, 8],\n",
    " [3, 6, 9]]\n",
    "```"
   ]
  },
  {
   "cell_type": "code",
   "execution_count": null,
   "metadata": {},
   "outputs": [],
   "source": [
    "matrice =[[1,2,3],\n",
    "          [4,5,6],\n",
    "          [7,8,9],]\n",
    "\n",
    "def transpose(matrix):\n",
    "    \"\"\"\n",
    "    Retourne la transposé d'une matrice \n",
    "    \"\"\"\n",
    "    # J'initialise ma transpose à une liste vide\n",
    "    # Je calcule la hauteur et la largeur de la matrice\n",
    "    # Je boucle sur l'indice de la largeur\n",
    "        # Je crée une nouvelle ligne\n",
    "        # Je boucle sur l'indice de la hauteur\n",
    "            # j'ajoute matrice[j][i] dans ma nouvelle ligne\n",
    "        # J'ajoute ma nouvelle ligne dans ma transpose\n",
    "    # Je retourne la transpose\n",
    "    pass\n",
    "\n",
    "transpose(matrice)"
   ]
  },
  {
   "cell_type": "markdown",
   "metadata": {},
   "source": [
    "<div id=\"comprenhension_list\"></div>\n",
    "\n",
    "## Tableaux construits par compréhension\n",
    "\n",
    "Il existe une manière beaucoup plus compacte de créer des tableaux : par **compréhension**.\n",
    "\n",
    "On dénomme cette technique une **liste par compréhension**. (*comprehension list*).\n",
    "\n",
    "<div class = \"alert alert-info\">Les listes par compréhension peuvent être utilisées lorsque qu'on veut <b>créer une nouvelle liste à partir d'un itérable</b> (liste, tuple, string, range).</div>\n",
    "\n",
    "### Avantages par rapport à une boucle\n",
    "\n",
    "- code plus rapide;\n",
    "- code nécéssitant moins de mémoire;\n",
    "- code plus compact;\n",
    "- une fois habitué, permet de lire et d'écrire plus facilement ce que l'on désire comme transformation.\n",
    "\n",
    "### Syntaxe de base\n",
    "<code>nouvelle_liste = [expression(element) for element in iterable]</code>\n",
    "\n",
    "#### Un premier exemple basique\n",
    "\n",
    "Donner la liste des 10 premiers carrés.\n",
    "\n",
    "En utilisant la notation \"traditionnelle\", cela donnerait:"
   ]
  },
  {
   "cell_type": "code",
   "execution_count": 3,
   "metadata": {},
   "outputs": [
    {
     "data": {
      "text/plain": [
       "[0, 1, 4, 9, 16, 25, 36, 49, 64, 81]"
      ]
     },
     "execution_count": 3,
     "metadata": {},
     "output_type": "execute_result"
    }
   ],
   "source": [
    "def premiers_carres(n):\n",
    "    \"\"\"\n",
    "    n (interger) : un nomnre entier positif\n",
    "    retourne la liste des n premiers carrés\n",
    "    \"\"\"\n",
    "    result = []                # on initialise une liste vide pour le résultat\n",
    "    for n in range(n):         # on boucle sur les n premiers nombres\n",
    "        result.append(n**2)    # on ajoute le carré à la liste\n",
    "    return result              # on retourne la liste\n",
    "\n",
    "premiers_carres(10)"
   ]
  },
  {
   "cell_type": "markdown",
   "metadata": {},
   "source": [
    "Cette fonction peut s'écrire de fçon plus compacte:"
   ]
  },
  {
   "cell_type": "code",
   "execution_count": 6,
   "metadata": {},
   "outputs": [
    {
     "data": {
      "text/plain": [
       "[0, 1, 4, 9, 16, 25, 36, 49, 64, 81]"
      ]
     },
     "execution_count": 6,
     "metadata": {},
     "output_type": "execute_result"
    }
   ],
   "source": [
    "def premiers_carres(n):\n",
    "    \"\"\"\n",
    "    n (interger) : un nomnre entier positif\n",
    "    retourne la liste des n premiers carrées\n",
    "    \"\"\"\n",
    "    return [v**2 for v in range(n)]\n",
    "premiers_carres(10)"
   ]
  },
  {
   "cell_type": "markdown",
   "metadata": {},
   "source": [
    "#### Exercice 8\n",
    "\n",
    "Voici une liste de nombres, retourner la liste des nombres + 10.\n",
    "\n",
    "- Ecrire la fonction ajoute_10(liste_nombres) de façon traditionnelle\n",
    "- Ecrire cette même fonction en utilisant les listes comprehension"
   ]
  },
  {
   "cell_type": "code",
   "execution_count": 5,
   "metadata": {},
   "outputs": [],
   "source": [
    "nombres = [2, 3, 4, 5, 6, 7, 8, 9, 10, 11, 13, 17, 19, 23, 256, -8, -4, -2, 5, -9]"
   ]
  },
  {
   "cell_type": "code",
   "execution_count": 7,
   "metadata": {},
   "outputs": [],
   "source": [
    "def ajoute_10(liste_nombres):\n",
    "    \"\"\"\n",
    "    liste_nombres : Une liste de nombres\n",
    "    retourne cette même liste de nombres avec chaque nombre + 10\n",
    "    \"\"\"\n",
    "    pass\n",
    "\n",
    "ajoute_10(nombres)"
   ]
  },
  {
   "cell_type": "code",
   "execution_count": 8,
   "metadata": {},
   "outputs": [],
   "source": [
    "def ajoute_10(liste_nombres):\n",
    "    \"\"\"\n",
    "    liste_nombres : Une liste de nombres\n",
    "    retourne cette même liste de nombres avec chaque nombre + 10\n",
    "    \"\"\"\n",
    "    pass\n",
    "\n",
    "ajoute_10(nombres)"
   ]
  },
  {
   "cell_type": "markdown",
   "metadata": {},
   "source": [
    "#### Exercice 9\n",
    "\n",
    "Reprendre l'exercice de la trace de la matrice en utilisant une liste par compréhension dont on sommera les valeurs : sum(liste_comprehension)"
   ]
  },
  {
   "cell_type": "code",
   "execution_count": null,
   "metadata": {},
   "outputs": [],
   "source": [
    "matrice =[[1,2,3],\n",
    "          [4,5,6],\n",
    "          [7,8,9],\n",
    "          [10, 11, 12]]\n",
    "\n",
    "def trace(matrix):\n",
    "    \"\"\"\n",
    "    Voici la fonction avec une list comprehension\n",
    "    \"\"\"\n",
    "    pass\n",
    "    \n",
    "trace(matrice)"
   ]
  },
  {
   "cell_type": "markdown",
   "metadata": {},
   "source": [
    "#### Exercice 10\n",
    "\n",
    "Retourner une liste de  0 à n tuples, chaque tuple contenant un nombre et son carre : [(0,0), (1,1), (2, 4), (3, 9), .... (n, n**2)] en utilisant la méthode traditionnelle et les lists comprehension."
   ]
  },
  {
   "cell_type": "markdown",
   "metadata": {},
   "source": [
    "### Syntaxe avec filtre d'entrée\n",
    "\n",
    "Il y a possibilité d'ajouter **une condition**. La syntaxe est la suivante:\n",
    "\n",
    "<code>nouvelle_liste = [expression(element) for element in iterable <b>if condition</b>]</code>\n",
    "\n",
    "Cette fonctionnalité est importante si vous désirez **filtrer des valeurs indésirables**.\n",
    "\n",
    "**Exemple**:\n",
    "\n",
    "Voici, ci-dessous, une liste de prénoms. Créer la liste des prénoms, en **majuscules** (transformation) , qui ont **4 lettres ou moins** (filtre)."
   ]
  },
  {
   "cell_type": "code",
   "execution_count": null,
   "metadata": {},
   "outputs": [],
   "source": [
    "prenoms = ['Zoé', 'Lucas', 'Yves', 'Arthur', 'Christelle', 'Bob'] # La liste d'origine\n",
    "prenoms_courts = [p.upper() for p in prenoms if len(p) <= 4]      # Création de la nouvelle liste\n",
    "prenoms_courts"
   ]
  },
  {
   "cell_type": "markdown",
   "metadata": {},
   "source": [
    "Voici l'équivalent avec une **boucle for**."
   ]
  },
  {
   "cell_type": "code",
   "execution_count": null,
   "metadata": {},
   "outputs": [],
   "source": [
    "prenoms = ['Zoé', 'Lucas', 'Yves', 'Arthur', 'Christelle', 'Bob'] # La liste d'origine\n",
    "prenoms_courts = []\n",
    "for p in prenoms:\n",
    "    if len(p) <= 4:\n",
    "        prenoms_courts.append(p.upper())\n",
    "prenoms_courts"
   ]
  },
  {
   "cell_type": "markdown",
   "metadata": {},
   "source": [
    "**Remarque:**\n",
    "\n",
    "Si le filtre est long à écrire, on peut le 'déporter' dans une **fonction** afin d'améliorer la lisibilité. Il faut que la fonction retourne un booléen. (Vrai ou Faux)"
   ]
  },
  {
   "cell_type": "code",
   "execution_count": null,
   "metadata": {},
   "outputs": [],
   "source": [
    "prenoms = ['Zoé', 'Lucas', 'Yves', 'Arthur', 'Christelle', 'Bob'] # La liste d'origine\n",
    "\n",
    "def is_prenom_court(un_prenom):\n",
    "    \"\"\"On pourrait imaginer que cette fonction necessite 100 lignes de code\"\"\"\n",
    "    return len(un_prenom) <= 4\n",
    "    \n",
    "prenoms_courts = [p.upper() for p in prenoms if is_prenom_court(p)]\n",
    "prenoms_courts"
   ]
  },
  {
   "cell_type": "markdown",
   "metadata": {},
   "source": [
    "#### Exercice 11\n",
    "\n",
    "Retourner la liste des lettres de la phrase ci-dessous sans les voyelles."
   ]
  },
  {
   "cell_type": "code",
   "execution_count": null,
   "metadata": {},
   "outputs": [],
   "source": [
    "sentence = 'Lists comprehension are GOOD for you mental health'\n",
    "\n",
    "vowels_list = [] #A vous de jouer\n",
    "vowels_list"
   ]
  },
  {
   "cell_type": "raw",
   "metadata": {},
   "source": [
    "#### Exercice 12\n",
    "\n",
    "Trouver ce que représentent chacune de ces listes (sans les executer bien sûr...) :\n",
    "```python\n",
    "liste1 = [i**2 for i in range(21) if i%2==1]\n",
    "liste2 = [l for l in \"La vie de Brian, par les Monty Python Flying Circus\"  if l.upper() == l]\n",
    "```"
   ]
  },
  {
   "cell_type": "code",
   "execution_count": null,
   "metadata": {},
   "outputs": [],
   "source": []
  },
  {
   "cell_type": "markdown",
   "metadata": {},
   "source": [
    "#### Exercice 13\n",
    "\n",
    "Voici, ci-dessous, une liste de fruits.\n",
    "\n",
    "1. Créer la liste *fruits_capitale* qui créer la liste de fruits en avec une majuscule au debut ( utiliser la fonction *title()* sur un string)\n",
    "2. Créer la liste *fruits_sup_5* qui contient les fruits qui ont plus que 5 caractères\n",
    "3. Créer la liste *nb_letters* qui contient le nombre de lettres de chaque fruit : \\[6, 4, ...\\]\n",
    "4. Créer la liste *fruits_inverses* qui les fruits inversés : \\['eugnam', ...\\]"
   ]
  },
  {
   "cell_type": "code",
   "execution_count": null,
   "metadata": {},
   "outputs": [],
   "source": [
    "fruits = ['mangue', 'kiwi', 'framboise', 'fraise', 'ananas', 'mandarine', 'banane', 'pomme', 'poire']"
   ]
  },
  {
   "cell_type": "markdown",
   "metadata": {},
   "source": [
    "## TP Stéganographie\n",
    "\n",
    "Maintenant que nous savons utiliser les éléments essentiels de Python (condition, boucle, tableau....) il est temps de faire le [TP Stéganographie](../TPs/Steganographie.ipynb)"
   ]
  },
  {
   "cell_type": "markdown",
   "metadata": {},
   "source": [
    "[Retour au sommaire](../index.ipynb)"
   ]
  }
 ],
 "metadata": {
  "kernelspec": {
   "display_name": "Python 3 (ipykernel)",
   "language": "python",
   "name": "python3"
  },
  "language_info": {
   "codemirror_mode": {
    "name": "ipython",
    "version": 3
   },
   "file_extension": ".py",
   "mimetype": "text/x-python",
   "name": "python",
   "nbconvert_exporter": "python",
   "pygments_lexer": "ipython3",
   "version": "3.10.12"
  }
 },
 "nbformat": 4,
 "nbformat_minor": 4
}
