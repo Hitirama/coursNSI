{
 "cells": [
  {
   "cell_type": "markdown",
   "metadata": {},
   "source": [
    "[Accueil](../../index.ipynb) > [Sommaire Première](../index.ipynb)"
   ]
  },
  {
   "cell_type": "markdown",
   "metadata": {},
   "source": [
    "# TP titanic\n",
    "\n",
    "Ce TP est une application pratique du cours sur l'[algorithme des plus proches voisins](../8_Algorithmique/3_k_plus_proches_voisins.ipynb)\n",
    "\n",
    "## Récupération et observations des données.\n",
    "\n",
    "Dans ce TP nous allons utiliser comme données le fichier titanic_train.csv (entrainement) et titanic_test.csv qui se trouvent dans ce TP.\n",
    "\n",
    "<div class=\"alert alert-info\">En utilisant la librairie pandas, écrire les fonctions <i>get_titanic_training_datas</i> et <i>get_titanic_test_datas</i> qui récupèrent respectivement les données d'entrainement et les données de tests depuis les fichiers titanic_train.csv et titanic_test.csv et retournent chacune un dataframe de type pandas.</div>"
   ]
  },
  {
   "cell_type": "markdown",
   "metadata": {},
   "source": [
    "### Signification des variables"
   ]
  },
  {
   "cell_type": "code",
   "execution_count": null,
   "metadata": {},
   "outputs": [],
   "source": [
    "import pandas as pd\n",
    "\n",
    "def get_titanic_training_datas():\n",
    "    return pd.read_csv('titanic_train.csv')\n",
    "\n",
    "def get_titanic_test_datas():\n",
    "    return pd.read_csv('titanic_test.csv')\n",
    "\n",
    "training_datas = get_titanic_training_datas()\n",
    "test_datas = get_titanic_test_datas()\n",
    "\n",
    "# Affichage des premières données\n",
    "training_datas.head()\n",
    "\n"
   ]
  },
  {
   "cell_type": "code",
   "execution_count": null,
   "metadata": {},
   "outputs": [],
   "source": [
    "training_datas.tail()"
   ]
  },
  {
   "cell_type": "markdown",
   "metadata": {},
   "source": [
    "Voici l'explication de la signification de chacune des colonnes : \n",
    "\n",
    "- PassengerId: unique ID du passager\n",
    "- Survived: 0 = Non, 1 = Oui\n",
    "- Pclass: passenger class 1 = 1ère, 2 = 2nde, 3 = 3ème\n",
    "- Name: nom du passager\n",
    "- Sex: Sexe du passager\n",
    "- Age: Age du passager\n",
    "- SibSp: Nombre de frères et soeurs ou epouse/mari dans le bateau\n",
    "- Parch: Nombre de parents ou d'enfants dans le bateau.\n",
    "- Ticket: Ticket ID\n",
    "- Fare: Le prix du ticket\n",
    "- Cabin: Numéro de cabine\n",
    "- Embarked: Port d'embarcation (C = Cherbourg, Q = Queenstown, S = Southampton)\n",
    "\n",
    "\n",
    "Servez vous de la fonction info() pour afficher des informations sur les colonnes des données."
   ]
  },
  {
   "cell_type": "markdown",
   "metadata": {},
   "source": [
    "### Volumétrie des données.\n",
    "\n",
    "Utiliser l'**attribut** *shape* pour afficher la 'forme' (volumétrie) de chacune des données (entrainement + test)."
   ]
  },
  {
   "cell_type": "code",
   "execution_count": null,
   "metadata": {},
   "outputs": [],
   "source": [
    "# Volumétrie les données\n",
    "training_datas.shape\n"
   ]
  },
  {
   "cell_type": "markdown",
   "metadata": {},
   "source": [
    "### Informations supplémentaires\n",
    "Quelles sont les informations fournies par la **méthode** *info* ?"
   ]
  },
  {
   "cell_type": "code",
   "execution_count": null,
   "metadata": {},
   "outputs": [],
   "source": [
    "# Informations supplémentaires\n",
    "training_datas.info()\n"
   ]
  },
  {
   "cell_type": "markdown",
   "metadata": {},
   "source": [
    "### Données manquantes\n",
    "\n",
    "Nous venons de voir précédemmentque certaines données sont manquantes.\n",
    "Grace aux méthodes isnull et sum, sommons les données manquantes pour chaque jeux de données"
   ]
  },
  {
   "cell_type": "code",
   "execution_count": null,
   "metadata": {},
   "outputs": [],
   "source": [
    "training_datas.isnull().sum()"
   ]
  },
  {
   "cell_type": "markdown",
   "metadata": {},
   "source": [
    "## Préparation des données\n",
    "\n",
    "- Selon vous, quelles sont les variables qui n'ont pas d'incidence sur le taux de survie ?\n",
    "- Au contraire, quelles sont celles qui sont pertinentes?\n",
    "- Classer ces variables selon:\n",
    "  - Le physique de la personne\n",
    "  - Le statut social\n",
    "  - Le statut familial\n",
    "  - Le lieu d'embarquement\n",
    "  \n",
    "Le but ici est de limiter le nombre de variables afin de simplifier le problème.  \n",
    "  \n",
    "- Que faire avec les données manquantes ?"
   ]
  },
  {
   "cell_type": "markdown",
   "metadata": {},
   "source": [
    "### Présence de membre(s) de la famille à bord\n",
    "\n",
    "Afin de simplifier les données, nous allons uniquement prendre en compte la présence, ou non, d'un membre de la famille à bord.\n",
    "Nous allons ajouter une nouvelle colonne 'HasFamily' qui vaut 0 si la personne est seule et 1 sinon."
   ]
  },
  {
   "cell_type": "code",
   "execution_count": null,
   "metadata": {},
   "outputs": [],
   "source": [
    "training_datas['NbMemberFamily'] = training_datas['SibSp'] + training_datas['Parch']\n",
    "# On initialise à 0\n",
    "training_datas['HasFamily'] = 0\n",
    "# On passe à 1 ceux qui ont 1 ou plus d'un membre de leur famille à bord\n",
    "training_datas.loc[training_datas['NbMemberFamily'] >= 1, 'HasFamily'] = 1"
   ]
  },
  {
   "cell_type": "markdown",
   "metadata": {},
   "source": [
    "Nous allons utiliser la librairie *[seaborn](https://seaborn.pydata.org/)* pour observer les correlations entre les variables et le taux de survie.\n",
    "\n",
    "Vérifions graphiquement si avoir un membre de sa famille à bord a un impact sur le taux de survie."
   ]
  },
  {
   "cell_type": "code",
   "execution_count": null,
   "metadata": {},
   "outputs": [],
   "source": [
    "import seaborn\n",
    "plot = seaborn.catplot(x=\"HasFamily\", y=\"Survived\", kind=\"bar\", data=training_datas)"
   ]
  },
  {
   "cell_type": "markdown",
   "metadata": {},
   "source": [
    "### Le problème de l'âge\n",
    "\n",
    "Nous avons constaté qu'il manque des données sur l'âge des passagers (NaN)\n",
    "Comment traiter ces données manquantes ?\n",
    "Que proposez vous ?\n"
   ]
  },
  {
   "cell_type": "code",
   "execution_count": null,
   "metadata": {},
   "outputs": [],
   "source": [
    "# On remplace les ages inconnus par l'âge médian...\n",
    "training_datas[\"Age\"] = training_datas[\"Age\"].fillna(training_datas[\"Age\"].median())\n",
    "# On initialise AgeCat à 0\n",
    "training_datas[\"AgeCat\"] = 0\n",
    "# Ceux qui ont plus de 18 ans à 1\n",
    "training_datas.loc[training_datas['Age'] >= 18, 'AgeCat'] = 1"
   ]
  },
  {
   "cell_type": "markdown",
   "metadata": {},
   "source": [
    "<div class=\"alert alert-info\">Créer un graphique afin d'observer si la categorie de l'âge est relié au taux de survie.</div>"
   ]
  },
  {
   "cell_type": "markdown",
   "metadata": {},
   "source": [
    "Une solution plus fine consiste à remplacer l'age manquant par l'age moyen selon la classe du ticket. Les résultats montre une disparité dans l'âge."
   ]
  },
  {
   "cell_type": "code",
   "execution_count": null,
   "metadata": {},
   "outputs": [],
   "source": [
    "# calculate average age by passenger class to fill empty age cells\n",
    "print('Age breakdown by passenger class: ')\n",
    "print(training_datas.groupby('Pclass').mean()[['Age']])\n",
    "\n",
    "# Fill empty values in age column\n",
    "training_datas['Age'].fillna(training_datas['Age'].median(), inplace=True)\n",
    "training_datas['Age'].fillna(training_datas['Age'].median(), inplace=True)\n"
   ]
  },
  {
   "cell_type": "markdown",
   "metadata": {},
   "source": [
    "### Sexe de la personne\n",
    "\n",
    "<div class=\"alert alert-info\">Vérifier graphiquement si le sexe de la personne influence le taux de survie.</div>"
   ]
  },
  {
   "cell_type": "markdown",
   "metadata": {},
   "source": []
  },
  {
   "cell_type": "markdown",
   "metadata": {},
   "source": [
    "Quel traitement doit on opérer sur cette variable ?"
   ]
  },
  {
   "cell_type": "markdown",
   "metadata": {},
   "source": [
    "### Catégorie sociale\n",
    "\n",
    "Afin de simplifer le nombre de variables, nous allons uniquement utiliser la variable *PClass*.\n",
    "\n",
    "<div class=\"alert alert-info\">Créer un graphique afin d'observer si la classe du billet est reliée au taux de survie.</div>"
   ]
  },
  {
   "cell_type": "code",
   "execution_count": null,
   "metadata": {},
   "outputs": [],
   "source": [
    "# Ajouter un graphique liant la class du billet et le taux de survie."
   ]
  },
  {
   "cell_type": "markdown",
   "metadata": {},
   "source": [
    "### Port d'embarquement\n",
    "\n",
    "Cela a-t-il une influence sur le taux de survie?"
   ]
  },
  {
   "cell_type": "code",
   "execution_count": null,
   "metadata": {},
   "outputs": [],
   "source": [
    "# graphique à générer."
   ]
  },
  {
   "cell_type": "markdown",
   "metadata": {},
   "source": [
    "Ceci peut paraitre étrange. Cela s'explique par le fait que les personnes embarquées à Cherbourg étaient majoritairement en première classe. Pour notre traitement nous ne consiérerons donc pas le port d'embarquement.\n",
    "\n",
    "En plus cela nous arrange car certaines données sont manquantes :-)"
   ]
  },
  {
   "cell_type": "markdown",
   "metadata": {},
   "source": [
    "## Préparation des données\n",
    "\n",
    "<div class=\"alert alert-info\"> But : écrire une fonction <i>process_datas</i> qui prend en parametre les données brutes, effectue les traitements nécessaires et retourne les données modifiées</div>\n",
    "\n",
    "Voici les opérations à effectuer:\n",
    "- Changement de type de certaines variables\n",
    "- Ajout de nouvelles variables\n",
    "- Suppression des varaibles inutiles\n",
    "- ...\n",
    "\n",
    "Le but est de ne garder que les données qui slobn vous sont pertinentes."
   ]
  },
  {
   "cell_type": "code",
   "execution_count": null,
   "metadata": {},
   "outputs": [],
   "source": [
    "# repartons avec les données d'origine\n",
    "training_datas = get_titanic_training_datas()\n",
    "\n",
    "def process_datas(datas):\n",
    "    # On remplace les ages inconnus par l'âge médian...\n",
    "    datas[\"Age\"] = datas[\"Age\"].fillna(datas[\"Age\"].median())\n",
    "    # On initialise AgeCat à 0\n",
    "    datas[\"AgeCat\"] = 0\n",
    "    # Ceux qui ont plus de 18 ans à 1\n",
    "    datas.loc[datas['Age'] >= 18, 'AgeCat'] = 1\n",
    "\n",
    "    datas['NbMemberFamily'] = datas['SibSp'] + datas['Parch']\n",
    "    # On initialise à 0\n",
    "    datas['HasFamily'] = 0\n",
    "    # On passe à 1 ceux qui ont 1 ou plus d'un membre de leur famille à bord\n",
    "    datas.loc[datas['NbMemberFamily'] >= 1, 'HasFamily'] = 1\n",
    "    \n",
    "    genders = {\"male\": 0, \"female\": 1}\n",
    "    datas['Sex'] = datas['Sex'].map(genders)\n",
    "    \n",
    "    \n",
    "    # Suppression des colonnes inutiles\n",
    "    datas = datas.drop(['PassengerId', 'Name', 'Age', 'SibSp', 'Parch', 'Ticket', 'Fare', 'NbMemberFamily', 'Cabin', 'Embarked'], axis=1)\n",
    "    return datas\n",
    "    \n",
    "processed_training_datas = process_datas(training_datas)\n",
    "processed_training_datas.head()\n",
    "print(processed_training_datas.info())"
   ]
  },
  {
   "cell_type": "markdown",
   "metadata": {},
   "source": [
    "## Taux de correlation"
   ]
  },
  {
   "cell_type": "code",
   "execution_count": null,
   "metadata": {},
   "outputs": [],
   "source": [
    "correlation_matrix = processed_training_datas.corr()\n",
    "correlation_matrix['Survived']\n",
    "correlation_matrix['Survived'][1:].sort_values()"
   ]
  },
  {
   "cell_type": "markdown",
   "metadata": {},
   "source": [
    "## Division des données d'entrainement\n",
    "\n",
    "En vous inspirant du cours, diviser les données d'entrainement en deux : une partie comme témoin et l'autre comme test."
   ]
  },
  {
   "cell_type": "code",
   "execution_count": null,
   "metadata": {},
   "outputs": [],
   "source": []
  },
  {
   "cell_type": "markdown",
   "metadata": {},
   "source": [
    "## Normalisation des données"
   ]
  },
  {
   "cell_type": "code",
   "execution_count": null,
   "metadata": {},
   "outputs": [],
   "source": []
  },
  {
   "cell_type": "markdown",
   "metadata": {},
   "source": [
    "## Détermination de k\n",
    "\n",
    "Enregistrer dans un dictionnaire 'scores' les différentes valeurs de prédiction pour différentes valeurs de k."
   ]
  },
  {
   "cell_type": "code",
   "execution_count": null,
   "metadata": {},
   "outputs": [],
   "source": [
    "\n"
   ]
  },
  {
   "cell_type": "markdown",
   "metadata": {},
   "source": [
    "Afficher dans un graphique les taux de prédiction en fonction de k"
   ]
  },
  {
   "cell_type": "code",
   "execution_count": null,
   "metadata": {},
   "outputs": [],
   "source": [
    "import plotly.express as px\n",
    "fig = px.scatter(x = scores.keys(), y = scores.values(), width=400, height=400)\n",
    "fig.show()"
   ]
  },
  {
   "cell_type": "markdown",
   "metadata": {},
   "source": [
    "## Prédiction finale"
   ]
  },
  {
   "cell_type": "code",
   "execution_count": null,
   "metadata": {},
   "outputs": [],
   "source": [
    "# On récupère les données d'entrainement depuis le fichier csv\n",
    "\n",
    "# On effectue les actions de preprocessing sur les données de test\n",
    "\n",
    "# On effectue une copie des données de tests, on les normalise\n",
    "\n",
    "# Normalisation des données d'entrainement, entrainement et prédiction\n"
   ]
  },
  {
   "cell_type": "markdown",
   "metadata": {},
   "source": [
    "## Création d'un fichier csv\n",
    "\n",
    "Création d'un fichier 'submission.csv' contenant les colonnes 'PassengerId' et 'Survived'"
   ]
  },
  {
   "cell_type": "code",
   "execution_count": null,
   "metadata": {},
   "outputs": [],
   "source": [
    "temp = pd.DataFrame(pd.read_csv(\"titanic_test.csv\")['PassengerId'])\n",
    "temp['Survived'] = y_pred\n",
    "temp.to_csv(\"submission.csv\", index = False)"
   ]
  },
  {
   "cell_type": "markdown",
   "metadata": {},
   "source": [
    "## Envoi des données sur Kaggle\n",
    "\n",
    "Aller sur https://www.kaggle.com/ et se connecter avec google.\n",
    "\n",
    "Se rendre sur la page https://www.kaggle.com/competitions/titanic/submit\n",
    "Ajouter le fichier 'submission.csv' et regarder le score obtenu.\n"
   ]
  },
  {
   "cell_type": "markdown",
   "metadata": {},
   "source": [
    "- https://pixees.fr/informatiquelycee/n_site/nsi_prem_projet_titanic.html\n",
    "- https://www.kaggle.com/competitions/titanic/data?select=test.csv\n",
    "- https://medium.com/analytics-vidhya/titanic-machine-learning-by-k-nearest-neighbors-knn-algorithm-530d8bdd8323\n",
    "- https://github.com/awesomedata/awesome-public-datasets/issues/351"
   ]
  }
 ],
 "metadata": {
  "kernelspec": {
   "display_name": "Python 3",
   "language": "python",
   "name": "python3"
  },
  "language_info": {
   "codemirror_mode": {
    "name": "ipython",
    "version": 3
   },
   "file_extension": ".py",
   "mimetype": "text/x-python",
   "name": "python",
   "nbconvert_exporter": "python",
   "pygments_lexer": "ipython3",
   "version": "3.8.10"
  }
 },
 "nbformat": 4,
 "nbformat_minor": 4
}
