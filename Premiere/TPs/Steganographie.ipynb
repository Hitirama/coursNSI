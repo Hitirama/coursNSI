{
 "cells": [
  {
   "cell_type": "markdown",
   "metadata": {},
   "source": [
    "[Retour au sommaire](../index.ipynb)"
   ]
  },
  {
   "cell_type": "markdown",
   "metadata": {},
   "source": [
    "# TP Stéganographie\n",
    "\n",
    "La stéganographie est l'art de la dissimulation.\n",
    "\n",
    "Dans ce TP nous allons dissimuler une image dans une autre.\n",
    "\n",
    "- L'image qui reçoit est appelée **l'image hôte**.\n",
    "- L'image qui doit se dissumuler est appelée **l'image invitée**.\n",
    "\n",
    "Nous pourrions cacher :\n",
    "\n",
    "- du texte dans une image\n",
    "- une image dans un son\n",
    "- un son dans une image...\n",
    "\n",
    "le principe resterait le même."
   ]
  },
  {
   "cell_type": "markdown",
   "metadata": {},
   "source": [
    "## Principe\n",
    "\n",
    "Toutes les images matricielles contiennent des pixels.\n",
    "\n",
    "Chaque pixel d'une image est composée de 3 composantes : Rouge, Vert et Bleu. (RVB)\n",
    "\n",
    "Si on prend une image codée sur 24bits (3 octets), chaque composante de la couleur est donc codée sur 1 octet.\n",
    "\n",
    "Il y a donc :\n",
    "\n",
    "- 256 nuances de rouge possibles (de 0 à 255)\n",
    "- 256 nuances de vert possibles (de 0 à 255)\n",
    "- 256 nuances de bleu possibles (de 0 à 255)\n",
    "\n",
    "Dans ce type d'image sur 24 bits, il y a donc $2^{24} \\approx 16 700 000$ couleurs possibles.\n",
    "\n",
    "\n",
    "Considérons, par exemple, la **composante rouge** d'**un pixel** de l'image:\n",
    "\n",
    "Si on modifie, les **deux bits de poids faible**, au maximum, on aura une différence de 3 avec la composante rouge d'origine : \n",
    "\n",
    " - si j'ai 00 -> 11 (3 de difference maximale)\n",
    " - si j'ai 01 -> 11 (2 de différence maximale)\n",
    " - si j'ai 10 -> 00 (2 de difference maximale)\n",
    " - si j'ai 11 -> 00 (3 de difference maximale)\n",
    " \n",
    "\n",
    "On obtient donc, **dans le pire des cas**, une différence de 3 par rapport à la valeur initiale. Et ce sur 256 nuances possibles.\n",
    " \n",
    " **La différence est si minime qu'il est impossible de la voir à l'oeil**\n",
    " \n",
    " Voici par exemple une image **uniquement à base de rouge**  (V=0, B=0):\n",
    " \n",
    " <table width=\"25%\" border=\"1px solid black\">\n",
    "    <tr><td>La partie gauche contient une valeur de rouge qui est à 192 : 11000000</td><td>La partie droite contient une valeur de rouge qui est à 195 : 11000011</td></tr>\n",
    " </table>\n",
    " \n",
    " ![difference de 3 sur du rouge](img/diff_couleur.png)\n",
    " \n",
    "Faisons le test sur les 3 derniers bits.\n",
    "\n",
    " <table width=\"25%\" border=\"1px solid black\">\n",
    "    <tr><td>La partie gauche contient une valeur de rouge qui est à 192 : 11000000</td><td>La partie droite contient une valeur de rouge qui est à 199 : 11000111</td></tr>\n",
    " </table>\n",
    " \n",
    " ![difference de 3 sur du rouge](img/diff_couleur2.png)\n",
    " \n",
    " Là on commence à distinguer une différence de couleur.\n",
    " \n",
    " \n",
    "<div class=\"alert alert-info\">Nous allons nous contenter de modifier <b>les deux derniers bits</b> des composantes R, V et B de chaque pixel de notre image hôte afin exploiter cette 'réserve' de bits pour <b>cacher</b> notre seconde image.</div>"
   ]
  },
  {
   "cell_type": "markdown",
   "metadata": {},
   "source": [
    "## Premiere approche\n",
    "\n",
    "### Phase de dissimulation\n",
    "\n",
    "On utilise une image **hôte** et une image **invitée** de **dimensions égales**.\n",
    "\n",
    "Les bits de poids forts (MSB : **M**ost **S**ignificant **B**it) sont situés à gauche (128/0 pour le premier, 64/0 pour le second)\n",
    "\n",
    "Les bits de poids faibles (LSB : **L**ess **S**ignificant **B**it) sont situés à droite (1/0 pour le premier, 2/0 pour le second)\n",
    "\n",
    "<div class=\"alert alert-info\">Ainsi, si je conserve uniquement les deux bits de poids fort de chacune des 3 composantes de chaque pixel de l'image invitée, je conserverai <b>grossièrement</b> les couleurs d'origine .\n",
    "\n",
    "Si je \"cache\" ces deux bits de poids fort dans les deux bits de poids faible de mon image hôte, je ne changerai pratiquement pas la valeur de la composante de l'hôte.</div>\n",
    "\n",
    "\n",
    "La stratégie est donc la suivante : Pour chaque pixel des images, et pour chaque composante de couleur :\n",
    "\n",
    "- Je récupère les deux bits de poids fort de l'image invité\n",
    "- Je remplace les deux bits de poids faible de l'hôte par les valeurs des 2 bits de poids fort de l'invité.\n",
    "\n",
    "LSB = Less Significant Bit\n",
    "\n",
    "MSB = Most Significant Bit\n",
    "\n",
    "![schéma](img/stegano_schema1.png)\n",
    "\n",
    "**Remarque**\n",
    "\n",
    "On peut donc stocker uniquement la valeur des 3 composantes de l'image à cacher sur 6 bits soit: \n",
    "\n",
    "\n",
    "**Ce qui donne $2^6=64$ couleurs possibles pour notre image dissimulée.**\n",
    "\n",
    "Lors de la phase d'extraction, l'image qui se révèlera sera donc dégradée en terme de nombres de couleurs.\n",
    "\n",
    "### Phase de d'extraction\n",
    "\n",
    "- On crée une image blanche de la même dimension\n",
    "- On parcourt tous les pixels de l'image qui contient notre image dissimulée.\n",
    "  - On recupère les deux dernièrs bits de chaque composante RVB\n",
    "  - Puis on ajoute 6 bits derrière chaque composante. A tester faut il ajouter :\n",
    "    - 000000\n",
    "    - 111111\n",
    "    - 101010 ?\n",
    "  - on injecte ces valeurs dans le pixel de notre image blanche.\n",
    "- on retourne notre image blanche (qui ne l'est plus...)\n",
    "\n"
   ]
  },
  {
   "cell_type": "markdown",
   "metadata": {},
   "source": [
    "### Echauffement...\n",
    "\n",
    "#### Comprendre comment extraire les valeurs de toutes les composantes (R, V, B) de tous les pixels de l'image\n",
    "\n",
    "Voici une image de deux pixels sur trois pixels grossie :\n",
    "\n",
    "<img src=\"img/image_3_2_grossie.png\">\n",
    "\n",
    "Nous allons utiliser la librairie [PIL](https://pillow.readthedocs.io/en/stable/) ( **P**ython **I**mage **L**ibrairie ) afin de parcourir les pixels de cette image."
   ]
  },
  {
   "cell_type": "code",
   "execution_count": null,
   "metadata": {},
   "outputs": [],
   "source": [
    "from PIL import Image # importation du module Image de la librairie PIL\n",
    "\n",
    "image = Image.open(\"img/image_3_2.bmp\") # je précise le chemin de mon image\n",
    "largeur, hauteur = image.size # image.size retourne un tuple de 2 valeurs\n",
    "\n",
    "print(f\"largeur = {largeur} pixels\")\n",
    "print(f\"hauteur = {hauteur} pixels\")\n",
    "\n",
    "pixels = image.load() # j'ai tous les pixels de l'image grace à load()\n",
    "pixels[2,0]\n",
    "for y in range(hauteur): # je boucle sur la hauteur\n",
    "    print(\"------------------------------> NOUVELLE LIGNE\")\n",
    "    for x in range(largeur): # je boucle sur la largeur\n",
    "        print(f\"\\nJe suis sur le pixel de coordonnées ({x},{y})\")\n",
    "        ### On récupère les valeurs r, v, b d'un pixel en donnant les coord (x, y) du pixel\n",
    "        ### pixels est un peu comme un tableau de tableau\n",
    "        r, v, b = pixels[x, y] \n",
    "        print(f\"composante rouge = {r} = {bin(r)}\")\n",
    "        print(f\"composante verte = {v} = {bin(v)}\")\n",
    "        print(f\"composante bleue = {b} = {bin(b)}\")\n"
   ]
  },
  {
   "cell_type": "markdown",
   "metadata": {},
   "source": [
    "#### Comprendre comment fusionner deux composantes (l'hôte et l'invité)\n",
    "\n",
    "Imaginons que \n",
    "\n",
    "- la composante rouge du pixel de coordonnées (x, y) de l'**hôte** est 224\n",
    "- la composante rouge du pixel de coordonnées (x, y) de l'**invité** est 190"
   ]
  },
  {
   "cell_type": "code",
   "execution_count": null,
   "metadata": {},
   "outputs": [],
   "source": [
    "r_hote = 224\n",
    "r_invite = 190\n",
    "### Je passe en binaire\n",
    "r_hote_bin = bin(r_hote)\n",
    "r_invite_bin = bin(r_invite)\n",
    "print(f\"La valeur de l'hôte en binaire est {r_hote_bin}\")\n",
    "print(f\"La valeur de l'invité en binaire est {r_invite_bin}\")\n",
    "\n",
    "### bin(nombre) renvoie une string, j'enleve le '0b'\n",
    "#r_hote_bin = r_hote_bin[2:]\n",
    "#r_invite_bin = r_invite_bin[2:]\n",
    "#print(f\"La valeur de l'hôte est {r_hote_bin}.\")\n",
    "#print(f\"La valeur de l'invité est {r_invite_bin}.\")\n",
    "\n",
    "### J'enleve les deux derniers bits de l'hote (LSB)\n",
    "#r_hote_bin = r_hote_bin[:-2]\n",
    "#print(f\"La valeur tronquée de l'hôte est maintenant de {r_hote_bin}.\")\n",
    "### Je garde les deux premiers bits de l'invité (MSB)\n",
    "#r_invite_bin = r_invite_bin[0:2]\n",
    "#print(f\"les deux premiers bits de l'invité sont {r_invite_bin}.\")\n",
    "\n",
    "#fusion = r_hote_bin + r_invite_bin\n",
    "#print(f\"La fusion donne {fusion}.\")\n",
    "\n",
    "### Ne reste plus qu'à repasser cela en nombre.\n",
    "\n",
    "#valeur_fusion = int(fusion, 2) # le 2 est pour en binaire\n",
    "#print(f\"Le nombre fusionné est maintenant {valeur_fusion}.\")\n",
    "\n"
   ]
  },
  {
   "cell_type": "markdown",
   "metadata": {},
   "source": [
    "#### Tout se passait si bien...\n",
    "\n",
    "Prenons maintenant : \n",
    "\n",
    "- r_hote = 224\n",
    "- r_invite = 6\n",
    "\n",
    "\n"
   ]
  },
  {
   "cell_type": "code",
   "execution_count": null,
   "metadata": {},
   "outputs": [],
   "source": [
    "r_hote = 224\n",
    "r_invite = 6\n",
    "### Je passe en binaire\n",
    "r_hote_bin = bin(r_hote)\n",
    "r_invite_bin = bin(r_invite)\n",
    "print(f\"La valeur de l'hôte est {r_hote_bin}\")\n",
    "print(f\"La valeur de l'invité est {r_invite_bin}\")\n",
    "\n",
    "print(\"Aïe Aïe Aïe... : regardez la valeur de l'invité !!! Vous avez compris le problème ?\")\n",
    "print(\"+------------------------------------------------+\")\n",
    "print(\"|  J'espère car c'est à vous de le résoudre :-)  |\")\n",
    "print(\"+------------------------------------------------+\")\n"
   ]
  },
  {
   "cell_type": "markdown",
   "metadata": {},
   "source": [
    "Allez, puisque je suis un grand seigneur je vous aide un peu:\n",
    "```\n",
    "git clone git@github.com:saintlouis29/stegano.git\n",
    "```"
   ]
  },
  {
   "cell_type": "markdown",
   "metadata": {},
   "source": [
    "## Deuxième approche (projet ?)\n",
    "\n",
    "Plutôt que de diminuer le nombre de couleurs, nous allons diminuer la définition de notre image invitée.\n",
    "\n",
    "Si on divise par 2, la largeur et la hauteur, le nombre de pixels est divisé par 4.\n",
    "\n",
    "Voici un schéma pour la composante rouge d'un pixel: \n",
    "\n",
    "![schéma](img/stegano_schema.png)\n",
    "\n",
    "Les 8 bits de la composante Rouge sont dissimulés par paquet de 2 dans la composante rouge de 4 pixels de l'hôte.\n",
    "\n",
    "**Notre image invitée conservera la qualité de ses couleurs mais sera 4 fois plus petite.**\n",
    "\n"
   ]
  },
  {
   "cell_type": "markdown",
   "metadata": {},
   "source": [
    "[Retour au sommaire](../index.ipynb)"
   ]
  }
 ],
 "metadata": {
  "kernelspec": {
   "display_name": "Python 3 (ipykernel)",
   "language": "python",
   "name": "python3"
  },
  "language_info": {
   "codemirror_mode": {
    "name": "ipython",
    "version": 3
   },
   "file_extension": ".py",
   "mimetype": "text/x-python",
   "name": "python",
   "nbconvert_exporter": "python",
   "pygments_lexer": "ipython3",
   "version": "3.10.6"
  }
 },
 "nbformat": 4,
 "nbformat_minor": 4
}
