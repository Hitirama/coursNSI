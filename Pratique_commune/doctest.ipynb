{
 "cells": [
  {
   "cell_type": "markdown",
   "metadata": {},
   "source": [
    "[Retour au sommaire](../index.ipynb)"
   ]
  },
  {
   "cell_type": "markdown",
   "metadata": {},
   "source": [
    "# Créer des tests avec doctest\n",
    "\n",
    "Vous savez documenter vos fonctions et méthodes à l'aide des **docstrings**. En voici un exemple :"
   ]
  },
  {
   "cell_type": "code",
   "execution_count": null,
   "metadata": {},
   "outputs": [],
   "source": [
    "def fact(n):\n",
    "    \"\"\"Return the factorial of a number\n",
    "    arguments:\n",
    "    n -- (int) a positive interger number\n",
    "    \"\"\"\n",
    "    result = 1\n",
    "    for i in range(1, n+1):\n",
    "        result*=i\n",
    "    return result\n",
    "\n",
    "fact(3)"
   ]
  },
  {
   "cell_type": "markdown",
   "metadata": {},
   "source": [
    "Cette documentation peut être utilisée avec la commande **help**."
   ]
  },
  {
   "cell_type": "code",
   "execution_count": null,
   "metadata": {},
   "outputs": [],
   "source": [
    "help(fact)"
   ]
  },
  {
   "cell_type": "markdown",
   "metadata": {},
   "source": [
    "## Premiers tests manuels\n",
    "\n",
    "Afin de tester votre fonction vous devez prendre l'habitude de la tester manuellement dans l'interpréteur Python.\n",
    "```python\n",
    ">>> fact(0)\n",
    "1\n",
    ">>> fact(1)\n",
    "1\n",
    ">>> fact(2)\n",
    "2\n",
    ">>> fact(5)\n",
    "120\n",
    "```"
   ]
  },
  {
   "cell_type": "markdown",
   "metadata": {},
   "source": [
    "## Ajout de vos tests dans la docstring de la fonction\n",
    "\n",
    "Copier-coller les tests afin qu'ils soient inclus dans la docstring de la fonction."
   ]
  },
  {
   "cell_type": "code",
   "execution_count": null,
   "metadata": {},
   "outputs": [],
   "source": [
    "def fact(n):\n",
    "    \"\"\"Return the factorial of a number\n",
    "    arguments:\n",
    "    n -- (int) a positive integer number\n",
    "    \n",
    "    >>> fact(0)\n",
    "    1\n",
    "    >>> fact(1)\n",
    "    1\n",
    "    >>> fact(2)\n",
    "    2\n",
    "    >>> fact(5)\n",
    "    120\n",
    "    \"\"\"\n",
    "    result = 1\n",
    "    for i in range(1, n+1):\n",
    "        result*=i\n",
    "    return result\n"
   ]
  },
  {
   "cell_type": "markdown",
   "metadata": {},
   "source": [
    "la commande **help** retourne maintenant vos tests et facilite la compréhension de la fonction."
   ]
  },
  {
   "cell_type": "code",
   "execution_count": null,
   "metadata": {},
   "outputs": [],
   "source": [
    "help(fact)"
   ]
  },
  {
   "cell_type": "markdown",
   "metadata": {},
   "source": [
    "## Utiliser le module doctest\n",
    "\n",
    "L'idée est que les tests que vous avez inclus dans la docstring soient **automtiquement rejoués** pour vérifier si tout fonctionne bien."
   ]
  },
  {
   "cell_type": "code",
   "execution_count": null,
   "metadata": {},
   "outputs": [],
   "source": [
    "# Ajouter l'import en début de fichier\n",
    "import doctest\n",
    "# Ajouter cette ligne en fin de fichier\n",
    "doctest.testmod()"
   ]
  },
  {
   "cell_type": "markdown",
   "metadata": {},
   "source": [
    "## A faire\n",
    "\n",
    "- Modifiez un des tests dans la fonction fact pour qu'il renvoie 121 à la place de 120;\n",
    "- executez les cellules de la fonction et l'appel du doctest;\n",
    "- constatez qu'un des tests ne passe plus.\n"
   ]
  },
  {
   "cell_type": "markdown",
   "metadata": {},
   "source": [
    "## Automatiser les tests\n",
    "\n",
    "Pour automatiser vos tests, ajouter les **3 dernières lignes** à la fin de vos fichiers .py"
   ]
  },
  {
   "cell_type": "code",
   "execution_count": null,
   "metadata": {},
   "outputs": [],
   "source": [
    "def fact(n):\n",
    "    \"\"\"Return the factorial of a number\n",
    "    arguments:\n",
    "    n -- (int) a positive integer number\n",
    "    \n",
    "    >>> fact(0)\n",
    "    1\n",
    "    >>> fact(1)\n",
    "    1\n",
    "    >>> fact(2)\n",
    "    2\n",
    "    >>> fact(5)\n",
    "    120\n",
    "    \"\"\"\n",
    "    result = 1\n",
    "    for i in range(1, n+1):\n",
    "        result*=i\n",
    "    return result\n",
    "\n",
    "if __name__ == '__main__':\n",
    "    import doctest\n",
    "    doctest.testmod()"
   ]
  },
  {
   "cell_type": "markdown",
   "metadata": {},
   "source": [
    "Si les tests passent, aucune sortie n'est affichée.\n",
    "Modifiez les tests pour qu'ils provoquent une erreur et réessayez.\n",
    "\n",
    "<div class=\"alert alert-info\">Les doctests effectuent une <b>comparaison litérale</b> entre les tests qui sont écrits et la sortie de l'interpréteur. Il faut donc faire bien attention aux espaces, indentations...</div>"
   ]
  },
  {
   "cell_type": "code",
   "execution_count": null,
   "metadata": {},
   "outputs": [],
   "source": [
    "def fact(n):\n",
    "    \"\"\"Return the factorial of a number\n",
    "    arguments:\n",
    "    n -- (int) a positive integer number\n",
    "    \n",
    "    >>> fact(0)\n",
    "    1\n",
    "    >>> fact(1)\n",
    "    1\n",
    "    >>> fact(2)\n",
    "    2\n",
    "    >>> fact(5)\n",
    "    120 \n",
    "    \"\"\"\n",
    "    result = 1\n",
    "    for i in range(1, n+1):\n",
    "        result*=i\n",
    "    return result\n",
    "\n",
    "if __name__ == '__main__':\n",
    "    import doctest\n",
    "    doctest.testmod()"
   ]
  },
  {
   "cell_type": "markdown",
   "metadata": {},
   "source": [
    "## Documentation\n",
    "\n",
    "- [La documentation officielle](https://docs.python.org/3/library/doctest.html)"
   ]
  },
  {
   "cell_type": "markdown",
   "metadata": {},
   "source": [
    "[Retour au sommaire](../index.ipynb)"
   ]
  }
 ],
 "metadata": {
  "kernelspec": {
   "display_name": "Python 3 (ipykernel)",
   "language": "python",
   "name": "python3"
  },
  "language_info": {
   "codemirror_mode": {
    "name": "ipython",
    "version": 3
   },
   "file_extension": ".py",
   "mimetype": "text/x-python",
   "name": "python",
   "nbconvert_exporter": "python",
   "pygments_lexer": "ipython3",
   "version": "3.10.6"
  }
 },
 "nbformat": 4,
 "nbformat_minor": 4
}
