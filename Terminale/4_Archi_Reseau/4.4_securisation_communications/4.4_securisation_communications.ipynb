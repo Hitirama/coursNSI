{
 "cells": [
  {
   "cell_type": "markdown",
   "id": "d8e9ccfe-b7d4-467f-83fc-a9c4b7de84b5",
   "metadata": {},
   "source": [
    "[Accueil](../../../index.ipynb) > [Sommaire de Terminale](../../index.ipynb)"
   ]
  },
  {
   "cell_type": "markdown",
   "id": "b54e577b-ad8d-4160-86dc-2392b53a3e44",
   "metadata": {},
   "source": [
    "# 4.4 Sécurisation des communications\n",
    "\n"
   ]
  },
  {
   "cell_type": "markdown",
   "id": "ff31716d-a7d0-4abe-ad77-00d9e56039f4",
   "metadata": {},
   "source": [
    "##  Chiffrement symétrique"
   ]
  },
  {
   "cell_type": "markdown",
   "id": "34774360-c627-430d-acca-2895e65a9cb4",
   "metadata": {},
   "source": [
    "## Chiffrement asymetrique"
   ]
  },
  {
   "cell_type": "markdown",
   "id": "98435701-e77d-44d4-977b-831821d74e7c",
   "metadata": {},
   "source": [
    "[Accueil](../../../index.ipynb) > [Sommaire de Terminale](../../index.ipynb)"
   ]
  }
 ],
 "metadata": {
  "kernelspec": {
   "display_name": "Python 3 (ipykernel)",
   "language": "python",
   "name": "python3"
  },
  "language_info": {
   "codemirror_mode": {
    "name": "ipython",
    "version": 3
   },
   "file_extension": ".py",
   "mimetype": "text/x-python",
   "name": "python",
   "nbconvert_exporter": "python",
   "pygments_lexer": "ipython3",
   "version": "3.10.12"
  }
 },
 "nbformat": 4,
 "nbformat_minor": 5
}
