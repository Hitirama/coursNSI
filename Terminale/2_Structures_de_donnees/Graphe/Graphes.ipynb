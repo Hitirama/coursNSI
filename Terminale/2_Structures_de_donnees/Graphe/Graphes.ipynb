{
 "cells": [
  {
   "cell_type": "markdown",
   "metadata": {},
   "source": [
    "[Accueil](../../../index.ipynb) > [Sommaire de Terminale](../../index.ipynb)"
   ]
  },
  {
   "cell_type": "markdown",
   "metadata": {
    "hide_input": false
   },
   "source": [
    "# Structure de données - Graphes\n",
    "\n",
    "![](Social_Network_Analysis_Visualization.png)\n",
    "\n",
    "## Différents types de structures\n",
    "\n",
    "Nous avons manipulé des **structures linéaires** comme les [listes](../List/List.ipynb), les [piles ou files](../Pile_et_File/Pile_et_File.ipynb). Ces structures sont à **une dimension**, on les parcours du début à la fin en suivant un unique chemin.\n",
    "\n",
    "Les [arbres](../Arbre/arbre.ipynb) sont des **structures non linéaires** utilisés pour représenter une **hiérarchie** (Arbre généalogique, Structure de dossiers...)\n",
    "\n",
    "Dans ce chapitre nous allons étudier les **graphes** qui sont également des **structures non linéaires**.\n",
    "\n",
    "## Définitions\n",
    "\n",
    "Un graphe est une structure composée d'**objets** dans laquelle certaines paires d'objets sont en **relation**.\n",
    "\n",
    "Les objets sont appelés **sommets** (ou noeuds) et les relations entre sommets sont des **arêtes**.\n",
    "\n",
    "Mathématiquement, un graphe est un couple $G=(V,E)$ comprenant:\n",
    "- V : un ensemble de sommets (*vertices* ou *nodes* en anglais)\n",
    "- E : un ensemble d'arêtes (*edges* en anglais) qui sont des paires de sommets."
   ]
  },
  {
   "cell_type": "markdown",
   "metadata": {
    "hide_input": false
   },
   "source": [
    "**Remarque**\n",
    "\n",
    "Un **arbre** est un **graphe particulier** : tous ses noeuds, sauf la racine, ont un unique parent. \n",
    "Un arbre est un graphe sans cycle, c'est à dire que partant de n'importe quel noeud, il n'existe aucun chemin qui rejoigne ce noeud.\n",
    "\n",
    "De même,  une **liste** est un **arbre particulier** : chaque noeud, sauf le dernier, a un unique enfant.\n",
    "\n",
    "Il n'existe aucune restriction de parenté ou de paternité dans un graphe:\n",
    "- Chaque noeud peut avoir plusieurs successeurs;\n",
    "- Chaque noeud peut avoir plusieurs prédecesseurs.\n",
    "\n",
    "**Conséquence** : il n'existe pas de racine dans un graphe.\n",
    "\n",
    "<div class = \"alert alert-info\">\n",
    "    \n",
    "Nous n'étudierons que des graphes **simples** c'est à dire des graphes ne comportant ni boucle (une arête ayant pour extrémités le même somment) ni arêtes multiples.\n",
    "</div>"
   ]
  },
  {
   "cell_type": "markdown",
   "metadata": {},
   "source": [
    "## Graphe orienté ou non orienté"
   ]
  },
  {
   "cell_type": "markdown",
   "metadata": {},
   "source": [
    "### Graphe orienté (*directionnal graph*)\n",
    "\n",
    "- Un graphe est **orienté** si ses arêtes ne peuvent être parcourues que dans **un sens**. L'orientation des arêtes est indiquée par des flèches. Une **arête orientée** s'appelle aussi un **arc**.\n",
    "- Un **chemin** est une succession d'arcs telle que l'extremité de chacun est l'origine du suivant. Le nombre d'arcs qui composent un chemin est la **longueur du chemin**.\n",
    "- Un **chemin fermé** est un chemin dont l'origine et l'extrémité sont identique.\n",
    "- Un **circuit** est un chemin fermé dont les arcs sont distincs."
   ]
  },
  {
   "cell_type": "code",
   "execution_count": null,
   "metadata": {
    "hide_input": false,
    "tags": []
   },
   "outputs": [],
   "source": [
    "import matplotlib.pyplot as plt\n",
    "import networkx as nx\n",
    "\n",
    "options = {\n",
    "    \"font_size\": 15,\n",
    "    \"node_size\": 800,\n",
    "    \"node_color\": \"#A0CBE2\",\n",
    "    \"edgecolors\": \"tab:blue\",\n",
    "    \"alpha\": 0.9,\n",
    "    \"linewidths\": 2,\n",
    "    \"width\": 2,\n",
    "}\n",
    "\n",
    "G = nx.DiGraph()\n",
    "G.add_edges_from([(1,4), (2,1), (2,3), (4,2), (3,4)])\n",
    "\n",
    "plt.figure(figsize=(5,5))\n",
    "ax = plt.gca()\n",
    "ax.margins(0.20)\n",
    "ax.set_title('Un graphe orienté')\n",
    "\n",
    "nx.draw(G, with_labels = True, **options)"
   ]
  },
  {
   "cell_type": "markdown",
   "metadata": {},
   "source": [
    "Dans le graphe orienté ci-dessus:\n",
    "\n",
    "- (1,4), (4, 2), (2, 3) est un **chemin** de longueur 3.\n",
    "- (1,4), **(4,2)**, (2,3), (3,4), **(4,2)**, (2,1) est un **chemin fermé**. \n",
    "- (1,4), (4,2), (2,1) est un **circuit**.\n",
    "\n",
    "**Applications**:\n",
    "\n",
    "- Un réseau routier (sens uniques)\n",
    "- Un réseau social (follower)\n",
    "- ..."
   ]
  },
  {
   "cell_type": "markdown",
   "metadata": {
    "hide_input": true,
    "solution2": "hidden",
    "solution2_first": true
   },
   "source": [
    "**Exercice**\n",
    "\n",
    "Modèliser par un graphe orienté le réseau de rues ci-dessous\n",
    "\n",
    "![](graphe_rue.png)"
   ]
  },
  {
   "cell_type": "code",
   "execution_count": null,
   "metadata": {
    "hide_input": true,
    "solution2": "hidden",
    "tags": []
   },
   "outputs": [],
   "source": [
    "import matplotlib.pyplot as plt\n",
    "import networkx as nx\n",
    "\n",
    "G = nx.DiGraph()\n",
    "G.add_node(\"A\")\n",
    "G.add_node(\"B\")\n",
    "G.add_node(\"C\")\n",
    "G.add_node(\"D\")\n",
    "G.add_node(\"E\")\n",
    "G.add_node(\"F\")\n",
    "G.add_edge(\"A\", \"F\")\n",
    "\n",
    "plt.figure(figsize=(6,6))\n",
    "plt.axis(\"off\")\n",
    "ax = plt.gca()\n",
    "ax.set_title('Modélisation du réseau routier')\n",
    "ax.margins(0.20)\n",
    "\n",
    "nx.draw_networkx(G, with_labels = True, ax=ax, **options)"
   ]
  },
  {
   "cell_type": "markdown",
   "metadata": {},
   "source": [
    "### Graphe non orienté\n",
    "\n",
    "- Un graphe est **non orienté** si ses arêtes sont bidirectionnels.\n",
    "- Les arètes d'un graphe non orienté se représentent par des liaisons non fléchées.\n",
    "- On appelle **chaîne** une suite d'arêtes consécutives reliant deux sommets.\n",
    "- La **longueur d'une chaîne** est le nombre d'arêtes qui la composent.\n",
    "- Une **chaîne fermée** est une chaîne dont l'origine de la première arête et l'extrémité de la dernière arête sont confondues.\n",
    "- Un **cycle** est une **chaîne fermée** dont les arêtes sont **distinctes**."
   ]
  },
  {
   "cell_type": "code",
   "execution_count": null,
   "metadata": {
    "hide_input": true,
    "scrolled": true,
    "tags": []
   },
   "outputs": [],
   "source": [
    "G = nx.Graph()\n",
    "G.add_edges_from([(1,2), (2,3), (2,4), (3,4)])\n",
    "\n",
    "plt.figure(figsize=(5,5))\n",
    "ax = plt.gca()\n",
    "ax.margins(0.20)\n",
    "ax.set_title('Un graphe non orienté')\n",
    "\n",
    "nx.draw(G, with_labels = True, ax=ax, **options)"
   ]
  },
  {
   "cell_type": "markdown",
   "metadata": {},
   "source": [
    "| Graphe non-orienté | Graphe orienté |\n",
    "|--------------------|----------------|\n",
    "| arête              |  arc           |\n",
    "| chaîne             |  chemin        |\n",
    "| cycle              |  circuit       |"
   ]
  },
  {
   "cell_type": "markdown",
   "metadata": {},
   "source": [
    "## Graphe pondéré\n",
    "\n",
    "Un **graphe pondéré** est un graphe (orienté ou non) dont les arêtes sont affectées d'un nombre.\n"
   ]
  },
  {
   "cell_type": "code",
   "execution_count": null,
   "metadata": {
    "hide_input": true,
    "tags": []
   },
   "outputs": [],
   "source": [
    "import networkx as nx\n",
    "import matplotlib.pyplot as plt\n",
    "\n",
    "G=nx.Graph()\n",
    "G.add_node(1,pos=(0,0))\n",
    "G.add_node(2,pos=(0,1))\n",
    "G.add_node(3,pos=(1,0))\n",
    "G.add_node(4,pos=(1,1))\n",
    "G.add_edge(1,2,weight=0.5)\n",
    "G.add_edge(1,3,weight=9.8)\n",
    "G.add_edge(1,4,weight=5)\n",
    "G.add_edge(2,4,weight=8)\n",
    "pos=nx.get_node_attributes(G,'pos')\n",
    "labels = nx.get_edge_attributes(G,'weight')\n",
    "nx.draw_networkx_edge_labels(G, pos, edge_labels=labels)\n",
    "nx.draw(G,pos, with_labels = True, **options)"
   ]
  },
  {
   "cell_type": "markdown",
   "metadata": {},
   "source": [
    "**Applications**\n",
    "\n",
    "- Réseau routier (distance ou durée)\n",
    "- Réseau informatique (débit)"
   ]
  },
  {
   "cell_type": "markdown",
   "metadata": {},
   "source": [
    "## Connexité d'un graphe\n",
    "\n",
    "- Un graphe **non orienté** est **connexe** si pour toute paire de sommets (x, y) il existe une chaîne de x à y. \n",
    "\n",
    "- Un graphe **orienté** est **de faible connexité** si en oubliant l'orientation des arêtes, le graphe est connexe.\n",
    "\n",
    "- Un graphe **orienté** est **de forte connexité** si pour toute paire de sommets (x, y) il existe un chemin de x à y\n"
   ]
  },
  {
   "cell_type": "code",
   "execution_count": null,
   "metadata": {
    "hide_input": true,
    "tags": []
   },
   "outputs": [],
   "source": [
    "import matplotlib.pyplot as plt\n",
    "import networkx as nx\n",
    "plt.figure(figsize=(8,3))\n",
    "ax = plt.gca()\n",
    "ax.set_title('Un graphe non orienté connexe')\n",
    "G = nx.wheel_graph(6)\n",
    "nx.draw(G, with_labels = True, ax=ax, **options)"
   ]
  },
  {
   "cell_type": "code",
   "execution_count": null,
   "metadata": {
    "hide_input": true,
    "tags": []
   },
   "outputs": [],
   "source": [
    "plt.figure(figsize=(10,3))\n",
    "ax = plt.gca()\n",
    "ax.set_title('Un graphe non orienté non connexe')\n",
    "G = nx.Graph()\n",
    "G.add_nodes_from(range(7))\n",
    "G.add_edges_from([(0,1),(3,4),(4,2),(1,3),(4,0),(1,2),(5,6)])\n",
    "nx.draw(G, with_labels = True, **options)\n"
   ]
  },
  {
   "cell_type": "markdown",
   "metadata": {},
   "source": [
    "Remarque : \n",
    "\n",
    "- Le **réseau routier** mondial peut être modélisé par un graphe **non connexe**.\n",
    "- Un **réseau d'amitié** peut être modélisé par un graphe **non connexe**.\n"
   ]
  },
  {
   "cell_type": "code",
   "execution_count": null,
   "metadata": {
    "hide_input": true,
    "tags": []
   },
   "outputs": [],
   "source": [
    "plt.figure(figsize=(6,3))\n",
    "ax = plt.gca()\n",
    "ax.set_title(\"Un graphe orienté de faible connexité (il est impossible d'aller de 2 à 1 et de 2 à 4.)\")\n",
    "G = nx.DiGraph()\n",
    "G.add_nodes_from(range(5))\n",
    "G.add_edges_from([(0,1),(3,4),(4,2),(1,3),(4,0),(1,2)])\n",
    "nx.draw(G, with_labels = True, **options)\n"
   ]
  },
  {
   "cell_type": "markdown",
   "metadata": {},
   "source": [
    "## Représentatation des graphes"
   ]
  },
  {
   "cell_type": "markdown",
   "metadata": {},
   "source": [
    "### Représentation par listes d'adjacence\n",
    "\n",
    "On peut considérer un graphe comme une liste de sommets et pour chaque sommet on associe la liste des sommets liés."
   ]
  },
  {
   "cell_type": "code",
   "execution_count": null,
   "metadata": {
    "hide_input": true,
    "tags": []
   },
   "outputs": [],
   "source": [
    "G = nx.lollipop_graph(4, 2)\n",
    "nx.draw(G, with_labels = True, **options)"
   ]
  },
  {
   "cell_type": "markdown",
   "metadata": {},
   "source": [
    "La liste d'**adjacence des successeurs** de ce graphe peut être réprésentée par :"
   ]
  },
  {
   "cell_type": "code",
   "execution_count": null,
   "metadata": {
    "hide_input": true,
    "tags": []
   },
   "outputs": [],
   "source": [
    "result = []\n",
    "for node in G.nodes():\n",
    "    neighbors = [n for n in G.neighbors(node)]\n",
    "    print(f\"{node} -> {neighbors}\")"
   ]
  },
  {
   "cell_type": "markdown",
   "metadata": {},
   "source": [
    "#### Implémentation en Python\n",
    "\n",
    "Une implémentation en Python peut être un **dictionnaire** dont les **clés** sont les **sommets** du graphe et les **valeurs** une **liste** de sommets:"
   ]
  },
  {
   "cell_type": "code",
   "execution_count": null,
   "metadata": {},
   "outputs": [],
   "source": [
    "T = {\n",
    "    0:[1,2,3],\n",
    "    1:[0,2,3],\n",
    "    2:[0,1,3],\n",
    "    3:[0,1,2,4],\n",
    "    4:[5,3],\n",
    "    5:[4,6],\n",
    "    6:[5],\n",
    "}"
   ]
  },
  {
   "cell_type": "markdown",
   "metadata": {},
   "source": [
    "Une meilleure possibilité est de choisir un **dictionnaire** dont les **clés** sont les **sommets** du graphe et les valeurs un **[ensemble](https://docs.python.org/fr/3/tutorial/datastructures.html#sets)** (type set) des sommets."
   ]
  },
  {
   "cell_type": "code",
   "execution_count": null,
   "metadata": {},
   "outputs": [],
   "source": [
    "T = {\n",
    "    0:{1,2,3},\n",
    "    1:{0,2,3},\n",
    "    2:{0,1,3},\n",
    "    3:{0,1,2,4},\n",
    "    4:{5,3},\n",
    "    5:{4,6},\n",
    "    6:{5},\n",
    "}"
   ]
  },
  {
   "cell_type": "markdown",
   "metadata": {},
   "source": [
    "<div class=\"alert alert-info\">\n",
    "\n",
    "Cette représentation est adaptée aux graphes **peu denses** (qui possèdent peu d'arêtes).\n",
    "</div>\n",
    "\n",
    "**Opérations sur les listes d'adjacence** :\n",
    "\n",
    "- L'existence d'une arête $(s_i, s_j)$ consiste à vérifier la présence de $s_j$ dans $T[s_i]$.\n",
    "- Le calcul du degré d'un sommet $s_i$ consiste à calculer $len(T[s_i])$.\n",
    "- Le parcours des prédécesseurs est mal-aisé puisqu'il faut parcourir l'ensemble des listes. Une solution consiste à maintenir également la liste d'adjacence des prédécesseurs.\n",
    "\n"
   ]
  },
  {
   "cell_type": "markdown",
   "metadata": {},
   "source": [
    "### Par une matrice d'adjacence\n",
    "\n",
    "**Définition**\n",
    "\n",
    "Soit un graphe $G=(S, A)$ d'ordre $n$, avec $n$ sommets. La matrice d'adjacence de G est une matrice booléene M de taille $n \\times n$ telle que $M[i][j]=1~si~(i,j) \\in A~et~M[i][j]=0$ sinon.\n",
    "\n",
    "**Exemple 1**"
   ]
  },
  {
   "cell_type": "code",
   "execution_count": null,
   "metadata": {
    "hide_input": true,
    "tags": []
   },
   "outputs": [],
   "source": [
    "G = nx.DiGraph()\n",
    "G.add_nodes_from(range(5))\n",
    "G.add_edges_from([(0,1),(3,4),(4,2),(1,3),(4,0),(1,2)])\n",
    "nx.draw(G, with_labels = True, **options)\n"
   ]
  },
  {
   "cell_type": "markdown",
   "metadata": {},
   "source": [
    "La matrice d'adjacence du graphe ci-dessus est:"
   ]
  },
  {
   "cell_type": "code",
   "execution_count": null,
   "metadata": {
    "hide_input": true,
    "tags": []
   },
   "outputs": [],
   "source": [
    "A = nx.adjacency_matrix(G)\n",
    "print(A.todense())"
   ]
  },
  {
   "cell_type": "markdown",
   "metadata": {},
   "source": [
    "**Exemple 2**"
   ]
  },
  {
   "cell_type": "code",
   "execution_count": null,
   "metadata": {
    "hide_input": true,
    "scrolled": true,
    "tags": []
   },
   "outputs": [],
   "source": [
    "G = nx.wheel_graph(5)\n",
    "nx.draw(G, with_labels=True, **options)"
   ]
  },
  {
   "cell_type": "markdown",
   "metadata": {},
   "source": [
    "La matrice d'adjacence du graphe ci-dessus est:"
   ]
  },
  {
   "cell_type": "code",
   "execution_count": null,
   "metadata": {
    "hide_input": true,
    "tags": []
   },
   "outputs": [],
   "source": [
    "A = nx.adjacency_matrix(G)\n",
    "print(A.todense())"
   ]
  },
  {
   "cell_type": "markdown",
   "metadata": {
    "solution2": "hidden",
    "solution2_first": true
   },
   "source": [
    "**Exercice**\n",
    "\n",
    "Déterminer la matrice d'adjacence du graphe ci-dessous."
   ]
  },
  {
   "cell_type": "code",
   "execution_count": null,
   "metadata": {
    "hide_input": true,
    "scrolled": true,
    "tags": []
   },
   "outputs": [],
   "source": [
    "G = nx.wheel_graph(6)\n",
    "nx.draw(G, with_labels=True, **options)"
   ]
  },
  {
   "cell_type": "code",
   "execution_count": null,
   "metadata": {
    "hide_input": true,
    "solution2": "hidden",
    "tags": []
   },
   "outputs": [],
   "source": [
    "A = nx.adjacency_matrix(G)\n",
    "print(A.todense())"
   ]
  },
  {
   "cell_type": "markdown",
   "metadata": {},
   "source": [
    "**Remarques** :\n",
    "    \n",
    "Dans le cas d'un **graphe simple non orienté**, la matrice d'adjacence est **symétrique selon la diagonale descendante** et celle ci ne comporte que des 0.   "
   ]
  },
  {
   "cell_type": "markdown",
   "metadata": {},
   "source": [
    "<div class=\"alert alert-info\">\n",
    "\n",
    "Pour représenter un graphe de $n$ sommets il est nécessaire d'allouer $n^2$ emplacements.\n",
    "Cette représentation est donc adaptée aux graphes **denses** (qui possèdent beaucoup d'arêtes).\n",
    "</div>\n",
    "\n",
    "#### Implémentation en Python\n",
    "\n",
    "En Python il est possible de représenter une matrice par une liste de listes.\n",
    "\n",
    "La librairie [numpy](https://www.programiz.com/python-programming/matrix) propose des tableaux optimisés pour le calcul de matrice.\n",
    "\n",
    "**Opérations sur les matrices**\n",
    "\n",
    "- Le test d'existence d'une arête est immédiat (il suffit d'accéder à la case correspondante de la matrice)\n",
    "- Connaitre le degré d'un sommet nécessite de sommer toutes les cases d'une colonne (ou d'une ligne)\n",
    "- le parcours de l'ensemble des arcs nécessite de parcourir toute la matrice ce qui prendra un temps de l'ordre de $n^2$."
   ]
  },
  {
   "cell_type": "markdown",
   "metadata": {},
   "source": [
    "## Pages en relation\n",
    "\n",
    "- [Algorithmes sur les graphes](../../6_Algorithmique/6.2_Algorithmes_sur_les_graphes/index.ipynb)"
   ]
  },
  {
   "cell_type": "markdown",
   "metadata": {
    "hide_input": false
   },
   "source": [
    "## Webographie\n",
    "\n",
    "- [monlyceenumerique.fr](http://www.monlyceenumerique.fr/nsi_terminale/sd/sd5_graphe.php#3.1)\n",
    "- [https://www.lyceum.fr/](https://www.lyceum.fr/tg/nsi/1-structures-de-donnees/5-graphes)\n",
    "- [https://qkzk.xyz](https://qkzk.xyz/docs/nsi/cours_terminale/structures_donnees/graphes/)\n",
    "- [https://info.blaisepascal.fr](https://info.blaisepascal.fr/nsi-graphes)\n",
    "- http://math.univ-lyon1.fr/irem/Formation_ISN/formation_parcours_graphes/largeur/3_python1.html"
   ]
  },
  {
   "cell_type": "markdown",
   "metadata": {},
   "source": [
    "<table style=\"width:100%\">\n",
    "    <tr>\n",
    "        <td style=\"text-align:left;\"><a href=\"../Arbre/arbre.ipynb\"><< 4. Arbres et arbres binaires</a></td>\n",
    "        <td style=\"text-align:right;\"></td>\n",
    "    </tr>\n",
    "</table>"
   ]
  },
  {
   "cell_type": "markdown",
   "metadata": {},
   "source": [
    "[Accueil](../../../index.ipynb) > [Sommaire de Terminale](../../index.ipynb)"
   ]
  }
 ],
 "metadata": {
  "kernelspec": {
   "display_name": "Python 3 (ipykernel)",
   "language": "python",
   "name": "python3"
  },
  "language_info": {
   "codemirror_mode": {
    "name": "ipython",
    "version": 3
   },
   "file_extension": ".py",
   "mimetype": "text/x-python",
   "name": "python",
   "nbconvert_exporter": "python",
   "pygments_lexer": "ipython3",
   "version": "3.10.12"
  },
  "toc": {
   "base_numbering": 1,
   "nav_menu": {},
   "number_sections": true,
   "sideBar": true,
   "skip_h1_title": false,
   "title_cell": "Table of Contents",
   "title_sidebar": "Contents",
   "toc_cell": false,
   "toc_position": {
    "height": "calc(100% - 180px)",
    "left": "10px",
    "top": "150px",
    "width": "384px"
   },
   "toc_section_display": true,
   "toc_window_display": true
  },
  "toc-autonumbering": true,
  "toc-showcode": false,
  "toc-showmarkdowntxt": false
 },
 "nbformat": 4,
 "nbformat_minor": 4
}
