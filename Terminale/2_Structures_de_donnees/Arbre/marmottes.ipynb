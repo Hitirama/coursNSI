{
 "cells": [
  {
   "cell_type": "markdown",
   "metadata": {},
   "source": [
    "[Voir la vidéo sur les marmottes](https://www.youtube.com/watch?v=oqMx1cuw6mo&feature=youtu.be&list=PLWvGMqXvyJAPSMFgCiy6qVHW9bAPu93X5)\n",
    "\n",
    "- Réaliser le terrier le plus efficient pour les marmotes 2, 3, 5, 7, 8\n",
    "- Réaliser le terrier le plus efficient pour les marmotes 2, 2, 2, 4, 4, 5, 5, 6\n",
    "\n",
    "[voir une vidéo sur la compression d'un texte](https://www.youtube.com/watch?v=JsTptu56GM8)\n"
   ]
  }
 ],
 "metadata": {
  "kernelspec": {
   "display_name": "Python 3",
   "language": "python",
   "name": "python3"
  },
  "language_info": {
   "codemirror_mode": {
    "name": "ipython",
    "version": 3
   },
   "file_extension": ".py",
   "mimetype": "text/x-python",
   "name": "python",
   "nbconvert_exporter": "python",
   "pygments_lexer": "ipython3",
   "version": "3.8.10"
  }
 },
 "nbformat": 4,
 "nbformat_minor": 4
}
