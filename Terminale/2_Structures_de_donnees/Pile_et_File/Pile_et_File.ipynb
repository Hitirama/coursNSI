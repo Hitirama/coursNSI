{
 "cells": [
  {
   "cell_type": "markdown",
   "metadata": {},
   "source": [
    "[Accueil](../../../index.ipynb) > [Sommaire de Terminale](../../index.ipynb)"
   ]
  },
  {
   "cell_type": "markdown",
   "metadata": {},
   "source": [
    "# 2.3 Structure de données : Pile et File\n",
    "\n",
    "Un des problèmes fondamentaux de l'informatique est le stockage des données. Pour les stocker et les manipuler de façon optimale il est nécessaire d'utiliser des structures de donnnées adaptées au problème posé.\n",
    "\n",
    "Nous allons découvrir dans ce cours deux types de structures simples:\n",
    "\n",
    "- [Les piles](#stacks)\n",
    "- [Les files](#queues)\n",
    "\n",
    "\n",
    "Les piles et les files sont des structures **linéaires**. (contrairement aux arbres et aux graphes)"
   ]
  },
  {
   "cell_type": "markdown",
   "metadata": {
    "heading_collapsed": true
   },
   "source": [
    "<a id=stacks></a>\n",
    "## Les piles\n",
    "Une pile (*stack* en anglais) est une structure de donnée fondée sur le principe \"Dernier arrivé, premier sorti\".\n",
    "\n",
    "En anglais on nomme ce principe \"LIFO\" pour \"**L**ast **I**n **F**irst **O**ut\".\n",
    "<img title=\"a stack image\" src=\"stack.jpg\"/>\n",
    "[source de l'image](https://dev.to/rinsama77/data-structure-stack-and-queue-4ecd)\n",
    "\n",
    "__Définition__ : On dit qu'une liste a une structure en pile si seule la dernière donnée ajoutée à la liste est accessible."
   ]
  },
  {
   "cell_type": "markdown",
   "metadata": {
    "heading_collapsed": true
   },
   "source": [
    "### Utilisation\n",
    "\n",
    "Voici quelques utilisations de ce type de structure de données:\n",
    "\n",
    "- l'historique de navigation d'un navigateur web\n",
    "- la fonction undo d'un logiciel\n",
    "- l'interpréteur Python : la pile est visible lorsqu'une erreur se produit.\n",
    "- ..."
   ]
  },
  {
   "cell_type": "markdown",
   "metadata": {
    "heading_collapsed": true
   },
   "source": [
    "### Les primitives\n",
    "\n",
    "Pour implémenter une pile il est nécessaire qu'elle implémente les fonctions suivantes, et uniquement celles-ci (voir le concept d'encapsulation dans la partie POO):\n",
    "- Créer une pile vide, retourne la pile;\n",
    "- Vérifier que la pile est vide (isEmpty()), retourne Boolean;\n",
    "- Empiler un élément dans la pile (push(element)), retourne la pile;\n",
    "- Dépiler un élément de la pile (pop()), retourne l'élement dépilé (retourne IndexError si la pile est vide);\n",
    "- Connaitre l'élement du sommet de la pile sans dépiler (summit), retourne l'élement. (retourne IndexError si la pile est vide);\n",
    "- Connaire la taille de la pile (size), retourne un entier."
   ]
  },
  {
   "cell_type": "markdown",
   "metadata": {
    "heading_collapsed": true
   },
   "source": [
    "### Implémentation en Python\n",
    "\n",
    "En python, il existe le type de données liste, qui permet d'implémenter facilement une pile.\n",
    "\n",
    "Lors de l'implémentation de notre pile nous allons utiliser un mode de développement que l'on appelle [test driven development](https://fr.wikipedia.org/wiki/Test_driven_development).\n",
    "\n",
    "Un des principes fondamentaux est d'écrire les tests unitaires de chaque méthode de l'interface AVANT d'implémenter la méthode."
   ]
  },
  {
   "cell_type": "markdown",
   "metadata": {
    "heading_collapsed": true
   },
   "source": [
    "#### Création d'un nouveau dépôt et récupération d'un squelette de code\n",
    "\n",
    "\n",
    "- Sur github créez un dépôt *stack*.\n",
    "- Cloner dans votre répertoire de travail (git clone ssh...)\n",
    "- Récupérer le fichier zip https://github.com/saintlouis29/sl29.structures.stack/archive/refs/tags/1.0.zip;\n",
    "- Dézipper le;\n",
    "- Copier les fichiers stack.py et test.py dans votre dépôt *stack* cloné auparavant.\n",
    "- Ajouter les fichier stack.py et test.py dans ce dépot ( git add stack.py et git add test.py)\n",
    "- Fair un premier commit ( git commit -m \"début du projet stack\" )\n",
    "\n",
    "**Il est temps de coder, mais avec le développement pilotés par les tests**"
   ]
  },
  {
   "cell_type": "markdown",
   "metadata": {},
   "source": [
    "#### Lancement des tests unitaires\n",
    "\n",
    "- Regarder le module test.py : il contient 5 jeux de tests qui permettent de vérifier que l'implémentation est correcte.\n",
    "- Regarder le module stack.py : il contient les méthodes de l'interface de notre pile, mais elles ne sont pas implémentées.\n",
    "\n",
    "Executer le fichier test.py\n",
    "\n",
    "Vous devriez obtenir ceci:\n",
    "\n",
    "<pre>\n",
    "Ran 5 tests in 0.000s\n",
    "\n",
    "FAILED (errors=5)\n",
    "</pre>\n",
    "\n",
    "\n",
    "C'est tout à fait normal : les tests échouent car aucune implémentation n'existe."
   ]
  },
  {
   "cell_type": "markdown",
   "metadata": {},
   "source": [
    "#### Codage\n",
    "\n",
    "- Implémentation du constructeur ( self._elements=[] )\n",
    "- Implémentation de push\n",
    "- Implémentation de pop\n",
    "- Implémentation de size\n",
    "- Implémentation de isEmpty\n",
    "- Implémentation de summit\n",
    "\n",
    "\n",
    "A chaque fois, vous lancez les tests unitaires.\n",
    "Quand un nouveau test d'implémentation de l'interface passe:\n",
    "\n",
    "- git add stack.py\n",
    "- git commit -m \"Implémentation de XXX\"\n",
    "\n",
    "Quand les 5 tests sont validés, votre implémentation de la pile est finie."
   ]
  },
  {
   "cell_type": "markdown",
   "metadata": {},
   "source": [
    "### Application de votre pile\n",
    "\n",
    "- Dans un dossier frère de votre projet structures.stack vous allez créer un module parser.py ( to *parse* signifie *analyser*)\n",
    "- Dans ce fichier faire un import de la classe Stack\n",
    "- Créer une fonction parse_checker(string) qui retourne True si les parenthèses d'une expression sont équilibrées, False sinon.\n",
    "\n",
    "- voici une liste d'expression à vérifier\n",
    "\n",
    "~~~python\n",
    "\n",
    "expressions = ['2x(x+1)','2x((x+1)','2x+1)', '2x(x+1)(x+2)(x+3)','2x(x+1)(x+2)((x+3)','2x(x+1)(x+2))(x+3)','','(','()',')(']\n",
    "~~~\n",
    "\n",
    "<div class = \"alert alert-info\">\n",
    "    Quel est le rapport entre une analyse de ces expressions mathématiques et l'utilisation d'une pile ?\n",
    "</div>"
   ]
  },
  {
   "cell_type": "markdown",
   "metadata": {},
   "source": [
    "<a id=queues></a>\n",
    "## Les files\n",
    "\n",
    "Une file (*queue* en anglais) est une structure de donnée fondée sur le principe \"Premier arrivé, premier sorti\".\n",
    "\n",
    "En anglais on nomme ce principe \"FIFO\" pour \"**F**irst **I**n **F**irst **O**ut\".\n",
    "<img title=\"a queue image\" src=\"queue.png\"/>\n",
    "[source de l'image](https://dev.to/rinsama77/data-structure-stack-and-queue-4ecd)"
   ]
  },
  {
   "cell_type": "markdown",
   "metadata": {},
   "source": [
    "### Utilisation\n",
    "\n",
    "- serveur d'impression\n",
    "- parcours d'un arbre en largeur (on verra cela avec les arbres)\n",
    "- playlist dans un logiciel de musique\n",
    "- ..."
   ]
  },
  {
   "cell_type": "markdown",
   "metadata": {},
   "source": [
    "### Les primitives\n",
    "\n",
    "Pour implémenter une file il est nécessaire qu'elle implémente les fonctions suivantes, et uniquement celles-ci (voir le concept d'[encapsulation](../Langage_Objet/Le_langage_objet.ipynb#2.2_encapsulation) dans la partie POO):\n",
    "- Créer une file vide, retourne la file;\n",
    "- Vérifier que la file est vide (isEmpty()), retourne Boolean;\n",
    "- Enfiler un élément dans la file (enqueue(element)), retourne la file;\n",
    "- Defiler un élément de la file (dequeue(element)), retourne l'élement défilé (retourne IndexError si la file est vide);\n",
    "- Connaitre l'élement du sommet de la tête de la queue (head), retourne l'élement. (retourne IndexError si la file est vide);\n",
    "- Contaire la taille de la file (size), retourne un entier."
   ]
  },
  {
   "cell_type": "markdown",
   "metadata": {
    "tags": []
   },
   "source": [
    "### Implémentation en Python\n",
    "\n",
    "On pourrait utiliser les listes de Python pour implémenter notre file, cependant pour enfiler un nouvel élément il faudrait faire un insert(0, element) et cette opération est coûteuse car il faut décaler tous les éléments de la liste.\n",
    "\n",
    "Pour implémenter notre file nous allons, utiliser **collections.deque** qui est optimisé pour l'ajout/suppression dans la tête/queue.\n",
    "\n",
    "Voir la [documentation](https://docs.python.org/fr/3/library/collections.html#collections.deque).\n",
    "\n",
    "Comme pour la pile, nous allons ici utiliser la méthode de développement piloté par les tests."
   ]
  },
  {
   "cell_type": "markdown",
   "metadata": {
    "heading_collapsed": true
   },
   "source": [
    "#### Création d'un nouveau dépôt et récupération d'un squelette de code\n",
    "\n",
    "\n",
    "- Sur github créez un dépôt *queue*.\n",
    "- Cloner dans votre répertoire de travail (git clone ssh...)\n",
    "- Récupérer le fichier zip https://github.com/saintlouis29/sl29.structures.queue/archive/refs/tags/1.0.zip;\n",
    "- Dézipper le;\n",
    "- Copier les fichiers queue.py et test.py dans votre dépôt *queue* cloné auparavant.\n",
    "- /!\\ Renommer queue.py en my_queue.py car il existe déjà un fichier queue.py dans le python system et modifier les imports dans le tests.py\n",
    "- Ajouter les fichier my_queue.py et test.py dans ce dépot ( git add stack.py et git add test.py)\n",
    "- Fair un premier commit ( git commit -m \"début du projet stack\" )\n",
    "\n",
    "**Il est temps de coder, mais avec le développement pilotés par les tests**"
   ]
  },
  {
   "cell_type": "markdown",
   "metadata": {},
   "source": [
    "#### Codage\n",
    "Comme pour la pile, lancez les tests unitaires, codez, etc... etc...\n",
    "**Bien faire un commit à chaque nouvelle implémentation réussie**"
   ]
  },
  {
   "cell_type": "markdown",
   "metadata": {},
   "source": [
    "#### Utilisation de notre file\n",
    "\n",
    "Reprendre le projet Fighter que nous avions fait en début d'année.\n",
    "\n",
    "Créer le fichier **tournament.py**\n",
    "\n",
    "Dans ce fichier, vous allez créer une fonction do_tournament(fighters) qui va prendre en paramètre une liste de nom de fighters et qui va automatiser le tournoi et retourner le gagnant du tournoi.\n",
    "\n",
    "Voici la liste des $2^3$ fighers  : fighters_names = ['Marcel', 'Raymond', 'Gérard', 'Jean-Pierre', 'Chantal', 'Germaine', 'Rachel', 'Odette']\n",
    "\n",
    "Comment utiliser une file pour ce tournoi ?\n",
    "\n",
    "Qui sera le vainqueur ?\n"
   ]
  },
  {
   "cell_type": "markdown",
   "metadata": {},
   "source": [
    "## Bibliographie\n",
    "\n",
    "- [monlyceenumerique.fr](http://monlyceenumerique.fr/nsi_terminale/sd/sd1_interface.html)\n",
    "- [lyceum.fr](https://lyceum.fr/tg/nsi/1-structures-de-donnees/3-structures-lineaires-piles,-files)\n",
    "- [Wikipedia - Pile](https://fr.wikipedia.org/wiki/Pile_(informatique))\n",
    "- [Wikipedia - File](https://fr.wikipedia.org/wiki/File_(structure_de_donn%C3%A9es))"
   ]
  },
  {
   "cell_type": "markdown",
   "metadata": {},
   "source": [
    "[Accueil](../../../index.ipynb) > [Sommaire de Terminale](../../index.ipynb)"
   ]
  }
 ],
 "metadata": {
  "kernelspec": {
   "display_name": "Python 3 (ipykernel)",
   "language": "python",
   "name": "python3"
  },
  "language_info": {
   "codemirror_mode": {
    "name": "ipython",
    "version": 3
   },
   "file_extension": ".py",
   "mimetype": "text/x-python",
   "name": "python",
   "nbconvert_exporter": "python",
   "pygments_lexer": "ipython3",
   "version": "3.10.6"
  }
 },
 "nbformat": 4,
 "nbformat_minor": 4
}
