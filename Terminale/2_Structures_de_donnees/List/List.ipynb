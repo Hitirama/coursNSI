{
 "cells": [
  {
   "cell_type": "markdown",
   "metadata": {},
   "source": [
    "[Accueil](../../../index.ipynb) > [Sommaire de Terminale](../../index.ipynb)"
   ]
  },
  {
   "cell_type": "markdown",
   "metadata": {},
   "source": [
    "# 2.3 Structure de données linéaire : Les listes\n",
    "\n",
    "## Définition\n",
    "\n",
    "Une liste est une structure de données linéaire permettant de grouper plusieurs données. Contrairement aux piles et files, il est possible d'accéder, supprimer ou ajouter des données au **début**, à la **fin** ou à l'**intérieur** de la liste.\n",
    "Les listes ont été implémentées en 1954 dans le langage [Lisp](https://fr.wikipedia.org/wiki/Lisp) ( qui siginifie \" list processing\")\n",
    "\n",
    "**Ce que l'on qualifie de liste en informatique n'est pas à confondre avec les listes implémentées en Python qui ont une structure bien plus riche que la définition donnée précédemment.**\n",
    "\n",
    "## Explication de la structure\n",
    "\n",
    "Il existe deux grands types de listes:\n",
    "\n",
    "- Les listes **simplement chaînées** dans lesquelles chaque élément pointe vers son successeur. Le parcours s'effectue dans un seul sens.\n",
    "- Les listes **doublement chaînées** dans lesquelles chaque élement dispose de deux pointeurs : l'élément suivant et le précédent. Le parcours peut donc se faire dans les deux sens.\n",
    "\n",
    "Dans le reste du cours nous nous intéresserons à la structure la plus simple c'est à dire les listes simplement chainées.\n",
    "\n",
    "Dans une liste simplement chaînee chaque élément contient une donnée et un pointeur vers l'élément suivant. L'accès à la liste se fait en accédant à son premier élément.\n",
    "\n",
    "![visualisation d'une liste simlement chaînée](aList.png \"Liste simplement chaînée\")\n",
    "\n",
    "Une liste peut être récursivement définie avec deux éléments:\n",
    "\n",
    "- Sa tête ( notée *car* pour _contents of address register_ ) qui coresspond au dernier élément ajouté dans la liste.\n",
    "- Sa queue ( notée *cdr* pour _contents of decrement register_ ) qui correspond au reste de la liste.\n",
    "\n",
    "Contrairement à un tableau, la taille d'une liste chaînée n'a pas de limite de taille puisque chaque élément pointe vers un autre élément.\n",
    "\n",
    "## Implémentation d'une liste en Python\n",
    "\n",
    "Nous allons dans cette partie implémenter une liste chaînée ( sans utiliser les listes python bien evidemment...)\n",
    "\n",
    "### Définition des classes en POO\n",
    "\n",
    "Nous allons tout d'abord définir une classe **Node** dont les attributs sont :\n",
    "\n",
    "- **data** (la valeur contenue dans le noeud)\n",
    "- **next** (une référence vers le noeud suivant)\n",
    "\n",
    "![un noeud de la liste](node.png \"Un noeud de la liste\")\n",
    "\n",
    "Une classe **SLinkedList** qui possède un seul attribut \n",
    " \n",
    " - **head** qui pointe vers le dernier noeud ajouté.\n",
    " \n",
    "![la liste simplement chaînée](slinkedlist.png \"Une liste simplement chaînée\")\n",
    " \n"
   ]
  },
  {
   "cell_type": "code",
   "execution_count": 22,
   "metadata": {},
   "outputs": [
    {
     "data": {
      "text/plain": [
       "[6,4,2,]"
      ]
     },
     "execution_count": 22,
     "metadata": {},
     "output_type": "execute_result"
    }
   ],
   "source": [
    "class Node:\n",
    "    \"\"\"\n",
    "    A class for a Node in a simple linked list\n",
    "    \"\"\"\n",
    "    def __init__(self, data):\n",
    "        self._data = data\n",
    "        self._next = None\n",
    "    \n",
    "    def get_data(self):\n",
    "        \"\"\"\n",
    "        Return the data of the node\n",
    "        \"\"\"\n",
    "        return self._data\n",
    "        \n",
    "    def get_next(self):\n",
    "        \"\"\"\n",
    "        Return the next node\n",
    "        \"\"\"\n",
    "        return self._next\n",
    "        \n",
    "    def set_next(self, next):\n",
    "        \"\"\"\n",
    "        Return the next node\n",
    "        \"\"\"\n",
    "        self._next = next\n",
    "        \n",
    "class SLinkedList:\n",
    "    \"\"\"\n",
    "    A class for a simle linked list\n",
    "    \"\"\"\n",
    "    def __init__(self):\n",
    "        \"\"\"\n",
    "        By defaut the list is empty.\n",
    "        \"\"\"\n",
    "        self._head = None\n",
    "        \n",
    "    def __repr__(self):\n",
    "        \"\"\"\n",
    "        Display a list\n",
    "        \"\"\"\n",
    "        result = ''\n",
    "        head = self._head\n",
    "        while(head):\n",
    "            result+=str(head.get_data())+','\n",
    "            head = head.get_next()\n",
    "        return '['+result+']'\n",
    "    \n",
    "    def is_empty(self):\n",
    "        \"\"\"\n",
    "        Return True if the list is empty, False otherwise\n",
    "        \"\"\"\n",
    "        return self._head is None\n",
    "        \n",
    "        \n",
    "    def push(self, value):\n",
    "        \"\"\"\n",
    "        Insert a value in the head of the list\n",
    "        \"\"\"\n",
    "        \n",
    "        new_node = Node(value) #we make an instance of a new node\n",
    "        new_node.set_next(self._head) # the new node points to the previous one (the head of the list)\n",
    "        self._head = new_node # now the the head of the list is the new node\n",
    "        \n",
    "    def delete(self):\n",
    "        \"\"\"\n",
    "        Delete the last element of the list\n",
    "        \"\"\"\n",
    "        # A FAIRE\n",
    "        \n",
    "    def size(self):\n",
    "        \"\"\"\n",
    "        return the number of elements of the list\n",
    "        \"\"\"\n",
    "        # FAIRE\n",
    "    \n",
    "        \n",
    "l = SLinkedList()\n",
    "l.push(2)\n",
    "l.push(4)\n",
    "l.push(6)\n",
    "l"
   ]
  },
  {
   "cell_type": "markdown",
   "metadata": {},
   "source": [
    "## Travail à faire\n",
    "\n",
    "- implémenter la méthode delete\n",
    "- Implémenter la méthode size (en recursif ce serait le summum...)"
   ]
  },
  {
   "cell_type": "markdown",
   "metadata": {},
   "source": [
    "## Webographie\n",
    "\n",
    "- [Wikipedia](https://fr.wikipedia.org/wiki/Liste_(informatique))"
   ]
  },
  {
   "cell_type": "markdown",
   "metadata": {},
   "source": [
    "[Accueil](../../../index.ipynb) > [Sommaire de Terminale](../../index.ipynb)"
   ]
  }
 ],
 "metadata": {
  "kernelspec": {
   "display_name": "Python 3 (ipykernel)",
   "language": "python",
   "name": "python3"
  },
  "language_info": {
   "codemirror_mode": {
    "name": "ipython",
    "version": 3
   },
   "file_extension": ".py",
   "mimetype": "text/x-python",
   "name": "python",
   "nbconvert_exporter": "python",
   "pygments_lexer": "ipython3",
   "version": "3.10.6"
  }
 },
 "nbformat": 4,
 "nbformat_minor": 4
}
