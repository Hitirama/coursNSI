{
 "cells": [
  {
   "cell_type": "markdown",
   "metadata": {},
   "source": [
    "[Accueil](../../../index.ipynb) > [Sommaire de Terminale](../../index.ipynb)"
   ]
  },
  {
   "cell_type": "markdown",
   "metadata": {},
   "source": [
    "# 2.3 Structure de données linéaire : Les listes\n",
    "\n",
    "## Définition et caractéristiques\n",
    "\n",
    "Une liste est une **structure linéaire** permettant stocker une **collection** de données.\n",
    "\n",
    "Définition **récursive** : Une liste de données est :\n",
    "- soit vide\n",
    "- soit une donnée suivie d'une liste de données.\n",
    "\n",
    "Contrairement aux tableaux, l'espace mémoire utilisé par une liste n'est pas contigu.\n",
    "\n",
    "Contrairement à un tableau, la taille d'une liste chaînée n'a pas de limite de taille puisque chaque élément pointe vers un autre élément.\n",
    "\n",
    "Les listes ont été implémentées en 1954 dans le langage [Lisp](https://fr.wikipedia.org/wiki/Lisp) ( qui siginifie \" list processing\")\n",
    "\n",
    "**Ce que l'on qualifie de liste en informatique n'est pas à confondre avec les listes implémentées en Python qui ont une structure bien plus riche que la définition donnée précédemment.**\n",
    "\n",
    "## Explication de la structure\n",
    "\n",
    "Il existe deux grands types de listes:\n",
    "\n",
    "- Les listes **simplement chaînées** dans lesquelles chaque élément pointe vers son successeur. Le parcours s'effectue dans un seul sens.\n",
    "- Les listes **doublement chaînées** dans lesquelles chaque élement dispose de deux pointeurs : l'élément suivant et le précédent. Le parcours peut donc se faire dans les deux sens.\n",
    "\n",
    "**Dans le reste du cours nous nous intéresserons à la structure la plus simple c'est à dire les listes simplement chainées.**\n",
    "\n",
    "Dans une liste simplement chaînee chaque élément contient une **donnée** et un **pointeur** (une adresse mémoire) vers l'élément suivant. L'accès à la liste se fait en accédant à son premier élément.\n",
    "\n",
    "![visualisation d'une liste simlement chaînée](aList.png \"Liste simplement chaînée\")\n",
    "\n",
    "Une liste est composée de 2 parties:\n",
    "\n",
    "1. Sa tête ( notée *car* pour _contents of address register_ ) qui coresspond au **dernier élément ajouté** dans la liste. (Le noeud contenant la valeur 12 dans le schéma ci-dessus.)\n",
    "2. Sa queue ( notée *cdr* pour _contents of decrement register_ ) qui correspond au reste de la liste."
   ]
  },
  {
   "cell_type": "markdown",
   "metadata": {},
   "source": [
    "## Implémentation d'une liste en Python\n",
    "\n",
    "Nous allons dans cette partie implémenter une liste chaînée ( sans utiliser les listes python bien evidemment...)\n",
    "\n",
    "### Définition des classes en POO\n",
    "\n",
    "Nous allons tout d'abord définir une classe **Node** dont les attributs sont :\n",
    "\n",
    "- **data** (la valeur contenue dans le noeud)\n",
    "- **next** (une référence vers le noeud suivant)\n",
    "\n",
    "<img src=\"node.png\" title=\"Un noeud de la liste\" alt=\"Un noeud de la liste\" style=\"width:15%\">\n",
    "\n",
    "Une classe **SLinkedList** qui possède un seul attribut \n",
    " \n",
    " - **head** qui pointe vers le dernier noeud ajouté.\n",
    "\n",
    "<img src=\"slinkedlist.png\" title=\"Une liste simplement chaînée\" alt=\"Une liste simplement chaînée\" style=\"width:50%\"> "
   ]
  },
  {
   "cell_type": "code",
   "execution_count": 23,
   "metadata": {},
   "outputs": [
    {
     "name": "stdout",
     "output_type": "stream",
     "text": [
      "[4,3,2,1,]\n",
      "4\n",
      "[4,3,2,]\n"
     ]
    }
   ],
   "source": [
    "class Node:\n",
    "    \"\"\"\n",
    "    A class for a Node in a simple linked list\n",
    "    \"\"\"\n",
    "    def __init__(self, data):\n",
    "        self._data = data\n",
    "        self._next = None\n",
    "    \n",
    "    def get_data(self):\n",
    "        \"\"\"\n",
    "        Return the data of the node\n",
    "        \"\"\"\n",
    "        return self._data\n",
    "        \n",
    "    def get_next(self):\n",
    "        \"\"\"\n",
    "        Return the next node\n",
    "        \"\"\"\n",
    "        return self._next\n",
    "        \n",
    "    def set_next(self, next):\n",
    "        \"\"\"\n",
    "        Return the next node\n",
    "        \"\"\"\n",
    "        self._next = next\n",
    "        \n",
    "class SLinkedList:\n",
    "    \"\"\"\n",
    "    A class for a simle linked list\n",
    "    \"\"\"\n",
    "    def __init__(self):\n",
    "        \"\"\"\n",
    "        By defaut the list is empty.\n",
    "        \"\"\"\n",
    "        self._head = None\n",
    "        \n",
    "    def __repr__(self):\n",
    "        \"\"\"\n",
    "        Display a list\n",
    "        \"\"\"\n",
    "        result = ''\n",
    "        head = self._head\n",
    "        while(head):\n",
    "            result+=str(head.get_data())+','\n",
    "            head = head.get_next()\n",
    "        return '['+result+']'\n",
    "    \n",
    "    def is_empty(self):\n",
    "        \"\"\"\n",
    "        Return True if the list is empty, False otherwise\n",
    "        \"\"\"\n",
    "        pass\n",
    "        \n",
    "        \n",
    "    def add(self, value, pos = 0):\n",
    "        \"\"\"\n",
    "        Insert a value in the list at the position 0\n",
    "        \"\"\"\n",
    "        pass\n",
    "        #we make an instance of a new node\n",
    "        # the new node points to the previous one (the head of the list)\n",
    "        # now the the head of the list is the new node\n",
    "        \n",
    "    def remove(self, pos = 0):\n",
    "        \"\"\"\n",
    "        Delete the element at the position pos.\n",
    "        \"\"\"\n",
    "        #TODO   \n",
    "        \n",
    "    def __len__(self):\n",
    "        \"\"\"\n",
    "        return the length of the list\n",
    "        \"\"\"\n",
    "        pass #TODO\n",
    "        \n",
    "\n",
    "        \n",
    "l = SLinkedList()"
   ]
  },
  {
   "cell_type": "markdown",
   "metadata": {},
   "source": [
    "## Travail à faire\n",
    "\n",
    "- implémenter la méthode is_empty\n",
    "- implémenter la méthode add\n",
    "- implémenter la méthode remove\n",
    "- implémenter la méthode \\__len\\__"
   ]
  },
  {
   "cell_type": "markdown",
   "metadata": {},
   "source": [
    "## Webographie\n",
    "\n",
    "- [Wikipedia](https://fr.wikipedia.org/wiki/Liste_(informatique))"
   ]
  },
  {
   "cell_type": "markdown",
   "metadata": {},
   "source": [
    "[Accueil](../../../index.ipynb) > [Sommaire de Terminale](../../index.ipynb)"
   ]
  }
 ],
 "metadata": {
  "kernelspec": {
   "display_name": "Python 3 (ipykernel)",
   "language": "python",
   "name": "python3"
  },
  "language_info": {
   "codemirror_mode": {
    "name": "ipython",
    "version": 3
   },
   "file_extension": ".py",
   "mimetype": "text/x-python",
   "name": "python",
   "nbconvert_exporter": "python",
   "pygments_lexer": "ipython3",
   "version": "3.10.6"
  }
 },
 "nbformat": 4,
 "nbformat_minor": 4
}
