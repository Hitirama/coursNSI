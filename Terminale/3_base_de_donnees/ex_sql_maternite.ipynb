{
 "cells": [
  {
   "cell_type": "markdown",
   "metadata": {},
   "source": [
    "[Accueil](../../index.ipynb) > [Sommaire de Terminale](../index.ipynb) > [3.4 Langage SQL](langage_SQL.ipynb)"
   ]
  },
  {
   "cell_type": "markdown",
   "metadata": {},
   "source": [
    "# Une base de données pour une maternité\n",
    "\n",
    "Cet exercice est inspiré de l'exercice 1 du sujet 2022 d'Amérique du Sud, jour1\n",
    "\n",
    "Voici une représentation des relations de la base.\n",
    "\n",
    "![](img/schema_maternite.png)\n",
    "\n",
    "Dans la relation *Naissances*:\n",
    "- La clé étrangère *idMere* fait référence à la clef primaire *numPatiente* de la relation *Patientes*;\n",
    "- La clé étrangère *acc* fait référence à la clef primaire *idAcc* de la relation *TypesAccouchement*. Il permet de savoir si la patiente à accouché par voie naturelle ou par césarienne;\n",
    "- l’attribut *rang* indique le rang de naissance du bébé dans le mois. Il recommence donc à 1 au début de chaque nouveau mois;\n",
    "- l’attribut *poids* est exprimé en grammes et l’attribut *taille* en centimètres.\n"
   ]
  },
  {
   "cell_type": "code",
   "execution_count": null,
   "metadata": {},
   "outputs": [],
   "source": [
    "import sqlite3 as sql\n",
    "%load_ext sql\n",
    "%sql sqlite:///dbs/maternite.db"
   ]
  },
  {
   "cell_type": "markdown",
   "metadata": {},
   "source": [
    "## Liste des relations de la base de données."
   ]
  },
  {
   "cell_type": "code",
   "execution_count": null,
   "metadata": {},
   "outputs": [],
   "source": [
    "%sql SELECT name FROM sqlite_master  WHERE type='table' AND name != 'sqlite_sequence';"
   ]
  },
  {
   "cell_type": "markdown",
   "metadata": {},
   "source": [
    "## Le contenu de la relation *Naissances*."
   ]
  },
  {
   "cell_type": "code",
   "execution_count": null,
   "metadata": {},
   "outputs": [],
   "source": [
    "%sql SELECT * FROM Naissances;"
   ]
  },
  {
   "cell_type": "markdown",
   "metadata": {},
   "source": [
    "## Le contenu de la relation *Patientes*."
   ]
  },
  {
   "cell_type": "code",
   "execution_count": 57,
   "metadata": {},
   "outputs": [
    {
     "name": "stdout",
     "output_type": "stream",
     "text": [
      " * sqlite:///dbs/maternite.db\n",
      "Done.\n"
     ]
    },
    {
     "data": {
      "text/html": [
       "<table>\n",
       "    <tr>\n",
       "        <th>numPatiente</th>\n",
       "        <th>nom</th>\n",
       "        <th>prenom</th>\n",
       "        <th>commune</th>\n",
       "    </tr>\n",
       "    <tr>\n",
       "        <td>13857</td>\n",
       "        <td>Berthelot</td>\n",
       "        <td>Michelle</td>\n",
       "        <td>Aigrefeuille d’Aunis</td>\n",
       "    </tr>\n",
       "    <tr>\n",
       "        <td>13858</td>\n",
       "        <td>Samson</td>\n",
       "        <td>Marine</td>\n",
       "        <td>Nieul sur Mer</td>\n",
       "    </tr>\n",
       "    <tr>\n",
       "        <td>13859</td>\n",
       "        <td>Perrin</td>\n",
       "        <td>Patricia</td>\n",
       "        <td>La Rochelle</td>\n",
       "    </tr>\n",
       "    <tr>\n",
       "        <td>13860</td>\n",
       "        <td>Fernandez</td>\n",
       "        <td>Claire</td>\n",
       "        <td>Aytré</td>\n",
       "    </tr>\n",
       "    <tr>\n",
       "        <td>13861</td>\n",
       "        <td>Baugé</td>\n",
       "        <td>Gaëlle</td>\n",
       "        <td>Lagord</td>\n",
       "    </tr>\n",
       "</table>"
      ],
      "text/plain": [
       "[(13857, 'Berthelot', 'Michelle', 'Aigrefeuille d’Aunis'),\n",
       " (13858, 'Samson', 'Marine', 'Nieul sur Mer'),\n",
       " (13859, 'Perrin', 'Patricia', 'La Rochelle'),\n",
       " (13860, 'Fernandez', 'Claire', 'Aytré'),\n",
       " (13861, 'Baugé', 'Gaëlle', 'Lagord')]"
      ]
     },
     "execution_count": 57,
     "metadata": {},
     "output_type": "execute_result"
    }
   ],
   "source": [
    "%sql SELECT * FROM Patientes;"
   ]
  },
  {
   "cell_type": "markdown",
   "metadata": {},
   "source": [
    "## Le contenu de la relation *TypesAccouchement*."
   ]
  },
  {
   "cell_type": "code",
   "execution_count": null,
   "metadata": {},
   "outputs": [],
   "source": [
    "%sql SELECT * FROM TypesAccouchement;"
   ]
  },
  {
   "cell_type": "markdown",
   "metadata": {},
   "source": [
    "## Questions\n",
    "\n",
    "1. Indiquer, pour chacune des propositions suivantes, si elles peuvent être ou non clé primaire de la relation *Naissances*. Justifier chaque réponse.\n",
    "\n",
    "    1. idMere\n",
    "    2. (date, rang)\n",
    "    3. (poids, taille)\n",
    "    \n",
    "2. Pourquoi la requête ci-dessous provoque-t-elle une erreur?\n",
    "\n",
    "    DELETE FROM Patientes WHERE numPatiente = 13858;\n",
    "    \n",
    "3. Donner en langage SQL la requête d’insertion qui permet d’inscrire, avec le numéro 13862, la patiente nommée Ninette Bélanger résidant à la Rochelle."
   ]
  },
  {
   "cell_type": "code",
   "execution_count": null,
   "metadata": {},
   "outputs": [],
   "source": [
    "%sql"
   ]
  },
  {
   "cell_type": "markdown",
   "metadata": {},
   "source": [
    "4. Dans l’extrait de la table fourni, on constate qu’une erreur a été commise lors de la saisie du prénom du bébé de madame Fernandez. La bonne orthographe est Laurette.\n",
    "   Donner en langage SQL l’instruction à exécuter pour corriger le prénom du bébé."
   ]
  },
  {
   "cell_type": "code",
   "execution_count": null,
   "metadata": {},
   "outputs": [],
   "source": [
    "%sql"
   ]
  },
  {
   "cell_type": "markdown",
   "metadata": {},
   "source": [
    "5. Ecrire une requête SQL qui renvoie le poids moyen des bébés nés par césarienne. On utilisera la fonction d'agrégation AVG(attr)"
   ]
  },
  {
   "cell_type": "code",
   "execution_count": null,
   "metadata": {},
   "outputs": [],
   "source": [
    "%sql"
   ]
  },
  {
   "cell_type": "markdown",
   "metadata": {},
   "source": [
    "6. Afficher les noms et prénoms des mères qui ont accouché par voie naturelle. (La question d'origine était différente) "
   ]
  },
  {
   "cell_type": "code",
   "execution_count": null,
   "metadata": {},
   "outputs": [],
   "source": [
    "%sql #utiliser le caractère \\ pour faire des retours à la ligne"
   ]
  },
  {
   "cell_type": "code",
   "execution_count": null,
   "metadata": {
    "jupyter": {
     "source_hidden": true
    },
    "tags": []
   },
   "outputs": [],
   "source": [
    "%sql \\\n",
    "SELECT DISTINCT Patientes.nom AS \"Nom mère\", Patientes.prenom AS \"Prénom mère\" \\\n",
    "FROM Naissances \\\n",
    "JOIN Patientes ON Naissances.idMere=Patientes.numPatiente\\\n",
    "WHERE Naissances.acc=1;"
   ]
  },
  {
   "cell_type": "markdown",
   "metadata": {},
   "source": [
    "[Accueil](../../index.ipynb) > [Sommaire de Terminale](../index.ipynb) > [3.4 Langage SQL](langage_SQL.ipynb)"
   ]
  }
 ],
 "metadata": {
  "kernelspec": {
   "display_name": "Python 3",
   "language": "python",
   "name": "python3"
  },
  "language_info": {
   "codemirror_mode": {
    "name": "ipython",
    "version": 3
   },
   "file_extension": ".py",
   "mimetype": "text/x-python",
   "name": "python",
   "nbconvert_exporter": "python",
   "pygments_lexer": "ipython3",
   "version": "3.8.10"
  }
 },
 "nbformat": 4,
 "nbformat_minor": 4
}
