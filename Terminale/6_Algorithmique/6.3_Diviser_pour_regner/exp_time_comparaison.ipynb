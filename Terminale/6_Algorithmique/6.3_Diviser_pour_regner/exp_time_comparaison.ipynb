{
 "cells": [
  {
   "cell_type": "markdown",
   "metadata": {},
   "source": [
    "[Accueil](../../index.ipynb) > [6.3 diviser pour régner](index.ipynb)"
   ]
  },
  {
   "cell_type": "markdown",
   "metadata": {},
   "source": [
    "Comparaison des différentes implémentations de la méthode puissance (avec n >= 0)\n",
    "=======\n"
   ]
  },
  {
   "cell_type": "markdown",
   "metadata": {},
   "source": [
    "On imagine que notre langage de programmation n'implémente pas la fonction puissance. Il faut donc écrire une fonction pour l'implémenter.\n",
    "Plusieurs solutions s'offrent à nous:\n",
    "- La méthode itérative\n",
    "- La méthode récursive\n",
    "- La méthode \"diviser pour régner\"\n",
    "- ...\n"
   ]
  },
  {
   "cell_type": "markdown",
   "metadata": {},
   "source": [
    "Commençons par la plus facile, la méthode itérative.\n",
    "Par exemple $7^5 = 7 \\times 7 \\times 7 \\times 7 \\times 7 $"
   ]
  },
  {
   "cell_type": "code",
   "execution_count": null,
   "metadata": {},
   "outputs": [],
   "source": [
    "def puissanceA(x, n):\n",
    "    \"\"\"\n",
    "    Retourne x à la puissance n\n",
    "    en utilisant une itération\n",
    "    \"\"\"\n",
    "    pass\n",
    "\n",
    "puissanceA(2,6)"
   ]
  },
  {
   "cell_type": "markdown",
   "metadata": {},
   "source": [
    "Pour la méthode récursive, on a :\n",
    "\n",
    "- $x^0=1$\n",
    "- $x^n = x \\times x^{n-1}$"
   ]
  },
  {
   "cell_type": "code",
   "execution_count": null,
   "metadata": {},
   "outputs": [],
   "source": [
    "def puissanceB(x, n):\n",
    "    \"\"\"\n",
    "    Retourne x à la puissance n\n",
    "    en utilisant la récursivité basique\n",
    "    \"\"\"\n",
    "    pass\n",
    "puissanceB(2,6)"
   ]
  },
  {
   "cell_type": "markdown",
   "metadata": {},
   "source": [
    "Voici la méthode diviser pour régner qui peut s'écrire:\n",
    "\n",
    "- $x^0=1$\n",
    "- si n est pair : $x^n = (x^2)^{n/2}$\n",
    "- sinon $x^n = x \\times x^{n-1}$"
   ]
  },
  {
   "cell_type": "code",
   "execution_count": null,
   "metadata": {},
   "outputs": [],
   "source": [
    "def puissanceC(x,n):\n",
    "    \"\"\"\n",
    "    Retourne x à la puissance n\n",
    "    en utilisant la méthode diviser pour régner    \n",
    "    \"\"\"\n",
    "    pass\n",
    "\n",
    "puissanceB(2,6)"
   ]
  },
  {
   "cell_type": "markdown",
   "metadata": {},
   "source": [
    "Test sur le temps d'execution."
   ]
  },
  {
   "cell_type": "code",
   "execution_count": null,
   "metadata": {},
   "outputs": [],
   "source": [
    "import matplotlib.pyplot as plt\n",
    "\n",
    "# faisons une liste des puissance et du pas\n",
    "puissances = [i for i in range(0, 1024, 16)]\n",
    "resultsA=[]\n",
    "resultsB=[]\n",
    "resultsC=[]\n",
    "resultsD=[]\n",
    "# On teste sur ce nombre\n",
    "number = 60\n",
    "for p in puissances:\n",
    "    # Cas de la puissance recursive itérative\n",
    "    stats = %timeit -q -o -n 10 puissanceA(number, p)\n",
    "    resultsA.append(stats.average)\n",
    "     # Cas de la puissance recursive basique\n",
    "    stats = %timeit -q -o -n 10 puissanceB(number, p)\n",
    "    resultsB.append(stats.average)\n",
    "    # Cas de la puissance recursive diviser pour régner\n",
    "    stats = %timeit -q -o -n 10 puissanceC(number, p)\n",
    "    resultsC.append(stats.average)\n",
    "    # Cas de la puissance native en Python\n",
    "    stats = %timeit -q -o -n 10 number**p\n",
    "    resultsD.append(stats.average)\n",
    "\n",
    "# création du graphique de points\n",
    "x = [p for p in puissances]\n",
    "yA = [r*1000 for r in resultsA]\n",
    "yB = [r*1000 for r in resultsB]\n",
    "yC = [r*1000 for r in resultsC]\n",
    "yD = [r*1000 for r in resultsD]\n",
    "\n",
    "plt.figure(figsize=(15,10))\n",
    "plt.scatter(x,yA, label=\"exponentielle par itération\")\n",
    "plt.scatter(x,yB, label=\"exponentielle par recursion simple\")\n",
    "plt.scatter(x,yC, label=\"exponentielle par diviser pour régner\")\n",
    "plt.scatter(x,yD, label=\"fonction exponentielle native de Python\")\n",
    "plt.grid(which='both')\n",
    "plt.title(\"Comparaison d'execution de différentes fonctions puissance\")\n",
    "plt.xlabel('puissance')\n",
    "plt.ylabel('temps en ms')\n",
    "plt.legend(loc='upper left')\n",
    "plt.show()"
   ]
  },
  {
   "cell_type": "markdown",
   "metadata": {},
   "source": [
    "Des commentaires ?"
   ]
  },
  {
   "cell_type": "markdown",
   "metadata": {},
   "source": [
    "**Nano projet:**\n",
    "    \n",
    "Utiliser la bibliothèque [PrettyTable](https://pypi.org/project/prettytable/) pour afficher, sous forme de tableau, le coefficient multiplicateur par rapport à la fonction puissance native, pour l'ensemble des calculs de puissance. (On prendra uniquement la partie entière)\n",
    "\n",
    "Exemple : \n",
    "```\n",
    "+-----------+------+---------+-------+\n",
    "|           |60**16| 60**32  | 60**48|\n",
    "+-----------+------+---------+-------+\n",
    "|  iteratif | 10   |  12     |  14   |\n",
    "|  recursif | 12   |  14     |  16   |\n",
    "|   dpr     | 1    |  1      |  2    |\n",
    "+-----------+------+---------+-------+\n",
    "```"
   ]
  },
  {
   "cell_type": "code",
   "execution_count": null,
   "metadata": {},
   "outputs": [],
   "source": [
    "from prettytable import PrettyTable\n",
    "x = PrettyTable()\n",
    "# a vous de coder\n",
    "print(x)"
   ]
  }
 ],
 "metadata": {
  "kernelspec": {
   "display_name": "Python 3 (ipykernel)",
   "language": "python",
   "name": "python3"
  },
  "language_info": {
   "codemirror_mode": {
    "name": "ipython",
    "version": 3
   },
   "file_extension": ".py",
   "mimetype": "text/x-python",
   "name": "python",
   "nbconvert_exporter": "python",
   "pygments_lexer": "ipython3",
   "version": "3.10.6"
  }
 },
 "nbformat": 4,
 "nbformat_minor": 4
}
