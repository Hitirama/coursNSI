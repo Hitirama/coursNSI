{
 "cells": [
  {
   "cell_type": "markdown",
   "metadata": {},
   "source": [
    "[Retour au sommaire](../../index.ipynb)"
   ]
  },
  {
   "cell_type": "markdown",
   "metadata": {},
   "source": [
    "<div class=\"alert alert-info\">Les algorithmes sur les arbres binaires nécéssitent une connaissance de la récursivité et, dans notre cas, de la programmation orientée objet.</div>"
   ]
  },
  {
   "cell_type": "markdown",
   "metadata": {},
   "source": [
    "# 6.1 Algorithmes sur les arbres binaires\n",
    "\n",
    "\n",
    "Python ne possède pas nativement la structure arbre binaire. Il existe la librairie [binarytree](https://pypi.org/project/binarytree/) qui peut être installée, mais pour les besoins pédagogiques nous allons implémenter **notre propre solution** en utilisant la POO.\n",
    "\n",
    "\n",
    "\n",
    "Le module binarytree que vous allez créer possède deux classes :\n",
    "\n",
    "1. une classe **Node** qui représente un noeud de l'arbre. Un noeud possède comme attribut sa valeur (\\_value ), le noeud gauche (\\_left) et le noeud droit (\\_right).\n",
    "2. une classe **BinaryTree** dont la racine (\\_root) est une instance de la classe Node.\n",
    "\n",
    "On obtient donc le diagramme de classes suivant:\n",
    "\n",
    "![Diagramme de classe d'un arbre binaire](img/binary_tree.drawio.png)"
   ]
  },
  {
   "cell_type": "markdown",
   "metadata": {},
   "source": [
    "\n"
   ]
  },
  {
   "cell_type": "markdown",
   "metadata": {},
   "source": [
    "## Création d'un projet git\n",
    "\n",
    "### Création d'un python virtuel et installation du paquet\n",
    "\n",
    "- [Créez votre python virtuel](../../../Pratique_commune/venv.ipynb), activez le;\n",
    "- Configurez votre IDE pour qu'il prenne le python virtuel comme interpréteur;\n",
    "\n",
    "### Importation d'un modèle de projet existant\n",
    "\n",
    "Nous n'allons pas partir de zéro. Vous allez commencer par un squelette existant.\n",
    "\n",
    "- Forkez le projet suivant : [https://github.com/saintlouis29/sl29.structures.binarytree](https://github.com/saintlouis29/sl29.structures.binarytree) \n",
    "- Avec votre python virtuel activé, installez le squelette en mode développement : \"*pip install --editable .*\""
   ]
  },
  {
   "cell_type": "markdown",
   "metadata": {},
   "source": [
    "## Découverte de la documentation du projet\n",
    "\n",
    "Ouvrir le fichier qui se trouve dans build/html/index.html avec un navigateur web.\n",
    "\n",
    "Vous pouvez voir la documentation qui a été générée depuis\n",
    "- le README.rst du projet\n",
    "- les docstring des différentes classes"
   ]
  },
  {
   "cell_type": "markdown",
   "metadata": {},
   "source": [
    "## Implémentation d'une méthode de la classe Node.\n",
    "\n",
    "Dans votre IDE, ouvrez le fichier **binarytree.py** ainsi que le fichier **test_node.py**.\n",
    "\n",
    "Dans la classe **Node**, vous devez implémenter la méthode **is_leaf** qui retourne Vrai si le noeud est une feuille Faux sinon.\n",
    "\n",
    "Aidez vous des tests unitaires.\n",
    "\n",
    "Lancez les tests unitaires avec la commande suivante:\n",
    "\n",
    "Depuis votre terminal de python virtual, installez les paquets suivants:\n",
    "\n",
    "```\n",
    "pip3 install coverage\n",
    "pip3 install pytest-cov\n",
    "```\n",
    "\n",
    "Ensuite, allez dans le répertoire de tests et lancez la commande:\n",
    "\n",
    "```\n",
    "pytest --cov\n",
    "```"
   ]
  },
  {
   "cell_type": "markdown",
   "metadata": {},
   "source": [
    "## Taille d'un arbre\n",
    "\n",
    "<div class=\"alert alert-info\">\n",
    "    <b>Rappel</b><br/>\n",
    "    La taille d'un arbre est son nombre de noeuds.\n",
    "</div>\n",
    "\n",
    "Nous allons, dans la classe BinaryTree, implémenter la méthode **size** en utilisant une méthode récursive.\n",
    "\n",
    "Quel est le cas d'arrêt ?\n",
    "Quel est le cas général ?\n",
    "\n",
    "A l'aide des tests, implémentez la méthode size."
   ]
  },
  {
   "cell_type": "markdown",
   "metadata": {},
   "source": [
    "## Hauteur d'un arbre\n",
    "\n",
    "<div class=\"alert alert-info\">\n",
    "    <b>Rappel</b><br/>\n",
    "La hauteur de l'arbre est la profondeur <b>maximale</b> des feuilles de l'arbre.\n",
    "    \n",
    "Autrement dit, récursivement dans le cas général, <b>la hauteur d'un arbre est 1 + le maximum des hauteurs des arbres droit/gauche</b>.\n",
    "    \n",
    "/!\\ Pour un arbre possédant un seul noeud racine, la hauteur est 0.\n",
    "\n",
    "/!\\ Pour un arbre nul, la hauteur est -1.\n",
    "</div>\n",
    "    \n",
    "- Commencez par créer vos tests unitaires (inutile de vouloir être exhaustif, ce n'est pas possible.)\n",
    "- Implémentez la méthode **height** ( récursive ). Si vos tests ont été bien écrits et assez nombreux, une fois qu'ils passent tous, c'est que vous avez réussi l'implémentation.\n",
    "\n",
    "Ajout d'un paramètre nommé *emptyTreeSize* qui vaut par défaut -1.\n",
    "\n",
    "- Ajoutez des tests afin de prendre en compte une convention de la taille d'un arbre vide égale à 0.\n",
    "- Modifiez votre méthode en conséquence."
   ]
  },
  {
   "cell_type": "markdown",
   "metadata": {},
   "source": [
    "## Parcours d'arbre\n",
    "\n",
    "### Parcours en profondeur\n",
    "\n",
    "<img style=\"float: right; width: 25%\" src=\"../../2_Structures_de_donnees/Arbre/img/1024px-Sorted_binary_tree_ALL.svg.png\">\n",
    "L'explication des algorithmes est présente dans le cours sur les structures en arbre.\n",
    "\n",
    "Voici ce que nous allons faire:\n",
    "\n",
    "- Comprendre quel résultat on doit obtenir quand on parcourt un arbre en profondeur selon les 3 façons;\n",
    "- Commencer par créer les tests unitaires (inutile de vouloir être exhaustif, ce n'est pas possible);\n",
    "- Comprendre l'algorithme;\n",
    "- Enfin, implémenter en Python les 3 méthodes de parcours.\n",
    "\n",
    "#### Parcours préfixe (NLR)\n",
    "\n",
    "Voir les explications sur le cours [2.structure de données > arbre > parcours préfixe](../../2_Structures_de_donnees/Arbre/arbre.ipynb#NLR).\n",
    "\n",
    "#### Parcours infixe (LNR)\n",
    "\n",
    "Voir les explications sur le cours [2.structure de données > arbre > parcours infixe](../../2_Structures_de_donnees/Arbre/arbre.ipynb#LNR).\n",
    "\n",
    "#### Parcours suffixe (LRN)\n",
    "\n",
    "Voir les explications sur le cours [2.structure de données > arbre > parcours suffixe](../../2_Structures_de_donnees/Arbre/arbre.ipynb#LRN).\n",
    "\n",
    "### Parcours en largeur ( BFS : Breadth First Search for Tree)\n",
    "\n",
    "Voir les explications sur le cours [2.structure de données > arbre > parcours en largeur](../../2_Structures_de_donnees/Arbre/arbre.ipynb#BFST).\n",
    "\n",
    "1. Regardez l'algorithme dans [cette vidéo](https://www.youtube.com/watch?v=4-TE4Avkmec); ou consulter le [pseudo-code sur Wikipedia](https://fr.wikipedia.org/wiki/Algorithme_de_parcours_en_largeur).\n",
    "2. Créez quelques tests;\n",
    "3. Implémentez l'algorithme."
   ]
  },
  {
   "cell_type": "markdown",
   "metadata": {},
   "source": [
    "[Retour au sommaire](../../index.ipynb)"
   ]
  }
 ],
 "metadata": {
  "kernelspec": {
   "display_name": "Python 3 (ipykernel)",
   "language": "python",
   "name": "python3"
  },
  "language_info": {
   "codemirror_mode": {
    "name": "ipython",
    "version": 3
   },
   "file_extension": ".py",
   "mimetype": "text/x-python",
   "name": "python",
   "nbconvert_exporter": "python",
   "pygments_lexer": "ipython3",
   "version": "3.10.12"
  }
 },
 "nbformat": 4,
 "nbformat_minor": 4
}
