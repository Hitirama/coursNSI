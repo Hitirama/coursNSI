{
 "cells": [
  {
   "cell_type": "markdown",
   "metadata": {},
   "source": [
    "[Accueil](../../../index.ipynb) > [Sommaire de Terminale](../../index.ipynb)"
   ]
  },
  {
   "cell_type": "markdown",
   "metadata": {},
   "source": [
    "# Algorithmes sur les graphes"
   ]
  },
  {
   "cell_type": "markdown",
   "metadata": {
    "tags": []
   },
   "source": [
    "## Utilisation de la librairie networkx et matplotlib\n",
    "\n",
    "Nous pourrions utiliser une liste de dictionnaires pour implémenter nos graphes, mais nous allons utiliser la librairie [networkx](https://networkx.org/documentation/stable/tutorial.html).\n",
    "\n",
    "Pour représenter nos graphes nous allons utiliser la librairie [matplotlib](https://matplotlib.org/).\n",
    "\n",
    "Voici, ci-dessous, le fonctionnement de base des 2 librairies."
   ]
  },
  {
   "cell_type": "code",
   "execution_count": null,
   "metadata": {
    "tags": []
   },
   "outputs": [],
   "source": [
    "# Installation des librairies\n",
    "try:\n",
    "    import matplotlib.pyplot as plt\n",
    "except ImportError:\n",
    "    %pip install matplotlib\n",
    "try:\n",
    "    import networkx as nx\n",
    "except ImportError:\n",
    "    %pip install networkx\n",
    "try:\n",
    "    import pygraphviz\n",
    "except ImportError:\n",
    "    !apt install libgraphviz-dev\n",
    "    %pip install pygraphviz\n",
    "\n",
    "\n",
    "# instanciation d'un graphe non orienté\n",
    "graphe = nx.Graph()\n",
    "\n",
    "# définition des arêtes pondérées\n",
    "edges = [('A', 'B', 40),\n",
    "         ('A', 'C', 200),\n",
    "         ('B', 'C', 170),\n",
    "         ('C', 'D', 120),\n",
    "        ]\n",
    "# ajout des arêtes dans le graphe\n",
    "for edge in edges:\n",
    "    graphe.add_edge(edge[0], edge[1], weight=edge[2])\n",
    "\n",
    "\n",
    "# quelques méthodes utiles sur le graphes         \n",
    "print(f\"Les noeuds sont : {[node for node in graphe]}\")\n",
    "print(f\"Les voisins de A sont : {[n for n in graphe.neighbors('A')]}\")\n",
    "print(f\"Le poids de AB est {graphe['A']['B']['weight']}\")\n",
    "\n",
    "\n",
    "# Affichage du graphe pondéré\n",
    "plt.figure(figsize=(3,3))\n",
    "pos = nx.nx_agraph.graphviz_layout(graphe)\n",
    "# dessin du graphe\n",
    "nx.draw(graphe, pos, with_labels=True)\n",
    "# dessins des poids\n",
    "nx.draw_networkx_edge_labels(graphe, pos, edge_labels = nx.get_edge_attributes(graphe,'weight'))\n",
    "plt.show()"
   ]
  },
  {
   "cell_type": "markdown",
   "metadata": {},
   "source": [
    "## Parcours de graphes\n",
    "\n",
    "Parcourir un graphe consiste à lister tous les sommets de ce graphe. On peut parcourir un graphe en **largeur (BFS)** ou en **profondeur (DFS)**.\n",
    "\n",
    "Nous allons utiliser le graphe ci-dessous pour nos parcours."
   ]
  },
  {
   "cell_type": "code",
   "execution_count": null,
   "metadata": {
    "tags": []
   },
   "outputs": [],
   "source": [
    "import matplotlib.pyplot as plt\n",
    "import networkx as nx\n",
    "\n",
    "# Instantiation d'un graphe\n",
    "G1 = nx.Graph()\n",
    "edges = [('A', 'B'),\n",
    "         ('A', 'C'),\n",
    "         ('A', 'D'),\n",
    "         ('B', 'E'),\n",
    "         ('C', 'F'),\n",
    "         ('C', 'I'),\n",
    "         ('D', 'G'),\n",
    "         ('B', 'H'),\n",
    "         ('H', 'I'),\n",
    "         ('F', 'J'),\n",
    "         ('E', 'K'),\n",
    "         ('K', 'G'),\n",
    "         ('J', 'L'),\n",
    "        ]\n",
    "# Ajout des arêtes pondérés\n",
    "for edge in edges:\n",
    "    G1.add_edge(edge[0], edge[1])\n",
    "\n",
    "    \n",
    "# rendu du graphe\n",
    "options = {\n",
    "    \"font_size\": 8,\n",
    "    \"node_size\": 1000,\n",
    "    \"edgecolors\": \"#4682B4\",\n",
    "    \"alpha\": 0.95,\n",
    "    \"linewidths\": 2,\n",
    "    \"width\": 2,\n",
    "}\n",
    "plt.figure(figsize=(5,3))\n",
    "\n",
    "pos = nx.nx_agraph.graphviz_layout(G1)\n",
    "color_map=['#A0CBE2' for node in G1]\n",
    "#color_map=['#FFA500' if node=='A' else '#A0CBE2' for node in G]\n",
    "nx.draw(G1, pos, node_color=color_map, with_labels=True, **options)\n",
    "\n",
    "plt.show()"
   ]
  },
  {
   "cell_type": "markdown",
   "metadata": {
    "tags": []
   },
   "source": [
    "### Parcours en largeur BFS (Breadth First Search)\n",
    "\n",
    "L'idée du parcours en largeur repose sur l'utilisation d'une **file**.\n",
    "Le parcours commence par un noeud source puis ses successeurs non explorés, puis les sucesseurs non explorés des successeurs...\n",
    "\n",
    "#### Algorithme en pseudo-code\n",
    "\n",
    "**Entrées de l'algorithme**: \n",
    "\n",
    "- un graphe $G$\n",
    "- $n_{dep}$ le noeud de départ\n",
    "\n",
    "**Sortie**:\n",
    "\n",
    "- un dictionnaire $dist$ comportant chaque noeud avec leur distance à $n_{dep}$\n",
    "\n",
    "**Début**:\n",
    "\n",
    "- $f$ : une file vide\n",
    "- $dist$ : un dictionnaire initialisé à $dist[n_{dep}]=0$\n",
    "- on enfile le sommet $n_{dep}$ dans $f$\n",
    "- TANT qu'il existe un noeud dans la file $f$:\n",
    "  - $n_{courant}$ ← défile la file $f$\n",
    "  - POUR chaque $voisin$ de $s_{courant}$:\n",
    "    - SI $voisin$ n'est pas dans $dist$:\n",
    "      - on enfile $voisin$ dans $f$\n",
    "      - $dist[voisin]$ ← $dist[n_{courant}]+1$\n",
    "    - fin de SI\n",
    "  -fin POUR\n",
    "- fin TANT QUE\n",
    "- retourner $dist$"
   ]
  },
  {
   "cell_type": "markdown",
   "metadata": {},
   "source": [
    "#### Implémentation en Python"
   ]
  },
  {
   "cell_type": "code",
   "execution_count": null,
   "metadata": {},
   "outputs": [],
   "source": [
    "def BFS(graph, node):\n",
    "    f = [node]\n",
    "    dist={node:0}\n",
    "    while len(f)>0:\n",
    "        pass\n",
    "    return dist\n",
    "BFS(G1, 'A')"
   ]
  },
  {
   "cell_type": "markdown",
   "metadata": {},
   "source": [
    "#### utilisation\n",
    "\n",
    "Le parcours en largeur permet d'obtenir les **longeurs des chemins les plus courts** d'un noeud vers les autres noeuds du graphe.\n",
    "\n",
    "**Exercice 1** : Ecrire la fonction *parcours_chemin(G, node)* qui retourne un dictionnaire associant à chaque sommet visité son **prédécesseur** (il n'y a qu'une ligne à changer par rapport à la fonction précédente)."
   ]
  },
  {
   "cell_type": "code",
   "execution_count": null,
   "metadata": {},
   "outputs": [],
   "source": [
    "def parcours_chemin(graph, node):\n",
    "    if node not in graph.nodes:\n",
    "        return {}\n",
    "    f = [node]\n",
    "    parcours={node:None}\n",
    "    while len(f)>0:\n",
    "        pass\n",
    "    return parcours\n",
    "depart = 'A'\n",
    "parcours_chemin(G1, depart)"
   ]
  },
  {
   "cell_type": "markdown",
   "metadata": {},
   "source": [
    "**Exercice 2** : Ecrire la fonction *chemin(G, start, end)* qui utilise la fonction *parcours_chemin* et qui retourne sous forme de liste le plus court chemin allant de *start* à *end*. Pour trouver le chemin de *start* à *end* on \"remontera\" le parcours en commençant par *end*."
   ]
  },
  {
   "cell_type": "code",
   "execution_count": null,
   "metadata": {},
   "outputs": [],
   "source": [
    "def chemin(G, start, end):\n",
    "    pass"
   ]
  },
  {
   "cell_type": "code",
   "execution_count": null,
   "metadata": {},
   "outputs": [],
   "source": [
    "path=chemin(G1, \"L\", \"K\")\n",
    "print(path)\n",
    "plt.figure(figsize=(4,3))\n",
    "\n",
    "pos = nx.nx_agraph.graphviz_layout(G1)\n",
    "color_map=['#FFA500' if node in path else '#A0CBE2' for node in G1]\n",
    "nx.draw(G1, pos, node_color=color_map, with_labels=True, **options)\n",
    "\n",
    "plt.show()"
   ]
  },
  {
   "cell_type": "markdown",
   "metadata": {},
   "source": [
    "### Parcours en profondeur DFS (Depth First Search)\n"
   ]
  },
  {
   "cell_type": "markdown",
   "metadata": {},
   "source": [
    "Le **parcours en profondeur** d’un graphe à partir d’un sommet consiste à suivre les arêtes arbitrairement, en marquant les sommets déjà visités pour ne pas les visiter à nouveau.\n",
    "\n",
    "#### Algorithme récursif en pseudo-code\n",
    "\n",
    "**Entrées de l'algorithme**: \n",
    "\n",
    "- $G$ : un graphe\n",
    "- $noeud$ :  noeud de départ\n",
    "\n",
    "**Sortie**:\n",
    "\n",
    "- *noeuds_visites* : une liste  comportant la liste des noeuds visités\n",
    "\n",
    "**Début**:\n",
    "\n",
    "- *noeuds_visites* : une liste vide\n",
    "- SI *noeud* n'est pas dans la liste noeuds_visites\n",
    "  - on l'ajoute dans *noeuds_visites*\n",
    "  - POUR chaque *voisin* des voisins de *noeud*:\n",
    "      - on appelle récursivement la fonction avec *voisin* en paramètre\n",
    "    - fin POUR\n",
    "- fin SI\n",
    "- retourner *noeuds_visites*"
   ]
  },
  {
   "cell_type": "markdown",
   "metadata": {},
   "source": [
    "#### Implémentation récursive en Python"
   ]
  },
  {
   "cell_type": "code",
   "execution_count": null,
   "metadata": {},
   "outputs": [],
   "source": [
    "def DFS_rec(g, noeud, noeuds_visites=None):\n",
    "    pass"
   ]
  },
  {
   "cell_type": "code",
   "execution_count": null,
   "metadata": {},
   "outputs": [],
   "source": [
    "noeuds_visites = DFS_rec(G1, \"A\")\n",
    "print(noeuds_visites)"
   ]
  },
  {
   "cell_type": "markdown",
   "metadata": {},
   "source": [
    "#### Implémentation itérative en Python"
   ]
  },
  {
   "cell_type": "code",
   "execution_count": null,
   "metadata": {},
   "outputs": [],
   "source": [
    "def DFS_iter(g, noeud):\n",
    "    if not(noeud in g.nodes):\n",
    "        return None\n",
    "    pile = [noeud]\n",
    "    liste_sommets = []\n",
    "    while len(pile) != 0:\n",
    "        s = pile.pop()\n",
    "        liste_sommets.append(s)\n",
    "        for voisin in g.neighbors(s):\n",
    "            if not(voisin in liste_sommets) and not(voisin in pile):\n",
    "                pile.append(voisin)\n",
    "    return liste_sommets\n"
   ]
  },
  {
   "cell_type": "code",
   "execution_count": null,
   "metadata": {},
   "outputs": [],
   "source": [
    "print(DFS_iter(G1, \"A\"))"
   ]
  },
  {
   "cell_type": "markdown",
   "metadata": {},
   "source": [
    "<div id=\"algo_dijkstra\"></div>\n",
    "\n",
    "## Algorithme de Dijkstra\n",
    "\n",
    "<div style=\"float:right; border:1px solid black; margin-right:10px\"><img src=\"img/dijkstra.jpg\" title=\"Edsger Dijkstra\"></div>\n",
    "\n",
    "**L'algorithme de Dijkstra** sert à résoudre le problème des **plus courts chemins** (Par exemple dans un graphe pondéré qui lie des villes entre elles). A partir d'un noeud dans un graphe orienté, il permet de connaitre le plus court chemin vers l'ensemble des autres noeuds du graphe.\n",
    "\n",
    "On peut evidemment l'utiliser pour déterminer **le plus court chemin** d'un noeud vers UN autre dans un graphe non orienté.\n",
    "\n",
    "Cet algorithme a été inventé par l'informaticien néerlandais **[Edsger Dijkstra](https://fr.wikipedia.org/wiki/Edsger_Dijkstra)** (1930-2002) et a été publié en 1959.\n",
    "\n",
    "### Applications\n",
    "\n",
    "- Calcul des itinéraires routiers\n",
    "  - poids = distance pour le chemin le plus court\n",
    "  - poids = temps pour le chemin le plus rapide\n",
    "  - poids = distance + peage pour le chemin le plus économique\n",
    "- Calcul de routes sur internet\n",
    "- ..."
   ]
  },
  {
   "cell_type": "code",
   "execution_count": 1,
   "metadata": {
    "tags": []
   },
   "outputs": [
    {
     "data": {
      "image/jpeg": "[encoded data removed]",
      "text/html": [
       "\n",
       "        <iframe\n",
       "            width=\"400\"\n",
       "            height=\"300\"\n",
       "            src=\"https://www.youtube.com/embed/MybdP4kice4\"\n",
       "            frameborder=\"0\"\n",
       "            allowfullscreen\n",
       "            \n",
       "        ></iframe>\n",
       "        "
      ],
      "text/plain": [
       "<IPython.lib.display.YouTubeVideo at 0x7f623bc3a650>"
      ]
     },
     "execution_count": 1,
     "metadata": {},
     "output_type": "execute_result"
    }
   ],
   "source": [
    "from IPython.display import YouTubeVideo\n",
    "YouTubeVideo(\"MybdP4kice4\")"
   ]
  },
  {
   "cell_type": "code",
   "execution_count": 2,
   "metadata": {
    "tags": []
   },
   "outputs": [
    {
     "data": {
      "image/jpeg": "[encoded data removed]",
      "text/html": [
       "\n",
       "        <iframe\n",
       "            width=\"400\"\n",
       "            height=\"300\"\n",
       "            src=\"https://www.youtube.com/embed/pVfj6mxhdMw\"\n",
       "            frameborder=\"0\"\n",
       "            allowfullscreen\n",
       "            \n",
       "        ></iframe>\n",
       "        "
      ],
      "text/plain": [
       "<IPython.lib.display.YouTubeVideo at 0x7f623bc3a080>"
      ]
     },
     "execution_count": 2,
     "metadata": {},
     "output_type": "execute_result"
    }
   ],
   "source": [
    "from IPython.display import YouTubeVideo\n",
    "YouTubeVideo(\"pVfj6mxhdMw\")"
   ]
  },
  {
   "cell_type": "code",
   "execution_count": 3,
   "metadata": {
    "tags": []
   },
   "outputs": [
    {
     "data": {
      "image/jpeg": "[encoded data removed]",
      "text/html": [
       "\n",
       "        <iframe\n",
       "            width=\"400\"\n",
       "            height=\"300\"\n",
       "            src=\"https://www.youtube.com/embed/rI-Rc7eF4iw\"\n",
       "            frameborder=\"0\"\n",
       "            allowfullscreen\n",
       "            \n",
       "        ></iframe>\n",
       "        "
      ],
      "text/plain": [
       "<IPython.lib.display.YouTubeVideo at 0x7f623bc397b0>"
      ]
     },
     "execution_count": 3,
     "metadata": {},
     "output_type": "execute_result"
    }
   ],
   "source": [
    "from IPython.display import YouTubeVideo\n",
    "YouTubeVideo(\"rI-Rc7eF4iw\")"
   ]
  },
  {
   "cell_type": "markdown",
   "metadata": {},
   "source": [
    "### Exemple\n",
    "\n",
    "Dans le graphe ci-dessous nous recherchons les distances au noeud A."
   ]
  },
  {
   "cell_type": "code",
   "execution_count": null,
   "metadata": {
    "tags": []
   },
   "outputs": [],
   "source": [
    "import matplotlib.pyplot as plt\n",
    "import networkx as nx\n",
    "\n",
    "# Instantiation d'un graphe\n",
    "G2 = nx.Graph()\n",
    "edges = [('A', 'B', 85),\n",
    "         ('A', 'C', 217),\n",
    "         ('A', 'E', 173),\n",
    "         ('B', 'F', 80),\n",
    "         ('C', 'H', 103),\n",
    "         ('C', 'G', 186),\n",
    "         ('D', 'H', 183),\n",
    "         ('E', 'J', 502),\n",
    "         ('F', 'I', 250),\n",
    "         ('H', 'J', 167),\n",
    "         ('I', 'J', 84),\n",
    "        ]\n",
    "# Ajout des arêtes pondérés\n",
    "for edge in edges:\n",
    "    G2.add_edge(edge[0], edge[1], weight=edge[2])\n",
    "\n",
    "    \n",
    "# rendu du graphe\n",
    "options = {\n",
    "    \"font_size\": 8,\n",
    "    \"node_size\": 1000,\n",
    "    \"edgecolors\": \"#4682B4\",\n",
    "    \"alpha\": 0.95,\n",
    "    \"linewidths\": 2,\n",
    "    \"width\": 2,\n",
    "}\n",
    "plt.figure(figsize=(8,5))\n",
    "plt.axis('off')\n",
    "\n",
    "edge_labels = nx.get_edge_attributes(G2,'weight')\n",
    "pos = nx.nx_agraph.graphviz_layout(G2)\n",
    "color_map=['#A0CBE2' for node in G2]\n",
    "#color_map=['#FFA500' if node=='A' else '#A0CBE2' for node in G]\n",
    "nx.draw(G2, pos, node_color=color_map, with_labels=True, **options)\n",
    "nx.draw_networkx_edge_labels(G2, pos, edge_labels = edge_labels)\n",
    "\n",
    "plt.show()"
   ]
  },
  {
   "cell_type": "markdown",
   "metadata": {
    "tags": []
   },
   "source": [
    "| à A   | à B      |  à C    | à D     | à E     | à F     | à G     | à H     | à I     | à J                        | file de priorité    |\n",
    "|-------|----------|---------|---------|---------|---------|---------|---------|---------|----------------------------|---------------------|\n",
    "|**0A** |∞         |∞        |∞        |∞        |∞        |∞        |∞        |∞        |∞                           |\\[<u>A</u>\\]         |\n",
    "|-      |**85A**   |217A     |∞        |173A     |∞        |∞        |∞        |∞        |∞                           |\\[<u>B</u>, C, E\\]   |\n",
    "|-      |-         |217A     |∞        |173A     |**165B** |∞        |∞        |∞        |∞                           |\\[C, E, <u>F</u>\\]   |\n",
    "|-      |-         |217A     |∞        |**173A** |-        |∞        |∞        |415F     |∞                           |\\[C, <u>E</u>, I\\]   |\n",
    "|-      |-         |**217A** |∞        |-        |-        |∞        |∞        |415F     |675E                        |\\[<u>C</u>, I, J\\]   |\n",
    "|-      |-         |-        |∞        |-        |-        |403C     |**320C** |415F     |675E                        |\\[G, <u>H</u>, I, J\\]|\n",
    "|-      |-         |-        |503H     |-        |-        |**403C** |-        |415F     |<strike>675E</strike> 487H  |\\[D, <u>I</u>, I,J\\] |\n",
    "|-      |-         |-        |503H     |-        |-        |-        |-        |**415F** |487H                        |\\[D, <u>I</u>, J\\]   |\n",
    "|-      |-         |-        |503H     |-        |-        |-        |-        |-        |**487H**                    |\\[D, <u>J</u>\\]      |\n",
    "|-      |-         |-        |**503H** |-        |-        |-        |-        |-        |-                           |\\[<u>D</u>\\]         |\n",
    "|-      |-         |-        |-        |-        |-        |-        |-        |-        |-                           |\\[\\]                 |\n",
    "\n",
    "De ce tableau on tire donc les **distances minimales** de A vers les autres noeuds du graphe ainsi que les **prédecesseurs de chaque noeud**.\n",
    "\n",
    "| noeud | prédécesseur | distance |\n",
    "|-------|--------------|----------|\n",
    "| A     |              | 0        |\n",
    "| B     | A            | 85       |\n",
    "| C     | A            | 165      |\n",
    "| D     | H            | 503      |\n",
    "| E     | A            | 217      |\n",
    "| F     | B            | 165      |\n",
    "| G     | C            | 403      |\n",
    "| H     | C            | 320      |\n",
    "| I     | F            | 415      |\n",
    "| J     | H            | 487      |\n",
    "\n",
    "Pour déterminer le **chemin emprunté**, on remonte les **prédécesseurs**.\n",
    "\n",
    "Par exemple le chemin le plus court de A vers J est J <- H <- C <- A."
   ]
  },
  {
   "cell_type": "markdown",
   "metadata": {
    "tags": []
   },
   "source": [
    "### **Exercice**\n",
    "\n",
    "- Dérouler l'algorithme de Djikstra pour le graphe ci-dessous.\n",
    "- Déterminer les longueurs des plus courts chemins en partant de A.\n",
    "- Déterminer le chemin de A vers H"
   ]
  },
  {
   "cell_type": "code",
   "execution_count": null,
   "metadata": {
    "tags": []
   },
   "outputs": [],
   "source": [
    "G3 = nx.Graph()\n",
    "edges = [('A', 'B', 4),\n",
    "         ('A', 'C', 5),\n",
    "         ('A', 'D', 6),\n",
    "         ('B', 'C', 3),\n",
    "         ('B', 'E', 7),\n",
    "         ('B', 'F', 4),\n",
    "         ('C', 'D', 3),\n",
    "         ('C', 'F', 5),\n",
    "         ('D', 'F', 6),\n",
    "         ('D', 'G', 6),\n",
    "         ('E', 'F', 4),\n",
    "         ('E', 'H', 6),\n",
    "         ('E', 'I', 8),\n",
    "         ('F', 'G', 6),\n",
    "         ('F', 'H', 10),\n",
    "         ('G', 'H', 5),\n",
    "         ('G', 'I', 7),\n",
    "         ('H', 'I', 3),\n",
    "        ]\n",
    "\n",
    "\n",
    "# Ajout des arêtes pondérés\n",
    "for edge in edges:\n",
    "    G3.add_edge(edge[0], edge[1], weight=edge[2])\n",
    "\n",
    "pos = nx.spring_layout(G3, seed=666)\n",
    "edge_labels = nx.get_edge_attributes(G3,'weight')\n",
    "color_map=['#A0CBE2' for node in G3]\n",
    "plt.figure(figsize=(8,5))\n",
    "nx.draw(G3, pos, with_labels=True, node_color=color_map, **options)\n",
    "nx.draw_networkx_edge_labels(G3, pos, edge_labels = edge_labels)\n",
    "plt.show()"
   ]
  },
  {
   "cell_type": "markdown",
   "metadata": {
    "tags": []
   },
   "source": [
    "### Pseudo code\n",
    "\n",
    "**Entrées de l'algorithme**: \n",
    "\n",
    "- un graphe $G$ avec une pondération positive de poids\n",
    "- $s_{deb}$ le sommet de début du graphe $G$\n",
    "\n",
    "**Sortie**:\n",
    "\n",
    "- un couple contant :\n",
    "  - un dictionnaire $p$ des prédécesseurs\n",
    "  - un dictionnaire $d$ des distances\n",
    "\n",
    "**Début**:\n",
    "\n",
    "- $d$ : un dictionnaire des distances avec $d[s]=+\\infty$ pour chaque sommet $s$ et $d[s_{deb}]=0$\n",
    "- $p$ : un dictionnaire des prédecesseurs  avec $p[s]=None$ pour chaque sommet $s$\n",
    "- $f$ : une file de priorité à laquelle on ajoute $(s_{deb}, 0)$\n",
    "- Tant qu'il existe un sommet dans la file de priorité $f$:\n",
    "  - on défile le couple $(s_{courant}, d_{courante})$\n",
    "  - pour chaque ($voisin$, $d_{voisin}$) de $s_{courant}$:\n",
    "    - on incrémente la $d_{courante}$ de $d_{voisin}$\n",
    "    - si la $d_{courante} < d[voisin]$:\n",
    "      - $d[voisin]$ ← $d_{courante}$\n",
    "      - $p[voisin]$ ← $s_{courant}$\n",
    "      - on enfile $(voisin, d_{courante})$ dans la file $f$\n",
    "  - fin Pour\n",
    "- fin Tant que\n",
    "- renvoyer $(p, d)$"
   ]
  },
  {
   "cell_type": "markdown",
   "metadata": {
    "toc-hr-collapsed": true
   },
   "source": [
    "### Implémentation de l'algorithme en Python"
   ]
  },
  {
   "cell_type": "markdown",
   "metadata": {
    "tags": []
   },
   "source": [
    "#### Implémentation d'une file de priorité en Python\n",
    "\n",
    "Python possède un module qui permet de modéliser une file de priorité. [Voir documentation de heapq](https://docs.python.org/fr/3/library/heapq.html) et la génération des graphes dans ce cours."
   ]
  },
  {
   "cell_type": "code",
   "execution_count": 7,
   "metadata": {},
   "outputs": [
    {
     "name": "stdout",
     "output_type": "stream",
     "text": [
      "(0, 'D')\n",
      "(1, 'B')\n",
      "(2, 'A')\n",
      "(3, 'E')\n",
      "(4, 'C')\n"
     ]
    }
   ],
   "source": [
    "import heapq\n",
    "\n",
    "h = []\n",
    "heapq.heappush(h, (2, 'A'))\n",
    "heapq.heappush(h, (1, 'B'))\n",
    "heapq.heappush(h, (4, 'C'))\n",
    "heapq.heappush(h, (0, 'D'))\n",
    "heapq.heappush(h, (3, 'E'))\n",
    "\n",
    "for _ in range(len(h)):\n",
    "    print(heapq.heappop(h))\n"
   ]
  },
  {
   "cell_type": "markdown",
   "metadata": {},
   "source": [
    "#### Implémentation de l'infini\n",
    "\n",
    "La valeur $+\\infty$ est définie par **float('infinity')**"
   ]
  },
  {
   "cell_type": "code",
   "execution_count": null,
   "metadata": {},
   "outputs": [],
   "source": [
    "a = float('infinity')\n",
    "a>10*99"
   ]
  },
  {
   "cell_type": "code",
   "execution_count": null,
   "metadata": {
    "tags": []
   },
   "outputs": [],
   "source": [
    "import heapq\n",
    "\n",
    "def dijkstra(graph, start):\n",
    "    \"\"\"\n",
    "    \"\"\"\n",
    "    pass\n",
    "depart = 'A'\n",
    "predecessors, distances = dijkstra(G3, depart)\n"
   ]
  },
  {
   "cell_type": "code",
   "execution_count": null,
   "metadata": {
    "tags": []
   },
   "outputs": [],
   "source": [
    "\n",
    "pos = nx.spring_layout(G3, seed=1234)\n",
    "edge_labels = nx.get_edge_attributes(G3,'weight')\n",
    "color_map=['#e06000' if node==depart else '#A0CBE2' for node in G3]\n",
    "labels={node:node+\"=\"+str(distances[node]) for node in G3.nodes()}\n",
    "plt.figure(figsize=(8,5))\n",
    "nx.draw(G3, pos, labels=labels, node_color=color_map, **options)\n",
    "edgelist = [(node, pred) for node, pred in predecessors.items() if pred]\n",
    "nx.draw_networkx_edges(\n",
    "    G3,\n",
    "    pos,\n",
    "    edgelist=edgelist,\n",
    "    width=8,\n",
    "    alpha=0.5,\n",
    "    edge_color=\"#e06000\",\n",
    ")\n",
    "nx.draw_networkx_edge_labels(G3, pos, edge_labels = edge_labels)\n",
    "plt.axis('off')\n",
    "plt.show()"
   ]
  },
  {
   "cell_type": "markdown",
   "metadata": {},
   "source": [
    "Le réseau des chemins les plus courts est un [arbre couvrant](https://fr.wikipedia.org/wiki/Arbre_couvrant) du graphe, c'est à dire un arbre inclus dans le graphe et qui connecte tous les noeuds."
   ]
  },
  {
   "cell_type": "markdown",
   "metadata": {},
   "source": [
    "### Networkx et osmnx\n",
    "\n",
    "Dans le code ci-desssous, on utilise :\n",
    "- la librairie osmnx (open street map) pour trouver les noeuds correspondants au départ et à l'arrivée.\n",
    "- puis la librairie networkx pour déterminer le chemin le plus court entre ces deux noeuds\n",
    "- Enfin le chemin est indiqué sur openstreetmap\n"
   ]
  },
  {
   "cell_type": "code",
   "execution_count": null,
   "metadata": {},
   "outputs": [],
   "source": [
    "try:\n",
    "    import osmnx\n",
    "except ImportError:\n",
    "    %pip install -U osmnx==1.3.0\n",
    "try:\n",
    "    import networkx\n",
    "except ImportError:\n",
    "    %pip install -U networkx\n",
    "\n",
    "\n",
    "import osmnx as ox\n",
    "import networkx as nx\n",
    "\n",
    "ox.settings.log_console=True\n",
    "ox.settings.use_cache=True\n",
    "# Geolocalisation du début et de la fin\n",
    "start_latlng = (48.19701, -4.08544)\n",
    "end_latlng = (48.18935,-4.09246)\n",
    "\n",
    "# Endroit où s'effectue la recherche\n",
    "place     = 'Chateaulin, France'\n",
    "\n",
    "# Type de transport\n",
    "mode      = 'walk'        # 'drive', 'bike', 'walk'\n",
    "# find shortest path based on distance or time\n",
    "optimizer = 'time'        # 'length','time'\n",
    "# create graph from OSM within the boundaries of some \n",
    "# geocodable place(s)\n",
    "graph = ox.graph_from_place(place, network_type=mode)\n",
    "graph = ox.speed.add_edge_speeds(graph)\n",
    "graph = ox.speed.add_edge_travel_times(graph)\n",
    "\n",
    "orig_node = ox.distance.nearest_nodes(graph, start_latlng[1], start_latlng[0])\n",
    "dest_node = ox.distance.nearest_nodes(graph, end_latlng[1], end_latlng[0])\n",
    "\n",
    "# find the shortest path\n",
    "shortest_route = nx.shortest_path(graph,\n",
    "                                  orig_node,\n",
    "                                  dest_node,\n",
    "                                  weight=optimizer)\n",
    "#shortest_route"
   ]
  },
  {
   "cell_type": "code",
   "execution_count": null,
   "metadata": {},
   "outputs": [],
   "source": [
    "shortest_route_map = ox.plot_route_folium(graph, shortest_route,tiles='openstreetmap')\n",
    "shortest_route_map"
   ]
  },
  {
   "cell_type": "markdown",
   "metadata": {},
   "source": [
    "[Accueil](../../../index.ipynb) > [Sommaire de Terminale](../../index.ipynb)"
   ]
  }
 ],
 "metadata": {
  "kernelspec": {
   "display_name": "Python 3 (ipykernel)",
   "language": "python",
   "name": "python3"
  },
  "language_info": {
   "codemirror_mode": {
    "name": "ipython",
    "version": 3
   },
   "file_extension": ".py",
   "mimetype": "text/x-python",
   "name": "python",
   "nbconvert_exporter": "python",
   "pygments_lexer": "ipython3",
   "version": "3.10.12"
  },
  "toc": {
   "base_numbering": 1,
   "nav_menu": {},
   "number_sections": true,
   "sideBar": true,
   "skip_h1_title": false,
   "title_cell": "Table of Contents",
   "title_sidebar": "Contents",
   "toc_cell": false,
   "toc_position": {},
   "toc_section_display": true,
   "toc_window_display": true
  },
  "toc-autonumbering": true
 },
 "nbformat": 4,
 "nbformat_minor": 4
}
