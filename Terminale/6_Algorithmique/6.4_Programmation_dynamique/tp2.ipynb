{
 "cells": [
  {
   "cell_type": "markdown",
   "metadata": {},
   "source": [
    "[Accueil](../../../index.ipynb) > [Sommaire](../../index.ipynb) > [6.4 Programmation dynamique](index.ipynb)"
   ]
  },
  {
   "cell_type": "markdown",
   "metadata": {},
   "source": [
    "# TP Pyramide de nombres\n",
    "\n",
    "TP **très fortement inspiré** de [cette source](http://hmalherbe.fr/thalesm/gestclasse/documents/Terminale_NSI/2020-2021/TP/TP_Term_NSI_programmation_dynamique/TP_Term_NSI_programmation_dynamique.html)."
   ]
  },
  {
   "cell_type": "markdown",
   "metadata": {},
   "source": [
    "## Présentation du problème\n",
    "\n",
    "Voici une pyramide de nombres. En partant du sommet et en se dirigeant vers le bas, **il faut maximiser la somme des nombres**. Depuis un nombre, on ne peut accèder qu'aux deux éléments adjacents de l'étage inférieur.\n",
    "\n",
    "```\n",
    "   3\n",
    "  7 4\n",
    " 2 4 6\n",
    "8 5 9 3\n",
    "```\n",
    "\n",
    "Dans cet exemple, la somme est maximisée en empruntant le chemin 3 -> 7 -> 4 -> 9."
   ]
  },
  {
   "cell_type": "markdown",
   "metadata": {},
   "source": [
    "## Choix de la structure de données\n",
    "\n",
    "Nous allons utiliser **une liste de listes**.\n",
    "\n",
    "L'exemple précédent est modélise par:"
   ]
  },
  {
   "cell_type": "code",
   "execution_count": 1,
   "metadata": {},
   "outputs": [],
   "source": [
    "pyramide_exemple = [[3], [7, 4], [2, 4, 6], [8, 5, 9, 3]]"
   ]
  },
  {
   "cell_type": "markdown",
   "metadata": {},
   "source": [
    "## Quelques fonctions préliminaires\n",
    "\n",
    "<div class=\"alert alert-info\">\n",
    "\n",
    "**A Faire**:\n",
    "\n",
    "Ecrire une fonction *generer_pyramide* qui génère une pyramide de hauteur *h* d'entiers aléatoires compris entre 1 et 9\n",
    "</div>\n",
    "    "
   ]
  },
  {
   "cell_type": "code",
   "execution_count": 2,
   "metadata": {},
   "outputs": [],
   "source": [
    "import random\n",
    "\n",
    "def generer_pyramide(h):\n",
    "    \"\"\"\n",
    "    Retourne une pyramide de hauteur h contenant des nombres aléatoires entre 1 et 9\n",
    "    \"\"\"\n",
    "    pass\n",
    "\n",
    "p = generer_pyramide(4)\n",
    "p"
   ]
  },
  {
   "cell_type": "markdown",
   "metadata": {},
   "source": [
    "<div class=\"alert alert-info\">\n",
    "\n",
    "**A Faire**:\n",
    "\n",
    "Ecrire une fonction *afficher_pyramide* qui affiche une pyramide passée en paramètre.\n",
    "</div>"
   ]
  },
  {
   "cell_type": "code",
   "execution_count": 3,
   "metadata": {},
   "outputs": [],
   "source": [
    "def afficher_pyramide(p):\n",
    "    \"\"\"\n",
    "    Affiche la pyramide p\n",
    "    \"\"\"\n",
    "    pass\n",
    "\n",
    "afficher_pyramide(p)"
   ]
  },
  {
   "cell_type": "markdown",
   "metadata": {},
   "source": [
    "<div class=\"alert alert-info\">\n",
    "\n",
    "**A Faire**:\n",
    "\n",
    "Ecrire deux fonctions:\n",
    "\n",
    "1. *sous_pyramide_gauche* qui retourne la sous-pyramide de gauche.\n",
    "2. *sous_pyramide_droite* qui retourne la sous-pyramide de droite.\n",
    "\n",
    "</div>"
   ]
  },
  {
   "cell_type": "code",
   "execution_count": 4,
   "metadata": {},
   "outputs": [],
   "source": [
    "def sous_pyramide_gauche(p):\n",
    "    pass\n",
    "\n",
    "def sous_pyramide_droite(p):\n",
    "    pass\n",
    "\n",
    "afficher_pyramide(p)\n",
    "\n",
    "afficher_pyramide(sous_pyramide_gauche(p))\n",
    "\n",
    "\n",
    "afficher_pyramide(sous_pyramide_droite(p))"
   ]
  },
  {
   "cell_type": "markdown",
   "metadata": {},
   "source": [
    "## Première méthode : brute force\n",
    "\n",
    "Ecriture de la relation récursive\n",
    "\n",
    "- Si la hauteur de ma pyramide est 1 alors, la somme maximale est égale au sommet de la pyramide (cas d'arrêt)\n",
    "- Sinon, la somme du chemin est l'élement du sommet + le maximum entre le chemin optimal de  pyramide gauche et le chemin optimal de la pyramide droite.\n",
    "\n",
    "Reprenons cette pyramide\n",
    "\n",
    "```\n",
    "   3\n",
    "  7 4\n",
    " 2 4 6\n",
    "8 5 9 3\n",
    "```\n",
    "\n",
    "Le chemin optimal vaut :\n",
    "<code>\n",
    "             7        4\n",
    "3 + max(    2 4  ,   4 6  )\n",
    "           8 5 9    5 9 3\n",
    "</code>\n",
    "\n",
    "<div class=\"alert alert-info\">\n",
    "\n",
    "**A Faire**:\n",
    "\n",
    "Ecrire une fonction *recherche_max_brute* la somme maximale parmis tous les chemins possibles.\n",
    "</div>"
   ]
  },
  {
   "cell_type": "code",
   "execution_count": 15,
   "metadata": {},
   "outputs": [],
   "source": [
    "\n",
    "def recherche_max_brute(p):\n",
    "    \"\"\"\n",
    "    Recherche du chemin optimal parmi tous les chemins possibles\n",
    "    \"\"\"\n",
    "    pass\n",
    "\n",
    "recherche_max_brute(pyramide_exemple)    "
   ]
  },
  {
   "cell_type": "markdown",
   "metadata": {},
   "source": [
    "### Complexité temporelle\n",
    "\n",
    "Ajouter un étage correspond à ajouter une sous pyramide de taille équivalente + un sommet, il y a donc 2 fois plus de chemins qu'avant.\n",
    "\n",
    "\n",
    "Voici un tableau donnant le nombre de chemins possibles en fonction de la hauteur *h*.\n",
    "\n",
    "| hauteur | nombre de chemins |\n",
    "|---------|-------------------|\n",
    "| 1       | $1=2^0$           |\n",
    "| 2       | $2=2^1$           |\n",
    "| 3       | $4=2^2$           |\n",
    "| ...     | ...               |\n",
    "| h       | $n=2^{h-1}$       |\n",
    "\n",
    "\n",
    "Le nombre de chemins $n$ pour une hauteur $h$ est $n=2^{h-1}$.\n",
    "\n",
    "**La complexité temporelle est donc exponentielle.** \n",
    "\n",
    "**Exemples**\n",
    "\n",
    "- Si h=21, le nombre de chemins à évaluer est $2^{20}=1048576$.\n",
    "- Si h=51, on arrive à $2^{50}=1125 899 906 842 624$ chemins possibles, soit environ $10^{15}$ chemins (1 million de milliards de chemins).\n"
   ]
  },
  {
   "cell_type": "markdown",
   "metadata": {},
   "source": [
    "## Deuxième méthode : la programmation dynamique\n",
    "\n",
    "examinons cette pyramide ainsi que ces deux sous-pyramides."
   ]
  },
  {
   "cell_type": "code",
   "execution_count": 6,
   "metadata": {
    "tags": []
   },
   "outputs": [],
   "source": [
    "p4 = [[3], [7, 4], [2, 4, 6], [8, 5, 9, 3]]\n",
    "afficher_pyramide(p4)"
   ]
  },
  {
   "cell_type": "markdown",
   "metadata": {},
   "source": [
    "Il est visuellement évident que les sous-pyramide gauche et droite se recouvrent et que par conséquent de nombreux sont traités plusieurs fois.\n",
    "\n",
    "Chaque case de la pyramide (sauf le sommet) possède un ou deux parents:\n",
    "- Un parent unique pour les cases des côtés;\n",
    "- Deux parents pour les autres cases.\n",
    "\n",
    "Si on parcourt la pyramide de haut en bas il est aisé de construire, pour chaque case de la ligne inférieure, le résultat maximal pour chaque case.\n",
    "\n",
    "- ligne 1\n",
    "  - case 1 : max=3\n",
    "- ligne 2\n",
    "  - case 1 : max = 7+3=10\n",
    "  - case 2 : max = 4+3=7\n",
    "-ligne 3:\n",
    "  - case 1 : max = 10+2=12\n",
    "  - case 2 : max = MAX(10, 7) + 4 = 10+4 = 14\n",
    "  - case 3 : max = 6+7=13\n",
    "-ligne 4:\n",
    "  - case 1 : max = 12+8 = 20\n",
    "  - case 2 : max = MAX(12, 14) + 5 = 19\n",
    "  - case 3 : max = MAX(14, 13) + 9 = 23\n",
    "  - case 4 : max = 13 + 3 = 16\n",
    "  \n",
    "La valeur du chemin maximum est donc le maximum des cases de la dernière ligne soit 23."
   ]
  },
  {
   "cell_type": "code",
   "execution_count": 14,
   "metadata": {},
   "outputs": [
    {
     "name": "stdout",
     "output_type": "stream",
     "text": [
      "          9\n",
      "         7 8\n",
      "        4 4 2\n",
      "       7 9 3 6\n",
      "      4 2 3 9 9\n",
      "     5 7 5 1 5 3\n",
      "    4 6 8 8 8 6 5\n",
      "   8 8 1 3 9 1 4 7\n",
      "  5 3 7 5 5 5 8 5 3\n",
      " 3 8 3 1 8 7 8 4 4 4\n",
      "          9\n",
      "         16 17\n",
      "        20 21 19\n",
      "       27 30 24 25\n",
      "      31 32 33 34 34\n",
      "     36 39 38 35 39 37\n",
      "    40 45 47 46 47 45 42\n",
      "   48 53 48 50 56 48 49 49\n",
      "  53 56 60 55 61 61 57 54 52\n",
      " 56 64 63 61 69 68 69 61 58 56\n"
     ]
    },
    {
     "data": {
      "text/plain": [
       "69"
      ]
     },
     "execution_count": 14,
     "metadata": {},
     "output_type": "execute_result"
    }
   ],
   "source": [
    "def build_max_pyramide(p, line=0):\n",
    "    \"\"\"\n",
    "    Retourne la pyramide p_max ( p est modifiée 'in place' )\n",
    "        4               4\n",
    "       9 1            13 5\n",
    "      1 2 9    =>    14 15 14\n",
    "     1 7 9 1        15 22 24 15\n",
    "    line : le numéro de ligne\n",
    "    \"\"\"\n",
    "    # Si on ne se trouve pas au sommet\n",
    "        # Pour la première case de la ligne courante, on ajoute la première case de la ligne du dessus\n",
    "        # Pour la dernière case de la ligne courante, on ajoute la dernière case de la ligne du dessus\n",
    "        # On parcourt toutes les autres cases et on y ajoute le plus grand contenu des deux cases supérieures\n",
    "            \n",
    "    # Cas général : nous ne sommes pas à la dernière ligne : \n",
    "       # on construit la pyramide à la ligne suivante \n",
    "    # Cas d'arrêt : on est arrivé à la dernière ligne\n",
    "       # on retourne la pyramide\n",
    "        \n",
    "def get_max_value(p):\n",
    "    pass\n",
    "    # retourne la lvaleur maximale de la dernière ligne\n",
    "    \n",
    "    \n",
    "p = generer_pyramide(10)\n",
    "afficher_pyramide(p)\n",
    "build_max_pyramide(p)\n",
    "afficher_pyramide(p)\n",
    "get_max_value(p)"
   ]
  },
  {
   "cell_type": "code",
   "execution_count": null,
   "metadata": {},
   "outputs": [],
   "source": []
  },
  {
   "cell_type": "code",
   "execution_count": null,
   "metadata": {},
   "outputs": [],
   "source": []
  }
 ],
 "metadata": {
  "kernelspec": {
   "display_name": "Python 3",
   "language": "python",
   "name": "python3"
  },
  "language_info": {
   "codemirror_mode": {
    "name": "ipython",
    "version": 3
   },
   "file_extension": ".py",
   "mimetype": "text/x-python",
   "name": "python",
   "nbconvert_exporter": "python",
   "pygments_lexer": "ipython3",
   "version": "3.8.10"
  }
 },
 "nbformat": 4,
 "nbformat_minor": 4
}
