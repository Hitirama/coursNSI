{
 "cells": [
  {
   "cell_type": "markdown",
   "metadata": {},
   "source": [
    "[Retour au sommaire](../../index.ipynb)"
   ]
  },
  {
   "cell_type": "markdown",
   "metadata": {},
   "source": [
    "# 5.1 Langage - Calculabilité et décidablité\n",
    "\n",
    "## 5.1.1 Un programme est une donnée\n",
    "\n",
    "Voici une fonction '**universel**' qui prend en paramètre un programme '**algo**' et ses paramètres '**args**'."
   ]
  },
  {
   "cell_type": "code",
   "execution_count": 1,
   "metadata": {},
   "outputs": [
    {
     "data": {
      "text/plain": [
       "True"
      ]
     },
     "execution_count": 1,
     "metadata": {},
     "output_type": "execute_result"
    }
   ],
   "source": [
    "def universel(algo, *args):\n",
    "    exec(algo)\n",
    "    ligne1 = algo.split('\\n')[0]\n",
    "    nom = ligne1.split('(')[0][4:]\n",
    "    return eval(f\"{nom}{args}\")\n",
    "\n",
    "algo = \"def est_impair(n):\\n    return n%2!=0\"\n",
    "\n",
    "universel(algo, 43)"
   ]
  },
  {
   "cell_type": "markdown",
   "metadata": {},
   "source": [
    "Le programme python ci-dessus nous montre bien que ce qui est un programme peut devenir une donnée pour un autre programme.\n",
    "\n",
    "Les exemples pour vous convaincre sont nombreux:\n",
    "\n",
    "- un OS utilise des programmes comme des données;\n",
    "- L’[architecture von Neumann](../../Premiere/6_Architecture/1_modele_architecture.ipynb#von_neumann), toujours utilisée aujourd’hui dans les ordinateurs modernes, a la caractéristique de lire/écrire les données et programmes au niveau de la mémoire sans faire de distinction entre ces deux notions;\n",
    "- Un compilateur ou un interpréteur prend en entrée un programme (un texte) et le transforme en langage machine afin qu’il soit exécutable par le microprocesseur;\n",
    "\n",
    "<div class=\"alert alert-info\">\n",
    "    Un <em>programme</em> peut être considéré comme une <em>donnée</em>.   \n",
    "</div>"
   ]
  },
  {
   "cell_type": "markdown",
   "metadata": {},
   "source": [
    "## 5.1.2 Calculabilité\n",
    "\n",
    "Une fonction est dite **calculable** si elle peut être programmée dans un langage de programmation [turing-complet](https://fr.wikipedia.org/wiki/Turing-complet).\n",
    "\n",
    "### Les différents modèles de calcul\n",
    "\n",
    "Il existe différents **modèles** de calculs formels ( au sens mathématiques )\n",
    "\n",
    "- Le  λ-calcul\n",
    "- La machine de Turing\n",
    "- Les fonctions récursives\n",
    "- La machine à compteur\n",
    "- ....\n",
    "\n",
    "<figure>\n",
    "    <img src=\"img/alonzo_church.jpg\" title=\"Alonzo Church\">\n",
    "    <figcaption>Alonzo Church (1903-1995)</figcaption>\n",
    "</figure>\n",
    "\n",
    "Alonzo Church est un mathématicien (logicien) américain. Il est connu pour le développement du **lambda calcul** (langage de programmation théorique) \n",
    "\n",
    "Ses travaux précédent ceux d'Alan Turing sur le problème de l'arrêt. Il est le premier à avoir définit mathématiquement la notion de **fonction calculable**.\n",
    "\n",
    "La thèse d'Alonzo Church dit que **tous les modèles de calculs sont équivalents** : Si on peut calculer une fonction dans un modèle, alors on peut le faire également dans un autre modèle.\n",
    "\n",
    "### Pour résumer\n",
    "\n",
    "Un même algorithme peut être implémenté par n'importe quel langage de programmation [turing-complet](https://fr.wikipedia.org/wiki/Turing-complet).\n",
    "\n",
    "Pour la suite du cours nous utiliserons le langage Python."
   ]
  },
  {
   "cell_type": "markdown",
   "metadata": {},
   "source": [
    "## 5.1.3 Décidabilité\n",
    "\n",
    "<figure>\n",
    "    <img src=\"img/kurt_godel.jpg\" title=\"Kurt Gödel\">\n",
    "    <figcaption>Kurt Gödel (1906-1978)</figcaption>\n",
    "</figure>\n",
    "\n",
    "Kurt Gödel est un mathématicien logicien autrichien qui, à l'âge de 25 ans, a démontré son premier **théorème d'incomplétude**.\n",
    "\n",
    "Ce théorème démontre deux choses :\n",
    "\n",
    "1. Si on veut faire au moins de l'arithmétique, quel que soit le système d'axiomes que l'on choisit pour fonder son domaine des mathématiques (Arithmétique, géométrie...), il existera toujours des affirmations qui ne seront ni démontrables ni réfutables. C'est à dire qu'il existe une partie des affirmations qui sont **indécidables**.\n",
    "\n",
    "2. Que si le système d'axiomes est **incohérent**, il est possible de démontrer des affirmations fausse. Et là c'est pas bon du tout...\n",
    "\n",
    "Bon, est-il possible de démontrer qu'un système d'axiomes n'est pas incohérent ?\n",
    "\n",
    "**Deuxième théorème de l'incomplétude de Gödel**\n",
    "\n",
    "L'affirmation qu'un système d'axiomes est cohérent fait partie des propositions **indécidables** de ce système.\n",
    "\n",
    "Voir cette [excellente vidéo](https://www.youtube.com/watch?v=82jOF4Q6gBU) sur les théorèmes d'incomplétude.\n",
    "\n",
    "Bon... Revenons à des problèmes décidables:\n",
    "\n",
    "<div class=\"alert alert-info\">Un problème de décision est <b>décidable</b> si on peut déterminer, en un nombre fini d'étapes, si la réponse est vraie ou fausse.</div>\n",
    "\n",
    "On peut donc en déduire qu'un problème est décidable si il existe un langage de programmation qui permette de calculer la réponse au problème de décision.\n",
    "\n",
    "La vérification de la décidabilité d'un programme est importante en informatique : elle permet de s'assurer que le programme donnera une réponse à l'utilisateur quel que soit le contexte de départ.\n",
    "\n",
    "### Exemple : parité d'un nombre\n",
    "\n",
    "Il faut définir une fonction $$f~:~\\mathbb{N}~{\\longmapsto}~\\{Vrai~;~Faux\\}$$\n",
    "\n",
    "Ce problème est évidemment <b>décidable</b>. Il suffit de calculer le reste de la divion euclienne du nombre par 2. Si le reste est nul l'algorithme retourne vrai, faux sinon."
   ]
  },
  {
   "cell_type": "code",
   "execution_count": null,
   "metadata": {},
   "outputs": [],
   "source": [
    "def est_pair(n):\n",
    "    \"\"\"\n",
    "    Retourne vrai si le nombre est pair, faux sinon\n",
    "    \"\"\"\n",
    "    return n%2==0\n",
    "\n",
    "est_pair(7)"
   ]
  },
  {
   "cell_type": "markdown",
   "metadata": {},
   "source": [
    "### Exemple : primalité d'un nombre\n",
    "\n",
    "Il faut définir une fonction $$f~:~\\mathbb{N}~{\\longmapsto}~\\{Vrai~;~Faux\\}$$\n",
    "\n",
    "Ce problème est également **décidable**. Il suffit de diviser nombre par l'ensemble des entiers inférieurs. (nombre fini d'étapes)"
   ]
  },
  {
   "cell_type": "code",
   "execution_count": 2,
   "metadata": {},
   "outputs": [
    {
     "data": {
      "text/plain": [
       "True"
      ]
     },
     "execution_count": 2,
     "metadata": {},
     "output_type": "execute_result"
    }
   ],
   "source": [
    "def est_premier(n):\n",
    "    \"\"\"\n",
    "    Retourne vrai si le nombre est premier, faux sinon\n",
    "    \"\"\"\n",
    "    if n == 1:return False\n",
    "    elif n < 4 : return True\n",
    "    else:\n",
    "        for i in range (4, n, 2):\n",
    "            if n%i==0:\n",
    "                return False\n",
    "        return True\n",
    "                \n",
    "\n",
    "est_premier(47)"
   ]
  },
  {
   "cell_type": "markdown",
   "metadata": {},
   "source": [
    "### Toute fonction est-elle décidable ?\n",
    "\n",
    "Non.\n",
    "\n",
    "Il existe des problèmes qui sont indécidables :\n",
    "\n",
    "On peut citer \n",
    "\n",
    "- le [10ème problème de Hilbert](https://fr.wikipedia.org/wiki/Dixi%C3%A8me_probl%C3%A8me_de_Hilbert). Ce problème de décidabilité a été posé en 1900 par le mathématicien allemand David Hilbert. La réponse négative à ce problème a été apportée par le mathématicien Youri Matiiassevitch en 1970.\n",
    "\n",
    "- Le problème de [correspondant de Post](https://fr.wikipedia.org/wiki/Probl%C3%A8me_de_correspondance_de_Post)\n",
    "\n",
    "- ...\n",
    "\n",
    "Il existe également des propositions qui semblent vraies, dont la démonstration n'a pas été trouvée, et dont la décidabilité n'est pas connue.\n",
    "\n",
    "- La suite de Syracuse\n",
    "  1. Prenez un nombre entier positif\n",
    "  2. Si il est pair divisez le par 2\n",
    "  3. Si il est impair multipliez le par 3 et ajoutez 1\n",
    "  4. Recommencez à l'étape 2 ou 3\n",
    "  \n",
    "La suite de nombre converge toujours vers 4,2,1,4,2,1,4,2,1...\n",
    "\n",
    "Ceci n'a jamais été démontré et on ne sait pas si on peut le faire."
   ]
  },
  {
   "cell_type": "markdown",
   "metadata": {},
   "source": [
    "## 5.1.4 La preuve de l'arrêt\n",
    "\n",
    "Un programme mal conçu peut entrer dans une boucle infinie et ne jamais s’arrêter. Il serait donc très utile d’avoir un programme qui permette d’affirmer, ou d’infirmer, l’arrêt du programme dans tous les cas de figures possibles.\n",
    "\n",
    "Un programme qui teste l'arrêt (ou non) d'un autre programme : cela serait evidemment très utile. Malheureusement c'est trop beau pour être vrai.\n",
    "\n",
    "### Preuve de l'indécidabilité de l'arrêt.\n",
    "\n",
    "<figure>\n",
    "    <img src=\"img/alan_turing.jpg\" title=\"Alan Turing\">\n",
    "    <figcaption>Alan Turing (1912-1954)</figcaption>\n",
    "</figure>\n",
    "\n",
    "Alan Turing a démontré mathématiquement en 1936 que le problème de l'arrêt est **indécidable**.\n",
    "\n",
    "Pour démontrer (très grossièrement) ce théorème, nous allons utiliser un **raisonnement par l'absurde**. Un raisonnement par l'absurde consiste à partir d'une supposition vraie qui conduira à une contradiction avec cette supposition de départ. On en déduira donc que la supposition de départ était fausse.\n",
    "\n",
    "Nous allons donc supposer qu'il existe une fonction **arret** donc les paramètres sont \n",
    "\n",
    "- **code_programme** : le code du programme à analyser\n",
    "- **parametre**  : le paramètre du programme\n",
    "\n",
    "Cette fonction retourne **Vrai** si le programme s'arrête dans tous les cas, **Faux** sinon.\n",
    "\n",
    "Voici notre fonction qu'on suppose exister:\n",
    "\n",
    "```\n",
    "def arret(code_programme, parametre):\n",
    "    \"\"\"\n",
    "    Retourne Vrai si le code_programme(parametre) s'arrete\n",
    "    Retour Faux sinon\n",
    "    \"\"\"\n",
    "    if ...\n",
    "        return True\n",
    "    else:\n",
    "        return False\n",
    "```\n",
    "\n",
    "Maintenant imaginons le programme suivant:\n",
    "\n",
    "```\n",
    "def contradiction(code_programme):\n",
    "    if arret(code_programme, code_programme):\n",
    "        while True : #boucle infinie\n",
    "            pass\n",
    "    else:\n",
    "        return True\n",
    "```\n",
    "\n",
    "- Si la fonction **arret** dit que notre programme peut s'arrêter celui boucle indéfiniment;\n",
    "- Si la fonction **arret** dit que notre programme ne s'arrête pas, celui retourne une valeur.\n",
    "\n",
    "<div class=\"alert alert-info\">La situation est totalement absurde, c'est donc que le programme arret ne peut exister.</div>\n",
    "\n",
    "Voir la preuve de la [non décidabilité de l'arrêt en vidéo](https://youtu.be/92WHN-pAFCs).\n",
    "\n",
    "Enfin un lien vers l'article publié par Alan Turing en 1936 : [On Computable Numbers, with an Application to the Entscheidungsproblem](https://londmathsoc.onlinelibrary.wiley.com/doi/epdf/10.1112/plms/s2-42.1.230).\n",
    "\n",
    "<div class=\"alert alert-info\">Cette preuve nous montre donc qu'il faudra toujours contrôler vos programmes 'manuellement'. Il existe des IDE qui permettent de simplifier la vie du codeur (erreur de syntaxe, non déclaration de variables...) mais aucun programme pourra prédire l'arrêt (ou pas) d'un autre.</div>"
   ]
  },
  {
   "cell_type": "markdown",
   "metadata": {},
   "source": [
    "## Webographie\n",
    "\n",
    "- https://www.lecluse.fr/nsi/NSI_T/langages/calculabilite/\n",
    "- https://pixees.fr/informatiquelycee/n_site/nsi_term_calcu.html\n",
    "- https://www.numerique-sciences-informatiques.fr/terminale_nsi/cours_langage_decidabilite.php"
   ]
  },
  {
   "cell_type": "markdown",
   "metadata": {},
   "source": [
    "[Retour au sommaire](../../index.ipynb)"
   ]
  }
 ],
 "metadata": {
  "kernelspec": {
   "display_name": "Python 3",
   "language": "python",
   "name": "python3"
  },
  "language_info": {
   "codemirror_mode": {
    "name": "ipython",
    "version": 3
   },
   "file_extension": ".py",
   "mimetype": "text/x-python",
   "name": "python",
   "nbconvert_exporter": "python",
   "pygments_lexer": "ipython3",
   "version": "3.8.10"
  }
 },
 "nbformat": 4,
 "nbformat_minor": 4
}
