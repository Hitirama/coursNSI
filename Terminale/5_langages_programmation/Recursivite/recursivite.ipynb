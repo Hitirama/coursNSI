{
 "cells": [
  {
   "cell_type": "markdown",
   "metadata": {},
   "source": [
    "[Accueil](../../../index.ipynb) > [Sommaire de Terminale](../../index.ipynb)"
   ]
  },
  {
   "cell_type": "markdown",
   "metadata": {},
   "source": [
    "# 5.2 Récursivité\n",
    "\n",
    "**Définition**\n",
    "\n",
    "Une fonction est qualifiée de **récursive** si elle s’appelle elle-même.\n",
    "\n",
    "![vache qui rit](img/La_vache_qui_rit.png)\n",
    "\n",
    "**Exemple 1**\n",
    "\n",
    "Nous n'allons pas être très original et prendre la fonction factorielle.\n",
    "\n",
    "Voici l'appel de 4!\n",
    "\n",
    "$4!=4 \\times\\ 3! $\n",
    "\n",
    "$4!=4 \\times\\ 3\\times\\ 2!$\n",
    "\n",
    "$4!=4 \\times\\ 3\\times\\ 2\\times\\ 1!$\n",
    "\n",
    "$4!=4 \\times\\ 3\\times\\ 2\\times\\ 1\\times\\ 0!$\n",
    "\n",
    "$4!=4 \\times\\ 3\\times\\ 2\\times\\ 1\\times\\ 1$\n",
    "\n",
    "$4!=24$\n",
    "\n",
    "On pourrait bien évidemment implémenter cela de façon itérative."
   ]
  },
  {
   "cell_type": "code",
   "execution_count": null,
   "metadata": {},
   "outputs": [],
   "source": [
    "def fact(n):\n",
    "    r=1\n",
    "    while n>=1:\n",
    "        r=r*n\n",
    "        n-=1\n",
    "    return r\n",
    "\n",
    "fact(4)"
   ]
  },
  {
   "cell_type": "markdown",
   "metadata": {},
   "source": [
    "Mais la définition de la fonction factorielle s'implémente élégament de façon récursive.\n",
    "\n",
    "Voici sa définition mathématique :\n",
    "\n",
    "$\n",
    "\\left\\{\n",
    "    \\begin{array}{ll}\n",
    "        0!=1 \\\\\n",
    "        n!=n \\times (n-1)!~\\forall n \\in \\mathbb{N}^*\n",
    "    \\end{array}\n",
    "\\right.\n",
    "$\n",
    "\n"
   ]
  },
  {
   "cell_type": "code",
   "execution_count": null,
   "metadata": {},
   "outputs": [],
   "source": [
    "def rfact(n):\n",
    "    if n==0: # situation d'arrêt\n",
    "        return 1\n",
    "    else:\n",
    "        return n*rfact(n-1) #appel récursif, la variable n décroit\n",
    "    \n",
    "rfact(4)"
   ]
  },
  {
   "cell_type": "code",
   "execution_count": null,
   "metadata": {},
   "outputs": [],
   "source": [
    "rfact(0)"
   ]
  },
  {
   "cell_type": "markdown",
   "metadata": {},
   "source": [
    "## Structure d'une fonction récursive\n",
    "\n",
    "Toute fonction récursive doit avoir une **condition** qui ne l'appelle pas sinon la récursivité ne s'arrête pas.\n",
    "\n",
    "Cette condition de terminaison peut s'appeler :\n",
    "\n",
    "- situation de base\n",
    "- situation d'arrêt\n",
    "- cas de base\n",
    "- cas d'arrêt\n",
    "\n",
    "La variable doit atteindre la **situation d'arrêt** au bout d'un nombre fini d'appels récursifs pour que la récursivité se termine.\n",
    "\n",
    "**Remarque**\n",
    "\n",
    "Il existe toujours une façon itérative d'implémenter une fonction récursive, et réciproquement."
   ]
  },
  {
   "cell_type": "markdown",
   "metadata": {},
   "source": [
    "## Exercices\n",
    "\n",
    "### Flocon de von Koch\n",
    "\n",
    "En utilisant le module [turtle](https://docs.python.org/fr/3/library/turtle.html) de python vous allez générer le [flocon de von Koch](https://fr.wikipedia.org/wiki/Flocon_de_Koch).\n",
    "\n",
    "![Flocon de von Kock](img/flocon.png)\n",
    "\n",
    "\n",
    "En voici le principe:\n",
    "\n",
    "- pour n=0 ![etape 0](img/koch0.png)\n",
    "- pour n=1 ![etape 1](img/koch1.png)\n",
    "- pour n=2 ![etape 2](img/koch2.png)\n",
    "- pour n=3 ![etape 3](img/koch3.png)\n",
    "\n",
    "En observant le résultat pour **n=3**, on observe que ce résultat est une succession 4 appels de l'appel 2 ponctués de rotation de souris avec une longueur divisés par 3.\n",
    "\n",
    "Idem pour **n=2**, c'est la succession de 4 appels de n=1 ponctués de rotation avec une longueur divisée par 3.\n",
    "\n",
    "etc etc...\n",
    "\n",
    "Jusqu'à arriver à **n=0** qui est juste un forward de la souris.\n",
    "\n",
    "```python\n",
    "import turtle\n",
    "\n",
    "height = 400\n",
    "width = 400\n",
    "turtle.screensize(canvwidth=width, canvheight=height, bg=\"yellow\")\n",
    "t = turtle.Turtle()\n",
    "t.speed(0)\n",
    "t.pencolor(\"blue\")\n",
    "t.penup()\n",
    "t.sety(height/2)\n",
    "t.pendown()\n",
    "\n",
    "def koch (n, longueur):\n",
    "    pass\n",
    "\n",
    "koch(0, 3**4) #appel de la fonction\n",
    "a = input(\"Fermer la fenêtre\\n\")\n",
    "if a:\n",
    "    turtle.bye()\n",
    "```\n"
   ]
  },
  {
   "cell_type": "markdown",
   "metadata": {},
   "source": [
    "### Calcul du PGCD\n",
    "\n",
    "L'algorithme d'Euclide permet de trouver le PGCD de 2 nombres.\n",
    "\n",
    "En voici la définition\n",
    "\n",
    "Soient a et b deux nombres entiers avec a>b\n",
    "\n",
    "Si a est divisible par b, le pgcd de a et b vaut b,\n",
    "sinon le pgcd de a et b vaut le pgcd de b et du reste de la division euclidienne de a par b.\n",
    "\n",
    "**Exemple**\n",
    "\n",
    "PGCD(4950;1540)\n",
    "\n",
    "- 4950=1540*3+330 #le reste est non nul\n",
    "- 1540=330*4+220 #le reste est non nul\n",
    "- 330=220*1+110 #le reste est non nul\n",
    "- 220=2*110+0 # le reste est nul\n",
    "\n",
    "donc PGCD(4950;1540)=110"
   ]
  },
  {
   "cell_type": "code",
   "execution_count": null,
   "metadata": {},
   "outputs": [],
   "source": [
    "def pgcd(a, b):\n",
    "    pass\n",
    "\n",
    "pgcd(4950,1540)"
   ]
  },
  {
   "cell_type": "markdown",
   "metadata": {},
   "source": [
    "### Fonction puissance\n",
    "\n",
    "Créer la fonction puissance(a,b) qui retourne a^b de façon récursive."
   ]
  },
  {
   "cell_type": "code",
   "execution_count": null,
   "metadata": {},
   "outputs": [],
   "source": [
    "def puissance(a, b):\n",
    "    pass\n",
    "\n",
    "puissance(2,10)"
   ]
  },
  {
   "cell_type": "markdown",
   "metadata": {},
   "source": [
    "## Les différents type de récursivité\n",
    "\n",
    "### Récursivité terminale\n",
    "\n",
    "Un algorithme récursif est **terminal** lorsque l’appel récursif est le dernier calcul effectué pour obtenir le résultat.\n",
    "Si l'algorithme n'est pas terminal il est nécessaire de mémoriser dans la pile d'appel des informations indispensables pour obtenir le résultat final.\n",
    "Ceci peut être coûteux en mémoire.\n",
    "\n",
    "Revenons à notre fonction rfact et regardons comment elle est executée, pas à pas, en python."
   ]
  },
  {
   "cell_type": "code",
   "execution_count": null,
   "metadata": {},
   "outputs": [],
   "source": [
    "from IPython.display import IFrame\n",
    "IFrame(\"http://pythontutor.com/iframe-embed.html#code=def%20rfact%28n%29%3A%0A%20%20%20%20if%20n%3C%3D0%3A%20%23%20situation%20d'arr%C3%AAt%0A%20%20%20%20%20%20%20%20return%201%0A%20%20%20%20else%3A%0A%20%20%20%20%20%20%20%20return%20n*rfact%28n-1%29%20%23appel%20r%C3%A9cursif,%20la%20variable%20n%20d%C3%A9croit%0A%20%20%20%20%20%20%20%20%0Arfact%284%29&codeDivHeight=400&codeDivWidth=350&cumulative=false&curInstr=18&heapPrimitives=nevernest&origin=opt-frontend.js&py=3&rawInputLstJSON=%5B%5D&textReferences=false\", width=900, height=500)"
   ]
  },
  {
   "cell_type": "markdown",
   "metadata": {},
   "source": [
    "L'appel de rfact(4) génére une pile de 4 éléments. Une fois le dernier appel effectué \"rfact(0)\", il faut dépiler afin d'obtenir le produit des différentes valeurs de n, c'est à dire $1 \\times 2 \\times 3 \\times 4$.\n",
    "\n",
    "Il est facile de voir que cet algorithme n'est pas terminal en lisant la ligne suivante\n",
    "\n",
    "```python\n",
    "return n*rfact(n-1) #l'appel récursif nécessite une opération, ici une multiplication. cet algo n'est pas terminal.\n",
    "```\n",
    "\n",
    "Afin de palier à cet inconvénient il est possible de rendre terminal un algorithme en stockant la valeur intermédiare dans un accumulateur."
   ]
  },
  {
   "cell_type": "code",
   "execution_count": null,
   "metadata": {},
   "outputs": [],
   "source": [
    "def rfactt(n, value=1):\n",
    "    if n<=0: # situation d'arrêt\n",
    "        return value\n",
    "    else:\n",
    "        return rfactt(n-1, value*n)\n",
    "    \n",
    "rfactt(4)"
   ]
  },
  {
   "cell_type": "markdown",
   "metadata": {},
   "source": [
    "Regardons le résultat avec PythonTutor."
   ]
  },
  {
   "cell_type": "code",
   "execution_count": null,
   "metadata": {},
   "outputs": [],
   "source": [
    "from IPython.display import IFrame\n",
    "IFrame(\"http://pythontutor.com/iframe-embed.html#code=def%20rfactt%28n,%20value%3D1%29%3A%0A%20%20%20%20if%20n%3C%3D0%3A%20%23%20situation%20d'arr%C3%AAt%0A%20%20%20%20%20%20%20%20return%20value%0A%20%20%20%20else%3A%0A%20%20%20%20%20%20%20%20return%20rfactt%28n-1,%20value*n%29%0A%20%20%20%20%0Arfactt%284%29&codeDivHeight=400&codeDivWidth=350&cumulative=false&curInstr=22&heapPrimitives=nevernest&origin=opt-frontend.js&py=3&rawInputLstJSON=%5B%5D&textReferences=false\", width=900, height=500)"
   ]
  },
  {
   "cell_type": "markdown",
   "metadata": {},
   "source": [
    "**Conclusion** : Python n'optimise pas l'algorithme récursif terminal. ( cette solution est d'ailleur pire en terme de mémoire puisqu'il faut mémoriser non seulement 'n', mais également 'value'. )\n",
    "Dans certains langages, le compilateur \"reconnait\" un algorithme récursif terminal et peut le transformer en algorithme itératif."
   ]
  },
  {
   "cell_type": "markdown",
   "metadata": {},
   "source": [
    "### Ordre de récursivité\n",
    "Jusqu'à présent nous avons étudié des exemples de **récursivité d'ordre 1**, c'est-à-dire une expression donnant C(n) en fonction de C(n-1).\n",
    "on peut noter $C(n)=f(C(n-1))$\n",
    "\n",
    "Malheureusement la vie n'est pas toujours aussi simple et parfois un calcul dépend de deux 'ancêtres'.\n",
    "On a dans ce cas une **récursivité d'ordre 2**.\n",
    "on peut noter $C(n)=f(C(n-1),C(n-2))$\n",
    "\n",
    "<div id=\"Fibonacci\"></div>\n",
    "\n",
    "#### Exemple de la [suite de Fibonacci](https://fr.wikipedia.org/wiki/Suite_de_Fibonacci).\n",
    "\n",
    "0, 1, 1, 2, 3, 5, 8, 13, 21...\n",
    "\n",
    "En mathématiques on la note:\n",
    "\n",
    "$\n",
    "\\left\\{\n",
    "\\begin{array}{ll}\n",
    "U_0=0\\\\\n",
    "U_1=1\\\\\n",
    "U_n=U_{n-1}+U_{n-2}\n",
    "\\end{array}\n",
    "\\right.\n",
    "$\n",
    "\n",
    "Ainsi\n",
    "<table>\n",
    "    <tr>\n",
    "        <td>\n",
    "$U_0$\n",
    "        </td><td>$U_1$</td><td>$U_2$</td><td>$U_3$</td><td>$U_4$</td><td>$U_5$</td><td>$U_6$</td><td>$U_7$</td><td>$U_8$</td><td>$U_9$</td>\n",
    "    </tr>\n",
    "    <tr>\n",
    "        <td>0</td><td>1</td><td>1</td><td>2</td><td>3</td><td>5</td><td>8</td><td>13</td><td>21</td><td>44</td>\n",
    "    </tr>\n",
    "</table>\n",
    "\n",
    "\n",
    "Première approche naïve en Python"
   ]
  },
  {
   "cell_type": "code",
   "execution_count": null,
   "metadata": {},
   "outputs": [],
   "source": [
    "def fib(n) :\n",
    "  if n < 2 :\n",
    "    return n\n",
    "  else :\n",
    "    return fib(n-1)+fib(n-2)\n",
    "\n",
    "fib(50)"
   ]
  },
  {
   "cell_type": "markdown",
   "metadata": {},
   "source": [
    "Regardons ce qui se passe avec Python tutor"
   ]
  },
  {
   "cell_type": "code",
   "execution_count": null,
   "metadata": {},
   "outputs": [],
   "source": [
    "from IPython.display import IFrame\n",
    "IFrame(\"http://pythontutor.com/iframe-embed.html#code=def%20fib%28n%29%20%3A%0A%20%20if%20n%20%3C%202%20%3A%0A%20%20%20%20return%20n%0A%20%20else%20%3A%0A%20%20%20%20return%20fib%28n-1%29%2Bfib%28n-2%29%0A%0Afib%286%29&codeDivHeight=400&codeDivWidth=350&cumulative=false&curInstr=0&heapPrimitives=nevernest&origin=opt-frontend.js&py=3&rawInputLstJSON=%5B%5D&textReferences=false\", width=900, height=500)"
   ]
  },
  {
   "cell_type": "markdown",
   "metadata": {},
   "source": [
    "Si on modélise les différentes frames de la pile d'appel par un arbre on obtient ceci:\n",
    "\n",
    "![arbre](img/fib6.png)\n",
    "\n",
    "On visualise mieux pourquoi il y a autant de frames dans la pile et on réalise que certains appels on déjà été exécutés.\n",
    "\n",
    "Il a possibilité d'améliorer ce programme en mémorisant les résultats obtenus.\n",
    "\n",
    "**A faire**\n",
    "\n",
    "Programmer la fonction *fib* afin qu'elle utilise les résultats déjà connus.\n"
   ]
  },
  {
   "cell_type": "code",
   "execution_count": null,
   "metadata": {},
   "outputs": [],
   "source": [
    "def fib(n, mem = None): # Ne jamais passer un type mutable en paramètre par défaut [], {}...\n",
    "    \"\"\"\n",
    "    Si la clé n'existe pas, on affecte le résultat de l'appel récursif dans la mémoire\n",
    "    Dans tous les cas, on retourne le résultat présent dans la mémoire\n",
    "    \"\"\"\n",
    "    if mem == None:\n",
    "        mem={0:0, 1:1} #On mémorise les 2 premieres valeurs\n",
    "    pass\n",
    "\n",
    "fib(1000)        "
   ]
  },
  {
   "cell_type": "markdown",
   "metadata": {},
   "source": [
    "Maintenant on peut calculer fibo(1000)..."
   ]
  },
  {
   "cell_type": "markdown",
   "metadata": {},
   "source": [
    "## Exercices\n",
    "\n",
    "### Exercice 1\n",
    "\n",
    "Ecrire la fonction *palindrome* qui prend en paramètre une chaine de caractère et qui retourne Vrai si la chaine est un palindrome, faux sinon.\n",
    "\n",
    "### Exercice 2\n",
    "\n",
    "Ecrire la fonction *coef_pascal* qui prend en paramètre n et p et qui retourne la valeur associée\n",
    "\n",
    "![Triangle de Pascal](img/t_pascal.gif)\n",
    "\n",
    "La formule mathématique est la suivante :\n",
    "\n",
    "$\\left\\{\n",
    "    \\begin{array}{ll}\n",
    "        c(n,p)=c(n-1, p-1) + c(n-1, p)\\\\\n",
    "        si~n=p~alors~c(n, n)=1 \\\\\n",
    "        si~p=0~alors~c(n, 0)=1\n",
    "    \\end{array}\n",
    "\\right.\n",
    "$\n",
    "\n"
   ]
  },
  {
   "cell_type": "markdown",
   "metadata": {},
   "source": [
    "\n",
    "\n",
    "## Sources webographiques:\n",
    "\n",
    "- https://www.fil.univ-lille1.fr/~L2S3API/CoursTP/recursivite.html\n",
    "- https://pixees.fr/informatiquelycee/n_site/nsi_term_fctRec.html\n",
    "- http://leekwarswiki.net/index.php?title=Complexit%C3%A9_et_fonctions_r%C3%A9cursives\n"
   ]
  },
  {
   "cell_type": "markdown",
   "metadata": {},
   "source": [
    "[Accueil](../../../index.ipynb) > [Sommaire de Terminale](../../index.ipynb)"
   ]
  }
 ],
 "metadata": {
  "kernelspec": {
   "display_name": "Python 3 (ipykernel)",
   "language": "python",
   "name": "python3"
  },
  "language_info": {
   "codemirror_mode": {
    "name": "ipython",
    "version": 3
   },
   "file_extension": ".py",
   "mimetype": "text/x-python",
   "name": "python",
   "nbconvert_exporter": "python",
   "pygments_lexer": "ipython3",
   "version": "3.10.6"
  }
 },
 "nbformat": 4,
 "nbformat_minor": 4
}
