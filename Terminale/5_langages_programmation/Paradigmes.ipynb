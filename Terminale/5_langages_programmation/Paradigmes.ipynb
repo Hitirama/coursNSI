{
 "cells": [
  {
   "cell_type": "markdown",
   "metadata": {},
   "source": [
    "[Accueil](../../index.ipynb) > [Sommaire de Terminale](../index.ipynb)"
   ]
  },
  {
   "cell_type": "markdown",
   "metadata": {},
   "source": [
    "# 5.4 Langages - Paradigmes de programmation\n",
    "\n",
    "\n",
    "## Définition\n",
    "\n",
    "<cite>En informatique, le terme de « paradigme » est employé pour exprimer la façon dont un système a été conçu et pensé dans ses grandes lignes. Les révolutions informatiques coïncident généralement avec un changement de paradigme, où une vision différente de problèmes et de leur solution permet d'apporter une solution élégante techniquement et/ou ergonomiquement, à condition que l'utilisateur ou l'informaticien bascule vers le nouveau mode de réflexion exigé.</cite>\n",
    "\n",
    "*source wikipedia*"
   ]
  },
  {
   "cell_type": "markdown",
   "metadata": {},
   "source": [
    "## Programmation impérative\n",
    "\n",
    "Le fonctionnement d'un processeur est basé sur le paradigme **impératif** (du latin *imperare* : ordonner), il est donc naturel que les premiers langages informatiques haut niveau, comme le [Fortran](https://fr.wikipedia.org/wiki/Fortran) (1954), utilisent ce paradigme. C'est ce paradigme que nous avons utilisé en première année NSI.\n",
    "\n",
    "La programmation impérative décrit les opérations en **séquences d'instructions** afin de modifier l'état du programme. \n",
    "\n",
    "**Exemple**"
   ]
  },
  {
   "cell_type": "code",
   "execution_count": 3,
   "metadata": {},
   "outputs": [
    {
     "data": {
      "text/plain": [
       "'BonjourBonjourBonjourBonjourBonjourBonjourBonjour'"
      ]
     },
     "execution_count": 3,
     "metadata": {},
     "output_type": "execute_result"
    }
   ],
   "source": [
    "mot = \"Bonjour\"\n",
    "longueur = len(mot)\n",
    "mot = longueur * mot\n",
    "mot"
   ]
  },
  {
   "cell_type": "markdown",
   "metadata": {},
   "source": [
    "Dans cet exemple on **affecte** plusieurs valeurs dans des variables et certaines **opérations** sont opérées sur les variables.\n",
    "<div class=\"alert alert-info\">\n",
    "On donne souvent comme exemple de paradigme impératif une <b>recette de cuisine</b>. C'est une suite d'instructions qui modifie l'état du programme.\n",
    "</div>\n",
    "\n",
    "La plupart des langages impératifs haut niveau disposent de ces types d'instructions:\n",
    "\n",
    "1. L'affectation\n",
    "2. L'instruction conditionnelle\n",
    "3. La boucle\n",
    "4. Les branchements sans condition (saut), par exemple un appel de fonction."
   ]
  },
  {
   "cell_type": "markdown",
   "metadata": {},
   "source": [
    "### Programmation orientée objet (POO)"
   ]
  },
  {
   "cell_type": "markdown",
   "metadata": {},
   "source": [
    "## Programmation déclarative"
   ]
  },
  {
   "cell_type": "markdown",
   "metadata": {},
   "source": [
    "### Programmation fonctionnelle\n",
    "\n",
    "Exemple : Haskell"
   ]
  },
  {
   "cell_type": "markdown",
   "metadata": {},
   "source": [
    "### Programmation logique\n",
    "\n",
    "Exemple de **Prolog**\n",
    "\n",
    "**Enoncé**\n",
    "\n",
    "Cinq sportifs sont dans la salle d'attente d'un médecin spécialisé.\n",
    "- Jean qui est arrivé en dernier, ne pratique ni la gymnastique ni le basket. Il ne vient pas se faire établir un certificat\n",
    "- Christian, venu pour un soin, ne pratique pas non plus la gymnastique\n",
    "- Grégoire, qui est arrivé avant Laurent mais après celui qui pratique la gymnastique fait du patinage. Il n'est venu ni pour un certificat, ni chercher un renouvellement d'ordonnance\n",
    "- Celui qui pratique le football est arrivé le troisième, avant Christian. Il est venu chercher une dispense\n",
    "- Remi est un sportif. Le rugby est un sport. La visite est un motif de consultation.\n",
    "\n",
    "Retrouvez grâce aux indications suivantes leur ordre d'arrivée, le sport pratiqué par chacun ainsi que la raison de leur présence.\n",
    "\n",
    "Et voici le code source du programme\n",
    "~~~prolog\n",
    "\n",
    "%%%%%%%%%%%%%%%%%%%%%%%%%%%%%%%%%%%%%%%%%%%%%%%%%%%%%\n",
    "% Solution en Prolog du problème des 5 sportifs     %\n",
    "% Réalisé par Jean-Christophe MICHEL                %\n",
    "% Novembre 2012                                     %\n",
    "% www.gecif.net                                     %\n",
    "%%%%%%%%%%%%%%%%%%%%%%%%%%%%%%%%%%%%%%%%%%%%%%%%%%%%%\n",
    "\n",
    "liste_des_sportifs([\n",
    "sportif(_, _, _),\n",
    "sportif(_, _, _),\n",
    "sportif(_, _, _),\n",
    "sportif(_, _, _),\n",
    "sportif(_, _, _)\n",
    "]).\n",
    "\n",
    "% afficher_liste(L) : affiche un à un les éléments de la liste L avec retour à la ligne (writeln)\n",
    "afficher_liste([X|L]) :- writeln(X), afficher_liste(L).\n",
    "\n",
    "% appartient_a(X,L) : vrai si l'élément X appartient à la liste L\n",
    "appartient_a(X,L) :- append(_,[X|_],L).\n",
    "\n",
    "% est_arrive_avant(A,B,L) : vrai si l'élément A est avant l'élément B dans la liste L\n",
    "est_arrive_avant(A, B, L) :-\n",
    "    append(_, [A | X], L), % il existe une sous-liste de L qui commence par A\n",
    "    append(_, [B | _], X). % et il existe une sous-liste de X qui commence par B\n",
    "\n",
    "% pour que le prédicat \"resoudre\" aboutisse il faut que toutes les conditions soient remplies :\n",
    "resoudre :-\n",
    "\n",
    "% la variable SPORTIFS est une liste ordonnée de 5 éléments \"sportif\" :\n",
    "liste_des_sportifs(SPORTIFS),\n",
    "\n",
    "% on précise les 2 sports qui ne sont pas utilisés dans les conditions ci-dessous :\n",
    "appartient_a(sportif(_, basket, _), SPORTIFS),\n",
    "appartient_a(sportif(_, rugby, _), SPORTIFS),\n",
    "\n",
    "% on précise les 3 motifs de consultation qui ne sont pas utilisés dans les conditions ci-dessous :\n",
    "appartient_a(sportif(_, _, certificat), SPORTIFS),\n",
    "appartient_a(sportif(_, _, renouvellement), SPORTIFS),\n",
    "appartient_a(sportif(_, _, visite), SPORTIFS),\n",
    "\n",
    "% on précise le prénom qui n'est pas utilisé dans les conditions ci-dessous :\n",
    "appartient_a(sportif(remi, _, _), SPORTIFS),\n",
    "\n",
    "% jean est arrivé en dernier :\n",
    "SPORTIFS = [_,_,_,_,sportif(jean, _, _)],\n",
    "\n",
    "% la variable SJ représente le Sport de Jean :\n",
    "appartient_a(sportif(jean, SJ, _), SPORTIFS),\n",
    "SJ\\==gymnastique, % jean ne fait pas de gymnastique\n",
    "SJ\\==basket, % jean ne fait pas de basket\n",
    "\n",
    "% la variable MJ représente le Motif de consultation de Jean :\n",
    "appartient_a(sportif(jean, _, MJ), SPORTIFS),\n",
    "MJ\\==certificat, % jean ne veut pas de certificat\n",
    "\n",
    "% la variable SC représente le Sport de Christian :\n",
    "appartient_a(sportif(christian, SC, soin), SPORTIFS),\n",
    "SC\\==gymnastique, % christian, venu pour un soin, ne pratique pas la gymnastique\n",
    "\n",
    "% gregoire qui est arrivé avant laurent fait du patinage :\n",
    "est_arrive_avant(sportif(gregoire, patinage, _), sportif(laurent, _, _), SPORTIFS),\n",
    "\n",
    "% gregoire (qui fait du patinage) est arrivé après celui qui fait de la gymnastique :\n",
    "est_arrive_avant(sportif(_, gymnastique, _), sportif(gregoire, patinage, _), SPORTIFS),\n",
    "\n",
    "% la variable MG représente le Motif de consultation de Grégoire :\n",
    "appartient_a(sportif(gregoire, _, MG), SPORTIFS),\n",
    "MG\\==certificat, % gregoire ne veut pas de certificat\n",
    "MG\\==renouvellement, % gregoire ne veut pas de renouvellement\n",
    "\n",
    "% celui qui pratique le football est arrivé le troisième. Il est venu chercher une dispense :\n",
    "SPORTIFS = [_, _, sportif(_, football, dispense), _, _],\n",
    "\n",
    "% celui qui pratique le football est arrivé avant Christian :\n",
    "est_arrive_avant(sportif(_, football, _), sportif(christian, _, _), SPORTIFS),\n",
    "\n",
    "% affiche la liste finale seulement si toutes les conditions précédentes sont remplies :\n",
    "afficher_liste(SPORTIFS).\n",
    "    \n",
    "~~~\n",
    "\n",
    "- Allez sur https://swish.swi-prolog.org/;\n",
    "- Coller le code;\n",
    "- taper 'resoudre.' dans l'interpréteur."
   ]
  },
  {
   "cell_type": "markdown",
   "metadata": {},
   "source": [
    "## Programmation événementielle"
   ]
  },
  {
   "cell_type": "markdown",
   "metadata": {},
   "source": [
    "## Sources\n",
    "\n",
    "- [Acervo Lima](https://fr.acervolima.com/difference-entre-la-programmation-imperative-et-declarative/) : différences entre programmations impérative et déclarative."
   ]
  },
  {
   "cell_type": "markdown",
   "metadata": {},
   "source": [
    "[Accueil](../../index.ipynb) > [Sommaire de Terminale](../index.ipynb)"
   ]
  }
 ],
 "metadata": {
  "kernelspec": {
   "display_name": "Python 3",
   "language": "python",
   "name": "python3"
  },
  "language_info": {
   "codemirror_mode": {
    "name": "ipython",
    "version": 3
   },
   "file_extension": ".py",
   "mimetype": "text/x-python",
   "name": "python",
   "nbconvert_exporter": "python",
   "pygments_lexer": "ipython3",
   "version": "3.8.10"
  }
 },
 "nbformat": 4,
 "nbformat_minor": 4
}
