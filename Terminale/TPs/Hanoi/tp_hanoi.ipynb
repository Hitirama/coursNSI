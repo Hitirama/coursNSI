{
 "cells": [
  {
   "cell_type": "markdown",
   "metadata": {},
   "source": [
    "[Accueil](../../../index.ipynb) > [Sommaire de Terminale](../../index.ipynb)"
   ]
  },
  {
   "cell_type": "markdown",
   "metadata": {},
   "source": [
    "# TP Tour de Hanoï\n",
    "\n",
    "![](hanoi_picture.jpg)\n",
    "\n",
    "Voir les règles du jeu sur [Wikipedia](https://fr.wikipedia.org/wiki/Tours_de_Hano%C3%AF).\n",
    "\n",
    "\n",
    "Pour réaliser ce TP, il est nécessaire d'avoir vu les notions suivantes:\n",
    "- Programmation orientée objet\n",
    "- Récursivité\n",
    "- Pile\n",
    "\n",
    "Et d'avoir **implémenté une pile**.\n",
    "\n"
   ]
  },
  {
   "cell_type": "markdown",
   "metadata": {},
   "source": [
    "## Utilisation\n",
    "\n",
    "La classe s'appelle *Hanoi*.\n",
    "\n",
    "En voici l'utilisation:\n",
    "\n",
    "```\n",
    ">>> from sl29.hanoi import Hanoi\n",
    ">>> game = Hanoi(5)\n",
    ">>> game\n",
    "(1,2,3,4,5), (), ()\n",
    ">>> game.move(1,2)\n",
    "0, (1,2)\n",
    ">>> game\n",
    "(2,3,4,5), (1), ()\n",
    "```"
   ]
  },
  {
   "cell_type": "markdown",
   "metadata": {},
   "source": [
    "## Interface\n",
    "\n",
    "- Initialisation: On précise le nombre de plateaux (integer >=3)\n",
    "- **move(src, dest)**: On déplace le plateau de *src* (int {1,2,3}) vers *dest* (int {1,2,3}). Retourne le **statut** de l'opération, ainsi que le **mouvement effectué**:\n",
    "  - 0 : success of the movement, (src, dest)\n",
    "  - 1 : game over, (src, dest)\n",
    "  - 2 : the top plate of the src is larger than the top plate of the dest, (src, dest)\n",
    "  - 3 : source and destination are the same, (src, src)\n",
    "  - 4 : tried to pop an empty tower, ()\n",
    "  - 5 : invalid value, ()\n",
    "- **\\_\\_repr\\_\\_** : permet de visualiser la tour (sous forme de 3 tuples)\n",
    "\n",
    "\n"
   ]
  },
  {
   "cell_type": "markdown",
   "metadata": {},
   "source": [
    "## Résolution récursive\n",
    "\n",
    "![hanoi](hanoi.png)"
   ]
  },
  {
   "cell_type": "markdown",
   "metadata": {},
   "source": [
    "Résoudre le déplacement de n disques du pilier source A vers le pilier de destination C en utilisant le pilier intermédiaire B revient à \n",
    "\n",
    "- déplacer n-1 disques du pilier source A vers le pilier de destination B en utilisant comme intermédiaire le pilier C (step2)\n",
    "- à déplacer le disque restant vers du pilier source vers le pilier de destination C (step3)\n",
    "- déplacer n-1 disques du pilier de départ B vers le pilier de destination C en utilisant comme intermédiaire le pilier A (step4)\n",
    "\n",
    "Le cas d'arrêt est quand n=1. La solution est alors triviale : on déplace le disque de sa source vers sa destination.\n",
    "\n",
    "\n",
    "La signature de notre fonction récursive est:\n",
    "\n",
    "```python\n",
    "\n",
    "def resoudre_hanoi(n, source, intermediaire, destination):\n",
    "    \"\"\"\n",
    "    n: int le nombre d'anneaux à déplacer\n",
    "    source : le pilier source\n",
    "    intermediaire : le pilier qui sert d'intermédiaire\n",
    "    destination : le pilier de destination\n",
    "    \"\"\"\n",
    "    pass\n",
    "```\n",
    "\n",
    "et voici une implémentation en pseudo code\n",
    "\n",
    "```\n",
    "\n",
    "resoudre_hanoi(n, source, intermediaire, destination):\n",
    "    si n==1 alors:\n",
    "        deplacer le disque de la source à la destination\n",
    "    sinon:\n",
    "        resoudre_hanoi(n-1, source, destination, intermediaire) # step1->step2\n",
    "        déplacer le disque restant de la source à la destination #step2->step3\n",
    "        resoudre_hanoi(n-1, intermediaire, source, destination, ) # step3->step4    \n",
    "```\n"
   ]
  },
  {
   "cell_type": "code",
   "execution_count": null,
   "metadata": {},
   "outputs": [],
   "source": []
  }
 ],
 "metadata": {
  "kernelspec": {
   "display_name": "Python 3 (ipykernel)",
   "language": "python",
   "name": "python3"
  },
  "language_info": {
   "codemirror_mode": {
    "name": "ipython",
    "version": 3
   },
   "file_extension": ".py",
   "mimetype": "text/x-python",
   "name": "python",
   "nbconvert_exporter": "python",
   "pygments_lexer": "ipython3",
   "version": "3.10.12"
  }
 },
 "nbformat": 4,
 "nbformat_minor": 4
}
