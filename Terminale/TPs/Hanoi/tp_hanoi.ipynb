{
 "cells": [
  {
   "cell_type": "markdown",
   "metadata": {},
   "source": [
    "# TP Tour de Hanoï\n",
    "\n",
    "Pour réaliser ce TP, il est nécessaire d'avoir vu les notions suivantes:\n",
    "- Programmation orientée objet\n",
    "- Récursivité\n",
    "- Pile\n",
    "\n",
    "Et d'avoir **implémenté une pile**."
   ]
  },
  {
   "cell_type": "markdown",
   "metadata": {},
   "source": [
    "## Résolution récursive\n",
    "\n",
    "![hanoi](hanoi.png)"
   ]
  },
  {
   "cell_type": "markdown",
   "metadata": {},
   "source": [
    "Résoudre le déplacement de n disques du pilier source A vers le pilier de destination C en utilisant le pilier intermédiaire B revient à \n",
    "\n",
    "- déplacer n-1 disques du pilier source A vers le pilier de destination B en utilisant comme intermédiaire le pilier C (step2)\n",
    "- à déplacer le disque restant vers du pilier source vers le pilier de destination C (step3)\n",
    "- déplacer n-1 disques du pilier de départ B vers le pilier de destination C en utilisant comme intermédiaire le pilier A (step4)\n",
    "\n",
    "Le cas d'arrêt est quand n=1. La solution est alors triviale : on déplace le disque de sa source vers sa destination.\n",
    "\n",
    "\n",
    "La signature de notre fonction récursive est:\n",
    "\n",
    "```python\n",
    "\n",
    "def resoudre_hanoi(n, source, intermediaire, destination):\n",
    "    \"\"\"\n",
    "    n: int le nombre d'anneaux à déplacer\n",
    "    source : le pilier source\n",
    "    intermediaire : le pilier qui sert d'intermédiaire\n",
    "    destination : le pilier de destination\n",
    "    \"\"\"\n",
    "    pass\n",
    "```\n",
    "\n",
    "et voici une implémentation en pseudo code\n",
    "\n",
    "```\n",
    "\n",
    "resoudre_hanoi(n, source, intermediaire, destination):\n",
    "    si n==1 alors:\n",
    "        deplacer le disque de la source à la destination\n",
    "    sinon:\n",
    "        resoudre_hanoi(n-1, source, destination, intermediaire) # step1->step2\n",
    "        déplacer le disque restant de la source à la destination #step2->step3\n",
    "        resoudre_hanoi(n-1, intermediaire, source, destination, ) # step3->step4    \n",
    "```\n"
   ]
  },
  {
   "cell_type": "code",
   "execution_count": null,
   "metadata": {},
   "outputs": [],
   "source": []
  }
 ],
 "metadata": {
  "kernelspec": {
   "display_name": "Python 3",
   "language": "python",
   "name": "python3"
  },
  "language_info": {
   "codemirror_mode": {
    "name": "ipython",
    "version": 3
   },
   "file_extension": ".py",
   "mimetype": "text/x-python",
   "name": "python",
   "nbconvert_exporter": "python",
   "pygments_lexer": "ipython3",
   "version": "3.8.10"
  }
 },
 "nbformat": 4,
 "nbformat_minor": 4
}
