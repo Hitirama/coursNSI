{
 "cells": [
  {
   "cell_type": "markdown",
   "metadata": {},
   "source": [
    "[Retour au sommaire](../index.ipynb)"
   ]
  },
  {
   "cell_type": "markdown",
   "metadata": {},
   "source": [
    "# TP Sierpinski\n",
    "\n",
    "[Waclaw Sierpinski](https://fr.wikipedia.org/wiki/Wac%C5%82aw_Sierpi%C5%84ski) (1882-1969) est un mathématicien polonais connu pour ses deux fractales:\n",
    "\n",
    "- Le triangle de Sierpinski\n",
    "- Le tapis de Sierpinski\n",
    "\n",
    "## Le triangle de Sierpinski\n",
    "\n",
    "![](img/sierpinski1.png)\n",
    "\n",
    "On considere l'algorithme suivant:\n",
    "\n",
    "  1. On construit un triangle équilatéral en couleur\n",
    "  2. On trace trois segments qui relient les milieux des cotés, ce qui définit 4 triangles équilateraux\n",
    "  3. On \"enleve\" le triangle central\n",
    "  4. On recommence à l'étape 2 avec chacun des trois triangles.\n",
    "  \n",
    "Pour effectuer le dessin nous allons utiliser la librairie [pygame](https://www.pygame.org/), librairie qui permet de créer des jeux vidéos.\n",
    "\n",
    "### Un peu de géométrie niveau seconde\n",
    "\n",
    "Mais avant tout un peu de maths...\n",
    "\n",
    "contrairement à turtle, pour dessiner des formes il nous faut des **coordonnées cartésiennes**.\n",
    "\n",
    "Le fichier geogebra est disponible [ici](files/sierpinski.ggb).\n",
    "\n",
    "![](img/sierpinski2.png)\n",
    "\n",
    "Si le triangle ABC a des côtes de longeur L, quelles sont les coordonnées du point C ?\n",
    "\n",
    "### Implémentation en Python\n",
    "\n",
    "- Par quelle \"structure\" de donnée allons nous implémenter un point ?\n",
    "- Quelle fonction dois-je coder pour obtenir les coordonnées des points E, F, G?\n",
    "\n",
    "### Découverte de la librairie pygame\n",
    "\n",
    "Inutile d'executer le code suivant, **pygame n'est pas installé** sur le python systeme. Qu'allez vous donc devoir faire ?"
   ]
  },
  {
   "cell_type": "code",
   "execution_count": null,
   "metadata": {},
   "outputs": [],
   "source": [
    "#!/usr/bin/python\n",
    "# coding: utf-8\n",
    "\n",
    "import pygame\n",
    "import sys\n",
    "\n",
    "pygame.init()\n",
    "\n",
    "white   = (255, 255, 255)\n",
    "blue     = (0, 0, 255)\n",
    "size = [800,800]\n",
    "\n",
    "fenetre = pygame.display.set_mode(size)\n",
    "fenetre.fill(white)\n",
    "\n",
    "# voir https://www.pygame.org/docs/ref/draw.html#pygame.draw.polygon\n",
    "pygame.draw.polygon(fenetre, blue, ((0,0),(800,0),(400,600)),0)\n",
    "\n",
    "#Permet d'afficher le dessin\n",
    "pygame.display.flip()\n",
    "\n",
    "# Boucle infinie qui attend l'événement QUIT pour terminer le programme\n",
    "while True:\n",
    "    for event in pygame.event.get():\n",
    "        if event.type == pygame.QUIT:\n",
    "            sys.exit()"
   ]
  },
  {
   "cell_type": "markdown",
   "metadata": {},
   "source": [
    "Faites d'abord quelque chose de **fonctionnel**, après vous pourrez allez fouiller dans les tréfonds des possibilités de pygame."
   ]
  },
  {
   "cell_type": "markdown",
   "metadata": {},
   "source": [
    "## TP2 : le tapis de Sierpinski\n",
    "\n",
    "**Uniquement si vous avez parfaitement fini le TP1**, vous pouvez vous prendre les pieds dans le tapis.\n",
    "\n",
    "![](img/sierpinski3.gif)"
   ]
  },
  {
   "cell_type": "markdown",
   "metadata": {},
   "source": [
    "[Retour au sommaire](../index.ipynb)"
   ]
  }
 ],
 "metadata": {
  "kernelspec": {
   "display_name": "Python 3",
   "language": "python",
   "name": "python3"
  },
  "language_info": {
   "codemirror_mode": {
    "name": "ipython",
    "version": 3
   },
   "file_extension": ".py",
   "mimetype": "text/x-python",
   "name": "python",
   "nbconvert_exporter": "python",
   "pygments_lexer": "ipython3",
   "version": "3.8.10"
  }
 },
 "nbformat": 4,
 "nbformat_minor": 4
}
