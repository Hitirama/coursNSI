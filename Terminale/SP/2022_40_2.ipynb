{
 "cells": [
  {
   "cell_type": "markdown",
   "metadata": {},
   "source": [
    "[Accueil](../../index.ipynb) > [Sommaire](../index.ipynb) > [Sujets Pratiques 2022](2022.ipynb)"
   ]
  },
  {
   "cell_type": "markdown",
   "metadata": {},
   "source": [
    "# Sujet 40 - Exercice 2\n",
    "\n",
    "Un professeur de NSI décide de gérer les résultats de sa classe sous la forme d’un dictionnaire :\n",
    "- les clefs sont les noms des élèves ;\n",
    "- les valeurs sont des dictionnaires dont les clefs sont les types d’épreuves et les valeurs sont les notes obtenues associées à leurs coefficients.\n",
    "\n",
    "Avec :"
   ]
  },
  {
   "cell_type": "code",
   "execution_count": null,
   "metadata": {
    "tags": []
   },
   "outputs": [],
   "source": [
    "resultats = {'Dupont':{'DS1' : [15.5, 4],\n",
    "'DM1' : [14.5, 1],\n",
    "'DS2' : [13, 4],\n",
    "'PROJET1' : [16, 3],\n",
    "'DS3' : [14, 4]},\n",
    "'Durand':{'DS1' : [6 , 4],\n",
    "'DM1' : [14.5, 1],\n",
    "'DS2' : [8, 4],\n",
    "'PROJET1' : [9, 3],\n",
    "'IE1' : [7, 2],\n",
    "'DS3' : [8, 4],\n",
    "'DS4' :[15, 4]}}"
   ]
  },
  {
   "cell_type": "markdown",
   "metadata": {},
   "source": [
    "L’élève dont le nom est Durand a ainsi obtenu au DS2 la note de 8 avec un coefficient 4.\n",
    "\n",
    "Le professeur crée une fonction *moyenne* qui prend en paramètre le nom d’un de ces élèves et lui renvoie sa moyenne arrondie au dixième.\n",
    "\n",
    "Compléter le code du professeur ci-dessous :\n"
   ]
  },
  {
   "cell_type": "code",
   "execution_count": null,
   "metadata": {},
   "outputs": [],
   "source": [
    "def moyenne(nom):\n",
    "    if nom in ...:\n",
    "        notes = resultats[nom]\n",
    "        total_points = ...\n",
    "        total_coefficients = ...\n",
    "        for ...  in notes.values():\n",
    "            note , coefficient = valeurs\n",
    "            total_points = total_points + ... * coefficient\n",
    "            total_coefficients = ... + coefficient\n",
    "        return round( ... / total_coefficients , 1 )\n",
    "    else:\n",
    "        return -1\n"
   ]
  },
  {
   "cell_type": "markdown",
   "metadata": {},
   "source": [
    "[voir un corrigé](2022_40_2_corr.ipynb)"
   ]
  }
 ],
 "metadata": {
  "kernelspec": {
   "display_name": "Python 3",
   "language": "python",
   "name": "python3"
  },
  "language_info": {
   "codemirror_mode": {
    "name": "ipython",
    "version": 3
   },
   "file_extension": ".py",
   "mimetype": "text/x-python",
   "name": "python",
   "nbconvert_exporter": "python",
   "pygments_lexer": "ipython3",
   "version": "3.8.10"
  }
 },
 "nbformat": 4,
 "nbformat_minor": 4
}
