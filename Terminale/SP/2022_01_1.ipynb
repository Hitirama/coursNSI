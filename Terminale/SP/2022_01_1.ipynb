{
 "cells": [
  {
   "cell_type": "markdown",
   "metadata": {},
   "source": [
    "[Accueil](../../index.ipynb) > [Sommaire](../index.ipynb) > [Sujets Pratiques 2022](2022.ipynb)"
   ]
  },
  {
   "cell_type": "markdown",
   "metadata": {},
   "source": [
    "# Sujet 1 - Exercice 1\n",
    "\n",
    "Écrire une fonction *recherche* qui prend en paramètres *caractere*, un caractère, et *mot*, une chaîne de caractères, et qui renvoie le nombre d’occurrences de *caractere* dans mot, c’est-à-dire le nombre de fois où *caractere* apparaît dans *mot*.\n",
    "\n",
    "**Exemples** :\n",
    "\n",
    "```\n",
    ">>> recherche('e', \"sciences\")\n",
    "2\n",
    ">>> recherche('i',\"mississippi\")\n",
    "4\n",
    ">>> recherche('a',\"mississippi\")\n",
    "0\n",
    "```"
   ]
  },
  {
   "cell_type": "code",
   "execution_count": null,
   "metadata": {},
   "outputs": [],
   "source": [
    "# Votre code ici\n",
    "\n"
   ]
  },
  {
   "cell_type": "markdown",
   "metadata": {},
   "source": [
    "[voir une correction](2022_01_1_corr.ipynb)"
   ]
  }
 ],
 "metadata": {
  "kernelspec": {
   "display_name": "Python 3",
   "language": "python",
   "name": "python3"
  },
  "language_info": {
   "codemirror_mode": {
    "name": "ipython",
    "version": 3
   },
   "file_extension": ".py",
   "mimetype": "text/x-python",
   "name": "python",
   "nbconvert_exporter": "python",
   "pygments_lexer": "ipython3",
   "version": "3.8.10"
  }
 },
 "nbformat": 4,
 "nbformat_minor": 4
}
