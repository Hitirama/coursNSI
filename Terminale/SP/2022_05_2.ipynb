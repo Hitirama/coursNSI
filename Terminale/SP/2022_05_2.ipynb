{
 "cells": [
  {
   "cell_type": "markdown",
   "metadata": {},
   "source": [
    "[Accueil](../../index.ipynb) > [Sommaire](../index.ipynb) > [Sujets Pratiques 2022](2022.ipynb)"
   ]
  },
  {
   "cell_type": "markdown",
   "metadata": {},
   "source": [
    "# Sujet 5 - Exercice 2\n",
    "\n",
    "On dispose d’un programme permettant de créer un objet de type *PaquetDeCarte*, selon les éléments indiqués dans le code ci-dessous.\n",
    "\n",
    "**Compléter ce code** aux endroits indiqués par *???* puis **ajouter des assertions** dans l’initialiseur de *Carte*, ainsi que dans la méthode *getCarteAt()*.\n"
   ]
  },
  {
   "cell_type": "code",
   "execution_count": null,
   "metadata": {
    "tags": []
   },
   "outputs": [],
   "source": [
    "class Carte:\n",
    "    \"\"\"Initialise Couleur (entre 1 a 4), et Valeur (entre 1 a 13)\"\"\"\n",
    "    def __init__(self, c, v):\n",
    "        self.Couleur = c\n",
    "        self.Valeur = v\n",
    "\n",
    "    \"\"\"Renvoie le nom de la Carte As, 2, ... 10, \n",
    "       Valet, Dame, Roi\"\"\"\n",
    "    def getNom(self):\n",
    "        if ( self.Valeur > 1 and self.Valeur < 11):\n",
    "            return str( self.Valeur)\n",
    "        elif self.Valeur == 11:\n",
    "            return \"Valet\"\n",
    "        elif self.Valeur == 12:\n",
    "            return \"Dame\"\n",
    "        elif self.Valeur == 13:\n",
    "            return \"Roi\"\n",
    "        else:\n",
    "            return \"As\"\n",
    "\n",
    "    \"\"\"Renvoie la couleur de la Carte (parmi pique, coeur, carreau, trefle\"\"\"\n",
    "    def getCouleur(self):\n",
    "        return ['pique', 'coeur', 'carreau', 'trefle' ][self.Couleur - 1]\n",
    "\n",
    "class PaquetDeCarte:\n",
    "    def __init__(self):\n",
    "        self.contenu = []\n",
    "\n",
    "    \"\"\"Remplit le paquet de cartes\"\"\"\n",
    "    def remplir(self):\n",
    "        ??? = [ ??? for couleur in range(1, ???) for valeur in range( 1, ???)]\n",
    "\n",
    "    \"\"\"Renvoie la Carte qui se trouve a  la position donnee\"\"\"\n",
    "    def getCarteAt(self, pos):\n",
    "        if 0 <= pos < ??? :\n",
    "            return ???\n"
   ]
  },
  {
   "cell_type": "markdown",
   "metadata": {},
   "source": [
    "Exemple :\n",
    "\n",
    "```\n",
    ">>> unPaquet = PaquetDeCarte()\n",
    ">>> unPaquet.remplir()\n",
    ">>> uneCarte = unPaquet.getCarteAt(20)\n",
    ">>> print(uneCarte.getNom() + \" de \" + uneCarte.getCouleur())\n",
    "8 de coeur\n",
    "```\n",
    "\n",
    "\n",
    "<div class=\"alert alert-warning\">\n",
    "\n",
    "**Remarques**\n",
    "    \n",
    "- Les docstrings sont mal placées\n",
    "</div>\n",
    "\n"
   ]
  },
  {
   "cell_type": "markdown",
   "metadata": {},
   "source": [
    "[voir un corrigé](2022_05_2_corr.ipynb)"
   ]
  }
 ],
 "metadata": {
  "kernelspec": {
   "display_name": "Python 3",
   "language": "python",
   "name": "python3"
  },
  "language_info": {
   "codemirror_mode": {
    "name": "ipython",
    "version": 3
   },
   "file_extension": ".py",
   "mimetype": "text/x-python",
   "name": "python",
   "nbconvert_exporter": "python",
   "pygments_lexer": "ipython3",
   "version": "3.8.10"
  }
 },
 "nbformat": 4,
 "nbformat_minor": 4
}
