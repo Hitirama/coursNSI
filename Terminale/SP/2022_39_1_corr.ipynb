{
 "cells": [
  {
   "cell_type": "markdown",
   "metadata": {},
   "source": [
    "[Accueil](../../index.ipynb) > [Sommaire](../index.ipynb) > [Sujets Pratiques 2022](2022.ipynb) > [Sujet 39 Exercice1](2022_39_1.ipynb)"
   ]
  },
  {
   "cell_type": "markdown",
   "metadata": {},
   "source": [
    "# Sujet 39 - Exercice 1 : Un corrigé"
   ]
  },
  {
   "cell_type": "code",
   "execution_count": 3,
   "metadata": {},
   "outputs": [],
   "source": [
    "def moyenne(tableau):\n",
    "    \"\"\"\n",
    "    Entrée : une liste d’entiers\n",
    "    Retourne la moyenne des valeurs de cette liste, retourne None si la liste est vide\n",
    "    \"\"\"\n",
    "    if tableau != []:\n",
    "        somme = 0\n",
    "        for value in tableau:\n",
    "            somme += value\n",
    "        return somme/len(tableau)\n",
    "\n",
    "assert moyenne([10,20,30,40,60,110]) == 45.0\n",
    "assert moyenne([]) == None"
   ]
  },
  {
   "cell_type": "code",
   "execution_count": 4,
   "metadata": {},
   "outputs": [],
   "source": [
    "def moyenne(tableau):\n",
    "    \"\"\"\n",
    "    Entrée : une liste d’entiers\n",
    "    Retourne la moyenne des valeurs de cette liste\n",
    "    \"\"\"\n",
    "    if tableau != []:\n",
    "        return sum(tableau)/len(tableau)\n",
    "\n",
    "assert moyenne([10,20,30,40,60,110]) == 45.0\n",
    "assert moyenne([]) == None"
   ]
  }
 ],
 "metadata": {
  "kernelspec": {
   "display_name": "Python 3",
   "language": "python",
   "name": "python3"
  },
  "language_info": {
   "codemirror_mode": {
    "name": "ipython",
    "version": 3
   },
   "file_extension": ".py",
   "mimetype": "text/x-python",
   "name": "python",
   "nbconvert_exporter": "python",
   "pygments_lexer": "ipython3",
   "version": "3.8.10"
  }
 },
 "nbformat": 4,
 "nbformat_minor": 4
}
