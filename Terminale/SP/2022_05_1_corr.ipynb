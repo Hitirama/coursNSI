{
 "cells": [
  {
   "cell_type": "markdown",
   "metadata": {},
   "source": [
    "[Accueil](../../index.ipynb) > [Sommaire](../index.ipynb) > [Sujets Pratiques 2022](2022.ipynb) > [Sujet 5 Exercice1](2022_05_1.ipynb)"
   ]
  },
  {
   "cell_type": "markdown",
   "metadata": {},
   "source": [
    "# Sujet 5 - Exercice 1 : Un corrigé\n",
    "\n",
    "La solution laborieuse:"
   ]
  },
  {
   "cell_type": "code",
   "execution_count": 9,
   "metadata": {},
   "outputs": [],
   "source": [
    "def rechercheMinMax(tableau):\n",
    "    \"\"\"\n",
    "    Entrée : un tableau de nombre non triés\n",
    "    Retourne un dictionnaire dont les valeurs des clés min et max sont respectivement les valeurs minimales et maximales du tableau\n",
    "    \"\"\"\n",
    "    result = {'min': None, 'max': None}\n",
    "    for value in tableau:\n",
    "        if result['max'] == None or value > result['max']:\n",
    "            result['max'] = value\n",
    "        if result['min'] == None or value < result['min']:\n",
    "            result['min'] = value\n",
    "    return result\n",
    "\n",
    "\n",
    "tableau = [0, 1, 4, 2, -2, 9, 3, 1, 7, 1]\n",
    "resultat = rechercheMinMax(tableau)\n",
    "assert (resultat == {'min': -2, 'max': 9})\n",
    "tableau = []\n",
    "resultat = rechercheMinMax(tableau)\n",
    "assert (resultat == {'min': None, 'max': None})\n",
    "# autres assertions\n",
    "tableau = [0]\n",
    "resultat = rechercheMinMax(tableau)\n",
    "assert (resultat == {'min': 0, 'max': 0})\n"
   ]
  },
  {
   "cell_type": "markdown",
   "metadata": {},
   "source": [
    "Autre solution, on s'assure que le tableau n'est pas vide au départ"
   ]
  },
  {
   "cell_type": "code",
   "execution_count": 8,
   "metadata": {},
   "outputs": [],
   "source": [
    "def rechercheMinMax(tableau):\n",
    "    \"\"\"\n",
    "    Entrée : un tableau de nombre non triés\n",
    "    Retourne un dictionnaire dont les valeurs des clés min et max sont respectivement les valeurs minimales et maximales du tableau\n",
    "    \"\"\"\n",
    "    # cas du tableau vide\n",
    "    if tableau == []:\n",
    "        return {'min': None, 'max': None}\n",
    "    # Sinon on intialise le min et max au premier élément du tableau\n",
    "    result = {'min': tableau[0], 'max': tableau[0]}\n",
    "    for value in tableau:\n",
    "        if value > result['max']:\n",
    "            result['max'] = value\n",
    "        if value < result['min']:\n",
    "            result['min'] = value\n",
    "    return result\n",
    "\n",
    "\n",
    "tableau = [0, 1, 4, 2, -2, 9, 3, 1, 7, 1]\n",
    "resultat = rechercheMinMax(tableau)\n",
    "assert (resultat == {'min': -2, 'max': 9})\n",
    "tableau = []\n",
    "resultat = rechercheMinMax(tableau)\n",
    "assert (resultat == {'min': None, 'max': None})\n",
    "# autres assertions\n",
    "tableau = [0]\n",
    "resultat = rechercheMinMax(tableau)\n",
    "assert (resultat == {'min': 0, 'max': 0})\n"
   ]
  },
  {
   "cell_type": "markdown",
   "metadata": {},
   "source": [
    "On peut **trier** le tableau"
   ]
  },
  {
   "cell_type": "code",
   "execution_count": 10,
   "metadata": {},
   "outputs": [],
   "source": [
    "def rechercheMinMax(tableau):\n",
    "    \"\"\"\n",
    "    Entrée : un tableau de nombre non triés\n",
    "    Retourne un dictionnaire dont les valeurs des clés min et max sont respectivement les valeurs minimales et maximales du tableau\n",
    "    \"\"\"\n",
    "    # cas du tableau vide\n",
    "    if tableau == []:\n",
    "        return {'min': None, 'max': None}\n",
    "    # On trie le tableau et on retourne le premier et le dernier element\n",
    "    tab = sorted(tableau)\n",
    "    return {'min': tab[0], 'max': tab[-1]}\n",
    "\n",
    "\n",
    "tableau = [0, 1, 4, 2, -2, 9, 3, 1, 7, 1]\n",
    "resultat = rechercheMinMax(tableau)\n",
    "assert (resultat == {'min': -2, 'max': 9})\n",
    "tableau = []\n",
    "resultat = rechercheMinMax(tableau)\n",
    "assert (resultat == {'min': None, 'max': None})\n",
    "# autres assertions\n",
    "tableau = [0]\n",
    "resultat = rechercheMinMax(tableau)\n",
    "assert (resultat == {'min': 0, 'max': 0})\n"
   ]
  },
  {
   "cell_type": "markdown",
   "metadata": {},
   "source": [
    "On utilise la fonction **min** et **max** de Python (je déconseille de le faire...)"
   ]
  },
  {
   "cell_type": "code",
   "execution_count": 6,
   "metadata": {},
   "outputs": [],
   "source": [
    "def rechercheMinMax(tableau):\n",
    "    \"\"\"\n",
    "    Entrée : un tableau de nombre non triés\n",
    "    Retourne un dictionnaire dont les valeurs des clés min et max sont respectivement les valeurs minimales et maximales du tableau\n",
    "    \"\"\"\n",
    "    # cas du tableau vide\n",
    "    if tableau == []:\n",
    "        return {'min': None, 'max': None}\n",
    "    # Sinon on intialise le min et max au premier élément du tableau\n",
    "    return {'min': min(tableau), 'max': max(tableau)}\n",
    "\n",
    "\n",
    "tableau = [0, 1, 4, 2, -2, 9, 3, 1, 7, 1]\n",
    "resultat = rechercheMinMax(tableau)\n",
    "assert (resultat == {'min': -2, 'max': 9})\n",
    "tableau = []\n",
    "resultat = rechercheMinMax(tableau)\n",
    "assert (resultat == {'min': None, 'max': None})\n",
    "# autres assertions\n",
    "tableau = [0]\n",
    "resultat = rechercheMinMax(tableau)\n",
    "assert (resultat == {'min': 0, 'max': 0})\n"
   ]
  }
 ],
 "metadata": {
  "kernelspec": {
   "display_name": "Python 3",
   "language": "python",
   "name": "python3"
  },
  "language_info": {
   "codemirror_mode": {
    "name": "ipython",
    "version": 3
   },
   "file_extension": ".py",
   "mimetype": "text/x-python",
   "name": "python",
   "nbconvert_exporter": "python",
   "pygments_lexer": "ipython3",
   "version": "3.8.10"
  }
 },
 "nbformat": 4,
 "nbformat_minor": 4
}
