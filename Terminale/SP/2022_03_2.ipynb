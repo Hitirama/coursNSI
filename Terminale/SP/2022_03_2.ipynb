{
 "cells": [
  {
   "cell_type": "markdown",
   "metadata": {},
   "source": [
    "[Accueil](../../index.ipynb) > [Sommaire](../index.ipynb) > [Sujets Pratiques 2022](2022.ipynb)"
   ]
  },
  {
   "cell_type": "markdown",
   "metadata": {},
   "source": [
    "Une expression arithmétique ne comportant que les quatre opérations +, −,×,÷ peut être représentée sous forme d’arbre binaire. Les nœuds internes sont des opérateurs et les feuilles sont des nombres. Dans un tel arbre, la disposition des nœuds joue le rôle des parenthèses que nous connaissons bien.\n",
    "\n",
    "<img style=\"float:right\" src=\"img/2022_03_2_a.png\"/>\n",
    "En parcourant en profondeur infixe l’arbre binaire ci-contre, on retrouve l’expression notée habituellement : $ 3\\times(8+7)-(2+1) $\n",
    "\n",
    "La classe *Noeud* ci-après permet d’implémenter une structure d’arbre binaire.\n",
    "\n",
    "Compléter la fonction récursive *expression_infixe* qui prend en paramètre un objet de la classe *Noeud* et qui renvoie l’expression arithmétique représentée par l’arbre binaire passé en paramètre, sous forme d’une chaîne de caractères contenant des parenthèses.\n",
    "\n",
    "Résultat attendu avec l’arbre ci-dessus :\n",
    "```\n",
    ">>> e = Noeud(Noeud(Noeud(None, 3, None), '*', Noeud(Noeud(None, 8, None),'+', Noeud(None, 7, None))), '-', Noeud(Noeud(None, 2, None), '+',Noeud(None, 1, None)))\n",
    ">>> expression_infixe(e)\n",
    "'((3*(8+7))-(2+1))'\n",
    "```\n"
   ]
  },
  {
   "cell_type": "code",
   "execution_count": 1,
   "metadata": {},
   "outputs": [],
   "source": [
    "class Noeud:\n",
    "    def __init__(self, g, v, d):\n",
    "        self.gauche = g\n",
    "        self.valeur = v\n",
    "        self.droit = d\n",
    "    \n",
    "    def __str__(self):\n",
    "        return str(self.valeur)\n",
    "    \n",
    "    def est_une_feuille(self):\n",
    "        '''Renvoie True si et seulement si le noeud est une feuille'''\n",
    "        return self.gauche is None and self.droit is None\n",
    "\n",
    "\n",
    "def expression_infixe(e):\n",
    "    s = ...\n",
    "    if e.gauche is not None:\n",
    "        s = '(' + s + expression_infixe(...)\n",
    "    s = s + ...\n",
    "    if ... is not None:\n",
    "        s = s + ... + ...\n",
    "    if ... :\n",
    "        return s\n"
   ]
  },
  {
   "cell_type": "markdown",
   "metadata": {},
   "source": [
    "[voir un corrigé](2022_03_2_corr.ipynb)"
   ]
  }
 ],
 "metadata": {
  "kernelspec": {
   "display_name": "Python 3",
   "language": "python",
   "name": "python3"
  },
  "language_info": {
   "codemirror_mode": {
    "name": "ipython",
    "version": 3
   },
   "file_extension": ".py",
   "mimetype": "text/x-python",
   "name": "python",
   "nbconvert_exporter": "python",
   "pygments_lexer": "ipython3",
   "version": "3.8.10"
  }
 },
 "nbformat": 4,
 "nbformat_minor": 4
}
