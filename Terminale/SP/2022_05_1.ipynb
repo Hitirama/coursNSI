{
 "cells": [
  {
   "cell_type": "markdown",
   "metadata": {},
   "source": [
    "[Accueil](../../index.ipynb) > [Sommaire](../index.ipynb) > [Sujets Pratiques 2022](2022.ipynb)"
   ]
  },
  {
   "cell_type": "markdown",
   "metadata": {},
   "source": [
    "# Sujet 5 - Exercice 1\n",
    "\n",
    "Écrire une fonction *RechercheMinMax* qui prend en paramètre un tableau de nombres non triés *tab*, et qui renvoie la plus petite et la plus grande valeur du tableau sous la forme d’un dictionnaire à deux clés ‘min’ et ‘max’. Les tableaux seront représentés sous forme de liste Python.\n",
    "\n",
    "Exemples :\n",
    "```\n",
    ">>> tableau = [0, 1, 4, 2, -2, 9, 3, 1, 7, 1]\n",
    ">>> resultat = rechercheMinMax(tableau)\n",
    ">>> resultat\n",
    "{'min': -2, 'max': 9}\n",
    ">>> tableau = []\n",
    ">>> resultat = rechercheMinMax(tableau)\n",
    ">>> resultat\n",
    "{'min': None, 'max': None}\n",
    "```"
   ]
  },
  {
   "cell_type": "code",
   "execution_count": null,
   "metadata": {},
   "outputs": [],
   "source": [
    "# Votre code ici"
   ]
  },
  {
   "cell_type": "markdown",
   "metadata": {},
   "source": [
    "[Voir un corrigé](2022_05_1_corr.ipynb)"
   ]
  }
 ],
 "metadata": {
  "kernelspec": {
   "display_name": "Python 3",
   "language": "python",
   "name": "python3"
  },
  "language_info": {
   "codemirror_mode": {
    "name": "ipython",
    "version": 3
   },
   "file_extension": ".py",
   "mimetype": "text/x-python",
   "name": "python",
   "nbconvert_exporter": "python",
   "pygments_lexer": "ipython3",
   "version": "3.8.10"
  }
 },
 "nbformat": 4,
 "nbformat_minor": 4
}
