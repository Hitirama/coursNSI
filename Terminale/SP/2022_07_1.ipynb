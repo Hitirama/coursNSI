{
 "cells": [
  {
   "cell_type": "markdown",
   "metadata": {},
   "source": [
    "[Accueil](../../index.ipynb) > [Sommaire](../index.ipynb) > [Sujets Pratiques 2022](2022.ipynb)"
   ]
  },
  {
   "cell_type": "markdown",
   "metadata": {
    "tags": []
   },
   "source": [
    "# Sujet 7 - Exercice 1\n",
    "\n",
    "Écrire une fonction *conv_bin* qui prend en paramètre un entier positif *n* et renvoie un couple *(b,bit)* où :\n",
    "- *b* est une liste d'entiers correspondant à la représentation binaire de *n*;\n",
    "- *bit* correspond aux nombre de bits qui constituent *b*.\n",
    "\n",
    "Exemple :\n",
    "\n",
    "```\n",
    ">>> conv_bin(9)\n",
    "([1,0,0,1],4)\n",
    "```\n",
    "Aide :\n",
    "- l'opérateur *//* donne le quotient de la division euclidienne : 5//2 donne 2 ;\n",
    "- l'opérateur *%* donne le reste de la division euclidienne : 5%2 donne 1 ;\n",
    "- *append* est une méthode qui ajoute un élément à une liste existante :\n",
    "  - Soit *T=\\[5,2,4\\]*, alors *T.append(10)* ajoute 10 à la liste *T*. Ainsi, *T* devient *\\[5,2,4,10\\]*.\n",
    "  - *reverse* est une méthode qui renverse les éléments d'une liste.\n",
    "    Soit *T=\\[5,2,4,10]*. Après T.reverse(), la liste devient *\\[10,4,2,5]*.\n",
    "\n",
    "On remarquera qu’on récupère la représentation binaire d’un entier *n* en partant de la gauche en appliquant successivement les instructions :\n",
    "\n",
    "- *b = n%2*\n",
    "- *n = n//2*\n",
    "\n",
    "répétées autant que nécessaire.\n"
   ]
  },
  {
   "cell_type": "code",
   "execution_count": null,
   "metadata": {},
   "outputs": [],
   "source": [
    "# Votre code ici"
   ]
  },
  {
   "cell_type": "markdown",
   "metadata": {},
   "source": [
    "[Voir un corrigé](2022_07_1_corr.ipynb)"
   ]
  }
 ],
 "metadata": {
  "kernelspec": {
   "display_name": "Python 3",
   "language": "python",
   "name": "python3"
  },
  "language_info": {
   "codemirror_mode": {
    "name": "ipython",
    "version": 3
   },
   "file_extension": ".py",
   "mimetype": "text/x-python",
   "name": "python",
   "nbconvert_exporter": "python",
   "pygments_lexer": "ipython3",
   "version": "3.8.10"
  }
 },
 "nbformat": 4,
 "nbformat_minor": 4
}
