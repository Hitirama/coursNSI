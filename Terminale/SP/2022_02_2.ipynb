{
 "cells": [
  {
   "cell_type": "markdown",
   "metadata": {},
   "source": [
    "[Accueil](../../index.ipynb) > [Sommaire](../index.ipynb) > [Sujets Pratiques 2022](2022.ipynb)"
   ]
  },
  {
   "cell_type": "markdown",
   "metadata": {},
   "source": [
    "On cherche à déterminer les valeurs du triangle de Pascal. Dans ce tableau de forme triangulaire, chaque ligne commence et se termine par le nombre 1. Par ailleurs, la valeur qui occupe une case située à l’intérieur du tableau s’obtient en ajoutant les valeurs des\n",
    "deux cases situées juste au-dessus, comme l’indique la figure suivante :\n",
    "\n",
    "![](img/2022_02_2_a.png)\n",
    "\n",
    "![](img/2022_02_2_b.png)\n",
    "\n",
    "Compléter la fonction *pascal* ci-après. Elle doit renvoyer une liste correspondant au\n",
    "triangle de Pascal de la ligne 1 à la ligne n où *n* est un nombre entier supérieur ou égal à\n",
    "2 (le tableau sera contenu dans la variable *C*). La variable *Ck* doit, quant à elle, contenir,\n",
    "à l’étape numéro k, la k-ième ligne du tableau.\n"
   ]
  },
  {
   "cell_type": "code",
   "execution_count": 1,
   "metadata": {},
   "outputs": [],
   "source": [
    "def pascal(n):\n",
    "    C= [[1]]\n",
    "    for k in range(1,...):\n",
    "        Ck = [...]\n",
    "        for i in range(1,k):\n",
    "            Ck.append(C[...][i-1]+C[...][...] )\n",
    "        Ck.append(...)\n",
    "        C.append(Ck)\n",
    "    return C"
   ]
  },
  {
   "cell_type": "markdown",
   "metadata": {},
   "source": [
    "Pour n = 4, voici ce que l’on devra obtenir :\n",
    "\n",
    "```\n",
    ">> pascal(4)\n",
    "[[1], [1, 1], [1, 2, 1], [1, 3, 3, 1], [1, 4, 6, 4, 1]]\n",
    "```\n",
    "Et pour n = 5, voici ce que l’on devra obtenir :\n",
    "\n",
    "```\n",
    ">> pascal(5)\n",
    "[[1], [1, 1], [1, 2, 1], [1, 3, 3, 1], [1, 4, 6, 4, 1], [1, 5, 10, 10, 5, 1]]\n",
    "```"
   ]
  },
  {
   "cell_type": "markdown",
   "metadata": {},
   "source": [
    "[voir un corrigé](2022_02_2_corr.ipynb)"
   ]
  }
 ],
 "metadata": {
  "kernelspec": {
   "display_name": "Python 3",
   "language": "python",
   "name": "python3"
  },
  "language_info": {
   "codemirror_mode": {
    "name": "ipython",
    "version": 3
   },
   "file_extension": ".py",
   "mimetype": "text/x-python",
   "name": "python",
   "nbconvert_exporter": "python",
   "pygments_lexer": "ipython3",
   "version": "3.8.10"
  }
 },
 "nbformat": 4,
 "nbformat_minor": 4
}
