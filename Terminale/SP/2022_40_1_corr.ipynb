{
 "cells": [
  {
   "cell_type": "markdown",
   "metadata": {},
   "source": [
    "[Accueil](../../index.ipynb) > [Sommaire](../index.ipynb) > [Sujets Pratiques 2022](2022.ipynb) > [Sujet 40 Exercice1](2022_40_1.ipynb)"
   ]
  },
  {
   "cell_type": "markdown",
   "metadata": {},
   "source": [
    "# Sujet 40 - Exercice 1 : Un corrigé"
   ]
  },
  {
   "cell_type": "code",
   "execution_count": 6,
   "metadata": {},
   "outputs": [],
   "source": [
    "def recherche(elt, tab):\n",
    "    \"\"\"\n",
    "    Entrées : elt un nombre, tab un tableau de nombres\n",
    "    Retourne le tableau des indices de elt dans tab si elt est dans tab et le tableau vide [] sinon\n",
    "    \"\"\"\n",
    "    result = []\n",
    "    for i, v in enumerate(tab):\n",
    "        if v == elt:\n",
    "            result.append(i)\n",
    "    return result\n",
    "\n",
    "\n",
    "assert recherche(3, [3, 2, 1, 3, 2, 1]) == [0, 3]\n",
    "assert recherche(4, [1, 2, 3]) == []\n",
    "# autre assert\n",
    "assert recherche(4, []) == []\n"
   ]
  },
  {
   "cell_type": "markdown",
   "metadata": {},
   "source": [
    "Autre solution, avec les **listes par compréhension**."
   ]
  },
  {
   "cell_type": "code",
   "execution_count": 7,
   "metadata": {},
   "outputs": [],
   "source": [
    "def recherche(elt, tab):\n",
    "    \"\"\"\n",
    "    Entrées : elt un nombre, tab un tableau de nombres\n",
    "    Retourne le tableau des indices de elt dans tab si elt est dans tab et le tableau vide [] sinon\n",
    "    \"\"\"\n",
    "    return [i for i in range(len(tab)) if tab[i] == elt]\n",
    "\n",
    "assert recherche(3, [3, 2, 1, 3, 2, 1]) == [0, 3]\n",
    "assert recherche(4, [1, 2, 3]) == []\n",
    "# autre assert\n",
    "assert recherche(4, []) == []\n"
   ]
  }
 ],
 "metadata": {
  "kernelspec": {
   "display_name": "Python 3",
   "language": "python",
   "name": "python3"
  },
  "language_info": {
   "codemirror_mode": {
    "name": "ipython",
    "version": 3
   },
   "file_extension": ".py",
   "mimetype": "text/x-python",
   "name": "python",
   "nbconvert_exporter": "python",
   "pygments_lexer": "ipython3",
   "version": "3.8.10"
  }
 },
 "nbformat": 4,
 "nbformat_minor": 4
}
