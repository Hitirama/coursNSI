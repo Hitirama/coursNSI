{
 "cells": [
  {
   "cell_type": "markdown",
   "metadata": {},
   "source": [
    "[Accueil](../../index.ipynb) > [Sommaire](../index.ipynb) > [Sujets Pratiques 2022](2022.ipynb)"
   ]
  },
  {
   "cell_type": "markdown",
   "metadata": {},
   "source": [
    "# Sujet 40 - Exercice 1\n",
    "\n",
    "Écrire une fonction *recherche* qui prend en paramètres *elt* un nombre et *tab* un tableau de nombres, et qui renvoie le tableau des indices de *elt* dans *tab* si elt est\n",
    "dans *tab* et le tableau vide \\[\\] sinon.\n",
    "\n",
    "Exemples :\n",
    "```\n",
    ">>> recherche(3, [3, 2, 1, 3, 2, 1])\n",
    "[0, 3]\n",
    ">>> recherche(4, [1, 2, 3])\n",
    "[]\n",
    "```\n",
    "\n",
    "## Questions:\n",
    "\n",
    "- Quelle est la complexité temporelle de l'algorithme dans le pire des cas ?"
   ]
  },
  {
   "cell_type": "code",
   "execution_count": null,
   "metadata": {},
   "outputs": [],
   "source": [
    "# Votre code ici"
   ]
  },
  {
   "cell_type": "markdown",
   "metadata": {},
   "source": [
    "[Voir un corrigé](2022_40_1_corr.ipynb)"
   ]
  }
 ],
 "metadata": {
  "kernelspec": {
   "display_name": "Python 3",
   "language": "python",
   "name": "python3"
  },
  "language_info": {
   "codemirror_mode": {
    "name": "ipython",
    "version": 3
   },
   "file_extension": ".py",
   "mimetype": "text/x-python",
   "name": "python",
   "nbconvert_exporter": "python",
   "pygments_lexer": "ipython3",
   "version": "3.8.10"
  }
 },
 "nbformat": 4,
 "nbformat_minor": 4
}
