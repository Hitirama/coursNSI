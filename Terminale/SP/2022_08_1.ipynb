{
 "cells": [
  {
   "cell_type": "markdown",
   "metadata": {},
   "source": [
    "[Accueil](../../index.ipynb) > [Sommaire](../index.ipynb) > [Sujets Pratiques 2022](2022.ipynb)"
   ]
  },
  {
   "cell_type": "markdown",
   "metadata": {},
   "source": [
    "# Sujet 8 - Exercice 1\n",
    "\n",
    "Écrire une fonction *recherche* qui prend en paramètres *elt* un nombre entier et *tab* un tableau de nombres entiers, et qui renvoie l’indice de la première occurrence de *elt* dans *tab* si *elt* est dans *tab* et -1 sinon.\n",
    "\n",
    "Exemples\n",
    "\n",
    "```\n",
    ">>> recherche(1, [2, 3, 4])\n",
    "-1\n",
    ">>> recherche(1, [10, 12, 1, 56])\n",
    "2\n",
    ">>> recherche(50, [1, 50, 1])\n",
    "1\n",
    ">>> recherche(15, [8, 9, 10, 15])\n",
    "3\n",
    "\n",
    "```"
   ]
  },
  {
   "cell_type": "code",
   "execution_count": null,
   "metadata": {},
   "outputs": [],
   "source": [
    "# Votre code ici"
   ]
  },
  {
   "cell_type": "markdown",
   "metadata": {},
   "source": [
    "[Voir un corrigé](2022_08_1_corr.ipynb)"
   ]
  }
 ],
 "metadata": {
  "kernelspec": {
   "display_name": "Python 3",
   "language": "python",
   "name": "python3"
  },
  "language_info": {
   "codemirror_mode": {
    "name": "ipython",
    "version": 3
   },
   "file_extension": ".py",
   "mimetype": "text/x-python",
   "name": "python",
   "nbconvert_exporter": "python",
   "pygments_lexer": "ipython3",
   "version": "3.8.10"
  }
 },
 "nbformat": 4,
 "nbformat_minor": 4
}
