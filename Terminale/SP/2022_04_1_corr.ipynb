{
 "cells": [
  {
   "cell_type": "markdown",
   "metadata": {},
   "source": [
    "[Accueil](../../index.ipynb) > [Sommaire](../index.ipynb) > [Sujets Pratiques 2022](2022.ipynb) > [Sujet 4 Exercice1](2022_04_1.ipynb)"
   ]
  },
  {
   "cell_type": "markdown",
   "metadata": {},
   "source": [
    "# Sujet 4 - Exercice 1 : Un corrigé"
   ]
  },
  {
   "cell_type": "code",
   "execution_count": 13,
   "metadata": {},
   "outputs": [],
   "source": [
    "def recherche(tab):\n",
    "    \"\"\"\n",
    "    Entrée : tab un tableau d'entiers\n",
    "    Sortie : retourne la liste des couples d'entiers consécutifs successifs\n",
    "    \"\"\"\n",
    "    result = []\n",
    "    for i in range(1, len(tab)):\n",
    "        if tab[i] - tab[i-1] == 1:\n",
    "            result.append((tab[i-1], tab[i]))\n",
    "    return result\n",
    "\n",
    "assert(recherche([1, 4, 3, 5]) == [])\n",
    "assert(recherche([1, 4, 5, 3]) == [(4, 5)])\n",
    "assert(recherche([5, 1, 2, 3, 8, -5, -4, 7]) == [(1, 2), (2, 3), (-5, -4)])\n",
    "# assert supplémentaires\n",
    "assert(recherche([]) == [])\n",
    "assert(recherche([1,2,3,4]) == [(1, 2), (2, 3), (3, 4)])"
   ]
  },
  {
   "cell_type": "markdown",
   "metadata": {},
   "source": [
    "En utilisant les **lists comprehension**."
   ]
  },
  {
   "cell_type": "code",
   "execution_count": 14,
   "metadata": {},
   "outputs": [],
   "source": [
    "def recherche(tab):\n",
    "    \"\"\"\n",
    "    Entrée : tab un tableau d'entiers\n",
    "    Sortie : retourne la liste des couples d'entiers consécutifs successifs\n",
    "    \"\"\"\n",
    "    return [(tab[i-1], tab[i]) for i in range(1, len(tab)) if tab[i] - tab[i-1] == 1]\n",
    "\n",
    "assert(recherche([1, 4, 3, 5]) == [])\n",
    "assert(recherche([1, 4, 5, 3]) == [(4, 5)])\n",
    "assert(recherche([5, 1, 2, 3, 8, -5, -4, 7]) == [(1, 2), (2, 3), (-5, -4)])\n",
    "# assert supplémentaires\n",
    "assert(recherche([]) == [])\n",
    "assert(recherche([1,2,3,4]) == [(1, 2), (2, 3), (3, 4)])"
   ]
  }
 ],
 "metadata": {
  "kernelspec": {
   "display_name": "Python 3",
   "language": "python",
   "name": "python3"
  },
  "language_info": {
   "codemirror_mode": {
    "name": "ipython",
    "version": 3
   },
   "file_extension": ".py",
   "mimetype": "text/x-python",
   "name": "python",
   "nbconvert_exporter": "python",
   "pygments_lexer": "ipython3",
   "version": "3.8.10"
  }
 },
 "nbformat": 4,
 "nbformat_minor": 4
}
