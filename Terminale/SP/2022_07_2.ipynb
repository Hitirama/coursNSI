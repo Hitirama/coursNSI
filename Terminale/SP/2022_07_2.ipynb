{
 "cells": [
  {
   "cell_type": "markdown",
   "metadata": {},
   "source": [
    "[Accueil](../../index.ipynb) > [Sommaire](../index.ipynb) > [Sujets Pratiques 2022](2022.ipynb)"
   ]
  },
  {
   "cell_type": "markdown",
   "metadata": {},
   "source": [
    "# Sujet 7 - Exercice 2\n",
    "\n",
    "La fonction *tri_bulles* prend en paramètre une liste T d’entiers non triés et renvoie la liste triée par ordre croissant.\n",
    "\n",
    "Compléter le code Python ci-dessous qui implémente la fonction *tri_bulles*.\n"
   ]
  },
  {
   "cell_type": "code",
   "execution_count": null,
   "metadata": {},
   "outputs": [],
   "source": [
    "def tri_bulles(T):\n",
    "    n = len(T)\n",
    "    for i in range(...,...,-1):\n",
    "        for j in range(i):\n",
    "            if T[j] > T[...]:\n",
    "                ... = T[j]\n",
    "                T[j] = T[...]\n",
    "                T[j+1] = temp\n",
    "    return T"
   ]
  },
  {
   "cell_type": "markdown",
   "metadata": {},
   "source": [
    "Questions:\n",
    "\n",
    "- Quelle est la complexité temporelle du tri dans le pire des cas ?\n",
    "- Que se passe-t-il si la liste est déjà triée ?"
   ]
  },
  {
   "cell_type": "markdown",
   "metadata": {},
   "source": [
    "[voir un corrigé](2022_07_2_corr.ipynb)"
   ]
  }
 ],
 "metadata": {
  "kernelspec": {
   "display_name": "Python 3",
   "language": "python",
   "name": "python3"
  },
  "language_info": {
   "codemirror_mode": {
    "name": "ipython",
    "version": 3
   },
   "file_extension": ".py",
   "mimetype": "text/x-python",
   "name": "python",
   "nbconvert_exporter": "python",
   "pygments_lexer": "ipython3",
   "version": "3.8.10"
  }
 },
 "nbformat": 4,
 "nbformat_minor": 4
}
