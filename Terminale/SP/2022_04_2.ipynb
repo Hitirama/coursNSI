{
 "cells": [
  {
   "cell_type": "markdown",
   "metadata": {},
   "source": [
    "[Accueil](../../index.ipynb) > [Sommaire](../index.ipynb) > [Sujets Pratiques 2022](2022.ipynb)"
   ]
  },
  {
   "cell_type": "markdown",
   "metadata": {},
   "source": [
    "# Sujet 4 - Exercice 2\n",
    "\n",
    "Soit une image binaire représentée dans un tableau à 2 dimensions. Les éléments $M[i][j]$, appelés pixels, sont égaux soit à *0* soit à *1*.\n",
    "\n",
    "Une composante d’une image est un sous-ensemble de l’image constitué uniquement de *1* et de *0* qui sont côte à côte, soit horizontalement soit verticalement.\n",
    "\n",
    "Par exemple, les composantes de\n",
    "\n",
    "![](img/2022_04_2_a.png)\n",
    "\n",
    "sont\n",
    "\n",
    "![](img/2022_04_2_b.png)\n",
    "\n",
    "On souhaite, à partir d’un pixel égal à 1 dans une image M, donner la valeur *val* à tous les pixels de la composante à laquelle appartient ce pixel.\n",
    "\n",
    "La fonction *propager* prend pour paramètre une image M, deux entiers i et j et une valeur entière *val*. Elle met à la valeur *val* tous les pixels de la composante du pixel $M[i][j]$ s’il vaut *1* et ne fait rien s’il vaut *0*.\n",
    "\n",
    "![](img/2022_04_2_c.png)\n",
    "\n",
    "Compléter le code récursif de la fonction *propager* donné ci-dessous."
   ]
  },
  {
   "cell_type": "code",
   "execution_count": 2,
   "metadata": {},
   "outputs": [],
   "source": [
    "def propager(M, i, j, val):\n",
    "    if M[i][j]== ...:\n",
    "        return\n",
    "\n",
    "    M[i][j]=val\n",
    "\n",
    "    # l'élément en haut fait partie de la composante\n",
    "    if ((i-1) >= 0 and M[i-1][j] == ...):\n",
    "        propager(M, i-1, j, val)\n",
    "\n",
    "    # l'élément en bas fait partie de la composante\n",
    "    if ((...) < len(M) and M[i+1][j] == 1):\n",
    "        propager(M, ..., j, val)\n",
    "\n",
    "    # l'élément à gauche fait partie de la composante\n",
    "    if ((...) >= 0 and M[i][j-1] == 1):\n",
    "        propager(M, i, ..., val)\n",
    "\n",
    "    # l'élément à droite fait partie de la composante\n",
    "    if ((...) < len(M) and M[i][j+1] == 1):\n",
    "        propager(M, i, ..., val)"
   ]
  },
  {
   "cell_type": "markdown",
   "metadata": {},
   "source": [
    "# Questions possibles\n",
    "\n",
    "- Pour quelle raison la fonction récursive *propager* se termine ? On pourrait imaginer que l'appel à la case supérieure appelle la case inférieure qui appelle la case supérieure...\n",
    "- Justement, comment est-il possible de faire boucler indéfiniment cette fonction ? Quelle condition faudrait-il ajouter dans le code ?\n"
   ]
  },
  {
   "cell_type": "markdown",
   "metadata": {},
   "source": [
    "[voir un corrigé](2022_04_2_corr.ipynb)"
   ]
  }
 ],
 "metadata": {
  "kernelspec": {
   "display_name": "Python 3",
   "language": "python",
   "name": "python3"
  },
  "language_info": {
   "codemirror_mode": {
    "name": "ipython",
    "version": 3
   },
   "file_extension": ".py",
   "mimetype": "text/x-python",
   "name": "python",
   "nbconvert_exporter": "python",
   "pygments_lexer": "ipython3",
   "version": "3.8.10"
  }
 },
 "nbformat": 4,
 "nbformat_minor": 4
}
