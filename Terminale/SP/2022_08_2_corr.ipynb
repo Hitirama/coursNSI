{
 "cells": [
  {
   "cell_type": "markdown",
   "metadata": {},
   "source": [
    "[Accueil](../../index.ipynb) > [Sommaire](../index.ipynb) > [Sujets Pratiques 2022](2022.ipynb) > [Sujet X Exercice2](2022_0X_2.ipynb)"
   ]
  },
  {
   "cell_type": "markdown",
   "metadata": {},
   "source": [
    "# Sujet 8 - Exercice 2 : Un corrigé"
   ]
  },
  {
   "cell_type": "code",
   "execution_count": 4,
   "metadata": {},
   "outputs": [],
   "source": [
    "def insere(a, tab):\n",
    "    \"\"\"\n",
    "    Entrées:\n",
    "    a : un entier\n",
    "    tab : un tableau d'entiers triés par ordre croissant\n",
    "    Cette fonction insère la valeur a dans le tableau et renvoie le nouveau tableau.\n",
    "    \"\"\"\n",
    "    l = list(tab) #l contient les mêmes éléments que tab\n",
    "    l.append(a)\n",
    "    i = len(tab)-1\n",
    "    while a < l[i] and i >= 0: \n",
    "      l[i+1] = l[i]\n",
    "      l[i] = a\n",
    "      i = i-1\n",
    "    return l\n",
    "\n",
    "\n",
    "assert insere(3,[1,2,4,5]) == [1, 2, 3, 4, 5]\n",
    "assert insere(10,[1,2,7,12,14,25]) == [1, 2, 7, 10, 12, 14, 25]\n",
    "assert insere(1,[2,3,4]) == [1, 2, 3, 4]\n",
    "# Ajout d'assert\n",
    "assert insere(1,[]) == [1]"
   ]
  }
 ],
 "metadata": {
  "kernelspec": {
   "display_name": "Python 3",
   "language": "python",
   "name": "python3"
  },
  "language_info": {
   "codemirror_mode": {
    "name": "ipython",
    "version": 3
   },
   "file_extension": ".py",
   "mimetype": "text/x-python",
   "name": "python",
   "nbconvert_exporter": "python",
   "pygments_lexer": "ipython3",
   "version": "3.8.10"
  }
 },
 "nbformat": 4,
 "nbformat_minor": 4
}
