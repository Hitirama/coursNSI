{
 "cells": [
  {
   "cell_type": "markdown",
   "metadata": {},
   "source": [
    "[Accueil](../../index.ipynb) > [Sommaire](../index.ipynb) > [Sujets Pratiques 2022](2022.ipynb) > [Sujet 9 Exercice2](2022_09_2.ipynb)"
   ]
  },
  {
   "cell_type": "markdown",
   "metadata": {},
   "source": [
    "# Sujet 9 - Exercice 2 : Un corrigé"
   ]
  },
  {
   "cell_type": "code",
   "execution_count": 9,
   "metadata": {},
   "outputs": [],
   "source": [
    "dico = {\"A\":1, \"B\":2, \"C\":3, \"D\":4, \"E\":5, \"F\":6, \"G\":7, \\\n",
    "        \"H\":8, \"I\":9, \"J\":10, \"K\":11, \"L\":12, \"M\":13, \\\n",
    "        \"N\":14, \"O\":15, \"P\":16, \"Q\":17, \"R\":18, \"S\":19, \\\n",
    "        \"T\":20, \"U\":21,\"V\":22, \"W\":23, \"X\":24, \"Y\":25, \"Z\":26}\n",
    "\n",
    "def est_parfait(mot) :\n",
    "    \"\"\"\n",
    "    Entrée : mot une chaine de caractère\n",
    "    \"\"\"\n",
    "    code_c = \"\"\n",
    "    code_a = 0\n",
    "    for c in mot :\n",
    "        code_c = code_c + str(dico[c])\n",
    "        code_a = code_a + dico[c]\n",
    "    code_c = int(code_c)\n",
    "    if code_c%code_a == 0 :\n",
    "        mot_est_parfait = True\n",
    "    else :\n",
    "        mot_est_parfait = False\n",
    "    return [code_a, code_c, mot_est_parfait]\n",
    "\n",
    "result1 = est_parfait(\"PAUL\")\n",
    "assert result1 == [50, 1612112, False]\n",
    "result2 = est_parfait(\"ALAIN\")\n",
    "assert result2 ==[37, 1121914, True]\n"
   ]
  }
 ],
 "metadata": {
  "kernelspec": {
   "display_name": "Python 3",
   "language": "python",
   "name": "python3"
  },
  "language_info": {
   "codemirror_mode": {
    "name": "ipython",
    "version": 3
   },
   "file_extension": ".py",
   "mimetype": "text/x-python",
   "name": "python",
   "nbconvert_exporter": "python",
   "pygments_lexer": "ipython3",
   "version": "3.8.10"
  }
 },
 "nbformat": 4,
 "nbformat_minor": 4
}
