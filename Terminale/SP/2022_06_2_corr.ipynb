{
 "cells": [
  {
   "cell_type": "markdown",
   "metadata": {},
   "source": [
    "[Accueil](../../index.ipynb) > [Sommaire](../index.ipynb) > [Sujets Pratiques 2022](2022.ipynb) > [Sujet 6 Exercice2](2022_06_2.ipynb)"
   ]
  },
  {
   "cell_type": "markdown",
   "metadata": {},
   "source": [
    "# Sujet 6 - Exercice 2 : Un corrigé"
   ]
  },
  {
   "cell_type": "code",
   "execution_count": 15,
   "metadata": {},
   "outputs": [],
   "source": [
    "def recherche(gene, seq_adn):\n",
    "    n = len(seq_adn)\n",
    "    g = len(gene)\n",
    "    i = 0\n",
    "    trouve = False\n",
    "    while i < n-g and trouve == False : # Attention il faut s'arrêter à la fin - la longeur du gene\n",
    "        j = 0\n",
    "        while j < g and gene[j] == seq_adn[i+j]:\n",
    "            j+=1\n",
    "        if j == g:\n",
    "            trouve = True\n",
    "        i+=1\n",
    "    return trouve\n",
    "\n",
    "assert(recherche('cadab', 'abracadabra')) == True\n",
    "assert(recherche('brado', 'abracadabra')) == False\n"
   ]
  },
  {
   "cell_type": "markdown",
   "metadata": {},
   "source": [
    "<div class=\"alert alert-warning\">\n",
    "\n",
    "**Attention** : il faut arrêter i à n-g sinon on peut avoir un Index out of range\n",
    "</div>\n",
    "\n",
    "<div class=\"alert alert-info\">\n",
    "\n",
    "**Remarque** : On peut optimiser l'algorithme en quittant lorsque trouve vaut True.\n",
    "</div>"
   ]
  },
  {
   "cell_type": "code",
   "execution_count": null,
   "metadata": {},
   "outputs": [],
   "source": []
  }
 ],
 "metadata": {
  "kernelspec": {
   "display_name": "Python 3",
   "language": "python",
   "name": "python3"
  },
  "language_info": {
   "codemirror_mode": {
    "name": "ipython",
    "version": 3
   },
   "file_extension": ".py",
   "mimetype": "text/x-python",
   "name": "python",
   "nbconvert_exporter": "python",
   "pygments_lexer": "ipython3",
   "version": "3.8.10"
  }
 },
 "nbformat": 4,
 "nbformat_minor": 4
}
