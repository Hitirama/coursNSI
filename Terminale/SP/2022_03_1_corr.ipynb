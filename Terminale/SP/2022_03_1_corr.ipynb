{
 "cells": [
  {
   "cell_type": "markdown",
   "metadata": {},
   "source": [
    "[Accueil](../../index.ipynb) > [Sommaire](../index.ipynb) > [Sujets Pratiques 2022](2022.ipynb) > [Sujet 3 Exercice1](2022_03_1.ipynb)"
   ]
  },
  {
   "cell_type": "markdown",
   "metadata": {},
   "source": [
    "# Sujet 3 - Exercice 1 : Un corrigé"
   ]
  },
  {
   "cell_type": "code",
   "execution_count": 18,
   "metadata": {},
   "outputs": [],
   "source": [
    "def delta(tableau):\n",
    "    \"\"\"\n",
    "    Entrée\n",
    "    tableau : Un tableau non vide de nombres entiers\n",
    "    Retourne La liste des différences entre chaque valeur consécutive\n",
    "    Sortie:\n",
    "    Un tableau contenant les valeurs entières compressées à l’aide la technique de codage par différence.\n",
    "\n",
    "    \"\"\"\n",
    "    # On initialise le resultat à une liste contenant le premier élément du tableau\n",
    "    result = [tableau[0]]\n",
    "    # On boucle sur les indices du tableau\n",
    "    for i in range(1, len(tableau)):\n",
    "        result.append(tableau[i]-tableau[i-1])\n",
    "    return result\n",
    "\n",
    "# Postconditions\n",
    "assert delta([1000, 800, 802, 1000, 1003]) == [1000, -200, 2, 198, 3]\n",
    "assert delta([42]) == [42]\n",
    "# d'autres assertions\n",
    "assert delta([1000, 1000, 1000, 1000]) == [1000, 0, 0, 0]\n",
    "assert delta([1000, 0, 1000, 0]) == [1000, -1000, 1000, -1000]"
   ]
  },
  {
   "cell_type": "markdown",
   "metadata": {},
   "source": [
    "Solution alternative utilisant les **listes par compréhension**."
   ]
  },
  {
   "cell_type": "code",
   "execution_count": 21,
   "metadata": {},
   "outputs": [],
   "source": [
    "def delta(tableau):\n",
    "    \"\"\"\n",
    "    Entrée\n",
    "    tableau : Un tableau non vide de nombres entiers\n",
    "    Retourne La liste des différences entre chaque valeur consécutive\n",
    "    Sortie:\n",
    "    Un tableau contenant les valeurs entières compressées à l’aide la technique de codage par différence.\n",
    "\n",
    "    \"\"\"\n",
    "    result = [tableau[i]-tableau[i-1] for i in range(1, len(tableau))]\n",
    "    result.insert(0, tableau[0])\n",
    "    return result\n",
    "\n",
    "# Postconditions\n",
    "assert delta([1000, 800, 802, 1000, 1003]) == [1000, -200, 2, 198, 3]\n",
    "assert delta([42]) == [42]\n",
    "# d'autres assertions\n",
    "assert delta([1000, 1000, 1000, 1000]) == [1000, 0, 0, 0]\n",
    "assert delta([1000, 0, 1000, 0]) == [1000, -1000, 1000, -1000]"
   ]
  },
  {
   "cell_type": "markdown",
   "metadata": {},
   "source": [
    "Rappels:\n",
    "\n",
    "- [Liste compréhension](../../Premiere/3_Representation_types_construits/2_tableaux_indexes.ipynb#comprenhension_list)"
   ]
  }
 ],
 "metadata": {
  "kernelspec": {
   "display_name": "Python 3",
   "language": "python",
   "name": "python3"
  },
  "language_info": {
   "codemirror_mode": {
    "name": "ipython",
    "version": 3
   },
   "file_extension": ".py",
   "mimetype": "text/x-python",
   "name": "python",
   "nbconvert_exporter": "python",
   "pygments_lexer": "ipython3",
   "version": "3.8.10"
  }
 },
 "nbformat": 4,
 "nbformat_minor": 4
}
