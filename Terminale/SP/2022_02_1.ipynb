{
 "cells": [
  {
   "cell_type": "markdown",
   "metadata": {},
   "source": [
    "[Accueil](../../index.ipynb) > [Sommaire](../index.ipynb) > [Sujets Pratiques 2022](2022.ipynb)"
   ]
  },
  {
   "cell_type": "markdown",
   "metadata": {},
   "source": [
    "# Sujet 2 - Exercice 1\n",
    "\n",
    "Soit le couple *(note,coefficient)*:\n",
    "\n",
    "- *note* est un nombre de type flottant *(*float)* compris entre 0 et 20 ;\n",
    "- *coefficient* est un nombre entier positif.\n",
    "\n",
    "Les résultats aux évaluations d'un élève sont regroupés dans une liste composée de couples *(note,coefficient)*.\n",
    "\n",
    "Écrire une fonction moyenne qui renvoie la moyenne pondérée de cette liste donnée en paramètre.\n",
    "\n",
    "Par exemple, l’expression *moyenne([(15,2),(9,1),(12,3)])* devra renvoyer le résultat du calcul suivant :\n",
    "\n",
    "$\\frac{2 × 15 + 1 × 9 + 3 × 12}{2+1+3}= 12,5$\n",
    "\n"
   ]
  },
  {
   "cell_type": "code",
   "execution_count": null,
   "metadata": {},
   "outputs": [],
   "source": [
    "# Votre code ici"
   ]
  },
  {
   "cell_type": "markdown",
   "metadata": {},
   "source": [
    "[Voir un corrigé](2022_02_1_corr.ipynb)"
   ]
  }
 ],
 "metadata": {
  "kernelspec": {
   "display_name": "Python 3",
   "language": "python",
   "name": "python3"
  },
  "language_info": {
   "codemirror_mode": {
    "name": "ipython",
    "version": 3
   },
   "file_extension": ".py",
   "mimetype": "text/x-python",
   "name": "python",
   "nbconvert_exporter": "python",
   "pygments_lexer": "ipython3",
   "version": "3.8.10"
  }
 },
 "nbformat": 4,
 "nbformat_minor": 4
}
