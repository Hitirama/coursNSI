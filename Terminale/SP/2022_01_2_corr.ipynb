{
 "cells": [
  {
   "cell_type": "markdown",
   "metadata": {},
   "source": [
    "[Accueil](../../index.ipynb) > [Sommaire](../index.ipynb) > [Sujets Pratiques 2022](2022.ipynb)> [Sujet 1 Exercice2](2022_01_2.ipynb)"
   ]
  },
  {
   "cell_type": "markdown",
   "metadata": {},
   "source": [
    "# Sujet 1 - Exercice 2 : Un corrigé\n",
    "\n",
    "<div class=\"alert alert-info\">\n",
    "    \n",
    "Ne **JAMAIS** passer un mutable en paramètre nommé !!! voir https://florimond.dev/en/posts/2018/08/python-mutable-defaults-are-the-source-of-all-evil\n",
    "\n",
    "</div>\n",
    "\n",
    "Regardons ce qui peut se passer :"
   ]
  },
  {
   "cell_type": "code",
   "execution_count": null,
   "metadata": {},
   "outputs": [],
   "source": [
    "Pieces = [100,50,20,10,5,2,1]\n",
    "\n",
    "def rendu_glouton(arendre, solution=[], i=0):\n",
    "    #print(solution)\n",
    "    \n",
    "    if arendre == 0:\n",
    "        return solution\n",
    "    p = Pieces[i]\n",
    "    \n",
    "    if p <= arendre:\n",
    "        solution.append(p)\n",
    "        return rendu_glouton(arendre - p, solution, i)\n",
    "    else :\n",
    "        return rendu_glouton(arendre, solution, i+1)\n",
    "\n",
    "assert rendu_glouton(68, [], 0)==[50, 10, 5, 2, 1] # <--- ici on précise les valeurs par défaut\n",
    "assert rendu_glouton(291, [], 0) == [100, 100, 50, 20, 20, 1]# <--- ici on précise les valeurs par défaut\n"
   ]
  },
  {
   "cell_type": "markdown",
   "metadata": {},
   "source": [
    "Ici tout fonctionne bien car les paramètres par défaut sont précisés\n",
    "\n",
    "Mais que se passe-t-il si on omet les valeurs par défaut ? Ce qui est normalement le cas, c'est l'interêt des valeurs par défaut..."
   ]
  },
  {
   "cell_type": "code",
   "execution_count": null,
   "metadata": {},
   "outputs": [],
   "source": [
    "assert rendu_glouton(68)==[50, 10, 5, 2, 1] # <--- ici on précise PAS les valeurs par défaut\n",
    "assert rendu_glouton(291) == [100, 100, 50, 20, 20, 1]# <--- ici on précise PAS les valeurs par défaut"
   ]
  },
  {
   "cell_type": "markdown",
   "metadata": {},
   "source": [
    "Les assertions ne passent plus...\n",
    "Décommentez le *print* pour voir ce que vaut *solution*."
   ]
  },
  {
   "cell_type": "markdown",
   "metadata": {},
   "source": [
    "Voici **comment il faut faire** si vous voulez passer une liste en paramètre nommé."
   ]
  },
  {
   "cell_type": "code",
   "execution_count": null,
   "metadata": {},
   "outputs": [],
   "source": [
    "Pieces = [100,50,20,10,5,2,1]\n",
    "\n",
    "def rendu_glouton(arendre, solution=None, i=0):\n",
    "    # Lors du premier appel, on affecte [] à solution\n",
    "    if solution == None:\n",
    "        solution = []\n",
    "    print(solution)\n",
    "    # cas d'arrêt\n",
    "    if arendre == 0:\n",
    "        return solution\n",
    "    p = Pieces[i]\n",
    "    if p <= arendre:\n",
    "        solution.append(p)\n",
    "        return rendu_glouton(arendre - p, solution, i)\n",
    "    else :\n",
    "        return rendu_glouton(arendre, solution, i+1)\n",
    "\n",
    "    \n",
    "assert rendu_glouton(68)==[50, 10, 5, 2, 1]\n",
    "assert rendu_glouton(291) == [100, 100, 50, 20, 20, 1]\n",
    "# Autres assert\n",
    "assert rendu_glouton(400)==[100, 100, 100, 100]\n",
    "assert rendu_glouton(0)==[]"
   ]
  },
  {
   "cell_type": "markdown",
   "metadata": {},
   "source": [
    "## Questions possibles\n",
    "\n",
    "- L'algorithme glouton trouvera t-il toujours une solution lorsqu'elle existe ? (rendre 11 centimes, sans la pièce de 1 centimes )\n",
    "- L'algorithme glouton donnera t-il toujours la solution optimale ? (le nombre de pièces minimal)\n",
    "- Quel type d'algorithme permet de résoudre de type de problèmes ?\n",
    "\n",
    "Voir le [TP rendu de monnaie en programmation dynamique](../6_Algorithmique/6.4_Programmation_dynamique/tp1.ipynb)"
   ]
  },
  {
   "cell_type": "code",
   "execution_count": null,
   "metadata": {},
   "outputs": [],
   "source": []
  }
 ],
 "metadata": {
  "kernelspec": {
   "display_name": "Python 3",
   "language": "python",
   "name": "python3"
  },
  "language_info": {
   "codemirror_mode": {
    "name": "ipython",
    "version": 3
   },
   "file_extension": ".py",
   "mimetype": "text/x-python",
   "name": "python",
   "nbconvert_exporter": "python",
   "pygments_lexer": "ipython3",
   "version": "3.8.10"
  }
 },
 "nbformat": 4,
 "nbformat_minor": 4
}
