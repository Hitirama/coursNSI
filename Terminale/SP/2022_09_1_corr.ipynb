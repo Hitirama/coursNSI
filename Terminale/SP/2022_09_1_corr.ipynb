{
 "cells": [
  {
   "cell_type": "markdown",
   "metadata": {},
   "source": [
    "[Accueil](../../index.ipynb) > [Sommaire](../index.ipynb) > [Sujets Pratiques 2022](2022.ipynb) > [Sujet 9 Exercice1](2022_09_1.ipynb)"
   ]
  },
  {
   "cell_type": "markdown",
   "metadata": {},
   "source": [
    "# Sujet 9 - Exercice 1 : Un corrigé\n",
    "\n",
    "Voir la [conjecture de Syracuse](https://fr.wikipedia.org/wiki/Conjecture_de_Syracuse)."
   ]
  },
  {
   "cell_type": "code",
   "execution_count": null,
   "metadata": {},
   "outputs": [],
   "source": [
    "def calcul (n):\n",
    "    \"\"\"\n",
    "    Entrée : n un entier naturel strictement positif\n",
    "    Return les éléments de la suite de Syracuse pour une valeur de n.\n",
    "    \"\"\"\n",
    "    assert isinstance(n, int)\n",
    "    assert n > 0\n",
    "    # Dans le cas particulier où n = 1\n",
    "    if n == 1:\n",
    "        return [1]\n",
    "    result = []\n",
    "    while n != 1:\n",
    "        if n%2 == 0:\n",
    "            result.append(n//2)\n",
    "        else:\n",
    "            result.append(3*n+1)\n",
    "    return result\n",
    "\n",
    "assert calcul(7) == [7, 22, 11, 34, 17, 52, 26, 13, 40, 20, 10, 5, 16, 8, 4, 2, 1]\n",
    "# autres assert\n",
    "assert calcul(1) == [1]\n",
    "assert calcul(16) == [16, 8, 4, 2, 1]"
   ]
  },
  {
   "cell_type": "markdown",
   "metadata": {},
   "source": [
    "<div class=\"alert alert-warning\">Attention ! bien prendre en compte le cas où n=1</div>"
   ]
  }
 ],
 "metadata": {
  "kernelspec": {
   "display_name": "Python 3",
   "language": "python",
   "name": "python3"
  },
  "language_info": {
   "codemirror_mode": {
    "name": "ipython",
    "version": 3
   },
   "file_extension": ".py",
   "mimetype": "text/x-python",
   "name": "python",
   "nbconvert_exporter": "python",
   "pygments_lexer": "ipython3",
   "version": "3.8.10"
  }
 },
 "nbformat": 4,
 "nbformat_minor": 4
}
