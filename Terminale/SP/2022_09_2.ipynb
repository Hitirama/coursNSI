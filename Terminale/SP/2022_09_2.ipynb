{
 "cells": [
  {
   "cell_type": "markdown",
   "metadata": {},
   "source": [
    "[Accueil](../../index.ipynb) > [Sommaire](../index.ipynb) > [Sujets Pratiques 2022](2022.ipynb)"
   ]
  },
  {
   "cell_type": "markdown",
   "metadata": {},
   "source": [
    "# Sujet 9 - Exercice 2\n",
    "\n",
    "On affecte à chaque lettre de l’alphabet un code selon les tableaux ci-dessous :\n",
    "\n",
    "|A |B |C |D |E |F |G |H |I |J |K |L |M |N |O |P |Q |R |S |T |U |V |W |X |Y |Z |\n",
    "|--|--|--|--|--|--|--|--|--|--|--|--|--|--|--|--|--|--|--|--|--|--|--|--|--|--| \n",
    "|1 |2 |3 |4 |5 |6 |7 |8 |9 |10|11|12|13|14|15|16|17|18|19|20|21|22|23|24|25|26|\n",
    "\n",
    "Pour un mot donné, on détermine d’une part son *code alphabétique concaténé*, obtenu par la juxtaposition des codes de chacun de ses caractères, et d’autre part, son *code additionné*, qui est la somme des codes de chacun de ses caractères.\n",
    "\n",
    "Par ailleurs, on dit que ce mot est « parfait » si le code additionné divise le code concaténé.\n",
    "\n",
    "Exemples :\n",
    "- Pour le mot \"PAUL\", le code concaténé est la chaîne 1612112, soit l’entier 1 612 112.\n",
    "\n",
    "Son code additionné est l’entier 50 car 16 + 1 + 21 + 12 = 50. 50 ne divise pas l’entier 1 612 112 ; par conséquent, le mot \"PAUL\" n’est pas parfait.\n",
    "\n",
    "- Pour le mot \"ALAIN\", le code concaténé est la chaîne 1121914, soit l’entier 1 121 914.\n",
    "\n",
    "Le code additionné est l’entier 37 car 1 + 12 + 1 + 9 + 14 = 37. 37 divise l’entier 1 121 914 ; par conséquent, le mot \"ALAIN\" est parfait.\n",
    "\n",
    "Compléter la fonction *est_parfait* ci-dessous qui prend comme argument une chaîne de caractères *mot* (en lettres majuscules) et qui renvoie le code alphabétique concaténé, le code additionné de *mot*, ainsi qu’un booléen qui indique si *mot* est parfait ou pas."
   ]
  },
  {
   "cell_type": "code",
   "execution_count": null,
   "metadata": {},
   "outputs": [],
   "source": [
    "dico = {\"A\":1, \"B\":2, \"C\":3, \"D\":4, \"E\":5, \"F\":6, \"G\":7, \\\n",
    "        \"H\":8, \"I\":9, \"J\":10, \"K\":11, \"L\":12, \"M\":13, \\\n",
    "        \"N\":14, \"O\":15, \"P\":16, \"Q\":17, \"R\":18, \"S\":19, \\\n",
    "        \"T\":20, \"U\":21,\"V\":22, \"W\":23, \"X\":24, \"Y\":25, \"Z\":26}\n",
    "\n",
    "def est_parfait(mot) :\n",
    "    code_c = \"\"\n",
    "    code_a = ???\n",
    "    for c in mot :\n",
    "        code_c = code_c + ???\n",
    "        code_a = ???\n",
    "    code_c = int(code_c)\n",
    "    if ??? :\n",
    "        mot_est_parfait = True\n",
    "    else :\n",
    "        mot_est_parfait = False\n",
    "    return [code_a, code_c, mot_est_parfait]"
   ]
  },
  {
   "cell_type": "markdown",
   "metadata": {},
   "source": [
    "Exemples :\n",
    "\n",
    "```\n",
    ">>> est_parfait(\"PAUL\")\n",
    "[50, 1612112, False]\n",
    ">>> est_parfait(\"ALAIN\")\n",
    "[37, 1121914, True]\n",
    "```"
   ]
  },
  {
   "cell_type": "markdown",
   "metadata": {},
   "source": [
    "[voir un corrigé](2022_09_2_corr.ipynb)"
   ]
  }
 ],
 "metadata": {
  "kernelspec": {
   "display_name": "Python 3",
   "language": "python",
   "name": "python3"
  },
  "language_info": {
   "codemirror_mode": {
    "name": "ipython",
    "version": 3
   },
   "file_extension": ".py",
   "mimetype": "text/x-python",
   "name": "python",
   "nbconvert_exporter": "python",
   "pygments_lexer": "ipython3",
   "version": "3.8.10"
  }
 },
 "nbformat": 4,
 "nbformat_minor": 4
}
