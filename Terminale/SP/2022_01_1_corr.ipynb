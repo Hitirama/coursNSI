{
 "cells": [
  {
   "cell_type": "markdown",
   "metadata": {},
   "source": [
    "[Accueil](../../index.ipynb) > [Sommaire](../index.ipynb) > [Sujets Pratiques 2022](2022.ipynb)> [Sujet 1 Exercice1](2022_01_1.ipynb)"
   ]
  },
  {
   "cell_type": "markdown",
   "metadata": {},
   "source": [
    "# Sujet 1 - Exercice 1 : Un corrigé\n",
    "\n",
    "**Questions**:\n",
    "\n",
    "- Votre fonction fonctionne-t-elle si mot = '' et que faut-il faire dans ce cas ?\n",
    "  - Le prendre en compte => vérifier le fonctionnement en post-condition\n",
    "  - L'empêcher => ajouter un assert en pré-conditon\n",
    "- Votre fonction fonctionne-t-elle si car = ''  et que faut-il faire dans ce cas ?\n",
    "  - Le prendre en compte\n",
    "    - prendre une décision sur le comportement\n",
    "    - le préciser dans les docstrings\n",
    "    - vérifier le fonctionnement en post-condition\n",
    "  - L'empêcher => ajouter un assert en pré-conditon\n"
   ]
  },
  {
   "cell_type": "code",
   "execution_count": 3,
   "metadata": {},
   "outputs": [],
   "source": [
    "def recherche(caractere, mot):\n",
    "    \"\"\"\n",
    "    Entrées\n",
    "    - caractere : char\n",
    "    - mot : string\n",
    "    Retourne un entier correspondant au nombre d'occurrences de caractere dans mot\n",
    "    Si le caractère est une string vide, retourne 0\n",
    "    Sortie : integer >= 0\n",
    "    \"\"\"\n",
    "    # Préconditions\n",
    "    assert (isinstance(caractere, str))\n",
    "    assert (isinstance(mot, str))\n",
    "    # Initialisation du résultat retourné\n",
    "    result = 0\n",
    "    # Boucle sur chaque lettre\n",
    "    for letter in mot:\n",
    "        # Si la lettre est le caractère\n",
    "        if letter == caractere:\n",
    "            # J'incrémente le résultat\n",
    "            result += 1\n",
    "    # En sortie de boucle, je retourne le résultat\n",
    "    return result\n",
    "\n",
    "\n",
    "# Postconditions\n",
    "assert recherche('e', \"sciences\")==2, \"Le nombre de 'e' dans 'sciences' devrait être 2\"\n",
    "assert recherche('i', \"mississippi\") == 4, \"Le nombre de 'i' dans 'mississippi' devrait être 4\"\n",
    "assert recherche('a', \"mississippi\") == 0, \"Le nombre de 'a' dans 'mississippi' devrait être 0\"\n",
    "assert recherche('a', \"\") == 0, \"Le nombre de 'a' dans '' devrait être 0\"\n",
    "assert recherche('', \"mississippi\") == 0, \"Le nombre de 'a' dans 'mississippi' devrait être 0\"\n"
   ]
  }
 ],
 "metadata": {
  "kernelspec": {
   "display_name": "Python 3",
   "language": "python",
   "name": "python3"
  },
  "language_info": {
   "codemirror_mode": {
    "name": "ipython",
    "version": 3
   },
   "file_extension": ".py",
   "mimetype": "text/x-python",
   "name": "python",
   "nbconvert_exporter": "python",
   "pygments_lexer": "ipython3",
   "version": "3.8.10"
  }
 },
 "nbformat": 4,
 "nbformat_minor": 4
}
