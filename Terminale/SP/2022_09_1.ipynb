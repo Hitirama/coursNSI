{
 "cells": [
  {
   "cell_type": "markdown",
   "metadata": {},
   "source": [
    "[Accueil](../../index.ipynb) > [Sommaire](../index.ipynb) > [Sujets Pratiques 2022](2022.ipynb)"
   ]
  },
  {
   "cell_type": "markdown",
   "metadata": {},
   "source": [
    "# Sujet 9 - Exercice 1\n",
    "\n",
    "Soit un nombre entier supérieur ou égal à 1 :\n",
    "- s'il est pair, on le divise par 2 ;\n",
    "- s’il est impair, on le multiplie par 3 et on ajoute 1.\n",
    "Puis on recommence ces étapes avec le nombre entier obtenu, jusqu’à ce que l’on obtienne la valeur 1.\n",
    "\n",
    "On définit ainsi la suite $(u_n)$ par:\n",
    "\n",
    "- $u_0 = k$ , où *k* est un entier choisi initialement ;\n",
    "- $u_{n+1} = \\frac{u_n}{2}$ si $u_n$ est pair ;\n",
    "- $u_{n+1} = 3 \\times u_{n+1}$ si $u_n$ est impair.\n",
    "\n",
    "On admet que, quel que soit l’entier *k* choisi au départ, la suite finit toujours sur la valeur 1.\n",
    "\n",
    "Écrire une fonction calcul prenant en paramètres un entier *n* strictement positif et qui renvoie la liste des valeurs $u_n$ , en partant de *k* et jusqu’à atteindre 1.\n",
    "\n",
    "Exemple :\n",
    "\n",
    "\n",
    "```\n",
    ">>> calcul(7)\n",
    "[7, 22, 11, 34, 17, 52, 26, 13, 40, 20, 10, 5, 16, 8, 4, 2, 1]\n",
    "```"
   ]
  },
  {
   "cell_type": "code",
   "execution_count": null,
   "metadata": {},
   "outputs": [],
   "source": [
    "# Votre code ici"
   ]
  },
  {
   "cell_type": "markdown",
   "metadata": {},
   "source": [
    "[Voir un corrigé](2022_09_1_corr.ipynb)"
   ]
  }
 ],
 "metadata": {
  "kernelspec": {
   "display_name": "Python 3",
   "language": "python",
   "name": "python3"
  },
  "language_info": {
   "codemirror_mode": {
    "name": "ipython",
    "version": 3
   },
   "file_extension": ".py",
   "mimetype": "text/x-python",
   "name": "python",
   "nbconvert_exporter": "python",
   "pygments_lexer": "ipython3",
   "version": "3.8.10"
  }
 },
 "nbformat": 4,
 "nbformat_minor": 4
}
