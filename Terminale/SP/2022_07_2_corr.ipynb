{
 "cells": [
  {
   "cell_type": "markdown",
   "metadata": {},
   "source": [
    "[Accueil](../../index.ipynb) > [Sommaire](../index.ipynb) > [Sujets Pratiques 2022](2022.ipynb) > [Sujet 7 Exercice2](2022_07_2.ipynb)"
   ]
  },
  {
   "cell_type": "markdown",
   "metadata": {},
   "source": [
    "# Sujet 7 - Exercice 2 : Un corrigé\n",
    "\n",
    "voir une explication du [tri à bulles](https://fr.wikipedia.org/wiki/Tri_%C3%A0_bulles)"
   ]
  },
  {
   "cell_type": "code",
   "execution_count": 27,
   "metadata": {},
   "outputs": [],
   "source": [
    "def tri_bulles(T):\n",
    "    n = len(T)\n",
    "    for i in range(n-1,0,-1): # ici le but est de connaitre l'indice de fin et de décrémenter\n",
    "        #print(f\"indice={i}\")\n",
    "        for j in range(i):\n",
    "            #print(f\"T[{j+1}]={T[j+1]} - T[{j}]={T[j]}\")\n",
    "            if T[j] > T[j+1]:\n",
    "                #print(f\"On switche\")\n",
    "                temp = T[j]\n",
    "                T[j] = T[j+1]\n",
    "                T[j+1] = temp\n",
    "        #print(f\"{temp} placé\")\n",
    "        #print(f\"====> T={T}\")\n",
    "    return T\n",
    "\n",
    "result1 = tri_bulles([4,3,2,1])\n",
    "assert result1 == [1,2,3,4]\n",
    "result2 = tri_bulles([])\n",
    "assert result2 == []\n",
    "result3 = tri_bulles([1,2,3,4])\n",
    "assert result3 == [1,2,3,4]\n",
    "result4 = tri_bulles([2, 4, 6, 8, 1, 3, 5, 7])\n",
    "assert result4 == [1,2,3,4,5,6,7,8]"
   ]
  },
  {
   "cell_type": "markdown",
   "metadata": {},
   "source": [
    "Questions:\n",
    "\n",
    "- Quelle est la complexité temporelle de tri dans le pire des cas ?\n",
    "\n",
    "Pour une liste de n éléments :\n",
    "\n",
    "- lors de la première boucle il y a n-1 comparaisons d'effectuées\n",
    "- puis n-2\n",
    "- puis ...\n",
    "- puis 1 comparaison\n",
    "\n",
    "On obtient donc (n-1) + (n-2) + ... +1 soit $\\frac{(n-1) \\times (n-1+1)}{2} = \\frac{n(n-1)}{2}$\n",
    "\n",
    "La complexité temporelle est donc $T(n)=Θ(n^2)$\n",
    "\n",
    "- Que se passe-t-il si la liste est déjà triée ?\n",
    "\n",
    "Il y a toujours autant de comparaisons par contre aucune permutation d'éléments dans le tableau."
   ]
  }
 ],
 "metadata": {
  "kernelspec": {
   "display_name": "Python 3",
   "language": "python",
   "name": "python3"
  },
  "language_info": {
   "codemirror_mode": {
    "name": "ipython",
    "version": 3
   },
   "file_extension": ".py",
   "mimetype": "text/x-python",
   "name": "python",
   "nbconvert_exporter": "python",
   "pygments_lexer": "ipython3",
   "version": "3.8.10"
  }
 },
 "nbformat": 4,
 "nbformat_minor": 4
}
