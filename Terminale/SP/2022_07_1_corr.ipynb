{
 "cells": [
  {
   "cell_type": "markdown",
   "metadata": {},
   "source": [
    "[Accueil](../../index.ipynb) > [Sommaire](../index.ipynb) > [Sujets Pratiques 2022](2022.ipynb) > [Sujet 7 Exercice1](2022_07_1.ipynb)"
   ]
  },
  {
   "cell_type": "markdown",
   "metadata": {},
   "source": [
    "# Sujet 7 - Exercice 1 : Un corrigé"
   ]
  },
  {
   "cell_type": "code",
   "execution_count": 6,
   "metadata": {},
   "outputs": [
    {
     "data": {
      "text/plain": [
       "([1, 0, 0, 1], 4)"
      ]
     },
     "execution_count": 6,
     "metadata": {},
     "output_type": "execute_result"
    }
   ],
   "source": [
    "def conv_bin(n):\n",
    "    \"\"\"\n",
    "    Entrée : n un entier positif\n",
    "    Retourne un couple (b, bit)  où \n",
    "    b est une liste d'entiers correspondant à la représentation binaire de n;\n",
    "    bit correspond aux nombre de bits qui constituent b.\n",
    "    \"\"\"\n",
    "    if n == 0:\n",
    "        return ([0], 1)\n",
    "    binary = []\n",
    "    while n > 0:\n",
    "        reste = n%2\n",
    "        # calcul du dividente\n",
    "        n = n//2\n",
    "        binary.insert(0, reste)\n",
    "    return (binary, len(binary))\n",
    "\n",
    "assert conv_bin(9)==([1,0,0,1],4)\n",
    "assert conv_bin(0)==([0],1)\n",
    "assert conv_bin(1)==([1],1)\n",
    "assert conv_bin(16)==([1,0,0,0,0],5)\n",
    "assert conv_bin(15)==([1,1,1,1],4)\n",
    "conv_bin(9)"
   ]
  },
  {
   "cell_type": "markdown",
   "metadata": {},
   "source": [
    "<div class=\"alert alert-warning\">\n",
    "\n",
    "Attention : traiter le cas où n = 0\n",
    "</div>\n",
    "\n",
    "Voir le cours [sur la représentation des nombres entiers](../../Premiere/2_Representation_Donnees_Base/1_Representation_entiers_naturels.ipynb)."
   ]
  }
 ],
 "metadata": {
  "kernelspec": {
   "display_name": "Python 3",
   "language": "python",
   "name": "python3"
  },
  "language_info": {
   "codemirror_mode": {
    "name": "ipython",
    "version": 3
   },
   "file_extension": ".py",
   "mimetype": "text/x-python",
   "name": "python",
   "nbconvert_exporter": "python",
   "pygments_lexer": "ipython3",
   "version": "3.8.10"
  }
 },
 "nbformat": 4,
 "nbformat_minor": 4
}
