{
 "cells": [
  {
   "cell_type": "markdown",
   "metadata": {},
   "source": [
    "[Accueil](../../index.ipynb) > [Sommaire](../index.ipynb) > [Sujets Pratiques 2022](2022.ipynb) > [Sujet 8 Exercice1](2022_08_1.ipynb)"
   ]
  },
  {
   "cell_type": "markdown",
   "metadata": {},
   "source": [
    "# Sujet 8 - Exercice 1 : Un corrigé"
   ]
  },
  {
   "cell_type": "code",
   "execution_count": 3,
   "metadata": {},
   "outputs": [],
   "source": [
    "def recherche(elt, tab):\n",
    "    \"\"\"\n",
    "    Entrées : \n",
    "    - elt : un nombre entier\n",
    "    - tab : un tableau de nombres entiers\n",
    "    Retourne l’indice de la première occurrence de elt dans tab si elt est dans tab et -1 sinon.\n",
    "    \"\"\"\n",
    "    result = -1\n",
    "    for i in range(len(tab)):\n",
    "        if tab[i] == elt:\n",
    "            return i\n",
    "    return result\n",
    "\n",
    "\n",
    "assert recherche(1, [2, 3, 4]) == -1\n",
    "assert recherche(1, [10, 12, 1, 56]) == 2\n",
    "assert recherche(50, [1, 50, 1]) == 1\n",
    "assert recherche(15, [8, 9, 10, 15]) == 3\n"
   ]
  },
  {
   "cell_type": "markdown",
   "metadata": {},
   "source": [
    "Autre solution :"
   ]
  },
  {
   "cell_type": "code",
   "execution_count": 4,
   "metadata": {},
   "outputs": [],
   "source": [
    "def recherche(elt, tab):\n",
    "    \"\"\"\n",
    "    Entrées : \n",
    "    - elt : un nombre entier\n",
    "    - tab : un tableau de nombres entiers\n",
    "    Retourne l’indice de la première occurrence de elt dans tab si elt est dans tab et -1 sinon.\n",
    "    \"\"\"\n",
    "    if elt in tab:\n",
    "        return tab.index(elt)\n",
    "    return -1\n",
    "\n",
    "assert recherche(1, [2, 3, 4]) == -1\n",
    "assert recherche(1, [10, 12, 1, 56]) == 2\n",
    "assert recherche(50, [1, 50, 1]) == 1\n",
    "assert recherche(15, [8, 9, 10, 15]) == 3\n"
   ]
  }
 ],
 "metadata": {
  "kernelspec": {
   "display_name": "Python 3",
   "language": "python",
   "name": "python3"
  },
  "language_info": {
   "codemirror_mode": {
    "name": "ipython",
    "version": 3
   },
   "file_extension": ".py",
   "mimetype": "text/x-python",
   "name": "python",
   "nbconvert_exporter": "python",
   "pygments_lexer": "ipython3",
   "version": "3.8.10"
  }
 },
 "nbformat": 4,
 "nbformat_minor": 4
}
