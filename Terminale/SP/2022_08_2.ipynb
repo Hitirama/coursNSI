{
 "cells": [
  {
   "cell_type": "markdown",
   "metadata": {},
   "source": [
    "[Accueil](../../index.ipynb) > [Sommaire](../index.ipynb) > [Sujets Pratiques 2022](2022.ipynb)"
   ]
  },
  {
   "cell_type": "markdown",
   "metadata": {},
   "source": [
    "# Sujet 8 - Exercice 2\n",
    "\n",
    "On considère la fonction *insere* ci-dessous qui prend en argument un entier *a* et un tableau *tab* d'entiers triés par ordre croissant. Cette fonction insère la valeur *a* dans le tableau et renvoie le nouveau tableau. Les tableaux seront représentés sous la forme de listes python.\n"
   ]
  },
  {
   "cell_type": "code",
   "execution_count": null,
   "metadata": {},
   "outputs": [],
   "source": [
    "def insere(a, tab):\n",
    "    l = list(tab) #l contient les mêmes éléments que tab\n",
    "    l.append(a)\n",
    "    i = ...\n",
    "    while a < ... and i >= 0: \n",
    "      l[i+1] = ...\n",
    "      l[i] = a\n",
    "      i = ...\n",
    "    return l\n"
   ]
  },
  {
   "cell_type": "markdown",
   "metadata": {},
   "source": [
    "Compléter la fonction *insere* ci-dessus.\n",
    "\n",
    "Exemples:\n",
    "\n",
    "```\n",
    ">>> insere(3,[1,2,4,5])\n",
    "[1, 2, 3, 4, 5]\n",
    ">>> insere(10,[1,2,7,12,14,25])\n",
    "[1, 2, 7, 10, 12, 14, 25]\n",
    ">>> insere(1,[2,3,4])\n",
    "[1, 2, 3, 4]\n",
    "\n",
    "```"
   ]
  },
  {
   "cell_type": "markdown",
   "metadata": {},
   "source": [
    "[voir un corrigé](2022_08_2_corr.ipynb)"
   ]
  }
 ],
 "metadata": {
  "kernelspec": {
   "display_name": "Python 3",
   "language": "python",
   "name": "python3"
  },
  "language_info": {
   "codemirror_mode": {
    "name": "ipython",
    "version": 3
   },
   "file_extension": ".py",
   "mimetype": "text/x-python",
   "name": "python",
   "nbconvert_exporter": "python",
   "pygments_lexer": "ipython3",
   "version": "3.8.10"
  }
 },
 "nbformat": 4,
 "nbformat_minor": 4
}
